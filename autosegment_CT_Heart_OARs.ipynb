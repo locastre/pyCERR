{
  "cells": [
    {
      "cell_type": "markdown",
      "metadata": {
        "id": "view-in-github",
        "colab_type": "text"
      },
      "source": [
        "<a href=\"https://colab.research.google.com/github/locastre/pyCERR/blob/main/autosegment_CT_Heart_OARs.ipynb\" target=\"_parent\"><img src=\"https://colab.research.google.com/assets/colab-badge.svg\" alt=\"Open In Colab\"/></a>"
      ]
    },
    {
      "cell_type": "markdown",
      "metadata": {
        "id": "kNoydh-RsgcD"
      },
      "source": [
        "# The pyCERR DeepLab Heart Substurcture CT OAR Segmentation Model\n",
        "\n",
        "In this tutorial, we will demonstrate how to apply a pre-trained AI model to segment the Heart sub-structures on a lung CT scan using pyCERR.\n",
        "\n",
        "## Software Requirements\n",
        "* Python>=3.8\n",
        "* Applying this model requires access to a GPU.  \n",
        "\n",
        "## Input Data Requirements\n",
        "* RT planning DICOM CT\n",
        "* RTSTRUCT with lung contour\n",
        "\n",
        "## AI model\n",
        "* The segmentation model was trained and validated on CT scans used for RT planning. It does not work optimally on diagnostic CTs or scans in positions other than Head First Supine.\n",
        "* The trained model is distributed along with python libraries and other dependencies via a conda package.\n",
        "\n",
        "### Running the model\n",
        "\n",
        "Update locations of input data and model directorues in section 2 of this notebook.\n",
        "* Conda packge is location: condaEnvDir\n",
        "* Inference script location: wrapperPath\n",
        "* Inference script args\n",
        "```python\n",
        "!python {wrapperPath} {input_nii_directory} {output_nii_directory}\n",
        "```\n",
        "\n",
        "### License\n",
        "By downloading the software you are agreeing to the following terms and conditions as well as to the Terms of Use of CERR software.\n",
        "\n",
        "THE SOFTWARE IS PROVIDED \"AS IS\" AND CERR DEVELOPMENT TEAM AND ITS COLLABORATORS DO NOT MAKE ANY WARRANTY, EXPRESS OR IMPLIED, INCLUDING BUT NOT LIMITED TO WARRANTIES OF MERCHANTABILITY AND FITNESS FOR A PARTICULAR PURPOSE, NOR DO THEY ASSUME ANY LIABILITY OR RESPONSIBILITY FOR THE USE OF THIS SOFTWARE.\n",
        "    \n",
        "This software is for research purposes only and has not been approved for clinical use.\n",
        "\n",
        "Software has not been reviewed or approved by the Food and Drug Administration, and is for non-clinical, IRB-approved Research Use Only. In no event shall data or images generated through the use of the Software be used in the provision of patient care.\n",
        "\n",
        "You may publish papers and books using results produced using software provided that you reference the appropriate citations:\n",
        "*  Heart sub-structures model: https://doi.org/10.1016/j.phro.2020.05.009\n",
        "*  CERR library of model implementations: https://doi.org/10.1016/j.ejmp.2020.04.011\n",
        "*  CERR software: https://doi.org/10.1118/1.1568978\n",
        "*  CERR radiomics: https://doi.org/10.1002/mp.13046\n",
        "\n",
        "\n",
        "YOU MAY NOT DISTRIBUTE COPIES of this software, or copies of software derived from this software, to others outside your organization without specific prior written permission from the CERR development team except where noted for specific software products.\n",
        "\n",
        "All Technology and technical data delivered under this Agreement are subject to US export control laws and may be subject to export or import regulations in other countries. You agree to comply strictly with all such laws and regulations and acknowledge that you have the responsibility to obtain such licenses to export, re-export, or import as may be required after delivery to you.\n",
        "\n"
      ]
    },
    {
      "cell_type": "markdown",
      "metadata": {
        "id": "WSpNk-BrYlbD"
      },
      "source": [
        "##  Define paths for input DICOM, output segmentation and session directories\n",
        "\n",
        "Specify paths to the DICOM input data, desired output directory, and temporary (session) directory used to store intermediate results. The input data is structures such that DICOM per patient scan is in an individual directory.\n",
        "\n",
        "&nbsp;&nbsp;Input Directory  \n",
        "&nbsp;&nbsp;&nbsp;&nbsp;Pat1  \n",
        "&nbsp;&nbsp;&nbsp;&nbsp;&nbsp;&nbsp;&nbsp;img1.dcm  \n",
        "&nbsp;&nbsp;&nbsp;&nbsp;&nbsp;&nbsp;&nbsp;img2.dcm  \n",
        "&nbsp;&nbsp;&nbsp;&nbsp;&nbsp;&nbsp;&nbsp;....  \n",
        "&nbsp;&nbsp;&nbsp;&nbsp;&nbsp;&nbsp;&nbsp;....  \n",
        "&nbsp;&nbsp;&nbsp;&nbsp;Pat2  \n",
        "&nbsp;&nbsp;&nbsp;&nbsp;&nbsp;&nbsp;&nbsp;img1.dcm  \n",
        "&nbsp;&nbsp;&nbsp;&nbsp;&nbsp;&nbsp;&nbsp;img2.dcm  \n",
        "&nbsp;&nbsp;&nbsp;&nbsp;&nbsp;&nbsp;&nbsp;....  \n",
        "&nbsp;&nbsp;&nbsp;&nbsp;&nbsp;&nbsp;&nbsp;....  "
      ]
    },
    {
      "cell_type": "code",
      "execution_count": 40,
      "metadata": {
        "id": "-B-XrWTGa4sG"
      },
      "outputs": [],
      "source": [
        "import os\n",
        "# work dir\n",
        "#workDir = r'/home/jupyter' #\n",
        "workDir = r'/content' #for Colab # r'AI_workshop/heart_model' # local\n",
        "\n",
        "# Location of dicom data\n",
        "#dataDownloadDir = os.path.join(workDir,'sampleData')\n",
        "\n",
        "#os.makedirs(dataDownloadDir,exist_ok=True)"
      ]
    },
    {
      "cell_type": "markdown",
      "source": [
        "## Install segmentation wrapper, pyCERR and other dependencies"
      ],
      "metadata": {
        "id": "WsUQs2huow2B"
      }
    },
    {
      "cell_type": "markdown",
      "source": [
        "### Installaion of segmentation wrapper, Python environment and network weights handled by CERR-developed `model_installer`"
      ],
      "metadata": {
        "id": "C9oPBXz8tphw"
      }
    },
    {
      "cell_type": "code",
      "execution_count": 41,
      "metadata": {
        "id": "3n6yb9MnMvcy",
        "outputId": "e6de52b7-dd1c-478c-e5ff-ceb0379c1498",
        "colab": {
          "base_uri": "https://localhost:8080/"
        }
      },
      "outputs": [
        {
          "output_type": "stream",
          "name": "stdout",
          "text": [
            "Cloning into 'model_installer'...\n",
            "remote: Enumerating objects: 49, done.\u001b[K\n",
            "remote: Counting objects: 100% (49/49), done.\u001b[K\n",
            "remote: Compressing objects: 100% (44/44), done.\u001b[K\n",
            "remote: Total 49 (delta 15), reused 26 (delta 5), pack-reused 0\u001b[K\n",
            "Receiving objects: 100% (49/49), 14.14 KiB | 2.83 MiB/s, done.\n",
            "Resolving deltas: 100% (15/15), done.\n",
            "      ___           ___           ___           ___     \n",
            "     /  /\\         /  /\\         /  /\\         /  /\\    \n",
            "    /  /:/        /  /:/_       /  /::\\       /  /::\\   \n",
            "   /  /:/        /  /:/ /\\     /  /:/\\:\\     /  /:/\\:\\  \n",
            "  /  /:/  ___   /  /:/ /:/_   /  /:/~/:/    /  /:/~/:/  \n",
            " /__/:/  /  /\\ /__/:/ /:/ /\\ /__/:/ /:/___ /__/:/ /:/___\n",
            " \\  \\:\\ /  /:/ \\  \\:\\/:/ /:/ \\  \\:\\/:::::/ \\  \\:\\/:::::/\n",
            "  \\  \\:\\  /:/   \\  \\::/ /:/   \\  \\::/~~~~   \\  \\::/~~~~ \n",
            "   \\  \\:\\/:/     \\  \\:\\/:/     \\  \\:\\        \\  \\:\\     \n",
            "    \\  \\::/       \\  \\::/       \\  \\:\\        \\  \\:\\    \n",
            "     \\__\\/         \\__\\/         \\__\\/         \\__\\/    \n",
            " \n",
            "Medical Physics Department, Memorial Sloan Kettering Cancer Center, New York, NY\n",
            " \n",
            "Welcome to the CERR segmentation model installer! For usage information, run with -h flag\n",
            " \n",
            "Usage Information: \n",
            "\tFlags: \n",
            "\t\t-i : Flag to run installer in interactive mode (no argument)\n",
            "\t\t-m : [1-4] Integer number to select model to install. For list of available options, see below. \n",
            "\t\t-d : Directory to install model with network weights \n",
            "\t\t-p : [P/C/N] Setup and install Python environment P: setup Conda env from python requirements.txt; C: Conda pack download; N: No install. \n",
            "\t\t-h : Print help menu \n",
            " \n",
            "The following are the list of available models. When passing the argument to installer, select the number of the model to download: \n",
            "          \t1.  CT_cardiac_structures_deeplab\n",
            "          \t2.  CT_LungOAR_incrMRRN\n",
            "          \t3.  MR_Prostate_Deeplab\n",
            "          \t4.  CT_Lung_SMIT\n"
          ]
        }
      ],
      "source": [
        "os.chdir(workDir)\n",
        "!git clone https://github.com/cerr/model_installer.git\n",
        "os.chdir(os.path.join(workDir,'model_installer'))\n",
        "!./installer.sh -h"
      ]
    },
    {
      "cell_type": "code",
      "source": [
        "%%capture\n",
        "\n",
        "modelOpt = '1' #CT_Lung_SMIT model\n",
        "pythonOpt = 'C' #download and use pre-packaged Conda environment\n",
        "\n",
        "! source ./installer.sh -m {modelOpt} -d {workDir} -p {pythonOpt}"
      ],
      "metadata": {
        "id": "W9ahoQbgjKVt",
        "outputId": "a46fcba7-7427-4290-96d1-9df5e7380fe8",
        "colab": {
          "base_uri": "https://localhost:8080/"
        }
      },
      "execution_count": 42,
      "outputs": [
        {
          "output_type": "stream",
          "name": "stdout",
          "text": [
            "      ___           ___           ___           ___     \n",
            "     /  /\\         /  /\\         /  /\\         /  /\\    \n",
            "    /  /:/        /  /:/_       /  /::\\       /  /::\\   \n",
            "   /  /:/        /  /:/ /\\     /  /:/\\:\\     /  /:/\\:\\  \n",
            "  /  /:/  ___   /  /:/ /:/_   /  /:/~/:/    /  /:/~/:/  \n",
            " /__/:/  /  /\\ /__/:/ /:/ /\\ /__/:/ /:/___ /__/:/ /:/___\n",
            " \\  \\:\\ /  /:/ \\  \\:\\/:/ /:/ \\  \\:\\/:::::/ \\  \\:\\/:::::/\n",
            "  \\  \\:\\  /:/   \\  \\::/ /:/   \\  \\::/~~~~   \\  \\::/~~~~ \n",
            "   \\  \\:\\/:/     \\  \\:\\/:/     \\  \\:\\        \\  \\:\\     \n",
            "    \\  \\::/       \\  \\::/       \\  \\:\\        \\  \\:\\    \n",
            "     \\__\\/         \\__\\/         \\__\\/         \\__\\/    \n",
            " \n",
            "Medical Physics Department, Memorial Sloan Kettering Cancer Center, New York, NY\n",
            " \n",
            "Welcome to the CERR segmentation model installer! For usage information, run with -h flag\n",
            " \n",
            "git clone https://github.com/cerr/CT_cardiac_structures_deeplab.git\n",
            "Cloning into 'CT_cardiac_structures_deeplab'...\n",
            "remote: Enumerating objects: 109, done.\u001b[K\n",
            "remote: Counting objects: 100% (109/109), done.\u001b[K\n",
            "remote: Compressing objects: 100% (88/88), done.\u001b[K\n",
            "remote: Total 109 (delta 26), reused 93 (delta 19), pack-reused 0\u001b[K\n",
            "Receiving objects: 100% (109/109), 657.19 KiB | 14.60 MiB/s, done.\n",
            "Resolving deltas: 100% (26/26), done.\n",
            "wget -O model_weights.tar.gz -L https://mskcc.box.com/shared/static/o524xsg5s91q0frwka10fvsf82395sgg.gz\n",
            "--2024-06-17 19:50:56--  https://mskcc.box.com/shared/static/o524xsg5s91q0frwka10fvsf82395sgg.gz\n",
            "Resolving mskcc.box.com (mskcc.box.com)... 74.112.186.144\n",
            "Connecting to mskcc.box.com (mskcc.box.com)|74.112.186.144|:443... connected.\n",
            "HTTP request sent, awaiting response... 301 Moved Permanently\n",
            "Location: /public/static/o524xsg5s91q0frwka10fvsf82395sgg.gz [following]\n",
            "--2024-06-17 19:50:56--  https://mskcc.box.com/public/static/o524xsg5s91q0frwka10fvsf82395sgg.gz\n",
            "Reusing existing connection to mskcc.box.com:443.\n",
            "HTTP request sent, awaiting response... 301 Moved Permanently\n",
            "Location: https://mskcc.ent.box.com/public/static/o524xsg5s91q0frwka10fvsf82395sgg.gz [following]\n",
            "--2024-06-17 19:50:56--  https://mskcc.ent.box.com/public/static/o524xsg5s91q0frwka10fvsf82395sgg.gz\n",
            "Resolving mskcc.ent.box.com (mskcc.ent.box.com)... 74.112.186.144\n",
            "Connecting to mskcc.ent.box.com (mskcc.ent.box.com)|74.112.186.144|:443... connected.\n",
            "HTTP request sent, awaiting response... 302 Found\n",
            "Location: https://public.boxcloud.com/d/1/b1!H96xCMBR5DsDjqadEFjhoPbGjJ4BRaWAhFuTC8pVz8jPn91AUCBbFJEJAihjbwQcYdp34oI0DAcocLioZYTve475Nfqa19Dfdv_Dazd0lmiUgYNTNB5D1hzKdlgu_ydpJEc63SVSkT_9PWOtHbTgzNyP4uV7QO5ukgvJUpV17GhattRHvfhLESHZHN_i3Yt_8AyTXjC0RPDHswdHdPGBbv4ZAC25pGNM6xu0PaTp-Q4qBRFd2pGxzl_-lPekkV0tKOg9r6-FLx2uwlwqOaodQqbi-vf6u6uR7IdT7dmUozoWvXye3DPbCXKEMWM0aDOn6HcAalUlVKbwj-YDqd_R5s6Of1dDTQOUzUNd6xL4piJBwpdQWge_GE9RAFBLFnm8PzBPz8Iyzyk2C4SoSKnfbaux5de0TD0FKy2TlhOMiz4FarPSwGgQsiVQy3t5CLBow3ppZl5vmbP5BJb1kwE8x0asnRhhgjRiFbRWAd2hW3QD05gNr2eMn6JSHq_BFtZ3d_4nFHnibCwiGx11Y9hx1SJik3YY7dJmzd0VkaEqbP5Oe0wSDJaZumNvQWDt-4R7SdzcSI5LVxr62XmjD1lJcnKen5rs9dROacv52KqujDcwrro66pcXyqcZozNriqSo0uv6I_NwWJosNYkf8rlIsf-qTFUNZuvF3y94cT7wLAGuEoeFOO8Gk7zAcNf_V2TQcoxeO60-Ep32wIbDTL8J0J0Kr8-2pwIckkIXmykIYrIT8ZYTlM3ekVyCykAWHZFoRh06p-zuBWDKHOJ2wD-9ODZZYD3SqJ9qxOUGFZIZwCGd_Jzr0qKOjLm4LMKewLg1Wa9abONcpsqjtb2Q-nbnjM_GB-S7iN4eq6u3_2SSF13iBV-L39uSwx1At-cw2h4ETu3JwSQp782VIp7DqUgWxt0QD6Sa7SJuY-bXsOSPCI8R9QOi8fPevikUQs5Uh8wJAmP0Rb3Y9sp0S9ij7fUxT5-zDSpfcTH4OFucsVflsS6J_96Hq4kYi6ZDa0470m_P9lsePU6pm_teywAN9GpoTA2UGRLGSe1blWVIuBHD27xe90bB5iJ91tnV8sAo8lExbSVEBecjbTwUbTYPu_W81UStH_PTXZfuPPeFn_QifdnZ90crnZsdC4lrQvecwWSDX9r8Fhd5CJku5NtifRLfn2YmpeT_IHoQUyuMUCpVrfgemkBzP9cUZ3iadq6FUzJ-EGk4YnXiME7Af0dadZHEMr2wvMktJ98DSUgG2pSmDVyuzfObIZG2BE3kz7oa_0wkRe23bcMevngpxBey9OgMT_m9tuXjh5xByxzQ9fOy3nHirrnrZhS_ZKyt3R94o7yWu_NRsGm-pjKxKHJXN9xTgUooYh-1wFRVw-BTyXUBl7L_qo1IIGT7IJXjhgjO_u-CmkxGl6gkee-kIS1M4A../download [following]\n",
            "--2024-06-17 19:50:57--  https://public.boxcloud.com/d/1/b1!H96xCMBR5DsDjqadEFjhoPbGjJ4BRaWAhFuTC8pVz8jPn91AUCBbFJEJAihjbwQcYdp34oI0DAcocLioZYTve475Nfqa19Dfdv_Dazd0lmiUgYNTNB5D1hzKdlgu_ydpJEc63SVSkT_9PWOtHbTgzNyP4uV7QO5ukgvJUpV17GhattRHvfhLESHZHN_i3Yt_8AyTXjC0RPDHswdHdPGBbv4ZAC25pGNM6xu0PaTp-Q4qBRFd2pGxzl_-lPekkV0tKOg9r6-FLx2uwlwqOaodQqbi-vf6u6uR7IdT7dmUozoWvXye3DPbCXKEMWM0aDOn6HcAalUlVKbwj-YDqd_R5s6Of1dDTQOUzUNd6xL4piJBwpdQWge_GE9RAFBLFnm8PzBPz8Iyzyk2C4SoSKnfbaux5de0TD0FKy2TlhOMiz4FarPSwGgQsiVQy3t5CLBow3ppZl5vmbP5BJb1kwE8x0asnRhhgjRiFbRWAd2hW3QD05gNr2eMn6JSHq_BFtZ3d_4nFHnibCwiGx11Y9hx1SJik3YY7dJmzd0VkaEqbP5Oe0wSDJaZumNvQWDt-4R7SdzcSI5LVxr62XmjD1lJcnKen5rs9dROacv52KqujDcwrro66pcXyqcZozNriqSo0uv6I_NwWJosNYkf8rlIsf-qTFUNZuvF3y94cT7wLAGuEoeFOO8Gk7zAcNf_V2TQcoxeO60-Ep32wIbDTL8J0J0Kr8-2pwIckkIXmykIYrIT8ZYTlM3ekVyCykAWHZFoRh06p-zuBWDKHOJ2wD-9ODZZYD3SqJ9qxOUGFZIZwCGd_Jzr0qKOjLm4LMKewLg1Wa9abONcpsqjtb2Q-nbnjM_GB-S7iN4eq6u3_2SSF13iBV-L39uSwx1At-cw2h4ETu3JwSQp782VIp7DqUgWxt0QD6Sa7SJuY-bXsOSPCI8R9QOi8fPevikUQs5Uh8wJAmP0Rb3Y9sp0S9ij7fUxT5-zDSpfcTH4OFucsVflsS6J_96Hq4kYi6ZDa0470m_P9lsePU6pm_teywAN9GpoTA2UGRLGSe1blWVIuBHD27xe90bB5iJ91tnV8sAo8lExbSVEBecjbTwUbTYPu_W81UStH_PTXZfuPPeFn_QifdnZ90crnZsdC4lrQvecwWSDX9r8Fhd5CJku5NtifRLfn2YmpeT_IHoQUyuMUCpVrfgemkBzP9cUZ3iadq6FUzJ-EGk4YnXiME7Af0dadZHEMr2wvMktJ98DSUgG2pSmDVyuzfObIZG2BE3kz7oa_0wkRe23bcMevngpxBey9OgMT_m9tuXjh5xByxzQ9fOy3nHirrnrZhS_ZKyt3R94o7yWu_NRsGm-pjKxKHJXN9xTgUooYh-1wFRVw-BTyXUBl7L_qo1IIGT7IJXjhgjO_u-CmkxGl6gkee-kIS1M4A../download\n",
            "Resolving public.boxcloud.com (public.boxcloud.com)... 74.112.186.128\n",
            "Connecting to public.boxcloud.com (public.boxcloud.com)|74.112.186.128|:443... connected.\n",
            "HTTP request sent, awaiting response... 200 OK\n",
            "Length: 2169065644 (2.0G) [application/octet-stream]\n",
            "Saving to: ‘model_weights.tar.gz’\n",
            "\n",
            "model_weights.tar.g 100%[===================>]   2.02G  87.2MB/s    in 26s     \n",
            "\n",
            "2024-06-17 19:51:23 (80.6 MB/s) - ‘model_weights.tar.gz’ saved [2169065644/2169065644]\n",
            "\n",
            "tar xf model_weights.tar.gz\n",
            "wget -O condapack.tar.gz -L https://mskcc.box.com/shared/static/4li1soza5pcnwqyqwkuvgmjwtb81ktro.gz\n",
            "--2024-06-17 19:51:59--  https://mskcc.box.com/shared/static/4li1soza5pcnwqyqwkuvgmjwtb81ktro.gz\n",
            "Resolving mskcc.box.com (mskcc.box.com)... 74.112.186.144\n",
            "Connecting to mskcc.box.com (mskcc.box.com)|74.112.186.144|:443... connected.\n",
            "HTTP request sent, awaiting response... 301 Moved Permanently\n",
            "Location: /public/static/4li1soza5pcnwqyqwkuvgmjwtb81ktro.gz [following]\n",
            "--2024-06-17 19:51:59--  https://mskcc.box.com/public/static/4li1soza5pcnwqyqwkuvgmjwtb81ktro.gz\n",
            "Reusing existing connection to mskcc.box.com:443.\n",
            "HTTP request sent, awaiting response... 301 Moved Permanently\n",
            "Location: https://mskcc.ent.box.com/public/static/4li1soza5pcnwqyqwkuvgmjwtb81ktro.gz [following]\n",
            "--2024-06-17 19:51:59--  https://mskcc.ent.box.com/public/static/4li1soza5pcnwqyqwkuvgmjwtb81ktro.gz\n",
            "Resolving mskcc.ent.box.com (mskcc.ent.box.com)... 74.112.186.144\n",
            "Connecting to mskcc.ent.box.com (mskcc.ent.box.com)|74.112.186.144|:443... connected.\n",
            "HTTP request sent, awaiting response... 302 Found\n",
            "Location: https://public.boxcloud.com/d/1/b1!bVGjjOCzoTol9GNJd1foxs411VELJWn4_mgNzdUmdlOdzhlHRtNfyahSpbGXYdoDsixDXEGjBMFneBjQSKI4lcYsilke4nuvxsOCd9b7-XoVgVzCLoYToJ6dUgtAXcxDqppHrPirSgIYUL-XbIvPPhuvRhH7So38W3E8oaDYH9RS_K5ZPASYafu4KtjejFKyVPZX3FZfEyf7CmBSbvDZotEaKNAj47VqfgFMpRevp4BGRFxCakmXEwyNdg3Kdp9D1nz6kwOqh2yek9R-_PCnCucKpxM-7OVVjglrRzEzmqQ2IPxUD59at2D1w-KSfanu2BzRCXoYIXRr9kPuiVaXA_CbY3TNyomwkBPBQQpIPTa5wUkhQ0ykz8H1L7rOSVI0VTpuBvFf1x0JWdiwa4nT2uD4Z0geISWM0SQI-wCtbd2KWUjKVaUZy9aVXwOAvXfFuhaEGeK5x3_d3rEAANuXD2IsZT1vrzL5Mpjyn2Z4uPI6IEV-4T9O-yG18HUJJKswWzewQvLNxCDSsOLIBcxsv1T0I3GQz5jXbeafnYOPRNba2J3XAEuk1AYj8z0VMrfIaYFSkBXX6XopFlhInSTyxzGrEelE40qEnIXLdV679VfH574HI61bGp_B39JWdn2VdXU-5S3tK4TEKjei4mK3Ojz3WJEDVWlrtRM6cMTzkkYUU4HgGXvOShEhs8GqbmDylya_YhY6B89mzUxOpIUqDEvT9EbHfa5O9V6VI2BE8ySnSKKEM-v64V4Mu7fAnc0mjCOhQ-tM9MTtskZV5KasckPSO6ehQrVX5CB8rysPrxLZkH-b4kDx1134VYakqp06MOKzaVY413RpTkSsiqcobYEKS4y-_PzcHetQB-01D5MsEyPGo0hPjCGpT3NdFME3ukGUlBI9LzqSvbX8FrRIqTnkLseGn-XP9UwOoiS-x9DralsNwQbdlXln9tUlaAJykWChMHnnGhzs_zrY0tdpg-mrEEuQKtjdF_R8SF-Tb87FxXwpWLSqgwUEdP-Js1pyxOMG4Kdet_voBhhp7zjcHlEcf4w6KkK2GDQI06BcWBOTpiSb1BOSbTbWEz48HVfdxnbuSv2Kgs9Mjg3q5sRHbntUtKD7IJcHp3LntGeC284XImVcjsgmn2oB2pEUpFUz28dg_JAx614xdpwSK6Jhdh4Z_cMx02_DhnPjJxTRylbfwNyu1ZqwzukdsvpWt9Y7uYX6DdzuepcLf3pIvuzHrVdwBPAkgkwyGUIqWxfcTypqWJFAToBC4tYQtt1rDnvCZ-tMBuG7dEaMCbF744eEIfenZplKtfiZgYI3g2vtGiYSsxFltq55vjPidgj3RWhaUC9p3neY-UdBy6RmN3CbQenfjxKXJ0W3RPF06dPYH2XBrXqN3g8Fc7x_XTpNWl1BrMnkPy-mYsZlmbNF0-iDAzxKZAVS28kR1YnApg../download [following]\n",
            "--2024-06-17 19:52:00--  https://public.boxcloud.com/d/1/b1!bVGjjOCzoTol9GNJd1foxs411VELJWn4_mgNzdUmdlOdzhlHRtNfyahSpbGXYdoDsixDXEGjBMFneBjQSKI4lcYsilke4nuvxsOCd9b7-XoVgVzCLoYToJ6dUgtAXcxDqppHrPirSgIYUL-XbIvPPhuvRhH7So38W3E8oaDYH9RS_K5ZPASYafu4KtjejFKyVPZX3FZfEyf7CmBSbvDZotEaKNAj47VqfgFMpRevp4BGRFxCakmXEwyNdg3Kdp9D1nz6kwOqh2yek9R-_PCnCucKpxM-7OVVjglrRzEzmqQ2IPxUD59at2D1w-KSfanu2BzRCXoYIXRr9kPuiVaXA_CbY3TNyomwkBPBQQpIPTa5wUkhQ0ykz8H1L7rOSVI0VTpuBvFf1x0JWdiwa4nT2uD4Z0geISWM0SQI-wCtbd2KWUjKVaUZy9aVXwOAvXfFuhaEGeK5x3_d3rEAANuXD2IsZT1vrzL5Mpjyn2Z4uPI6IEV-4T9O-yG18HUJJKswWzewQvLNxCDSsOLIBcxsv1T0I3GQz5jXbeafnYOPRNba2J3XAEuk1AYj8z0VMrfIaYFSkBXX6XopFlhInSTyxzGrEelE40qEnIXLdV679VfH574HI61bGp_B39JWdn2VdXU-5S3tK4TEKjei4mK3Ojz3WJEDVWlrtRM6cMTzkkYUU4HgGXvOShEhs8GqbmDylya_YhY6B89mzUxOpIUqDEvT9EbHfa5O9V6VI2BE8ySnSKKEM-v64V4Mu7fAnc0mjCOhQ-tM9MTtskZV5KasckPSO6ehQrVX5CB8rysPrxLZkH-b4kDx1134VYakqp06MOKzaVY413RpTkSsiqcobYEKS4y-_PzcHetQB-01D5MsEyPGo0hPjCGpT3NdFME3ukGUlBI9LzqSvbX8FrRIqTnkLseGn-XP9UwOoiS-x9DralsNwQbdlXln9tUlaAJykWChMHnnGhzs_zrY0tdpg-mrEEuQKtjdF_R8SF-Tb87FxXwpWLSqgwUEdP-Js1pyxOMG4Kdet_voBhhp7zjcHlEcf4w6KkK2GDQI06BcWBOTpiSb1BOSbTbWEz48HVfdxnbuSv2Kgs9Mjg3q5sRHbntUtKD7IJcHp3LntGeC284XImVcjsgmn2oB2pEUpFUz28dg_JAx614xdpwSK6Jhdh4Z_cMx02_DhnPjJxTRylbfwNyu1ZqwzukdsvpWt9Y7uYX6DdzuepcLf3pIvuzHrVdwBPAkgkwyGUIqWxfcTypqWJFAToBC4tYQtt1rDnvCZ-tMBuG7dEaMCbF744eEIfenZplKtfiZgYI3g2vtGiYSsxFltq55vjPidgj3RWhaUC9p3neY-UdBy6RmN3CbQenfjxKXJ0W3RPF06dPYH2XBrXqN3g8Fc7x_XTpNWl1BrMnkPy-mYsZlmbNF0-iDAzxKZAVS28kR1YnApg../download\n",
            "Resolving public.boxcloud.com (public.boxcloud.com)... 74.112.186.128\n",
            "Connecting to public.boxcloud.com (public.boxcloud.com)|74.112.186.128|:443... connected.\n",
            "HTTP request sent, awaiting response... 200 OK\n",
            "Length: 1061723364 (1013M) [application/octet-stream]\n",
            "Saving to: ‘condapack.tar.gz’\n",
            "\n",
            "condapack.tar.gz    100%[===================>]   1013M  60.2MB/s    in 15s     \n",
            "\n",
            "2024-06-17 19:52:16 (66.0 MB/s) - ‘condapack.tar.gz’ saved [1061723364/1061723364]\n",
            "\n",
            "tar xf condapack.tar.gz\n"
          ]
        }
      ]
    },
    {
      "cell_type": "code",
      "source": [
        "%%capture\n",
        "! pip install pyxnat\n",
        "! pip install \"pyCERR[napari] @ git+https://github.com/cerr/pyCERR.git@testing\""
      ],
      "metadata": {
        "id": "kjpbxEVspDru"
      },
      "execution_count": 43,
      "outputs": []
    },
    {
      "cell_type": "code",
      "execution_count": 44,
      "metadata": {
        "id": "xGQcTj20Mvcy"
      },
      "outputs": [],
      "source": [
        "# Segmentation wrapper paths\n",
        "wrapperInstallDir = os.path.join(workDir, 'CT_cardiac_structures_deeplab')\n",
        "wrapperPath = os.path.join(wrapperInstallDir, 'model_wrapper','runSegmentation.py')\n",
        "\n",
        "# Location of Heart OAR conda environment\n",
        "condaEnvDir = os.path.join(workDir, 'CT_cardiac_structures_deeplab','conda-pack')\n",
        "\n",
        "# Path to conda environment activate script\n",
        "condaActivateScript = os.path.join(condaEnvDir, 'bin', 'activate')\n",
        "\n",
        "#location of input DICOM folders\n",
        "inputDicomPath = os.path.join(workDir,'input')\n",
        "if not os.path.exists(inputDicomPath):\n",
        "  os.mkdir(inputDicomPath)\n",
        "\n",
        "#location of output RTSTRUCT file\n",
        "outputDicomPath = os.path.join(workDir, 'output')\n",
        "if not os.path.exists(outputDicomPath):\n",
        "  os.mkdir(outputDicomPath)\n",
        "\n",
        "#temp session directory\n",
        "sessionPath = os.path.join(workDir, 'session')\n",
        "if not os.path.exists(sessionPath):\n",
        "  os.mkdir(sessionPath)\n"
      ]
    },
    {
      "cell_type": "markdown",
      "metadata": {
        "id": "uKyePuucYlbA"
      },
      "source": [
        "# Download planning CT DICOM data for processing"
      ]
    },
    {
      "cell_type": "markdown",
      "source": [
        "### Option 1: Download data from XNAT source (`getXNATData`)"
      ],
      "metadata": {
        "id": "YVDPJh4_o-pY"
      }
    },
    {
      "cell_type": "code",
      "source": [
        "from pyxnat import Interface\n",
        "import urllib3\n",
        "import shutil\n",
        "urllib3.disable_warnings()\n",
        "\n",
        "from pyxnat import Interface\n",
        "def getXNATData(xhost,user,scandict,downloadDir):\n",
        "  xnat = Interface(xhost, user, verify=False)\n",
        "  os.makedirs(downloadDir, exist_ok=True)\n",
        "  expdirlist = []\n",
        "  for scan_entry in scandict:\n",
        "    proj = scan_entry['proj']\n",
        "    subj = scan_entry['subj']\n",
        "    exp = scan_entry['exp']\n",
        "    scan_list = scan_entry['scan_list']\n",
        "    expdir = os.path.join(downloadDir,exp)\n",
        "    expdirlist.append(expdir)\n",
        "    os.makedirs(expdir, exist_ok = True)\n",
        "    xexp = xnat.select.project(proj).subject(subj).experiment(exp)\n",
        "    for scan in scan_list:\n",
        "      try:\n",
        "        xnat.select.project(proj).subject(subj).experiment(exp).scan(scan).resource('DICOM').get(downloadDir,extract=True)\n",
        "      except:\n",
        "        xnat.select.project(proj).subject(subj).experiment(exp).scan(scan).resource('secondary').get(downloadDir,extract=True)\n",
        "    for dcmfolder in ['DICOM','secondary']:\n",
        "      dcmlist = glob(os.path.join(downloadDir,dcmfolder,'*.dcm'))\n",
        "      print(dcmlist)\n",
        "      for dcm in dcmlist:\n",
        "        shutil.move(dcm, expdir)\n",
        "  for dcmfolder in ['DICOM','secondary']:\n",
        "    if os.path.exists(os.path.join(downloadDir,dcmfolder)):\n",
        "      os.rmdir(os.path.join(downloadDir,dcmfolder))\n",
        "    if os.path.exists(os.path.join(downloadDir,dcmfolder + '.zip')):\n",
        "      os.remove(os.path.join(downloadDir,dcmfolder + '.zip'))\n",
        "  xnat.disconnect()\n",
        "  return expdirlist"
      ],
      "metadata": {
        "id": "7F8jpzlAQ0l-"
      },
      "execution_count": 45,
      "outputs": []
    },
    {
      "cell_type": "code",
      "source": [
        "xhost = 'https://pixnat.mskcc.org'\n",
        "user = 'locastre'\n",
        "scandict = [{'proj':'RTOG0617','subj':'SPI_XNAT_S00196','exp':'SPI_XNAT_E00348', 'scan_list':['1','2']},{'proj':'RTOG0617','subj':'SPI_XNAT_S00195','exp':'SPI_XNAT_E00347','scan_list':['1','2']}]\n",
        "\n",
        "dcmdirlist = getXNATData(xhost,user,scandict,inputDicomPath)"
      ],
      "metadata": {
        "id": "XBEP07LFVwbM",
        "outputId": "8e824138-1b87-42ec-ca13-f86b45a2dc54",
        "colab": {
          "base_uri": "https://localhost:8080/"
        }
      },
      "execution_count": 46,
      "outputs": [
        {
          "output_type": "stream",
          "name": "stdout",
          "text": [
            "··········\n",
            "['/content/input/DICOM/1.3.6.1.4.1.14519.5.2.1.6329.6468.109218621610560682044382179111-1-92-1mwrbch.dcm', '/content/input/DICOM/1.3.6.1.4.1.14519.5.2.1.6329.6468.109218621610560682044382179111-1-51-1qoylpv.dcm', '/content/input/DICOM/1.3.6.1.4.1.14519.5.2.1.6329.6468.109218621610560682044382179111-1-32-1cemjsq.dcm', '/content/input/DICOM/1.3.6.1.4.1.14519.5.2.1.6329.6468.109218621610560682044382179111-1-37-12pneeu.dcm', '/content/input/DICOM/1.3.6.1.4.1.14519.5.2.1.6329.6468.109218621610560682044382179111-1-90-1sfmeq5.dcm', '/content/input/DICOM/1.3.6.1.4.1.14519.5.2.1.6329.6468.109218621610560682044382179111-1-62-xi286m.dcm', '/content/input/DICOM/1.3.6.1.4.1.14519.5.2.1.6329.6468.109218621610560682044382179111-1-64-88rrvo.dcm', '/content/input/DICOM/1.3.6.1.4.1.14519.5.2.1.6329.6468.109218621610560682044382179111-1-41-qvlxuv.dcm', '/content/input/DICOM/1.3.6.1.4.1.14519.5.2.1.6329.6468.109218621610560682044382179111-1-93-1878ffd.dcm', '/content/input/DICOM/1.3.6.1.4.1.14519.5.2.1.6329.6468.109218621610560682044382179111-1-6-15leg7.dcm', '/content/input/DICOM/1.3.6.1.4.1.14519.5.2.1.6329.6468.109218621610560682044382179111-1-83-1bwlqf.dcm', '/content/input/DICOM/1.3.6.1.4.1.14519.5.2.1.6329.6468.109218621610560682044382179111-1-88-ehcqd8.dcm', '/content/input/DICOM/1.3.6.1.4.1.14519.5.2.1.6329.6468.109218621610560682044382179111-1-16-1ayrppb.dcm', '/content/input/DICOM/1.3.6.1.4.1.14519.5.2.1.6329.6468.109218621610560682044382179111-1-68-1tjvqls.dcm', '/content/input/DICOM/1.3.6.1.4.1.14519.5.2.1.6329.6468.109218621610560682044382179111-1-21-mgi0y6.dcm', '/content/input/DICOM/1.3.6.1.4.1.14519.5.2.1.6329.6468.109218621610560682044382179111-1-15-1jgb3ms.dcm', '/content/input/DICOM/1.3.6.1.4.1.14519.5.2.1.6329.6468.109218621610560682044382179111-1-5-1f3qnjo.dcm', '/content/input/DICOM/1.3.6.1.4.1.14519.5.2.1.6329.6468.109218621610560682044382179111-1-65-13eu03a.dcm', '/content/input/DICOM/1.3.6.1.4.1.14519.5.2.1.6329.6468.109218621610560682044382179111-1-8-19epcp8.dcm', '/content/input/DICOM/1.3.6.1.4.1.14519.5.2.1.6329.6468.109218621610560682044382179111-1-48-1t7idsf.dcm', '/content/input/DICOM/1.3.6.1.4.1.14519.5.2.1.6329.6468.109218621610560682044382179111-1-75-6888zb.dcm', '/content/input/DICOM/1.3.6.1.4.1.14519.5.2.1.6329.6468.109218621610560682044382179111-1-89-1p8byrx.dcm', '/content/input/DICOM/1.3.6.1.4.1.14519.5.2.1.6329.6468.109218621610560682044382179111-1-77-1rk5wdv.dcm', '/content/input/DICOM/1.3.6.1.4.1.14519.5.2.1.6329.6468.109218621610560682044382179111-1-2-13ij1sp.dcm', '/content/input/DICOM/1.3.6.1.4.1.14519.5.2.1.6329.6468.109218621610560682044382179111-1-36-1sed2tf.dcm', '/content/input/DICOM/1.3.6.1.4.1.14519.5.2.1.6329.6468.109218621610560682044382179111-1-55-g514yj.dcm', '/content/input/DICOM/1.3.6.1.4.1.14519.5.2.1.6329.6468.109218621610560682044382179111-1-20-1p4ey0u.dcm', '/content/input/DICOM/1.3.6.1.4.1.14519.5.2.1.6329.6468.109218621610560682044382179111-1-49-1f35wb8.dcm', '/content/input/DICOM/1.3.6.1.4.1.14519.5.2.1.6329.6468.109218621610560682044382179111-1-34-29oqmh.dcm', '/content/input/DICOM/1.3.6.1.4.1.14519.5.2.1.6329.6468.109218621610560682044382179111-1-78-3yykpz.dcm', '/content/input/DICOM/1.3.6.1.4.1.14519.5.2.1.6329.6468.109218621610560682044382179111-1-81-135n8n6.dcm', '/content/input/DICOM/1.3.6.1.4.1.14519.5.2.1.6329.6468.109218621610560682044382179111-1-85-1tlipfn.dcm', '/content/input/DICOM/1.3.6.1.4.1.14519.5.2.1.6329.6468.109218621610560682044382179111-1-57-474cq4.dcm', '/content/input/DICOM/1.3.6.1.4.1.14519.5.2.1.6329.6468.109218621610560682044382179111-1-53-v3z5vs.dcm', '/content/input/DICOM/1.3.6.1.4.1.14519.5.2.1.6329.6468.109218621610560682044382179111-1-30-dnk8ro.dcm', '/content/input/DICOM/1.3.6.1.4.1.14519.5.2.1.6329.6468.109218621610560682044382179111-1-63-1dkbppp.dcm', '/content/input/DICOM/1.3.6.1.4.1.14519.5.2.1.6329.6468.109218621610560682044382179111-1-84-q76q78.dcm', '/content/input/DICOM/1.3.6.1.4.1.14519.5.2.1.6329.6468.109218621610560682044382179111-1-1-sh5kmi.dcm', '/content/input/DICOM/1.3.6.1.4.1.14519.5.2.1.6329.6468.109218621610560682044382179111-1-13-1wltiwp.dcm', '/content/input/DICOM/1.3.6.1.4.1.14519.5.2.1.6329.6468.109218621610560682044382179111-1-69-1y9bapg.dcm', '/content/input/DICOM/1.3.6.1.4.1.14519.5.2.1.6329.6468.109218621610560682044382179111-1-38-15blol8.dcm', '/content/input/DICOM/1.3.6.1.4.1.14519.5.2.1.6329.6468.109218621610560682044382179111-1-59-x5tmwa.dcm', '/content/input/DICOM/1.3.6.1.4.1.14519.5.2.1.6329.6468.109218621610560682044382179111-1-67-1fxl3dj.dcm', '/content/input/DICOM/1.3.6.1.4.1.14519.5.2.1.6329.6468.109218621610560682044382179111-1-46-xy0chv.dcm', '/content/input/DICOM/1.3.6.1.4.1.14519.5.2.1.6329.6468.109218621610560682044382179111-1-91-nrf5tr.dcm', '/content/input/DICOM/1.3.6.1.4.1.14519.5.2.1.6329.6468.109218621610560682044382179111-1-25-evf5nb.dcm', '/content/input/DICOM/1.3.6.1.4.1.14519.5.2.1.6329.6468.109218621610560682044382179111-1-18-zoibz9.dcm', '/content/input/DICOM/1.3.6.1.4.1.14519.5.2.1.6329.6468.109218621610560682044382179111-1-80-7ma2c2.dcm', '/content/input/DICOM/1.3.6.1.4.1.14519.5.2.1.6329.6468.109218621610560682044382179111-1-9-9p6xr6.dcm', '/content/input/DICOM/1.3.6.1.4.1.14519.5.2.1.6329.6468.109218621610560682044382179111-1-60-1phgp8g.dcm', '/content/input/DICOM/1.3.6.1.4.1.14519.5.2.1.6329.6468.109218621610560682044382179111-1-17-1nt7xyr.dcm', '/content/input/DICOM/1.3.6.1.4.1.14519.5.2.1.6329.6468.109218621610560682044382179111-1-11-76ryx9.dcm', '/content/input/DICOM/1.3.6.1.4.1.14519.5.2.1.6329.6468.109218621610560682044382179111-1-3-1svl8ys.dcm', '/content/input/DICOM/1.3.6.1.4.1.14519.5.2.1.6329.6468.109218621610560682044382179111-1-39-3c8r7a.dcm', '/content/input/DICOM/1.3.6.1.4.1.14519.5.2.1.6329.6468.109218621610560682044382179111-1-43-iwcq5k.dcm', '/content/input/DICOM/1.3.6.1.4.1.14519.5.2.1.6329.6468.109218621610560682044382179111-1-42-16cyier.dcm', '/content/input/DICOM/1.3.6.1.4.1.14519.5.2.1.6329.6468.109218621610560682044382179111-1-50-1kah12a.dcm', '/content/input/DICOM/1.3.6.1.4.1.14519.5.2.1.6329.6468.109218621610560682044382179111-1-58-7gj0b1.dcm', '/content/input/DICOM/1.3.6.1.4.1.14519.5.2.1.6329.6468.109218621610560682044382179111-1-10-wpdzng.dcm', '/content/input/DICOM/1.3.6.1.4.1.14519.5.2.1.6329.6468.109218621610560682044382179111-1-66-1x4clap.dcm', '/content/input/DICOM/1.3.6.1.4.1.14519.5.2.1.6329.6468.109218621610560682044382179111-1-74-fc7lbg.dcm', '/content/input/DICOM/1.3.6.1.4.1.14519.5.2.1.6329.6468.109218621610560682044382179111-1-47-ngocvg.dcm', '/content/input/DICOM/1.3.6.1.4.1.14519.5.2.1.6329.6468.109218621610560682044382179111-1-14-miajh3.dcm', '/content/input/DICOM/1.3.6.1.4.1.14519.5.2.1.6329.6468.109218621610560682044382179111-1-12-f14nrv.dcm', '/content/input/DICOM/1.3.6.1.4.1.14519.5.2.1.6329.6468.109218621610560682044382179111-1-79-yu0t3n.dcm', '/content/input/DICOM/1.3.6.1.4.1.14519.5.2.1.6329.6468.109218621610560682044382179111-1-31-17lgsiy.dcm', '/content/input/DICOM/1.3.6.1.4.1.14519.5.2.1.6329.6468.109218621610560682044382179111-1-23-ysru0t.dcm', '/content/input/DICOM/1.3.6.1.4.1.14519.5.2.1.6329.6468.109218621610560682044382179111-1-44-192hv39.dcm', '/content/input/DICOM/1.3.6.1.4.1.14519.5.2.1.6329.6468.109218621610560682044382179111-1-73-11hqmsm.dcm', '/content/input/DICOM/1.3.6.1.4.1.14519.5.2.1.6329.6468.109218621610560682044382179111-1-7-168n01j.dcm', '/content/input/DICOM/1.3.6.1.4.1.14519.5.2.1.6329.6468.109218621610560682044382179111-1-22-5bc1bj.dcm', '/content/input/DICOM/1.3.6.1.4.1.14519.5.2.1.6329.6468.109218621610560682044382179111-1-19-8gki9o.dcm', '/content/input/DICOM/1.3.6.1.4.1.14519.5.2.1.6329.6468.109218621610560682044382179111-1-87-4apar0.dcm', '/content/input/DICOM/1.3.6.1.4.1.14519.5.2.1.6329.6468.109218621610560682044382179111-1-27-1kabxg6.dcm', '/content/input/DICOM/1.3.6.1.4.1.14519.5.2.1.6329.6468.109218621610560682044382179111-1-28-1fmknjl.dcm', '/content/input/DICOM/1.3.6.1.4.1.14519.5.2.1.6329.6468.109218621610560682044382179111-1-70-1wv0uku.dcm', '/content/input/DICOM/1.3.6.1.4.1.14519.5.2.1.6329.6468.109218621610560682044382179111-1-82-17cuxyi.dcm', '/content/input/DICOM/1.3.6.1.4.1.14519.5.2.1.6329.6468.109218621610560682044382179111-1-54-b7430f.dcm', '/content/input/DICOM/1.3.6.1.4.1.14519.5.2.1.6329.6468.109218621610560682044382179111-1-76-twa34a.dcm', '/content/input/DICOM/1.3.6.1.4.1.14519.5.2.1.6329.6468.109218621610560682044382179111-1-52-19u8r1i.dcm', '/content/input/DICOM/1.3.6.1.4.1.14519.5.2.1.6329.6468.109218621610560682044382179111-1-35-vwsbvd.dcm', '/content/input/DICOM/1.3.6.1.4.1.14519.5.2.1.6329.6468.109218621610560682044382179111-1-40-155ln4r.dcm', '/content/input/DICOM/1.3.6.1.4.1.14519.5.2.1.6329.6468.109218621610560682044382179111-1-4-yqwtdk.dcm', '/content/input/DICOM/1.3.6.1.4.1.14519.5.2.1.6329.6468.109218621610560682044382179111-1-71-gv5sfn.dcm', '/content/input/DICOM/1.3.6.1.4.1.14519.5.2.1.6329.6468.109218621610560682044382179111-1-72-1ox8wtx.dcm', '/content/input/DICOM/1.3.6.1.4.1.14519.5.2.1.6329.6468.109218621610560682044382179111-1-45-1cncsqf.dcm', '/content/input/DICOM/1.3.6.1.4.1.14519.5.2.1.6329.6468.109218621610560682044382179111-1-61-1equrgf.dcm', '/content/input/DICOM/1.3.6.1.4.1.14519.5.2.1.6329.6468.109218621610560682044382179111-1-24-1p3wc7e.dcm', '/content/input/DICOM/1.3.6.1.4.1.14519.5.2.1.6329.6468.109218621610560682044382179111-1-33-jor5i.dcm', '/content/input/DICOM/1.3.6.1.4.1.14519.5.2.1.6329.6468.109218621610560682044382179111-1-26-199uqlv.dcm', '/content/input/DICOM/1.3.6.1.4.1.14519.5.2.1.6329.6468.109218621610560682044382179111-1-29-k8nzzo.dcm', '/content/input/DICOM/1.3.6.1.4.1.14519.5.2.1.6329.6468.109218621610560682044382179111-1-56-3oafm6.dcm', '/content/input/DICOM/1.3.6.1.4.1.14519.5.2.1.6329.6468.109218621610560682044382179111-1-86-1n73rb9.dcm']\n",
            "['/content/input/secondary/1.3.6.1.4.1.14519.5.2.1.6329.6468.109218621610560682044382179111-2-no-value-for-InstanceNumber-1278q5v.dcm']\n",
            "['/content/input/DICOM/1.3.6.1.4.1.14519.5.2.1.6329.6468.180596963996965825122162035932-1-21-1qsksoz.dcm', '/content/input/DICOM/1.3.6.1.4.1.14519.5.2.1.6329.6468.180596963996965825122162035932-1-43-7bfwj4.dcm', '/content/input/DICOM/1.3.6.1.4.1.14519.5.2.1.6329.6468.180596963996965825122162035932-1-80-174miax.dcm', '/content/input/DICOM/1.3.6.1.4.1.14519.5.2.1.6329.6468.180596963996965825122162035932-1-95-1as485y.dcm', '/content/input/DICOM/1.3.6.1.4.1.14519.5.2.1.6329.6468.180596963996965825122162035932-1-13-1btc4f9.dcm', '/content/input/DICOM/1.3.6.1.4.1.14519.5.2.1.6329.6468.180596963996965825122162035932-1-30-d94htk.dcm', '/content/input/DICOM/1.3.6.1.4.1.14519.5.2.1.6329.6468.180596963996965825122162035932-1-93-q1okfc.dcm', '/content/input/DICOM/1.3.6.1.4.1.14519.5.2.1.6329.6468.180596963996965825122162035932-1-55-1xm839l.dcm', '/content/input/DICOM/1.3.6.1.4.1.14519.5.2.1.6329.6468.180596963996965825122162035932-1-42-fu9z8u.dcm', '/content/input/DICOM/1.3.6.1.4.1.14519.5.2.1.6329.6468.180596963996965825122162035932-1-46-ju4ej7.dcm', '/content/input/DICOM/1.3.6.1.4.1.14519.5.2.1.6329.6468.180596963996965825122162035932-1-72-msqx32.dcm', '/content/input/DICOM/1.3.6.1.4.1.14519.5.2.1.6329.6468.180596963996965825122162035932-1-49-jrhp1.dcm', '/content/input/DICOM/1.3.6.1.4.1.14519.5.2.1.6329.6468.180596963996965825122162035932-1-87-qewe76.dcm', '/content/input/DICOM/1.3.6.1.4.1.14519.5.2.1.6329.6468.180596963996965825122162035932-1-2-sz2xor.dcm', '/content/input/DICOM/1.3.6.1.4.1.14519.5.2.1.6329.6468.180596963996965825122162035932-1-65-18pr4td.dcm', '/content/input/DICOM/1.3.6.1.4.1.14519.5.2.1.6329.6468.180596963996965825122162035932-1-14-njt4ae.dcm', '/content/input/DICOM/1.3.6.1.4.1.14519.5.2.1.6329.6468.180596963996965825122162035932-1-82-w5m6no.dcm', '/content/input/DICOM/1.3.6.1.4.1.14519.5.2.1.6329.6468.180596963996965825122162035932-1-62-11lbgqr.dcm', '/content/input/DICOM/1.3.6.1.4.1.14519.5.2.1.6329.6468.180596963996965825122162035932-1-15-1p8v26q.dcm', '/content/input/DICOM/1.3.6.1.4.1.14519.5.2.1.6329.6468.180596963996965825122162035932-1-68-fnvuj4.dcm', '/content/input/DICOM/1.3.6.1.4.1.14519.5.2.1.6329.6468.180596963996965825122162035932-1-75-15zts72.dcm', '/content/input/DICOM/1.3.6.1.4.1.14519.5.2.1.6329.6468.180596963996965825122162035932-1-20-1xpqixn.dcm', '/content/input/DICOM/1.3.6.1.4.1.14519.5.2.1.6329.6468.180596963996965825122162035932-1-59-4n04ps.dcm', '/content/input/DICOM/1.3.6.1.4.1.14519.5.2.1.6329.6468.180596963996965825122162035932-1-77-rbkvfo.dcm', '/content/input/DICOM/1.3.6.1.4.1.14519.5.2.1.6329.6468.180596963996965825122162035932-1-44-1qivw7p.dcm', '/content/input/DICOM/1.3.6.1.4.1.14519.5.2.1.6329.6468.180596963996965825122162035932-1-31-1pefld0.dcm', '/content/input/DICOM/1.3.6.1.4.1.14519.5.2.1.6329.6468.180596963996965825122162035932-1-51-1ybvc6u.dcm', '/content/input/DICOM/1.3.6.1.4.1.14519.5.2.1.6329.6468.180596963996965825122162035932-1-71-5ifx8j.dcm', '/content/input/DICOM/1.3.6.1.4.1.14519.5.2.1.6329.6468.180596963996965825122162035932-1-12-13j7e5c.dcm', '/content/input/DICOM/1.3.6.1.4.1.14519.5.2.1.6329.6468.180596963996965825122162035932-1-57-etfb54.dcm', '/content/input/DICOM/1.3.6.1.4.1.14519.5.2.1.6329.6468.180596963996965825122162035932-1-23-1f6or05.dcm', '/content/input/DICOM/1.3.6.1.4.1.14519.5.2.1.6329.6468.180596963996965825122162035932-1-3-l6wreu.dcm', '/content/input/DICOM/1.3.6.1.4.1.14519.5.2.1.6329.6468.180596963996965825122162035932-1-50-1crgx0s.dcm', '/content/input/DICOM/1.3.6.1.4.1.14519.5.2.1.6329.6468.180596963996965825122162035932-1-52-ogi2jd.dcm', '/content/input/DICOM/1.3.6.1.4.1.14519.5.2.1.6329.6468.180596963996965825122162035932-1-7-67hxsu.dcm', '/content/input/DICOM/1.3.6.1.4.1.14519.5.2.1.6329.6468.180596963996965825122162035932-1-76-uvlrqn.dcm', '/content/input/DICOM/1.3.6.1.4.1.14519.5.2.1.6329.6468.180596963996965825122162035932-1-64-1q9sep7.dcm', '/content/input/DICOM/1.3.6.1.4.1.14519.5.2.1.6329.6468.180596963996965825122162035932-1-67-1bra5sj.dcm', '/content/input/DICOM/1.3.6.1.4.1.14519.5.2.1.6329.6468.180596963996965825122162035932-1-48-1nnrtoo.dcm', '/content/input/DICOM/1.3.6.1.4.1.14519.5.2.1.6329.6468.180596963996965825122162035932-1-94-1fe4sri.dcm', '/content/input/DICOM/1.3.6.1.4.1.14519.5.2.1.6329.6468.180596963996965825122162035932-1-40-z59nyh.dcm', '/content/input/DICOM/1.3.6.1.4.1.14519.5.2.1.6329.6468.180596963996965825122162035932-1-63-1593m6c.dcm', '/content/input/DICOM/1.3.6.1.4.1.14519.5.2.1.6329.6468.180596963996965825122162035932-1-35-1xwmvz1.dcm', '/content/input/DICOM/1.3.6.1.4.1.14519.5.2.1.6329.6468.180596963996965825122162035932-1-17-oar9ru.dcm', '/content/input/DICOM/1.3.6.1.4.1.14519.5.2.1.6329.6468.180596963996965825122162035932-1-29-1yyj12f.dcm', '/content/input/DICOM/1.3.6.1.4.1.14519.5.2.1.6329.6468.180596963996965825122162035932-1-22-1djzode.dcm', '/content/input/DICOM/1.3.6.1.4.1.14519.5.2.1.6329.6468.180596963996965825122162035932-1-96-139rpx2.dcm', '/content/input/DICOM/1.3.6.1.4.1.14519.5.2.1.6329.6468.180596963996965825122162035932-1-39-15f8nm7.dcm', '/content/input/DICOM/1.3.6.1.4.1.14519.5.2.1.6329.6468.180596963996965825122162035932-1-4-1dx0xfy.dcm', '/content/input/DICOM/1.3.6.1.4.1.14519.5.2.1.6329.6468.180596963996965825122162035932-1-79-h0ifqm.dcm', '/content/input/DICOM/1.3.6.1.4.1.14519.5.2.1.6329.6468.180596963996965825122162035932-1-32-kuffoz.dcm', '/content/input/DICOM/1.3.6.1.4.1.14519.5.2.1.6329.6468.180596963996965825122162035932-1-8-188bm3d.dcm', '/content/input/DICOM/1.3.6.1.4.1.14519.5.2.1.6329.6468.180596963996965825122162035932-1-90-pzz2g0.dcm', '/content/input/DICOM/1.3.6.1.4.1.14519.5.2.1.6329.6468.180596963996965825122162035932-1-10-1tr376x.dcm', '/content/input/DICOM/1.3.6.1.4.1.14519.5.2.1.6329.6468.180596963996965825122162035932-1-91-mag1yf.dcm', '/content/input/DICOM/1.3.6.1.4.1.14519.5.2.1.6329.6468.180596963996965825122162035932-1-89-1y3sff3.dcm', '/content/input/DICOM/1.3.6.1.4.1.14519.5.2.1.6329.6468.180596963996965825122162035932-1-53-pku3kp.dcm', '/content/input/DICOM/1.3.6.1.4.1.14519.5.2.1.6329.6468.180596963996965825122162035932-1-24-1i1a2bl.dcm', '/content/input/DICOM/1.3.6.1.4.1.14519.5.2.1.6329.6468.180596963996965825122162035932-1-56-p0m8qc.dcm', '/content/input/DICOM/1.3.6.1.4.1.14519.5.2.1.6329.6468.180596963996965825122162035932-1-84-1r5frc0.dcm', '/content/input/DICOM/1.3.6.1.4.1.14519.5.2.1.6329.6468.180596963996965825122162035932-1-58-1ug7b7z.dcm', '/content/input/DICOM/1.3.6.1.4.1.14519.5.2.1.6329.6468.180596963996965825122162035932-1-37-a1tnip.dcm', '/content/input/DICOM/1.3.6.1.4.1.14519.5.2.1.6329.6468.180596963996965825122162035932-1-85-1l4rzh2.dcm', '/content/input/DICOM/1.3.6.1.4.1.14519.5.2.1.6329.6468.180596963996965825122162035932-1-73-fcob54.dcm', '/content/input/DICOM/1.3.6.1.4.1.14519.5.2.1.6329.6468.180596963996965825122162035932-1-78-1x96n1h.dcm', '/content/input/DICOM/1.3.6.1.4.1.14519.5.2.1.6329.6468.180596963996965825122162035932-1-81-d8k63k.dcm', '/content/input/DICOM/1.3.6.1.4.1.14519.5.2.1.6329.6468.180596963996965825122162035932-1-6-5jpron.dcm', '/content/input/DICOM/1.3.6.1.4.1.14519.5.2.1.6329.6468.180596963996965825122162035932-1-5-hx43ia.dcm', '/content/input/DICOM/1.3.6.1.4.1.14519.5.2.1.6329.6468.180596963996965825122162035932-1-61-9dlne1.dcm', '/content/input/DICOM/1.3.6.1.4.1.14519.5.2.1.6329.6468.180596963996965825122162035932-1-54-1nlfjlg.dcm', '/content/input/DICOM/1.3.6.1.4.1.14519.5.2.1.6329.6468.180596963996965825122162035932-1-60-14tj9xu.dcm', '/content/input/DICOM/1.3.6.1.4.1.14519.5.2.1.6329.6468.180596963996965825122162035932-1-25-14b2ie8.dcm', '/content/input/DICOM/1.3.6.1.4.1.14519.5.2.1.6329.6468.180596963996965825122162035932-1-36-edph32.dcm', '/content/input/DICOM/1.3.6.1.4.1.14519.5.2.1.6329.6468.180596963996965825122162035932-1-92-st3pwl.dcm', '/content/input/DICOM/1.3.6.1.4.1.14519.5.2.1.6329.6468.180596963996965825122162035932-1-47-19mj7vc.dcm', '/content/input/DICOM/1.3.6.1.4.1.14519.5.2.1.6329.6468.180596963996965825122162035932-1-33-r6svzu.dcm', '/content/input/DICOM/1.3.6.1.4.1.14519.5.2.1.6329.6468.180596963996965825122162035932-1-27-n0r31l.dcm', '/content/input/DICOM/1.3.6.1.4.1.14519.5.2.1.6329.6468.180596963996965825122162035932-1-70-hwisgk.dcm', '/content/input/DICOM/1.3.6.1.4.1.14519.5.2.1.6329.6468.180596963996965825122162035932-1-11-1w9lep7.dcm', '/content/input/DICOM/1.3.6.1.4.1.14519.5.2.1.6329.6468.180596963996965825122162035932-1-41-vaaali.dcm', '/content/input/DICOM/1.3.6.1.4.1.14519.5.2.1.6329.6468.180596963996965825122162035932-1-19-18xc3uy.dcm', '/content/input/DICOM/1.3.6.1.4.1.14519.5.2.1.6329.6468.180596963996965825122162035932-1-38-8g7c3p.dcm', '/content/input/DICOM/1.3.6.1.4.1.14519.5.2.1.6329.6468.180596963996965825122162035932-1-83-u8ig6r.dcm', '/content/input/DICOM/1.3.6.1.4.1.14519.5.2.1.6329.6468.180596963996965825122162035932-1-86-1rac0ns.dcm', '/content/input/DICOM/1.3.6.1.4.1.14519.5.2.1.6329.6468.180596963996965825122162035932-1-1-1df2al0.dcm', '/content/input/DICOM/1.3.6.1.4.1.14519.5.2.1.6329.6468.180596963996965825122162035932-1-26-jefr6h.dcm', '/content/input/DICOM/1.3.6.1.4.1.14519.5.2.1.6329.6468.180596963996965825122162035932-1-16-1swn49g.dcm', '/content/input/DICOM/1.3.6.1.4.1.14519.5.2.1.6329.6468.180596963996965825122162035932-1-45-dep9y0.dcm', '/content/input/DICOM/1.3.6.1.4.1.14519.5.2.1.6329.6468.180596963996965825122162035932-1-69-my8nzh.dcm', '/content/input/DICOM/1.3.6.1.4.1.14519.5.2.1.6329.6468.180596963996965825122162035932-1-88-nhoj7l.dcm', '/content/input/DICOM/1.3.6.1.4.1.14519.5.2.1.6329.6468.180596963996965825122162035932-1-34-b4uai2.dcm', '/content/input/DICOM/1.3.6.1.4.1.14519.5.2.1.6329.6468.180596963996965825122162035932-1-28-4mnwrn.dcm', '/content/input/DICOM/1.3.6.1.4.1.14519.5.2.1.6329.6468.180596963996965825122162035932-1-74-7h3tt8.dcm', '/content/input/DICOM/1.3.6.1.4.1.14519.5.2.1.6329.6468.180596963996965825122162035932-1-97-1j33ldp.dcm', '/content/input/DICOM/1.3.6.1.4.1.14519.5.2.1.6329.6468.180596963996965825122162035932-1-9-ak600t.dcm', '/content/input/DICOM/1.3.6.1.4.1.14519.5.2.1.6329.6468.180596963996965825122162035932-1-66-15zgmp8.dcm', '/content/input/DICOM/1.3.6.1.4.1.14519.5.2.1.6329.6468.180596963996965825122162035932-1-18-1ozmsee.dcm']\n",
            "['/content/input/secondary/1.3.6.1.4.1.14519.5.2.1.6329.6468.180596963996965825122162035932-2-no-value-for-InstanceNumber-vh4pxs.dcm']\n"
          ]
        }
      ]
    },
    {
      "cell_type": "markdown",
      "source": [
        "### Option 2: Download data from other HTTP source to `inputDicomDir`"
      ],
      "metadata": {
        "id": "n0nnTRi1ph7D"
      }
    },
    {
      "cell_type": "code",
      "execution_count": 36,
      "metadata": {
        "id": "z3ucdyu0YlbB",
        "outputId": "23b108be-4594-47cb-a44a-3fe37dd65e46",
        "colab": {
          "base_uri": "https://localhost:8080/"
        }
      },
      "outputs": [
        {
          "output_type": "stream",
          "name": "stdout",
          "text": [
            "--2024-06-17 19:04:29--  http://path.to/data\n",
            "Resolving path.to (path.to)... failed: Temporary failure in name resolution.\n",
            "wget: unable to resolve host address ‘path.to’\n",
            "tar: This does not look like a tar archive\n",
            "\n",
            "gzip: stdin: unexpected end of file\n",
            "tar: Child returned status 1\n",
            "tar: Error is not recoverable: exiting now\n"
          ]
        }
      ],
      "source": [
        "dataUrl='http://path.to/data'\n",
        "\n",
        "dataDownloadDir = os.path.join(workDir,'tmp')\n",
        "os.makedirs(dataDownloadDir, exist_ok=True)\n",
        "os.chdir(dataDownloadDir)\n",
        "\n",
        "! wget -O sampleData.gz -L {dataUrl}\n",
        "! tar xf sampleData.gz -C {inputDicomDir}\n",
        "! rm sampleData.gz\n",
        "\n",
        "#unpack and move"
      ]
    },
    {
      "cell_type": "markdown",
      "metadata": {
        "id": "sfcIIiLQsgcM"
      },
      "source": [
        "# Function Definitions: Data pre- and post-processing using pyCERR"
      ]
    },
    {
      "cell_type": "markdown",
      "metadata": {
        "id": "1m955pAJsgcN"
      },
      "source": [
        "## `processInputData`: Crop scan to Lung extents"
      ]
    },
    {
      "cell_type": "code",
      "execution_count": 47,
      "metadata": {
        "id": "FAXBqkTasgcN"
      },
      "outputs": [],
      "source": [
        "from cerr.dataclasses import structure as cerrStr\n",
        "from cerr.contour import rasterseg as rs\n",
        "from cerr.utils import aiPipeline, mask\n",
        "import numpy as np\n",
        "\n",
        "def processInputData(scanNum, planC, lungNameList=['LUNG_TOTAL', 'LUNG_L', 'LUNG_R']):\n",
        "\n",
        "    if isinstance(lungNameList, str):\n",
        "        lungNameList = [lungNameList]\n",
        "\n",
        "    # Extract scanArray\n",
        "    scan3M = planC.scan[scanNum].getScanArray()\n",
        "    mask3M = np.zeros(scan3M.shape, dtype=bool)\n",
        "\n",
        "    # List of Structure names\n",
        "    strNames = [s.structureName for s in planC.structure]\n",
        "    numOrigStructs = len(strNames)\n",
        "\n",
        "    # Get total lung mask\n",
        "    for lungName in lungNameList:\n",
        "        lungInd = cerrStr.getMatchingIndex(lungName.upper(), strNames, 'exact')\n",
        "        if len(lungInd) > 0:\n",
        "            # Get lung extents\n",
        "            mask3M = mask3M | rs.getStrMask(lungInd[0], planC)\n",
        "\n",
        "    if not np.any(mask3M):\n",
        "        raise Exception('Lung contour name did not match any structures in planC')\n",
        "\n",
        "    # Create cropped scan\n",
        "    rmin,rmax,cmin,cmax,smin,smax,_ = mask.compute_boundingbox(mask3M)\n",
        "    x,y,z = planC.scan[0].getScanXYZVals()\n",
        "    xCropV = x[cmin:cmax]\n",
        "    yCropV = y[rmin:rmax]\n",
        "    zCropV = z[smin:smax]\n",
        "    scan3M = planC.scan[0].getScanArray()\n",
        "    scanCrop3M = scan3M[rmin:rmax,cmin:cmax,smin:smax]\n",
        "\n",
        "    return scanCrop3M, (xCropV, yCropV, zCropV)\n"
      ]
    },
    {
      "cell_type": "markdown",
      "metadata": {
        "id": "C1KHjP1LsgcO"
      },
      "source": [
        "## `postProcAndImportSeg`: Import AI segmentations to planC and retain only the largest connected component for each structure"
      ]
    },
    {
      "cell_type": "code",
      "execution_count": 48,
      "metadata": {
        "id": "W_GjRVWtsgcP"
      },
      "outputs": [],
      "source": [
        "#Import label map to CERR\n",
        "from glob import glob\n",
        "from cerr import plan_container as pc\n",
        "\n",
        "atriaLabelDict = {1: 'DL_Atria'}\n",
        "heartSubSegDict = {2: 'DL_AORTA', 3: 'DL_LA',\n",
        "                   4: 'DL_LV', 5: 'DL_RA',\n",
        "                   6: 'DL_RV', 7: 'DL_IVC',\n",
        "                   8: 'DL_SVC', 9: 'DL_PA'}\n",
        "heartSegDict = {1: 'DL_heart'}\n",
        "periLabelDict = {1: 'DL_Pericardium'}\n",
        "ventriLabelDict = {1: 'DL_Ventricles'}\n",
        "\n",
        "def postProcAndImportSeg(outputDir,procScanNum,scanNum,planC):\n",
        "    niiGlob = glob(os.path.join(outputDir,'*.nii.gz'))\n",
        "    for segFile in niiGlob:\n",
        "        print('Importing ' + segFile + '...')\n",
        "        # Get segFile name\n",
        "        if 'heart.nii.gz' in segFile:\n",
        "            strToLabelMap = heartSubSegDict\n",
        "        elif 'heartStructure.nii.gz' in segFile:\n",
        "            strToLabelMap = heartSegDict\n",
        "        elif 'atria.nii.gz' in segFile:\n",
        "            strToLabelMap = atriaLabelDict\n",
        "        elif 'pericardium.nii.gz' in segFile:\n",
        "            strToLabelMap = periLabelDict\n",
        "        elif 'ventricles.nii.gz' in segFile:\n",
        "            strToLabelMap = ventriLabelDict\n",
        "        numLabel = len(strToLabelMap)\n",
        "        numStrOrig = len(planC.structure)\n",
        "        planC = pc.load_nii_structure(segFile, scanNum, planC, \\\n",
        "                                  labels_dict = strToLabelMap)\n",
        "        numStructs = len(planC.structure)\n",
        "        cpyStrNumV = np.arange(numStrOrig,numStructs)\n",
        "        numConnComponents = 1\n",
        "        for structNum in cpyStrNumV:\n",
        "            _, planC = cerrStr.getLargestConnComps(structNum, numConnComponents, planC, \\\n",
        "                                            saveFlag=True, replaceFlag=True)\n",
        "\n",
        "    return planC"
      ]
    },
    {
      "cell_type": "markdown",
      "metadata": {
        "id": "zj7t-J4isgcQ"
      },
      "source": [
        "# Run Segmentation: Generate OARs for all the CT scan folders located at `inputDicomPath`"
      ]
    },
    {
      "cell_type": "code",
      "execution_count": 51,
      "metadata": {
        "id": "WCuUi5D6sgcS",
        "outputId": "f35eb491-26e9-4f1b-f61e-90ae0242e0e5",
        "colab": {
          "base_uri": "https://localhost:8080/"
        }
      },
      "outputs": [
        {
          "output_type": "stream",
          "name": "stdout",
          "text": [
            "('0617-259694', '0617-259694', '1.3.6.1.4.1.14519.5.2.1.6329.6468.109218621610560682044382179111', '1.3.6.1.4.1.14519.5.2.1.6329.6468.208597257645079747725955792395', 'CT', 'CT', 'CT', 'CT', 'CT', 'CT', 'CT')\n",
            "('0617-259694', '0617-259694', '1.3.6.1.4.1.14519.5.2.1.6329.6468.109218621610560682044382179111', '1.3.6.1.4.1.14519.5.2.1.6329.6468.370049441999407001621950329800', 'RTSTRUCT', 'RTSTRUCT', 'RTSTRUCT', 'RTSTRUCT', 'RTSTRUCT', 'RTSTRUCT', 'RTSTRUCT')\n",
            "source /content/CT_cardiac_structures_deeplab/conda-pack/bin/activate && python /content/CT_cardiac_structures_deeplab/model_wrapper/runSegmentation.py /content/session/sessionSPI_XNAT_E0034820929833.447/inputNii /content/session/sessionSPI_XNAT_E0034820929833.447/outputNii\n",
            "Importing /content/session/sessionSPI_XNAT_E0034820929833.447/outputNii/SPI_XNAT_E00348_scan_3D_ventricles.nii.gz...\n",
            "Importing /content/session/sessionSPI_XNAT_E0034820929833.447/outputNii/SPI_XNAT_E00348_scan_3D_heart.nii.gz...\n",
            "Importing /content/session/sessionSPI_XNAT_E0034820929833.447/outputNii/SPI_XNAT_E00348_scan_3D_heartStructure.nii.gz...\n",
            "Importing /content/session/sessionSPI_XNAT_E0034820929833.447/outputNii/SPI_XNAT_E00348_scan_3D_atria.nii.gz...\n",
            "Importing /content/session/sessionSPI_XNAT_E0034820929833.447/outputNii/SPI_XNAT_E00348_scan_3D_pericardium.nii.gz...\n",
            "Writing RTSTRUCT file ... /content/output/SPI_XNAT_E00348_AI_seg_RTSTRUCT.dcm\n",
            "File saved.\n",
            "('0617-292370', '0617-292370', '1.3.6.1.4.1.14519.5.2.1.6329.6468.180596963996965825122162035932', '1.3.6.1.4.1.14519.5.2.1.6329.6468.314188004903460989626820333570', 'CT', 'CT', 'CT', 'CT', 'CT', 'CT', 'CT')\n",
            "('0617-292370', '0617-292370', '1.3.6.1.4.1.14519.5.2.1.6329.6468.180596963996965825122162035932', '1.3.6.1.4.1.14519.5.2.1.6329.6468.880278915833505391469023528647', 'RTSTRUCT', 'RTSTRUCT', 'RTSTRUCT', 'RTSTRUCT', 'RTSTRUCT', 'RTSTRUCT', 'RTSTRUCT')\n",
            "source /content/CT_cardiac_structures_deeplab/conda-pack/bin/activate && python /content/CT_cardiac_structures_deeplab/model_wrapper/runSegmentation.py /content/session/sessionSPI_XNAT_E0034720114988.571/inputNii /content/session/sessionSPI_XNAT_E0034720114988.571/outputNii\n",
            "Importing /content/session/sessionSPI_XNAT_E0034720114988.571/outputNii/SPI_XNAT_E00347_scan_3D_heartStructure.nii.gz...\n",
            "Importing /content/session/sessionSPI_XNAT_E0034720114988.571/outputNii/SPI_XNAT_E00347_scan_3D_pericardium.nii.gz...\n",
            "Importing /content/session/sessionSPI_XNAT_E0034720114988.571/outputNii/SPI_XNAT_E00347_scan_3D_ventricles.nii.gz...\n",
            "Importing /content/session/sessionSPI_XNAT_E0034720114988.571/outputNii/SPI_XNAT_E00347_scan_3D_heart.nii.gz...\n",
            "Importing /content/session/sessionSPI_XNAT_E0034720114988.571/outputNii/SPI_XNAT_E00347_scan_3D_atria.nii.gz...\n",
            "Writing RTSTRUCT file ... /content/output/SPI_XNAT_E00347_AI_seg_RTSTRUCT.dcm\n",
            "File saved.\n"
          ]
        }
      ],
      "source": [
        "#%%capture\n",
        "import subprocess\n",
        "import numpy as np\n",
        "import cerr\n",
        "from cerr import plan_container as pc\n",
        "from cerr.dataclasses import scan as cerrScn\n",
        "from cerr.utils.aiPipeline import createSessionDir\n",
        "from cerr.dcm_export import rtstruct_iod\n",
        "\n",
        "structFileName = 'RTSTRUCT.dcm'\n",
        "\n",
        "# Loop over DICOM data folders\n",
        "#fileList = os.listdir(inputDicomPath)\n",
        "#numFiles = len(fileList)\n",
        "folderList = glob(os.path.join(inputDicomPath,'*'))\n",
        "modality = 'CT SCAN'\n",
        "lungNameList = ['LUNG_TOTAL', 'LUNG_CNTR', 'LUNG_IPSI']\n",
        "\n",
        "#for iFile in range(numFiles):\n",
        "for dcmDir in folderList:\n",
        "\n",
        "    fname = os.path.basename(dcmDir)\n",
        "    # Create session dir to store temporary data\n",
        "    modInputPath, modOutputPath = createSessionDir(sessionPath, dcmDir)\n",
        "\n",
        "    # Import DICOM to planC\n",
        "    planC = pc.load_dcm_dir(dcmDir)\n",
        "\n",
        "    # Identify scan index in  planC\n",
        "    scanIdS = {\"imageType\": modality}\n",
        "    matchScanV = aiPipeline.getScanNumFromIdentifier(scanIdS, planC, False)\n",
        "    scanNum = matchScanV[0]\n",
        "\n",
        "    # Pre-process data\n",
        "    procScan3M, resizeGridS = processInputData(scanNum, planC, lungNameList)\n",
        "    planC = pc.import_scan_array(procScan3M, resizeGridS[0], \\\n",
        "            resizeGridS[1], resizeGridS[2], modality, scanNum, planC)\n",
        "    procScanNum = len(planC.scan) - 1\n",
        "\n",
        "    # Export inputs to NIfTI\n",
        "    scanFilename = os.path.join(modInputPath, f\"{fname}_scan_3D.nii.gz\")\n",
        "    planC.scan[procScanNum].save_nii(scanFilename)\n",
        "\n",
        "    numOrigStructs = len(planC.structure)\n",
        "\n",
        "    # Apply model\n",
        "    runScript = \"source \" + condaActivateScript + \" && python \" + wrapperPath \\\n",
        "                  + \" \" + modInputPath + \" \" + modOutputPath\n",
        "    print(runScript)\n",
        "    subprocess.run(runScript,\n",
        "                 capture_output=False,\n",
        "                  shell=True,\n",
        "                  executable=\"/bin/bash\")\n",
        "\n",
        "    # Import results to planC\n",
        "    planC = postProcAndImportSeg(modOutputPath,procScanNum,scanNum,planC)\n",
        "\n",
        "    numStructs = len(planC.structure)\n",
        "\n",
        "    # Export segmentations to DICOM\n",
        "    structFileName = fname + '_AI_seg_RTSTRUCT.dcm'\n",
        "    structFilePath = os.path.join(outputDicomPath,structFileName)\n",
        "    structNumV = np.arange(numOrigStructs, numStructs)\n",
        "    indOrigV = np.array([cerrScn.getScanNumFromUID(planC.structure[structNum].assocScanUID, planC) for structNum in structNumV], dtype=int)\n",
        "    origIndsToExportV = structNumV[indOrigV == scanNum]\n",
        "    seriesDescription = \"pyCERR CT_Heart_OAR AI-Generated\"\n",
        "    exportOpts = {'seriesDescription': seriesDescription}\n",
        "    rtstruct_iod.create(origIndsToExportV,structFilePath,planC,exportOpts)"
      ]
    },
    {
      "cell_type": "markdown",
      "metadata": {
        "id": "p9acQK9uMvc6"
      },
      "source": [
        "# Optional - Offload the `outputDicomPath` to GCP Workspace bucket"
      ]
    },
    {
      "cell_type": "code",
      "execution_count": null,
      "metadata": {
        "id": "W_TV3xhIMvc6"
      },
      "outputs": [],
      "source": [
        "# workspaceBucket = os.environ['WORKSPACE_BUCKET']\n",
        "# !gcloud storage cp -r {outputDicomPath} {workspaceBucket}"
      ]
    },
    {
      "cell_type": "markdown",
      "metadata": {
        "id": "iLzFp-l_sgcT"
      },
      "source": [
        "# Visualize results for the last CT scan using Napari Viewer"
      ]
    },
    {
      "cell_type": "markdown",
      "metadata": {
        "id": "L8FTwNqhsgcT"
      },
      "source": [
        "## Display using `matplotlib`"
      ]
    },
    {
      "cell_type": "code",
      "execution_count": 29,
      "metadata": {
        "id": "zJEkPNT6Mvc6",
        "outputId": "52fdc986-474f-401b-9e17-a4eb5322a0fd",
        "colab": {
          "base_uri": "https://localhost:8080/",
          "height": 888,
          "referenced_widgets": [
            "fbc1b530f3b745039bcd55170a598fd7",
            "d342adcd54884638833ba39554e7f244",
            "560f9096ec614fc29792956884069ac3",
            "aa853093a74a4d71a8e253fa7e262375",
            "af766008f8eb401fb7005235dd37e3e4",
            "449d4d9bc1d749f3b14069124fa1c99a",
            "2bd5116415d04727944a9fd0c6eee017",
            "2bd3e583f1db4282adb88a34aa654519",
            "e5362c04108d4518bce4cef9b0e8af6d",
            "5167727b3947421eb1740df90725932a",
            "b7187c706cfd4dc4a702d01fe4c34e13",
            "416f0540af454884b1fdda4eb9cef644",
            "13f4ca0b95424afd9a4f8e3c40776bc7",
            "320ccd9c768c45d1a077827be8ed2fa5",
            "f762ef6c650345cb94e06d1cae6bf4e5",
            "d1f5f199cc394d14a57d5d08318e37f1",
            "cf55e17ca55346ed86c368deb77a5082",
            "d7998193bc064fc1b4a618ab9815cdba",
            "3dcceb2f36804b64aa260ffaa542b974",
            "94ea143b890b44948d07069240ac136a",
            "60507c76f9a24d9192c9d399d9a6603c",
            "ce112641647942208abc7b9977e9f37c",
            "51df23feeda845a98d2c8e649b2502cb",
            "77c0cd6e02a042ec9c7ba0e6eddfc7b6",
            "d64fe61d58cf47b0a01ff356f6ebdc9b",
            "f334158828fc44d6bae4e1a00617ee27",
            "9eac2865db9841fcb11a5298be36882c",
            "563316237154422d8fb42ef6837a88df",
            "dfb16629f56e4ef898374b339feb48c2",
            "212bdd88927146d6a4faabb10bce63bb"
          ]
        }
      },
      "outputs": [
        {
          "output_type": "display_data",
          "data": {
            "text/plain": [
              "interactive(children=(IntSlider(value=48, description='slcNum', max=144, min=-48), Text(value='axial', descrip…"
            ],
            "application/vnd.jupyter.widget-view+json": {
              "version_major": 2,
              "version_minor": 0,
              "model_id": "fbc1b530f3b745039bcd55170a598fd7"
            }
          },
          "metadata": {}
        },
        {
          "output_type": "display_data",
          "data": {
            "text/plain": [
              "interactive(children=(IntSlider(value=256, description='slcNum', max=768, min=-256), Text(value='sagittal', de…"
            ],
            "application/vnd.jupyter.widget-view+json": {
              "version_major": 2,
              "version_minor": 0,
              "model_id": "b7187c706cfd4dc4a702d01fe4c34e13"
            }
          },
          "metadata": {}
        },
        {
          "output_type": "display_data",
          "data": {
            "text/plain": [
              "interactive(children=(IntSlider(value=256, description='slcNum', max=768, min=-256), Text(value='coronal', des…"
            ],
            "application/vnd.jupyter.widget-view+json": {
              "version_major": 2,
              "version_minor": 0,
              "model_id": "60507c76f9a24d9192c9d399d9a6603c"
            }
          },
          "metadata": {}
        }
      ],
      "source": [
        "from cerr.viewer import showMplNb\n",
        "\n",
        "showMplNb(scanNum, origIndsToExportV, planC,\\\n",
        "          windowCenter=-400, windowWidth=2000)"
      ]
    }
  ],
  "metadata": {
    "accelerator": "GPU",
    "colab": {
      "gpuType": "T4",
      "provenance": [],
      "include_colab_link": true
    },
    "kernelspec": {
      "display_name": "Python 3",
      "name": "python3"
    },
    "language_info": {
      "codemirror_mode": {
        "name": "ipython",
        "version": 3
      },
      "file_extension": ".py",
      "mimetype": "text/x-python",
      "name": "python",
      "nbconvert_exporter": "python",
      "pygments_lexer": "ipython3",
      "version": "3.11.8"
    },
    "toc": {
      "base_numbering": 1,
      "nav_menu": {},
      "number_sections": true,
      "sideBar": true,
      "skip_h1_title": false,
      "title_cell": "Table of Contents",
      "title_sidebar": "Contents",
      "toc_cell": false,
      "toc_position": {},
      "toc_section_display": true,
      "toc_window_display": false
    },
    "widgets": {
      "application/vnd.jupyter.widget-state+json": {
        "fbc1b530f3b745039bcd55170a598fd7": {
          "model_module": "@jupyter-widgets/controls",
          "model_name": "VBoxModel",
          "model_module_version": "1.5.0",
          "state": {
            "_dom_classes": [
              "widget-interact"
            ],
            "_model_module": "@jupyter-widgets/controls",
            "_model_module_version": "1.5.0",
            "_model_name": "VBoxModel",
            "_view_count": null,
            "_view_module": "@jupyter-widgets/controls",
            "_view_module_version": "1.5.0",
            "_view_name": "VBoxView",
            "box_style": "",
            "children": [
              "IPY_MODEL_d342adcd54884638833ba39554e7f244",
              "IPY_MODEL_560f9096ec614fc29792956884069ac3",
              "IPY_MODEL_aa853093a74a4d71a8e253fa7e262375"
            ],
            "layout": "IPY_MODEL_af766008f8eb401fb7005235dd37e3e4"
          }
        },
        "d342adcd54884638833ba39554e7f244": {
          "model_module": "@jupyter-widgets/controls",
          "model_name": "IntSliderModel",
          "model_module_version": "1.5.0",
          "state": {
            "_dom_classes": [],
            "_model_module": "@jupyter-widgets/controls",
            "_model_module_version": "1.5.0",
            "_model_name": "IntSliderModel",
            "_view_count": null,
            "_view_module": "@jupyter-widgets/controls",
            "_view_module_version": "1.5.0",
            "_view_name": "IntSliderView",
            "continuous_update": true,
            "description": "slcNum",
            "description_tooltip": null,
            "disabled": false,
            "layout": "IPY_MODEL_449d4d9bc1d749f3b14069124fa1c99a",
            "max": 144,
            "min": -48,
            "orientation": "horizontal",
            "readout": true,
            "readout_format": "d",
            "step": 1,
            "style": "IPY_MODEL_2bd5116415d04727944a9fd0c6eee017",
            "value": 48
          }
        },
        "560f9096ec614fc29792956884069ac3": {
          "model_module": "@jupyter-widgets/controls",
          "model_name": "TextModel",
          "model_module_version": "1.5.0",
          "state": {
            "_dom_classes": [],
            "_model_module": "@jupyter-widgets/controls",
            "_model_module_version": "1.5.0",
            "_model_name": "TextModel",
            "_view_count": null,
            "_view_module": "@jupyter-widgets/controls",
            "_view_module_version": "1.5.0",
            "_view_name": "TextView",
            "continuous_update": true,
            "description": "view",
            "description_tooltip": null,
            "disabled": false,
            "layout": "IPY_MODEL_2bd3e583f1db4282adb88a34aa654519",
            "placeholder": "​",
            "style": "IPY_MODEL_e5362c04108d4518bce4cef9b0e8af6d",
            "value": "axial"
          }
        },
        "aa853093a74a4d71a8e253fa7e262375": {
          "model_module": "@jupyter-widgets/output",
          "model_name": "OutputModel",
          "model_module_version": "1.0.0",
          "state": {
            "_dom_classes": [],
            "_model_module": "@jupyter-widgets/output",
            "_model_module_version": "1.0.0",
            "_model_name": "OutputModel",
            "_view_count": null,
            "_view_module": "@jupyter-widgets/output",
            "_view_module_version": "1.0.0",
            "_view_name": "OutputView",
            "layout": "IPY_MODEL_5167727b3947421eb1740df90725932a",
            "msg_id": "",
            "outputs": [
              {
                "output_type": "stream",
                "name": "stdout",
                "text": [
                  "axial view slice 48\n"
                ]
              },
              {
                "output_type": "display_data",
                "data": {
                  "text/plain": "<Figure size 640x480 with 2 Axes>",
                  "image/png": "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\n"
                },
                "metadata": {}
              }
            ]
          }
        },
        "af766008f8eb401fb7005235dd37e3e4": {
          "model_module": "@jupyter-widgets/base",
          "model_name": "LayoutModel",
          "model_module_version": "1.2.0",
          "state": {
            "_model_module": "@jupyter-widgets/base",
            "_model_module_version": "1.2.0",
            "_model_name": "LayoutModel",
            "_view_count": null,
            "_view_module": "@jupyter-widgets/base",
            "_view_module_version": "1.2.0",
            "_view_name": "LayoutView",
            "align_content": null,
            "align_items": null,
            "align_self": null,
            "border": null,
            "bottom": null,
            "display": null,
            "flex": null,
            "flex_flow": null,
            "grid_area": null,
            "grid_auto_columns": null,
            "grid_auto_flow": null,
            "grid_auto_rows": null,
            "grid_column": null,
            "grid_gap": null,
            "grid_row": null,
            "grid_template_areas": null,
            "grid_template_columns": null,
            "grid_template_rows": null,
            "height": null,
            "justify_content": null,
            "justify_items": null,
            "left": null,
            "margin": null,
            "max_height": null,
            "max_width": null,
            "min_height": null,
            "min_width": null,
            "object_fit": null,
            "object_position": null,
            "order": null,
            "overflow": null,
            "overflow_x": null,
            "overflow_y": null,
            "padding": null,
            "right": null,
            "top": null,
            "visibility": null,
            "width": null
          }
        },
        "449d4d9bc1d749f3b14069124fa1c99a": {
          "model_module": "@jupyter-widgets/base",
          "model_name": "LayoutModel",
          "model_module_version": "1.2.0",
          "state": {
            "_model_module": "@jupyter-widgets/base",
            "_model_module_version": "1.2.0",
            "_model_name": "LayoutModel",
            "_view_count": null,
            "_view_module": "@jupyter-widgets/base",
            "_view_module_version": "1.2.0",
            "_view_name": "LayoutView",
            "align_content": null,
            "align_items": null,
            "align_self": null,
            "border": null,
            "bottom": null,
            "display": null,
            "flex": null,
            "flex_flow": null,
            "grid_area": null,
            "grid_auto_columns": null,
            "grid_auto_flow": null,
            "grid_auto_rows": null,
            "grid_column": null,
            "grid_gap": null,
            "grid_row": null,
            "grid_template_areas": null,
            "grid_template_columns": null,
            "grid_template_rows": null,
            "height": null,
            "justify_content": null,
            "justify_items": null,
            "left": null,
            "margin": null,
            "max_height": null,
            "max_width": null,
            "min_height": null,
            "min_width": null,
            "object_fit": null,
            "object_position": null,
            "order": null,
            "overflow": null,
            "overflow_x": null,
            "overflow_y": null,
            "padding": null,
            "right": null,
            "top": null,
            "visibility": null,
            "width": null
          }
        },
        "2bd5116415d04727944a9fd0c6eee017": {
          "model_module": "@jupyter-widgets/controls",
          "model_name": "SliderStyleModel",
          "model_module_version": "1.5.0",
          "state": {
            "_model_module": "@jupyter-widgets/controls",
            "_model_module_version": "1.5.0",
            "_model_name": "SliderStyleModel",
            "_view_count": null,
            "_view_module": "@jupyter-widgets/base",
            "_view_module_version": "1.2.0",
            "_view_name": "StyleView",
            "description_width": "",
            "handle_color": null
          }
        },
        "2bd3e583f1db4282adb88a34aa654519": {
          "model_module": "@jupyter-widgets/base",
          "model_name": "LayoutModel",
          "model_module_version": "1.2.0",
          "state": {
            "_model_module": "@jupyter-widgets/base",
            "_model_module_version": "1.2.0",
            "_model_name": "LayoutModel",
            "_view_count": null,
            "_view_module": "@jupyter-widgets/base",
            "_view_module_version": "1.2.0",
            "_view_name": "LayoutView",
            "align_content": null,
            "align_items": null,
            "align_self": null,
            "border": null,
            "bottom": null,
            "display": null,
            "flex": null,
            "flex_flow": null,
            "grid_area": null,
            "grid_auto_columns": null,
            "grid_auto_flow": null,
            "grid_auto_rows": null,
            "grid_column": null,
            "grid_gap": null,
            "grid_row": null,
            "grid_template_areas": null,
            "grid_template_columns": null,
            "grid_template_rows": null,
            "height": null,
            "justify_content": null,
            "justify_items": null,
            "left": null,
            "margin": null,
            "max_height": null,
            "max_width": null,
            "min_height": null,
            "min_width": null,
            "object_fit": null,
            "object_position": null,
            "order": null,
            "overflow": null,
            "overflow_x": null,
            "overflow_y": null,
            "padding": null,
            "right": null,
            "top": null,
            "visibility": null,
            "width": null
          }
        },
        "e5362c04108d4518bce4cef9b0e8af6d": {
          "model_module": "@jupyter-widgets/controls",
          "model_name": "DescriptionStyleModel",
          "model_module_version": "1.5.0",
          "state": {
            "_model_module": "@jupyter-widgets/controls",
            "_model_module_version": "1.5.0",
            "_model_name": "DescriptionStyleModel",
            "_view_count": null,
            "_view_module": "@jupyter-widgets/base",
            "_view_module_version": "1.2.0",
            "_view_name": "StyleView",
            "description_width": ""
          }
        },
        "5167727b3947421eb1740df90725932a": {
          "model_module": "@jupyter-widgets/base",
          "model_name": "LayoutModel",
          "model_module_version": "1.2.0",
          "state": {
            "_model_module": "@jupyter-widgets/base",
            "_model_module_version": "1.2.0",
            "_model_name": "LayoutModel",
            "_view_count": null,
            "_view_module": "@jupyter-widgets/base",
            "_view_module_version": "1.2.0",
            "_view_name": "LayoutView",
            "align_content": null,
            "align_items": null,
            "align_self": null,
            "border": null,
            "bottom": null,
            "display": null,
            "flex": null,
            "flex_flow": null,
            "grid_area": null,
            "grid_auto_columns": null,
            "grid_auto_flow": null,
            "grid_auto_rows": null,
            "grid_column": null,
            "grid_gap": null,
            "grid_row": null,
            "grid_template_areas": null,
            "grid_template_columns": null,
            "grid_template_rows": null,
            "height": null,
            "justify_content": null,
            "justify_items": null,
            "left": null,
            "margin": null,
            "max_height": null,
            "max_width": null,
            "min_height": null,
            "min_width": null,
            "object_fit": null,
            "object_position": null,
            "order": null,
            "overflow": null,
            "overflow_x": null,
            "overflow_y": null,
            "padding": null,
            "right": null,
            "top": null,
            "visibility": null,
            "width": null
          }
        },
        "b7187c706cfd4dc4a702d01fe4c34e13": {
          "model_module": "@jupyter-widgets/controls",
          "model_name": "VBoxModel",
          "model_module_version": "1.5.0",
          "state": {
            "_dom_classes": [
              "widget-interact"
            ],
            "_model_module": "@jupyter-widgets/controls",
            "_model_module_version": "1.5.0",
            "_model_name": "VBoxModel",
            "_view_count": null,
            "_view_module": "@jupyter-widgets/controls",
            "_view_module_version": "1.5.0",
            "_view_name": "VBoxView",
            "box_style": "",
            "children": [
              "IPY_MODEL_416f0540af454884b1fdda4eb9cef644",
              "IPY_MODEL_13f4ca0b95424afd9a4f8e3c40776bc7",
              "IPY_MODEL_320ccd9c768c45d1a077827be8ed2fa5"
            ],
            "layout": "IPY_MODEL_f762ef6c650345cb94e06d1cae6bf4e5"
          }
        },
        "416f0540af454884b1fdda4eb9cef644": {
          "model_module": "@jupyter-widgets/controls",
          "model_name": "IntSliderModel",
          "model_module_version": "1.5.0",
          "state": {
            "_dom_classes": [],
            "_model_module": "@jupyter-widgets/controls",
            "_model_module_version": "1.5.0",
            "_model_name": "IntSliderModel",
            "_view_count": null,
            "_view_module": "@jupyter-widgets/controls",
            "_view_module_version": "1.5.0",
            "_view_name": "IntSliderView",
            "continuous_update": true,
            "description": "slcNum",
            "description_tooltip": null,
            "disabled": false,
            "layout": "IPY_MODEL_d1f5f199cc394d14a57d5d08318e37f1",
            "max": 768,
            "min": -256,
            "orientation": "horizontal",
            "readout": true,
            "readout_format": "d",
            "step": 1,
            "style": "IPY_MODEL_cf55e17ca55346ed86c368deb77a5082",
            "value": 256
          }
        },
        "13f4ca0b95424afd9a4f8e3c40776bc7": {
          "model_module": "@jupyter-widgets/controls",
          "model_name": "TextModel",
          "model_module_version": "1.5.0",
          "state": {
            "_dom_classes": [],
            "_model_module": "@jupyter-widgets/controls",
            "_model_module_version": "1.5.0",
            "_model_name": "TextModel",
            "_view_count": null,
            "_view_module": "@jupyter-widgets/controls",
            "_view_module_version": "1.5.0",
            "_view_name": "TextView",
            "continuous_update": true,
            "description": "view",
            "description_tooltip": null,
            "disabled": false,
            "layout": "IPY_MODEL_d7998193bc064fc1b4a618ab9815cdba",
            "placeholder": "​",
            "style": "IPY_MODEL_3dcceb2f36804b64aa260ffaa542b974",
            "value": "sagittal"
          }
        },
        "320ccd9c768c45d1a077827be8ed2fa5": {
          "model_module": "@jupyter-widgets/output",
          "model_name": "OutputModel",
          "model_module_version": "1.0.0",
          "state": {
            "_dom_classes": [],
            "_model_module": "@jupyter-widgets/output",
            "_model_module_version": "1.0.0",
            "_model_name": "OutputModel",
            "_view_count": null,
            "_view_module": "@jupyter-widgets/output",
            "_view_module_version": "1.0.0",
            "_view_name": "OutputView",
            "layout": "IPY_MODEL_94ea143b890b44948d07069240ac136a",
            "msg_id": "",
            "outputs": [
              {
                "output_type": "stream",
                "name": "stdout",
                "text": [
                  "sagittal view slice 256\n"
                ]
              },
              {
                "output_type": "display_data",
                "data": {
                  "text/plain": "<Figure size 1000x1000 with 2 Axes>",
                  "image/png": "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\n"
                },
                "metadata": {}
              }
            ]
          }
        },
        "f762ef6c650345cb94e06d1cae6bf4e5": {
          "model_module": "@jupyter-widgets/base",
          "model_name": "LayoutModel",
          "model_module_version": "1.2.0",
          "state": {
            "_model_module": "@jupyter-widgets/base",
            "_model_module_version": "1.2.0",
            "_model_name": "LayoutModel",
            "_view_count": null,
            "_view_module": "@jupyter-widgets/base",
            "_view_module_version": "1.2.0",
            "_view_name": "LayoutView",
            "align_content": null,
            "align_items": null,
            "align_self": null,
            "border": null,
            "bottom": null,
            "display": null,
            "flex": null,
            "flex_flow": null,
            "grid_area": null,
            "grid_auto_columns": null,
            "grid_auto_flow": null,
            "grid_auto_rows": null,
            "grid_column": null,
            "grid_gap": null,
            "grid_row": null,
            "grid_template_areas": null,
            "grid_template_columns": null,
            "grid_template_rows": null,
            "height": null,
            "justify_content": null,
            "justify_items": null,
            "left": null,
            "margin": null,
            "max_height": null,
            "max_width": null,
            "min_height": null,
            "min_width": null,
            "object_fit": null,
            "object_position": null,
            "order": null,
            "overflow": null,
            "overflow_x": null,
            "overflow_y": null,
            "padding": null,
            "right": null,
            "top": null,
            "visibility": null,
            "width": null
          }
        },
        "d1f5f199cc394d14a57d5d08318e37f1": {
          "model_module": "@jupyter-widgets/base",
          "model_name": "LayoutModel",
          "model_module_version": "1.2.0",
          "state": {
            "_model_module": "@jupyter-widgets/base",
            "_model_module_version": "1.2.0",
            "_model_name": "LayoutModel",
            "_view_count": null,
            "_view_module": "@jupyter-widgets/base",
            "_view_module_version": "1.2.0",
            "_view_name": "LayoutView",
            "align_content": null,
            "align_items": null,
            "align_self": null,
            "border": null,
            "bottom": null,
            "display": null,
            "flex": null,
            "flex_flow": null,
            "grid_area": null,
            "grid_auto_columns": null,
            "grid_auto_flow": null,
            "grid_auto_rows": null,
            "grid_column": null,
            "grid_gap": null,
            "grid_row": null,
            "grid_template_areas": null,
            "grid_template_columns": null,
            "grid_template_rows": null,
            "height": null,
            "justify_content": null,
            "justify_items": null,
            "left": null,
            "margin": null,
            "max_height": null,
            "max_width": null,
            "min_height": null,
            "min_width": null,
            "object_fit": null,
            "object_position": null,
            "order": null,
            "overflow": null,
            "overflow_x": null,
            "overflow_y": null,
            "padding": null,
            "right": null,
            "top": null,
            "visibility": null,
            "width": null
          }
        },
        "cf55e17ca55346ed86c368deb77a5082": {
          "model_module": "@jupyter-widgets/controls",
          "model_name": "SliderStyleModel",
          "model_module_version": "1.5.0",
          "state": {
            "_model_module": "@jupyter-widgets/controls",
            "_model_module_version": "1.5.0",
            "_model_name": "SliderStyleModel",
            "_view_count": null,
            "_view_module": "@jupyter-widgets/base",
            "_view_module_version": "1.2.0",
            "_view_name": "StyleView",
            "description_width": "",
            "handle_color": null
          }
        },
        "d7998193bc064fc1b4a618ab9815cdba": {
          "model_module": "@jupyter-widgets/base",
          "model_name": "LayoutModel",
          "model_module_version": "1.2.0",
          "state": {
            "_model_module": "@jupyter-widgets/base",
            "_model_module_version": "1.2.0",
            "_model_name": "LayoutModel",
            "_view_count": null,
            "_view_module": "@jupyter-widgets/base",
            "_view_module_version": "1.2.0",
            "_view_name": "LayoutView",
            "align_content": null,
            "align_items": null,
            "align_self": null,
            "border": null,
            "bottom": null,
            "display": null,
            "flex": null,
            "flex_flow": null,
            "grid_area": null,
            "grid_auto_columns": null,
            "grid_auto_flow": null,
            "grid_auto_rows": null,
            "grid_column": null,
            "grid_gap": null,
            "grid_row": null,
            "grid_template_areas": null,
            "grid_template_columns": null,
            "grid_template_rows": null,
            "height": null,
            "justify_content": null,
            "justify_items": null,
            "left": null,
            "margin": null,
            "max_height": null,
            "max_width": null,
            "min_height": null,
            "min_width": null,
            "object_fit": null,
            "object_position": null,
            "order": null,
            "overflow": null,
            "overflow_x": null,
            "overflow_y": null,
            "padding": null,
            "right": null,
            "top": null,
            "visibility": null,
            "width": null
          }
        },
        "3dcceb2f36804b64aa260ffaa542b974": {
          "model_module": "@jupyter-widgets/controls",
          "model_name": "DescriptionStyleModel",
          "model_module_version": "1.5.0",
          "state": {
            "_model_module": "@jupyter-widgets/controls",
            "_model_module_version": "1.5.0",
            "_model_name": "DescriptionStyleModel",
            "_view_count": null,
            "_view_module": "@jupyter-widgets/base",
            "_view_module_version": "1.2.0",
            "_view_name": "StyleView",
            "description_width": ""
          }
        },
        "94ea143b890b44948d07069240ac136a": {
          "model_module": "@jupyter-widgets/base",
          "model_name": "LayoutModel",
          "model_module_version": "1.2.0",
          "state": {
            "_model_module": "@jupyter-widgets/base",
            "_model_module_version": "1.2.0",
            "_model_name": "LayoutModel",
            "_view_count": null,
            "_view_module": "@jupyter-widgets/base",
            "_view_module_version": "1.2.0",
            "_view_name": "LayoutView",
            "align_content": null,
            "align_items": null,
            "align_self": null,
            "border": null,
            "bottom": null,
            "display": null,
            "flex": null,
            "flex_flow": null,
            "grid_area": null,
            "grid_auto_columns": null,
            "grid_auto_flow": null,
            "grid_auto_rows": null,
            "grid_column": null,
            "grid_gap": null,
            "grid_row": null,
            "grid_template_areas": null,
            "grid_template_columns": null,
            "grid_template_rows": null,
            "height": null,
            "justify_content": null,
            "justify_items": null,
            "left": null,
            "margin": null,
            "max_height": null,
            "max_width": null,
            "min_height": null,
            "min_width": null,
            "object_fit": null,
            "object_position": null,
            "order": null,
            "overflow": null,
            "overflow_x": null,
            "overflow_y": null,
            "padding": null,
            "right": null,
            "top": null,
            "visibility": null,
            "width": null
          }
        },
        "60507c76f9a24d9192c9d399d9a6603c": {
          "model_module": "@jupyter-widgets/controls",
          "model_name": "VBoxModel",
          "model_module_version": "1.5.0",
          "state": {
            "_dom_classes": [
              "widget-interact"
            ],
            "_model_module": "@jupyter-widgets/controls",
            "_model_module_version": "1.5.0",
            "_model_name": "VBoxModel",
            "_view_count": null,
            "_view_module": "@jupyter-widgets/controls",
            "_view_module_version": "1.5.0",
            "_view_name": "VBoxView",
            "box_style": "",
            "children": [
              "IPY_MODEL_ce112641647942208abc7b9977e9f37c",
              "IPY_MODEL_51df23feeda845a98d2c8e649b2502cb",
              "IPY_MODEL_77c0cd6e02a042ec9c7ba0e6eddfc7b6"
            ],
            "layout": "IPY_MODEL_d64fe61d58cf47b0a01ff356f6ebdc9b"
          }
        },
        "ce112641647942208abc7b9977e9f37c": {
          "model_module": "@jupyter-widgets/controls",
          "model_name": "IntSliderModel",
          "model_module_version": "1.5.0",
          "state": {
            "_dom_classes": [],
            "_model_module": "@jupyter-widgets/controls",
            "_model_module_version": "1.5.0",
            "_model_name": "IntSliderModel",
            "_view_count": null,
            "_view_module": "@jupyter-widgets/controls",
            "_view_module_version": "1.5.0",
            "_view_name": "IntSliderView",
            "continuous_update": true,
            "description": "slcNum",
            "description_tooltip": null,
            "disabled": false,
            "layout": "IPY_MODEL_f334158828fc44d6bae4e1a00617ee27",
            "max": 768,
            "min": -256,
            "orientation": "horizontal",
            "readout": true,
            "readout_format": "d",
            "step": 1,
            "style": "IPY_MODEL_9eac2865db9841fcb11a5298be36882c",
            "value": 256
          }
        },
        "51df23feeda845a98d2c8e649b2502cb": {
          "model_module": "@jupyter-widgets/controls",
          "model_name": "TextModel",
          "model_module_version": "1.5.0",
          "state": {
            "_dom_classes": [],
            "_model_module": "@jupyter-widgets/controls",
            "_model_module_version": "1.5.0",
            "_model_name": "TextModel",
            "_view_count": null,
            "_view_module": "@jupyter-widgets/controls",
            "_view_module_version": "1.5.0",
            "_view_name": "TextView",
            "continuous_update": true,
            "description": "view",
            "description_tooltip": null,
            "disabled": false,
            "layout": "IPY_MODEL_563316237154422d8fb42ef6837a88df",
            "placeholder": "​",
            "style": "IPY_MODEL_dfb16629f56e4ef898374b339feb48c2",
            "value": "coronal"
          }
        },
        "77c0cd6e02a042ec9c7ba0e6eddfc7b6": {
          "model_module": "@jupyter-widgets/output",
          "model_name": "OutputModel",
          "model_module_version": "1.0.0",
          "state": {
            "_dom_classes": [],
            "_model_module": "@jupyter-widgets/output",
            "_model_module_version": "1.0.0",
            "_model_name": "OutputModel",
            "_view_count": null,
            "_view_module": "@jupyter-widgets/output",
            "_view_module_version": "1.0.0",
            "_view_name": "OutputView",
            "layout": "IPY_MODEL_212bdd88927146d6a4faabb10bce63bb",
            "msg_id": "",
            "outputs": [
              {
                "output_type": "stream",
                "name": "stdout",
                "text": [
                  "coronal view slice 256\n"
                ]
              },
              {
                "output_type": "display_data",
                "data": {
                  "text/plain": "<Figure size 1000x1000 with 2 Axes>",
                  "image/png": "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\n"
                },
                "metadata": {}
              }
            ]
          }
        },
        "d64fe61d58cf47b0a01ff356f6ebdc9b": {
          "model_module": "@jupyter-widgets/base",
          "model_name": "LayoutModel",
          "model_module_version": "1.2.0",
          "state": {
            "_model_module": "@jupyter-widgets/base",
            "_model_module_version": "1.2.0",
            "_model_name": "LayoutModel",
            "_view_count": null,
            "_view_module": "@jupyter-widgets/base",
            "_view_module_version": "1.2.0",
            "_view_name": "LayoutView",
            "align_content": null,
            "align_items": null,
            "align_self": null,
            "border": null,
            "bottom": null,
            "display": null,
            "flex": null,
            "flex_flow": null,
            "grid_area": null,
            "grid_auto_columns": null,
            "grid_auto_flow": null,
            "grid_auto_rows": null,
            "grid_column": null,
            "grid_gap": null,
            "grid_row": null,
            "grid_template_areas": null,
            "grid_template_columns": null,
            "grid_template_rows": null,
            "height": null,
            "justify_content": null,
            "justify_items": null,
            "left": null,
            "margin": null,
            "max_height": null,
            "max_width": null,
            "min_height": null,
            "min_width": null,
            "object_fit": null,
            "object_position": null,
            "order": null,
            "overflow": null,
            "overflow_x": null,
            "overflow_y": null,
            "padding": null,
            "right": null,
            "top": null,
            "visibility": null,
            "width": null
          }
        },
        "f334158828fc44d6bae4e1a00617ee27": {
          "model_module": "@jupyter-widgets/base",
          "model_name": "LayoutModel",
          "model_module_version": "1.2.0",
          "state": {
            "_model_module": "@jupyter-widgets/base",
            "_model_module_version": "1.2.0",
            "_model_name": "LayoutModel",
            "_view_count": null,
            "_view_module": "@jupyter-widgets/base",
            "_view_module_version": "1.2.0",
            "_view_name": "LayoutView",
            "align_content": null,
            "align_items": null,
            "align_self": null,
            "border": null,
            "bottom": null,
            "display": null,
            "flex": null,
            "flex_flow": null,
            "grid_area": null,
            "grid_auto_columns": null,
            "grid_auto_flow": null,
            "grid_auto_rows": null,
            "grid_column": null,
            "grid_gap": null,
            "grid_row": null,
            "grid_template_areas": null,
            "grid_template_columns": null,
            "grid_template_rows": null,
            "height": null,
            "justify_content": null,
            "justify_items": null,
            "left": null,
            "margin": null,
            "max_height": null,
            "max_width": null,
            "min_height": null,
            "min_width": null,
            "object_fit": null,
            "object_position": null,
            "order": null,
            "overflow": null,
            "overflow_x": null,
            "overflow_y": null,
            "padding": null,
            "right": null,
            "top": null,
            "visibility": null,
            "width": null
          }
        },
        "9eac2865db9841fcb11a5298be36882c": {
          "model_module": "@jupyter-widgets/controls",
          "model_name": "SliderStyleModel",
          "model_module_version": "1.5.0",
          "state": {
            "_model_module": "@jupyter-widgets/controls",
            "_model_module_version": "1.5.0",
            "_model_name": "SliderStyleModel",
            "_view_count": null,
            "_view_module": "@jupyter-widgets/base",
            "_view_module_version": "1.2.0",
            "_view_name": "StyleView",
            "description_width": "",
            "handle_color": null
          }
        },
        "563316237154422d8fb42ef6837a88df": {
          "model_module": "@jupyter-widgets/base",
          "model_name": "LayoutModel",
          "model_module_version": "1.2.0",
          "state": {
            "_model_module": "@jupyter-widgets/base",
            "_model_module_version": "1.2.0",
            "_model_name": "LayoutModel",
            "_view_count": null,
            "_view_module": "@jupyter-widgets/base",
            "_view_module_version": "1.2.0",
            "_view_name": "LayoutView",
            "align_content": null,
            "align_items": null,
            "align_self": null,
            "border": null,
            "bottom": null,
            "display": null,
            "flex": null,
            "flex_flow": null,
            "grid_area": null,
            "grid_auto_columns": null,
            "grid_auto_flow": null,
            "grid_auto_rows": null,
            "grid_column": null,
            "grid_gap": null,
            "grid_row": null,
            "grid_template_areas": null,
            "grid_template_columns": null,
            "grid_template_rows": null,
            "height": null,
            "justify_content": null,
            "justify_items": null,
            "left": null,
            "margin": null,
            "max_height": null,
            "max_width": null,
            "min_height": null,
            "min_width": null,
            "object_fit": null,
            "object_position": null,
            "order": null,
            "overflow": null,
            "overflow_x": null,
            "overflow_y": null,
            "padding": null,
            "right": null,
            "top": null,
            "visibility": null,
            "width": null
          }
        },
        "dfb16629f56e4ef898374b339feb48c2": {
          "model_module": "@jupyter-widgets/controls",
          "model_name": "DescriptionStyleModel",
          "model_module_version": "1.5.0",
          "state": {
            "_model_module": "@jupyter-widgets/controls",
            "_model_module_version": "1.5.0",
            "_model_name": "DescriptionStyleModel",
            "_view_count": null,
            "_view_module": "@jupyter-widgets/base",
            "_view_module_version": "1.2.0",
            "_view_name": "StyleView",
            "description_width": ""
          }
        },
        "212bdd88927146d6a4faabb10bce63bb": {
          "model_module": "@jupyter-widgets/base",
          "model_name": "LayoutModel",
          "model_module_version": "1.2.0",
          "state": {
            "_model_module": "@jupyter-widgets/base",
            "_model_module_version": "1.2.0",
            "_model_name": "LayoutModel",
            "_view_count": null,
            "_view_module": "@jupyter-widgets/base",
            "_view_module_version": "1.2.0",
            "_view_name": "LayoutView",
            "align_content": null,
            "align_items": null,
            "align_self": null,
            "border": null,
            "bottom": null,
            "display": null,
            "flex": null,
            "flex_flow": null,
            "grid_area": null,
            "grid_auto_columns": null,
            "grid_auto_flow": null,
            "grid_auto_rows": null,
            "grid_column": null,
            "grid_gap": null,
            "grid_row": null,
            "grid_template_areas": null,
            "grid_template_columns": null,
            "grid_template_rows": null,
            "height": null,
            "justify_content": null,
            "justify_items": null,
            "left": null,
            "margin": null,
            "max_height": null,
            "max_width": null,
            "min_height": null,
            "min_width": null,
            "object_fit": null,
            "object_position": null,
            "order": null,
            "overflow": null,
            "overflow_x": null,
            "overflow_y": null,
            "padding": null,
            "right": null,
            "top": null,
            "visibility": null,
            "width": null
          }
        }
      }
    }
  },
  "nbformat": 4,
  "nbformat_minor": 0
}