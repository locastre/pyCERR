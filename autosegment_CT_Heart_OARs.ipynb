{
  "cells": [
    {
      "cell_type": "markdown",
      "metadata": {
        "id": "view-in-github",
        "colab_type": "text"
      },
      "source": [
        "<a href=\"https://colab.research.google.com/github/locastre/pyCERR/blob/main/autosegment_CT_Heart_OARs.ipynb\" target=\"_parent\"><img src=\"https://colab.research.google.com/assets/colab-badge.svg\" alt=\"Open In Colab\"/></a>"
      ]
    },
    {
      "cell_type": "markdown",
      "metadata": {
        "id": "kNoydh-RsgcD"
      },
      "source": [
        "# Introduction\n",
        "\n",
        "In this tutorial, we will demonstrate how to apply a pre-trained AI model to segment the Heart sub-structures on a lung CT scan using pyCERR.\n",
        "\n",
        "## Requirements\n",
        "* Python>=3.8\n",
        "* Applying this model requires access to a GPU.  \n",
        "\n",
        "## AI model\n",
        "* The segmentation model was trained and validated on CT scans used for RT planning. It does not work optimally on diagnostic CTs or scans in positions other than Head First Supine.\n",
        "* The trained model is distributed along with python libraries and other dependencies via a conda package.\n",
        "\n",
        "### Running the model\n",
        "\n",
        "Update locations of input data and model directorues in section 2 of this notebook.\n",
        "* Conda packge is location: condaEnvDir\n",
        "* Inference script location: wrapperPath\n",
        "* Inference script args\n",
        "```python\n",
        "!python {wrapperPath} {input_nii_directory} {output_nii_directory}\n",
        "```\n",
        "\n",
        "### License\n",
        "By downloading the software you are agreeing to the following terms and conditions as well as to the Terms of Use of CERR software.\n",
        "\n",
        "THE SOFTWARE IS PROVIDED \"AS IS\" AND CERR DEVELOPMENT TEAM AND ITS COLLABORATORS DO NOT MAKE ANY WARRANTY, EXPRESS OR IMPLIED, INCLUDING BUT NOT LIMITED TO WARRANTIES OF MERCHANTABILITY AND FITNESS FOR A PARTICULAR PURPOSE, NOR DO THEY ASSUME ANY LIABILITY OR RESPONSIBILITY FOR THE USE OF THIS SOFTWARE.\n",
        "    \n",
        "This software is for research purposes only and has not been approved for clinical use.\n",
        "\n",
        "Software has not been reviewed or approved by the Food and Drug Administration, and is for non-clinical, IRB-approved Research Use Only. In no event shall data or images generated through the use of the Software be used in the provision of patient care.\n",
        "\n",
        "You may publish papers and books using results produced using software provided that you reference the appropriate citations:\n",
        "*  Heart sub-structures model: https://doi.org/10.1016/j.phro.2020.05.009\n",
        "*  CERR library of model implementations: https://doi.org/10.1016/j.ejmp.2020.04.011\n",
        "*  CERR software: https://doi.org/10.1118/1.1568978\n",
        "*  CERR radiomics: https://doi.org/10.1002/mp.13046\n",
        "\n",
        "\n",
        "YOU MAY NOT DISTRIBUTE COPIES of this software, or copies of software derived from this software, to others outside your organization without specific prior written permission from the CERR development team except where noted for specific software products.\n",
        "\n",
        "All Technology and technical data delivered under this Agreement are subject to US export control laws and may be subject to export or import regulations in other countries. You agree to comply strictly with all such laws and regulations and acknowledge that you have the responsibility to obtain such licenses to export, re-export, or import as may be required after delivery to you.\n",
        "\n"
      ]
    },
    {
      "cell_type": "markdown",
      "metadata": {
        "id": "uKyePuucYlbA"
      },
      "source": [
        "# Downloads"
      ]
    },
    {
      "cell_type": "markdown",
      "metadata": {
        "id": "Bo2uAuSxYlbB"
      },
      "source": [
        "## Download planning CT DICOM from ***dataUrl*** to ***dataDownloadDir***"
      ]
    },
    {
      "cell_type": "code",
      "execution_count": 1,
      "metadata": {
        "id": "-B-XrWTGa4sG"
      },
      "outputs": [],
      "source": [
        "import os\n",
        "#workDir = r'/home/jupyter' # r'/content' for Colab\n",
        "workDir = r'/content'\n",
        "dataDownloadDir = os.path.join(workDir,'sampleData','testPlanningCTdicom')\n",
        "os.makedirs(dataDownloadDir,exist_ok=True)"
      ]
    },
    {
      "cell_type": "code",
      "execution_count": null,
      "metadata": {
        "id": "z3ucdyu0YlbB"
      },
      "outputs": [],
      "source": [
        "dataUrl='http://path.to/data'\n",
        "! wget -O sampleData.gz -L {dataUrl}\n",
        "! tar xf sampleData.gz -C {dataDownloadDir}\n",
        "! rm sampleData.gz"
      ]
    },
    {
      "cell_type": "markdown",
      "metadata": {
        "id": "WSpNk-BrYlbD"
      },
      "source": [
        "##  Define paths for input DICOM, output segmentation and session directories\n",
        "\n",
        "Specify paths to the DICOM input data, desired output directory, and temporary (session) directory used to store intermediate results. The input data is structures such that DICOM per patient scan is in an individual directory.\n",
        "\n",
        "&nbsp;&nbsp;Input Directory  \n",
        "&nbsp;&nbsp;&nbsp;&nbsp;Pat1  \n",
        "&nbsp;&nbsp;&nbsp;&nbsp;&nbsp;&nbsp;&nbsp;img1.dcm  \n",
        "&nbsp;&nbsp;&nbsp;&nbsp;&nbsp;&nbsp;&nbsp;img2.dcm  \n",
        "&nbsp;&nbsp;&nbsp;&nbsp;&nbsp;&nbsp;&nbsp;....  \n",
        "&nbsp;&nbsp;&nbsp;&nbsp;&nbsp;&nbsp;&nbsp;....  \n",
        "&nbsp;&nbsp;&nbsp;&nbsp;Pat2  \n",
        "&nbsp;&nbsp;&nbsp;&nbsp;&nbsp;&nbsp;&nbsp;img1.dcm  \n",
        "&nbsp;&nbsp;&nbsp;&nbsp;&nbsp;&nbsp;&nbsp;img2.dcm  \n",
        "&nbsp;&nbsp;&nbsp;&nbsp;&nbsp;&nbsp;&nbsp;....  \n",
        "&nbsp;&nbsp;&nbsp;&nbsp;&nbsp;&nbsp;&nbsp;....  "
      ]
    },
    {
      "cell_type": "code",
      "execution_count": 2,
      "metadata": {
        "id": "W1PBqiDCYlbD"
      },
      "outputs": [],
      "source": [
        "#Paths to input data and conda env with pre-trained models\n",
        "#inputDicomPath = os.path.join(dataDownloadDir,'rtog-0617','0617_test')  # Replace with apropriate path to your dataset\n",
        "inputDicomPath = os.path.join(dataDownloadDir,'0617_test')\n",
        "outputDicomPath = os.path.join(workDir, 'AIoutput')\n",
        "sessionPath = os.path.join(workDir, 'temp')\n",
        "\n",
        "if not os.path.exists(outputDicomPath):\n",
        "  os.mkdir(outputDicomPath)\n",
        "\n",
        "if not os.path.exists(sessionPath):\n",
        "  os.mkdir(sessionPath)\n"
      ]
    },
    {
      "cell_type": "code",
      "source": [
        "!pip install pyxnat\n",
        "from pyxnat import Interface\n",
        "import urllib3\n",
        "urllib3.disable_warnings()\n",
        "xhost = 'https://pixnat.mskcc.org'\n",
        "xnat = Interface(xhost,'locastre',verify=False)\n",
        "proj = 'RTOG0617'\n",
        "subj = 'SPI_XNAT_S00196'\n",
        "exp = 'SPI_XNAT_E00348'\n",
        "scan = '1'\n",
        "os.makedirs('/scratch/',exist_ok=True)\n",
        "xnat.select.project(proj).subject(subj).experiment(exp).scan(scan).resource('DICOM').get('/scratch',extract=True)"
      ],
      "metadata": {
        "id": "BYFKbpOckVi8",
        "outputId": "94ca0057-7793-4308-f6b2-e47c41d58031",
        "colab": {
          "base_uri": "https://localhost:8080/"
        }
      },
      "execution_count": 14,
      "outputs": [
        {
          "name": "stdout",
          "output_type": "stream",
          "text": [
            "Collecting pyxnat\n",
            "  Downloading pyxnat-1.6.2-py3-none-any.whl (95 kB)\n",
            "\u001b[?25l     \u001b[90m━━━━━━━━━━━━━━━━━━━━━━━━━━━━━━━━━━━━━━━━\u001b[0m \u001b[32m0.0/95.6 kB\u001b[0m \u001b[31m?\u001b[0m eta \u001b[36m-:--:--\u001b[0m\r\u001b[2K     \u001b[90m━━━━━━━━━━━━━━━━━━━━━━━━━━━━━━━━━━━━━━━━\u001b[0m \u001b[32m95.6/95.6 kB\u001b[0m \u001b[31m3.2 MB/s\u001b[0m eta \u001b[36m0:00:00\u001b[0m\n",
            "\u001b[?25hRequirement already satisfied: lxml>=4.3 in /usr/local/lib/python3.10/dist-packages (from pyxnat) (4.9.4)\n",
            "Requirement already satisfied: requests>=2.20 in /usr/local/lib/python3.10/dist-packages (from pyxnat) (2.31.0)\n",
            "Requirement already satisfied: pathlib>=1.0 in /usr/local/lib/python3.10/dist-packages (from pyxnat) (1.0.1)\n",
            "Requirement already satisfied: charset-normalizer<4,>=2 in /usr/local/lib/python3.10/dist-packages (from requests>=2.20->pyxnat) (3.3.2)\n",
            "Requirement already satisfied: idna<4,>=2.5 in /usr/local/lib/python3.10/dist-packages (from requests>=2.20->pyxnat) (3.7)\n",
            "Requirement already satisfied: urllib3<3,>=1.21.1 in /usr/local/lib/python3.10/dist-packages (from requests>=2.20->pyxnat) (2.0.7)\n",
            "Requirement already satisfied: certifi>=2017.4.17 in /usr/local/lib/python3.10/dist-packages (from requests>=2.20->pyxnat) (2024.6.2)\n",
            "Installing collected packages: pyxnat\n",
            "Successfully installed pyxnat-1.6.2\n",
            "··········\n"
          ]
        },
        {
          "output_type": "execute_result",
          "data": {
            "text/plain": [
              "['/scratch/DICOM/1.3.6.1.4.1.14519.5.2.1.6329.6468.109218621610560682044382179111-1-12-f14nrv.dcm',\n",
              " '/scratch/DICOM/1.3.6.1.4.1.14519.5.2.1.6329.6468.109218621610560682044382179111-1-15-1jgb3ms.dcm',\n",
              " '/scratch/DICOM/1.3.6.1.4.1.14519.5.2.1.6329.6468.109218621610560682044382179111-1-29-k8nzzo.dcm',\n",
              " '/scratch/DICOM/1.3.6.1.4.1.14519.5.2.1.6329.6468.109218621610560682044382179111-1-39-3c8r7a.dcm',\n",
              " '/scratch/DICOM/1.3.6.1.4.1.14519.5.2.1.6329.6468.109218621610560682044382179111-1-40-155ln4r.dcm',\n",
              " '/scratch/DICOM/1.3.6.1.4.1.14519.5.2.1.6329.6468.109218621610560682044382179111-1-73-11hqmsm.dcm',\n",
              " '/scratch/DICOM/1.3.6.1.4.1.14519.5.2.1.6329.6468.109218621610560682044382179111-1-5-1f3qnjo.dcm',\n",
              " '/scratch/DICOM/1.3.6.1.4.1.14519.5.2.1.6329.6468.109218621610560682044382179111-1-76-twa34a.dcm',\n",
              " '/scratch/DICOM/1.3.6.1.4.1.14519.5.2.1.6329.6468.109218621610560682044382179111-1-44-192hv39.dcm',\n",
              " '/scratch/DICOM/1.3.6.1.4.1.14519.5.2.1.6329.6468.109218621610560682044382179111-1-53-v3z5vs.dcm',\n",
              " '/scratch/DICOM/1.3.6.1.4.1.14519.5.2.1.6329.6468.109218621610560682044382179111-1-64-88rrvo.dcm',\n",
              " '/scratch/DICOM/1.3.6.1.4.1.14519.5.2.1.6329.6468.109218621610560682044382179111-1-34-29oqmh.dcm',\n",
              " '/scratch/DICOM/1.3.6.1.4.1.14519.5.2.1.6329.6468.109218621610560682044382179111-1-49-1f35wb8.dcm',\n",
              " '/scratch/DICOM/1.3.6.1.4.1.14519.5.2.1.6329.6468.109218621610560682044382179111-1-58-7gj0b1.dcm',\n",
              " '/scratch/DICOM/1.3.6.1.4.1.14519.5.2.1.6329.6468.109218621610560682044382179111-1-59-x5tmwa.dcm',\n",
              " '/scratch/DICOM/1.3.6.1.4.1.14519.5.2.1.6329.6468.109218621610560682044382179111-1-87-4apar0.dcm',\n",
              " '/scratch/DICOM/1.3.6.1.4.1.14519.5.2.1.6329.6468.109218621610560682044382179111-1-45-1cncsqf.dcm',\n",
              " '/scratch/DICOM/1.3.6.1.4.1.14519.5.2.1.6329.6468.109218621610560682044382179111-1-86-1n73rb9.dcm',\n",
              " '/scratch/DICOM/1.3.6.1.4.1.14519.5.2.1.6329.6468.109218621610560682044382179111-1-1-sh5kmi.dcm',\n",
              " '/scratch/DICOM/1.3.6.1.4.1.14519.5.2.1.6329.6468.109218621610560682044382179111-1-72-1ox8wtx.dcm',\n",
              " '/scratch/DICOM/1.3.6.1.4.1.14519.5.2.1.6329.6468.109218621610560682044382179111-1-31-17lgsiy.dcm',\n",
              " '/scratch/DICOM/1.3.6.1.4.1.14519.5.2.1.6329.6468.109218621610560682044382179111-1-38-15blol8.dcm',\n",
              " '/scratch/DICOM/1.3.6.1.4.1.14519.5.2.1.6329.6468.109218621610560682044382179111-1-83-1bwlqf.dcm',\n",
              " '/scratch/DICOM/1.3.6.1.4.1.14519.5.2.1.6329.6468.109218621610560682044382179111-1-51-1qoylpv.dcm',\n",
              " '/scratch/DICOM/1.3.6.1.4.1.14519.5.2.1.6329.6468.109218621610560682044382179111-1-4-yqwtdk.dcm',\n",
              " '/scratch/DICOM/1.3.6.1.4.1.14519.5.2.1.6329.6468.109218621610560682044382179111-1-16-1ayrppb.dcm',\n",
              " '/scratch/DICOM/1.3.6.1.4.1.14519.5.2.1.6329.6468.109218621610560682044382179111-1-78-3yykpz.dcm',\n",
              " '/scratch/DICOM/1.3.6.1.4.1.14519.5.2.1.6329.6468.109218621610560682044382179111-1-24-1p3wc7e.dcm',\n",
              " '/scratch/DICOM/1.3.6.1.4.1.14519.5.2.1.6329.6468.109218621610560682044382179111-1-14-miajh3.dcm',\n",
              " '/scratch/DICOM/1.3.6.1.4.1.14519.5.2.1.6329.6468.109218621610560682044382179111-1-54-b7430f.dcm',\n",
              " '/scratch/DICOM/1.3.6.1.4.1.14519.5.2.1.6329.6468.109218621610560682044382179111-1-48-1t7idsf.dcm',\n",
              " '/scratch/DICOM/1.3.6.1.4.1.14519.5.2.1.6329.6468.109218621610560682044382179111-1-69-1y9bapg.dcm',\n",
              " '/scratch/DICOM/1.3.6.1.4.1.14519.5.2.1.6329.6468.109218621610560682044382179111-1-23-ysru0t.dcm',\n",
              " '/scratch/DICOM/1.3.6.1.4.1.14519.5.2.1.6329.6468.109218621610560682044382179111-1-50-1kah12a.dcm',\n",
              " '/scratch/DICOM/1.3.6.1.4.1.14519.5.2.1.6329.6468.109218621610560682044382179111-1-74-fc7lbg.dcm',\n",
              " '/scratch/DICOM/1.3.6.1.4.1.14519.5.2.1.6329.6468.109218621610560682044382179111-1-13-1wltiwp.dcm',\n",
              " '/scratch/DICOM/1.3.6.1.4.1.14519.5.2.1.6329.6468.109218621610560682044382179111-1-42-16cyier.dcm',\n",
              " '/scratch/DICOM/1.3.6.1.4.1.14519.5.2.1.6329.6468.109218621610560682044382179111-1-67-1fxl3dj.dcm',\n",
              " '/scratch/DICOM/1.3.6.1.4.1.14519.5.2.1.6329.6468.109218621610560682044382179111-1-79-yu0t3n.dcm',\n",
              " '/scratch/DICOM/1.3.6.1.4.1.14519.5.2.1.6329.6468.109218621610560682044382179111-1-36-1sed2tf.dcm',\n",
              " '/scratch/DICOM/1.3.6.1.4.1.14519.5.2.1.6329.6468.109218621610560682044382179111-1-10-wpdzng.dcm',\n",
              " '/scratch/DICOM/1.3.6.1.4.1.14519.5.2.1.6329.6468.109218621610560682044382179111-1-25-evf5nb.dcm',\n",
              " '/scratch/DICOM/1.3.6.1.4.1.14519.5.2.1.6329.6468.109218621610560682044382179111-1-26-199uqlv.dcm',\n",
              " '/scratch/DICOM/1.3.6.1.4.1.14519.5.2.1.6329.6468.109218621610560682044382179111-1-27-1kabxg6.dcm',\n",
              " '/scratch/DICOM/1.3.6.1.4.1.14519.5.2.1.6329.6468.109218621610560682044382179111-1-66-1x4clap.dcm',\n",
              " '/scratch/DICOM/1.3.6.1.4.1.14519.5.2.1.6329.6468.109218621610560682044382179111-1-63-1dkbppp.dcm',\n",
              " '/scratch/DICOM/1.3.6.1.4.1.14519.5.2.1.6329.6468.109218621610560682044382179111-1-28-1fmknjl.dcm',\n",
              " '/scratch/DICOM/1.3.6.1.4.1.14519.5.2.1.6329.6468.109218621610560682044382179111-1-32-1cemjsq.dcm',\n",
              " '/scratch/DICOM/1.3.6.1.4.1.14519.5.2.1.6329.6468.109218621610560682044382179111-1-68-1tjvqls.dcm',\n",
              " '/scratch/DICOM/1.3.6.1.4.1.14519.5.2.1.6329.6468.109218621610560682044382179111-1-75-6888zb.dcm',\n",
              " '/scratch/DICOM/1.3.6.1.4.1.14519.5.2.1.6329.6468.109218621610560682044382179111-1-93-1878ffd.dcm',\n",
              " '/scratch/DICOM/1.3.6.1.4.1.14519.5.2.1.6329.6468.109218621610560682044382179111-1-77-1rk5wdv.dcm',\n",
              " '/scratch/DICOM/1.3.6.1.4.1.14519.5.2.1.6329.6468.109218621610560682044382179111-1-88-ehcqd8.dcm',\n",
              " '/scratch/DICOM/1.3.6.1.4.1.14519.5.2.1.6329.6468.109218621610560682044382179111-1-52-19u8r1i.dcm',\n",
              " '/scratch/DICOM/1.3.6.1.4.1.14519.5.2.1.6329.6468.109218621610560682044382179111-1-80-7ma2c2.dcm',\n",
              " '/scratch/DICOM/1.3.6.1.4.1.14519.5.2.1.6329.6468.109218621610560682044382179111-1-6-15leg7.dcm',\n",
              " '/scratch/DICOM/1.3.6.1.4.1.14519.5.2.1.6329.6468.109218621610560682044382179111-1-33-jor5i.dcm',\n",
              " '/scratch/DICOM/1.3.6.1.4.1.14519.5.2.1.6329.6468.109218621610560682044382179111-1-81-135n8n6.dcm',\n",
              " '/scratch/DICOM/1.3.6.1.4.1.14519.5.2.1.6329.6468.109218621610560682044382179111-1-7-168n01j.dcm',\n",
              " '/scratch/DICOM/1.3.6.1.4.1.14519.5.2.1.6329.6468.109218621610560682044382179111-1-62-xi286m.dcm',\n",
              " '/scratch/DICOM/1.3.6.1.4.1.14519.5.2.1.6329.6468.109218621610560682044382179111-1-8-19epcp8.dcm',\n",
              " '/scratch/DICOM/1.3.6.1.4.1.14519.5.2.1.6329.6468.109218621610560682044382179111-1-56-3oafm6.dcm',\n",
              " '/scratch/DICOM/1.3.6.1.4.1.14519.5.2.1.6329.6468.109218621610560682044382179111-1-43-iwcq5k.dcm',\n",
              " '/scratch/DICOM/1.3.6.1.4.1.14519.5.2.1.6329.6468.109218621610560682044382179111-1-89-1p8byrx.dcm',\n",
              " '/scratch/DICOM/1.3.6.1.4.1.14519.5.2.1.6329.6468.109218621610560682044382179111-1-91-nrf5tr.dcm',\n",
              " '/scratch/DICOM/1.3.6.1.4.1.14519.5.2.1.6329.6468.109218621610560682044382179111-1-3-1svl8ys.dcm',\n",
              " '/scratch/DICOM/1.3.6.1.4.1.14519.5.2.1.6329.6468.109218621610560682044382179111-1-35-vwsbvd.dcm',\n",
              " '/scratch/DICOM/1.3.6.1.4.1.14519.5.2.1.6329.6468.109218621610560682044382179111-1-11-76ryx9.dcm',\n",
              " '/scratch/DICOM/1.3.6.1.4.1.14519.5.2.1.6329.6468.109218621610560682044382179111-1-46-xy0chv.dcm',\n",
              " '/scratch/DICOM/1.3.6.1.4.1.14519.5.2.1.6329.6468.109218621610560682044382179111-1-55-g514yj.dcm',\n",
              " '/scratch/DICOM/1.3.6.1.4.1.14519.5.2.1.6329.6468.109218621610560682044382179111-1-17-1nt7xyr.dcm',\n",
              " '/scratch/DICOM/1.3.6.1.4.1.14519.5.2.1.6329.6468.109218621610560682044382179111-1-60-1phgp8g.dcm',\n",
              " '/scratch/DICOM/1.3.6.1.4.1.14519.5.2.1.6329.6468.109218621610560682044382179111-1-85-1tlipfn.dcm',\n",
              " '/scratch/DICOM/1.3.6.1.4.1.14519.5.2.1.6329.6468.109218621610560682044382179111-1-41-qvlxuv.dcm',\n",
              " '/scratch/DICOM/1.3.6.1.4.1.14519.5.2.1.6329.6468.109218621610560682044382179111-1-19-8gki9o.dcm',\n",
              " '/scratch/DICOM/1.3.6.1.4.1.14519.5.2.1.6329.6468.109218621610560682044382179111-1-57-474cq4.dcm',\n",
              " '/scratch/DICOM/1.3.6.1.4.1.14519.5.2.1.6329.6468.109218621610560682044382179111-1-70-1wv0uku.dcm',\n",
              " '/scratch/DICOM/1.3.6.1.4.1.14519.5.2.1.6329.6468.109218621610560682044382179111-1-82-17cuxyi.dcm',\n",
              " '/scratch/DICOM/1.3.6.1.4.1.14519.5.2.1.6329.6468.109218621610560682044382179111-1-20-1p4ey0u.dcm',\n",
              " '/scratch/DICOM/1.3.6.1.4.1.14519.5.2.1.6329.6468.109218621610560682044382179111-1-30-dnk8ro.dcm',\n",
              " '/scratch/DICOM/1.3.6.1.4.1.14519.5.2.1.6329.6468.109218621610560682044382179111-1-37-12pneeu.dcm',\n",
              " '/scratch/DICOM/1.3.6.1.4.1.14519.5.2.1.6329.6468.109218621610560682044382179111-1-71-gv5sfn.dcm',\n",
              " '/scratch/DICOM/1.3.6.1.4.1.14519.5.2.1.6329.6468.109218621610560682044382179111-1-21-mgi0y6.dcm',\n",
              " '/scratch/DICOM/1.3.6.1.4.1.14519.5.2.1.6329.6468.109218621610560682044382179111-1-90-1sfmeq5.dcm',\n",
              " '/scratch/DICOM/1.3.6.1.4.1.14519.5.2.1.6329.6468.109218621610560682044382179111-1-22-5bc1bj.dcm',\n",
              " '/scratch/DICOM/1.3.6.1.4.1.14519.5.2.1.6329.6468.109218621610560682044382179111-1-65-13eu03a.dcm',\n",
              " '/scratch/DICOM/1.3.6.1.4.1.14519.5.2.1.6329.6468.109218621610560682044382179111-1-92-1mwrbch.dcm',\n",
              " '/scratch/DICOM/1.3.6.1.4.1.14519.5.2.1.6329.6468.109218621610560682044382179111-1-9-9p6xr6.dcm',\n",
              " '/scratch/DICOM/1.3.6.1.4.1.14519.5.2.1.6329.6468.109218621610560682044382179111-1-18-zoibz9.dcm',\n",
              " '/scratch/DICOM/1.3.6.1.4.1.14519.5.2.1.6329.6468.109218621610560682044382179111-1-47-ngocvg.dcm',\n",
              " '/scratch/DICOM/1.3.6.1.4.1.14519.5.2.1.6329.6468.109218621610560682044382179111-1-84-q76q78.dcm',\n",
              " '/scratch/DICOM/1.3.6.1.4.1.14519.5.2.1.6329.6468.109218621610560682044382179111-1-61-1equrgf.dcm',\n",
              " '/scratch/DICOM/1.3.6.1.4.1.14519.5.2.1.6329.6468.109218621610560682044382179111-1-2-13ij1sp.dcm']"
            ]
          },
          "metadata": {},
          "execution_count": 14
        }
      ]
    },
    {
      "cell_type": "code",
      "source": [
        "dataDownloadDir = os.path.join(workDir,'sampleData','testPlanningCTdicom')\n",
        "os.makedirs(dataDownloadDir,exist_ok=True)\n",
        "!mv /scratch/DICOM/*.dcm {inputDicomPath}"
      ],
      "metadata": {
        "id": "ZgJOKoremHrr"
      },
      "execution_count": 16,
      "outputs": []
    },
    {
      "cell_type": "markdown",
      "source": [
        "## Install CT  Cardiac  Structures DeepLab model, weights and conda pack"
      ],
      "metadata": {
        "id": "qUtG8z1qe5B3"
      }
    },
    {
      "cell_type": "code",
      "source": [
        "os.chdir(workDir)\n",
        "!git clone https://github.com/cerr/model_installer.git\n",
        "os.chdir(os.path.join(workDir,'model_installer'))\n",
        "! source installer.sh -m 1 -d {workDir} -p C"
      ],
      "metadata": {
        "id": "Z7PmjwRWb0Sq",
        "outputId": "cb554204-4e97-4700-b012-7d5ca6d93142",
        "colab": {
          "base_uri": "https://localhost:8080/"
        }
      },
      "execution_count": 9,
      "outputs": [
        {
          "output_type": "stream",
          "name": "stdout",
          "text": [
            "Cloning into 'model_installer'...\n",
            "remote: Enumerating objects: 49, done.\u001b[K\n",
            "remote: Counting objects: 100% (49/49), done.\u001b[K\n",
            "remote: Compressing objects: 100% (44/44), done.\u001b[K\n",
            "remote: Total 49 (delta 15), reused 26 (delta 5), pack-reused 0\u001b[K\n",
            "Receiving objects: 100% (49/49), 14.14 KiB | 2.36 MiB/s, done.\n",
            "Resolving deltas: 100% (15/15), done.\n",
            "      ___           ___           ___           ___     \n",
            "     /  /\\         /  /\\         /  /\\         /  /\\    \n",
            "    /  /:/        /  /:/_       /  /::\\       /  /::\\   \n",
            "   /  /:/        /  /:/ /\\     /  /:/\\:\\     /  /:/\\:\\  \n",
            "  /  /:/  ___   /  /:/ /:/_   /  /:/~/:/    /  /:/~/:/  \n",
            " /__/:/  /  /\\ /__/:/ /:/ /\\ /__/:/ /:/___ /__/:/ /:/___\n",
            " \\  \\:\\ /  /:/ \\  \\:\\/:/ /:/ \\  \\:\\/:::::/ \\  \\:\\/:::::/\n",
            "  \\  \\:\\  /:/   \\  \\::/ /:/   \\  \\::/~~~~   \\  \\::/~~~~ \n",
            "   \\  \\:\\/:/     \\  \\:\\/:/     \\  \\:\\        \\  \\:\\     \n",
            "    \\  \\::/       \\  \\::/       \\  \\:\\        \\  \\:\\    \n",
            "     \\__\\/         \\__\\/         \\__\\/         \\__\\/    \n",
            " \n",
            "Medical Physics Department, Memorial Sloan Kettering Cancer Center, New York, NY\n",
            " \n",
            "Welcome to the CERR segmentation model installer! For usage information, run with -h flag\n",
            " \n",
            "git clone https://github.com/cerr/CT_cardiac_structures_deeplab.git\n",
            "fatal: destination path 'CT_cardiac_structures_deeplab' already exists and is not an empty directory.\n",
            "wget -O model_weights.tar.gz -L https://mskcc.box.com/shared/static/o524xsg5s91q0frwka10fvsf82395sgg.gz\n",
            "--2024-06-11 18:00:13--  https://mskcc.box.com/shared/static/o524xsg5s91q0frwka10fvsf82395sgg.gz\n",
            "Resolving mskcc.box.com (mskcc.box.com)... 74.112.186.144\n",
            "Connecting to mskcc.box.com (mskcc.box.com)|74.112.186.144|:443... connected.\n",
            "HTTP request sent, awaiting response... 301 Moved Permanently\n",
            "Location: /public/static/o524xsg5s91q0frwka10fvsf82395sgg.gz [following]\n",
            "--2024-06-11 18:00:14--  https://mskcc.box.com/public/static/o524xsg5s91q0frwka10fvsf82395sgg.gz\n",
            "Reusing existing connection to mskcc.box.com:443.\n",
            "HTTP request sent, awaiting response... 301 Moved Permanently\n",
            "Location: https://mskcc.ent.box.com/public/static/o524xsg5s91q0frwka10fvsf82395sgg.gz [following]\n",
            "--2024-06-11 18:00:14--  https://mskcc.ent.box.com/public/static/o524xsg5s91q0frwka10fvsf82395sgg.gz\n",
            "Resolving mskcc.ent.box.com (mskcc.ent.box.com)... 74.112.186.144\n",
            "Connecting to mskcc.ent.box.com (mskcc.ent.box.com)|74.112.186.144|:443... connected.\n",
            "HTTP request sent, awaiting response... 302 Found\n",
            "Location: https://public.boxcloud.com/d/1/b1!cGDR7zIQYms9VegKCVa7kfdriybi2EsbFwxffpsSVRDeTDk55v_SSivOEDULigNjj4rCsuQuJXUNraKz5Q-hkRpZuvuFeCxA6f0HO7aso8ZzoP-27dNkMzOoqbU_0fzvfmOWEMVI63i9Okc2F41mg4M_9-rWWZrHVLsV4EjH9w8KgBtngKU17InKEOtz1bDgR3WF59g57gk6XXvejy4USiPx3yEu6A8W6KMzSQvij-_bVpG8y_ryfKyfbnkrb7_LIWpYlapP6tAcbP4bpKwbFP0R6Ppg1ee3Wuc7-F5H9DxNNXgZr3ccE1O_CNwPaiA63gdb21XPtxK4U3u7qDTpCTNTr0gkMP6NSuQaYZbBkrVsw47sPyHB5hjCfGdGNxdRCsfKi3k89l1JWGTY9JknXhsCurhUg5Ezc12e4AqMaDVcCh7xh5PqE7-Vuv-wDD0w3CmBSrE_k2wEE3R_DaX-85r3LBqUbNXO_0p133brPH26Nzl_mpH8aZeGGF8H29lO5XR9XdCtsTp1w8eA14S20fz5uVfEQSPI5iigZZTdA-o69T6pKR_8Vf_VNW_JejZ770FNAnqMf6TBW6xjTfsafbLXF5-TO2Bf5s8c3O6gFsHXWamCmTyGyBRGFUJLQB0uEu9zn3rbASIsaTIMhJaygE3EM3kPjJ0E_1hMTuGn1uD8UlkKMHHUkcdvwYv0GmP18Vz-2vTFMpyZAGz7Vb_S9VkacEZp2QDSwFBlx_R9IRtpkXvq2Fb8iOs-g97XfAGFvjbHLiXFW2IYH_IP7ADgQcfoHbk7Re351AB9P-pH4XtqOWvHxDUaZ2P0Hrki4Ws5cT4MChEORLx-7h6ZO79Ra9gNZbwQPyy-oi9GVlIpc1Z6oe9WIyKMebQguaKJnQlbXCY13MPCjrDfWVSN-CPWSajUHvkFOj6jkRomArsn2UB2LEX48tEjbLv6Gu5ex5UXh4mijjF-GojEmLfx2AXaKx-NKJybN4JTOAHIS4oYZiccZSNno1DuFZfTmu5i7atTUvruQk889Tg1Mdunuvb_CSkZuvQaFdFDJdYSPLzTy8EKNTJqk72ISSqpKwOMuNaTv0dpH1j5MS11yqAOSarcBuGLRIUR6kKG0AUdbFuF08JTHnKZGFSIC-IfS79N560fCRQPm86poJw13f72fRL1kfv_Yckh6pXvK0LFQZTHbiqFpzCBYMWiVheP5KXRpIXYee8iJNQwL2afdcXX6eng9guqPHi3v43jYrHOUQzQcjvsMm0PWjJc9Uk-vc7YzW16Xdkdki8M1EkDrtZ3S-pRd3IXdqOCPCMhR03fPolAmhHKN4Szbf2CSgoHmFS-eVtQYkQw0ApBQ-ft3kBKya3_5gIAO6tcUZgi7tkm7eUQrSZGoWx33GA7XdRIi-Pe8kVu-iCptqieuTr6/download [following]\n",
            "--2024-06-11 18:00:14--  https://public.boxcloud.com/d/1/b1!cGDR7zIQYms9VegKCVa7kfdriybi2EsbFwxffpsSVRDeTDk55v_SSivOEDULigNjj4rCsuQuJXUNraKz5Q-hkRpZuvuFeCxA6f0HO7aso8ZzoP-27dNkMzOoqbU_0fzvfmOWEMVI63i9Okc2F41mg4M_9-rWWZrHVLsV4EjH9w8KgBtngKU17InKEOtz1bDgR3WF59g57gk6XXvejy4USiPx3yEu6A8W6KMzSQvij-_bVpG8y_ryfKyfbnkrb7_LIWpYlapP6tAcbP4bpKwbFP0R6Ppg1ee3Wuc7-F5H9DxNNXgZr3ccE1O_CNwPaiA63gdb21XPtxK4U3u7qDTpCTNTr0gkMP6NSuQaYZbBkrVsw47sPyHB5hjCfGdGNxdRCsfKi3k89l1JWGTY9JknXhsCurhUg5Ezc12e4AqMaDVcCh7xh5PqE7-Vuv-wDD0w3CmBSrE_k2wEE3R_DaX-85r3LBqUbNXO_0p133brPH26Nzl_mpH8aZeGGF8H29lO5XR9XdCtsTp1w8eA14S20fz5uVfEQSPI5iigZZTdA-o69T6pKR_8Vf_VNW_JejZ770FNAnqMf6TBW6xjTfsafbLXF5-TO2Bf5s8c3O6gFsHXWamCmTyGyBRGFUJLQB0uEu9zn3rbASIsaTIMhJaygE3EM3kPjJ0E_1hMTuGn1uD8UlkKMHHUkcdvwYv0GmP18Vz-2vTFMpyZAGz7Vb_S9VkacEZp2QDSwFBlx_R9IRtpkXvq2Fb8iOs-g97XfAGFvjbHLiXFW2IYH_IP7ADgQcfoHbk7Re351AB9P-pH4XtqOWvHxDUaZ2P0Hrki4Ws5cT4MChEORLx-7h6ZO79Ra9gNZbwQPyy-oi9GVlIpc1Z6oe9WIyKMebQguaKJnQlbXCY13MPCjrDfWVSN-CPWSajUHvkFOj6jkRomArsn2UB2LEX48tEjbLv6Gu5ex5UXh4mijjF-GojEmLfx2AXaKx-NKJybN4JTOAHIS4oYZiccZSNno1DuFZfTmu5i7atTUvruQk889Tg1Mdunuvb_CSkZuvQaFdFDJdYSPLzTy8EKNTJqk72ISSqpKwOMuNaTv0dpH1j5MS11yqAOSarcBuGLRIUR6kKG0AUdbFuF08JTHnKZGFSIC-IfS79N560fCRQPm86poJw13f72fRL1kfv_Yckh6pXvK0LFQZTHbiqFpzCBYMWiVheP5KXRpIXYee8iJNQwL2afdcXX6eng9guqPHi3v43jYrHOUQzQcjvsMm0PWjJc9Uk-vc7YzW16Xdkdki8M1EkDrtZ3S-pRd3IXdqOCPCMhR03fPolAmhHKN4Szbf2CSgoHmFS-eVtQYkQw0ApBQ-ft3kBKya3_5gIAO6tcUZgi7tkm7eUQrSZGoWx33GA7XdRIi-Pe8kVu-iCptqieuTr6/download\n",
            "Resolving public.boxcloud.com (public.boxcloud.com)... 74.112.186.130\n",
            "Connecting to public.boxcloud.com (public.boxcloud.com)|74.112.186.130|:443... connected.\n",
            "HTTP request sent, awaiting response... 200 OK\n",
            "Length: 2169065644 (2.0G) [application/octet-stream]\n",
            "Saving to: ‘model_weights.tar.gz’\n",
            "\n",
            "model_weights.tar.g 100%[===================>]   2.02G  32.9MB/s    in 66s     \n",
            "\n",
            "2024-06-11 18:01:21 (31.4 MB/s) - ‘model_weights.tar.gz’ saved [2169065644/2169065644]\n",
            "\n",
            "tar xf model_weights.tar.gz\n",
            "wget -O condapack.tar.gz -L https://mskcc.box.com/shared/static/4li1soza5pcnwqyqwkuvgmjwtb81ktro.gz\n",
            "--2024-06-11 18:01:50--  https://mskcc.box.com/shared/static/4li1soza5pcnwqyqwkuvgmjwtb81ktro.gz\n",
            "Resolving mskcc.box.com (mskcc.box.com)... 74.112.186.144\n",
            "Connecting to mskcc.box.com (mskcc.box.com)|74.112.186.144|:443... connected.\n",
            "HTTP request sent, awaiting response... 301 Moved Permanently\n",
            "Location: /public/static/4li1soza5pcnwqyqwkuvgmjwtb81ktro.gz [following]\n",
            "--2024-06-11 18:01:50--  https://mskcc.box.com/public/static/4li1soza5pcnwqyqwkuvgmjwtb81ktro.gz\n",
            "Reusing existing connection to mskcc.box.com:443.\n",
            "HTTP request sent, awaiting response... 301 Moved Permanently\n",
            "Location: https://mskcc.ent.box.com/public/static/4li1soza5pcnwqyqwkuvgmjwtb81ktro.gz [following]\n",
            "--2024-06-11 18:01:51--  https://mskcc.ent.box.com/public/static/4li1soza5pcnwqyqwkuvgmjwtb81ktro.gz\n",
            "Resolving mskcc.ent.box.com (mskcc.ent.box.com)... 74.112.186.144\n",
            "Connecting to mskcc.ent.box.com (mskcc.ent.box.com)|74.112.186.144|:443... connected.\n",
            "HTTP request sent, awaiting response... 302 Found\n",
            "Location: https://public.boxcloud.com/d/1/b1!CzzE922QtPpSPlj9hMaMtxpqB36UY_o96TmfY6mQZhaEqicor2sRF38sEFezDgPYErLsZXi1jrlCljCzC-tdqbnAtBOQnEegAeFfke1LtB90FkkYvf_SBbnOkyaIgloXAk3oYqoxU9FRFgtDd5DKJ56eLjRD9oTK93i5b833tdgBZTvnjPva_1DqsBMM6pHopDszCfvQNfOEDn_u1ALcF0ua91hZAGWq64-kBE6zq6ymNj2FHhcLlBoZMmmQIbL5rn8x-KkihJowXcLFyQxbimS5WSW14pqdpumhsLZ6IMBPALUYuk4P-JZo8ddFK3PPOpVHO7N1kqAB6rITPaj9S2smgkRyljzGhsul7Kf6HyDxeLDpMzX-7-9OCjHb0myH9gFjngs-xSH1vlNmDNm_bs7tGjIkMkhAO5A-jTWbH767LyhM65W1izs21-EcwcWqle9bmPZSdXUyA1uWqtputAytkQjqU0IwK4yUz35Y7K7SIgZWWLKSD6acoVbcMB12vnQ2XfmtDmKbR67w1WyRJ9msE5_ERWSuFLK4ihJxzMrj9Jk6T6f6Nci5g6Lqb7y4E0hU4UfQkfjw5ZAlYsuw9GXAjjbNRfE0yrk0A86nq5cxpzL6KpD3KwhiJX3lPMP9iPOOeWJVlUxurz8VL1P6FtMrnKDRPLZde06FVEN36w0SL37zZU0eQbE5qYZ21V2oqezbEemWU6-XFpRK6HYhEB1IERId-QWOFkzhnrC2fNXDyfoLJBD4dgyVV_ozzwLo_w2uIGI9-IlU25rsCaCBOvzi6MvVAxi1WLovyvt17ghUVddKbjbDgcC3bVzN1oqFniMDG6ZGkRgixHbAeKK5I_MNgKIPfMzPklsGjokvjDJ-GNkljuwJuky2Wu8iQ0Ens-9d_yOx6-P2XLYP5FeuQbutazQHLrcgOlnWNyXybBovDeDQaTMzHbcwCjjPDUh4zxOY5gkXem19gZ2cCGAqEcdWgumaWcXux6y0CvnTUIsXDm0tMCeULqBnAuwcrDsKFw7L84pfJP-9PzFfXOcOlwRGux2Biv2IUosZ-DZXeVjse5xBOMAH16MLWcO_NbHQd-0uH76uwj76M-wc5pxBNDgKk6ldgCNJlHAIxr1zUe-2MBlo30LwxQ46Ek9bHWEGKgI49Zxauz_l9Bg08GpDZE0KTcbt4DMwJ2GIxhRBK43L_DRb_R4rJgJnnn9BV85zIUKnEInzOAzzoqNTdBM4aOzSe2u0DodWpGGTJN8NStocPtEA5wj5JrwwxyGMlX85ArifXeUNs0BsDXVrOtkwkNn3SsW5dV9Xi1otGWNPhKeahgbi3m_JFGTWZ56_MUc7zVn5dJNrqkW1s80pNZALgI8v05UsGRJTLHgtao-k-D5H56yUxBmgNXknEqU6rOSbheo2f268wzwlwHO8NYX0g9Ja4DuJZZtl/download [following]\n",
            "--2024-06-11 18:01:52--  https://public.boxcloud.com/d/1/b1!CzzE922QtPpSPlj9hMaMtxpqB36UY_o96TmfY6mQZhaEqicor2sRF38sEFezDgPYErLsZXi1jrlCljCzC-tdqbnAtBOQnEegAeFfke1LtB90FkkYvf_SBbnOkyaIgloXAk3oYqoxU9FRFgtDd5DKJ56eLjRD9oTK93i5b833tdgBZTvnjPva_1DqsBMM6pHopDszCfvQNfOEDn_u1ALcF0ua91hZAGWq64-kBE6zq6ymNj2FHhcLlBoZMmmQIbL5rn8x-KkihJowXcLFyQxbimS5WSW14pqdpumhsLZ6IMBPALUYuk4P-JZo8ddFK3PPOpVHO7N1kqAB6rITPaj9S2smgkRyljzGhsul7Kf6HyDxeLDpMzX-7-9OCjHb0myH9gFjngs-xSH1vlNmDNm_bs7tGjIkMkhAO5A-jTWbH767LyhM65W1izs21-EcwcWqle9bmPZSdXUyA1uWqtputAytkQjqU0IwK4yUz35Y7K7SIgZWWLKSD6acoVbcMB12vnQ2XfmtDmKbR67w1WyRJ9msE5_ERWSuFLK4ihJxzMrj9Jk6T6f6Nci5g6Lqb7y4E0hU4UfQkfjw5ZAlYsuw9GXAjjbNRfE0yrk0A86nq5cxpzL6KpD3KwhiJX3lPMP9iPOOeWJVlUxurz8VL1P6FtMrnKDRPLZde06FVEN36w0SL37zZU0eQbE5qYZ21V2oqezbEemWU6-XFpRK6HYhEB1IERId-QWOFkzhnrC2fNXDyfoLJBD4dgyVV_ozzwLo_w2uIGI9-IlU25rsCaCBOvzi6MvVAxi1WLovyvt17ghUVddKbjbDgcC3bVzN1oqFniMDG6ZGkRgixHbAeKK5I_MNgKIPfMzPklsGjokvjDJ-GNkljuwJuky2Wu8iQ0Ens-9d_yOx6-P2XLYP5FeuQbutazQHLrcgOlnWNyXybBovDeDQaTMzHbcwCjjPDUh4zxOY5gkXem19gZ2cCGAqEcdWgumaWcXux6y0CvnTUIsXDm0tMCeULqBnAuwcrDsKFw7L84pfJP-9PzFfXOcOlwRGux2Biv2IUosZ-DZXeVjse5xBOMAH16MLWcO_NbHQd-0uH76uwj76M-wc5pxBNDgKk6ldgCNJlHAIxr1zUe-2MBlo30LwxQ46Ek9bHWEGKgI49Zxauz_l9Bg08GpDZE0KTcbt4DMwJ2GIxhRBK43L_DRb_R4rJgJnnn9BV85zIUKnEInzOAzzoqNTdBM4aOzSe2u0DodWpGGTJN8NStocPtEA5wj5JrwwxyGMlX85ArifXeUNs0BsDXVrOtkwkNn3SsW5dV9Xi1otGWNPhKeahgbi3m_JFGTWZ56_MUc7zVn5dJNrqkW1s80pNZALgI8v05UsGRJTLHgtao-k-D5H56yUxBmgNXknEqU6rOSbheo2f268wzwlwHO8NYX0g9Ja4DuJZZtl/download\n",
            "Resolving public.boxcloud.com (public.boxcloud.com)... 74.112.186.130\n",
            "Connecting to public.boxcloud.com (public.boxcloud.com)|74.112.186.130|:443... connected.\n",
            "HTTP request sent, awaiting response... 200 OK\n",
            "Length: 1061723364 (1013M) [application/octet-stream]\n",
            "Saving to: ‘condapack.tar.gz’\n",
            "\n",
            "condapack.tar.gz    100%[===================>]   1013M  31.5MB/s    in 32s     \n",
            "\n",
            "2024-06-11 18:02:24 (31.7 MB/s) - ‘condapack.tar.gz’ saved [1061723364/1061723364]\n",
            "\n",
            "tar xf condapack.tar.gz\n"
          ]
        }
      ]
    },
    {
      "cell_type": "code",
      "source": [
        "wrapperInstallDir = os.path.join(workDir, 'CT_cardiac_structures_deeplab')\n",
        "heartCondaEnvDir = os.path.join(wrapperInstallDir,'conda-pack')"
      ],
      "metadata": {
        "id": "Tn0RlU9lnOrR"
      },
      "execution_count": 17,
      "outputs": []
    },
    {
      "cell_type": "markdown",
      "metadata": {
        "id": "DsKXYI-dsgcK"
      },
      "source": [
        "# Install pyCERR\n",
        "\n",
        "pyCERR is used for pre and post-processing of DICOM as required by the model."
      ]
    },
    {
      "cell_type": "code",
      "execution_count": 11,
      "metadata": {
        "id": "XRGzE5J7sgcL",
        "outputId": "5d7f13ea-4bd3-4db0-d586-2c0fc454b5b0",
        "colab": {
          "base_uri": "https://localhost:8080/"
        }
      },
      "outputs": [
        {
          "output_type": "stream",
          "name": "stdout",
          "text": [
            "Collecting pyCERR[napari]@ git+https://github.com/cerr/pyCERR.git@testing\n",
            "  Cloning https://github.com/cerr/pyCERR.git (to revision testing) to /tmp/pip-install-dxk274hu/pycerr_5e9acda1f8f549e590c36654a2248bba\n",
            "  Running command git clone --filter=blob:none --quiet https://github.com/cerr/pyCERR.git /tmp/pip-install-dxk274hu/pycerr_5e9acda1f8f549e590c36654a2248bba\n",
            "  Running command git checkout -b testing --track origin/testing\n",
            "  Switched to a new branch 'testing'\n",
            "  Branch 'testing' set up to track remote branch 'testing' from 'origin'.\n",
            "  Resolved https://github.com/cerr/pyCERR.git to commit 63ac0eb463372644e077c2868dc1683824500851\n",
            "  Installing build dependencies ... \u001b[?25l\u001b[?25hdone\n",
            "  Getting requirements to build wheel ... \u001b[?25l\u001b[?25hdone\n",
            "  Installing backend dependencies ... \u001b[?25l\u001b[?25hdone\n",
            "  Preparing metadata (pyproject.toml) ... \u001b[?25l\u001b[?25hdone\n",
            "Requirement already satisfied: numpy in /usr/local/lib/python3.10/dist-packages (from pyCERR[napari]@ git+https://github.com/cerr/pyCERR.git@testing) (1.25.2)\n",
            "Collecting pydicom (from pyCERR[napari]@ git+https://github.com/cerr/pyCERR.git@testing)\n",
            "  Downloading pydicom-2.4.4-py3-none-any.whl (1.8 MB)\n",
            "\u001b[2K     \u001b[90m━━━━━━━━━━━━━━━━━━━━━━━━━━━━━━━━━━━━━━━━\u001b[0m \u001b[32m1.8/1.8 MB\u001b[0m \u001b[31m14.6 MB/s\u001b[0m eta \u001b[36m0:00:00\u001b[0m\n",
            "\u001b[?25hRequirement already satisfied: python-dateutil in /usr/local/lib/python3.10/dist-packages (from pyCERR[napari]@ git+https://github.com/cerr/pyCERR.git@testing) (2.8.2)\n",
            "Requirement already satisfied: scipy in /usr/local/lib/python3.10/dist-packages (from pyCERR[napari]@ git+https://github.com/cerr/pyCERR.git@testing) (1.11.4)\n",
            "Requirement already satisfied: h5py in /usr/local/lib/python3.10/dist-packages (from pyCERR[napari]@ git+https://github.com/cerr/pyCERR.git@testing) (3.9.0)\n",
            "Requirement already satisfied: pandas in /usr/local/lib/python3.10/dist-packages (from pyCERR[napari]@ git+https://github.com/cerr/pyCERR.git@testing) (2.0.3)\n",
            "Collecting SimpleITK (from pyCERR[napari]@ git+https://github.com/cerr/pyCERR.git@testing)\n",
            "  Downloading SimpleITK-2.3.1-cp310-cp310-manylinux_2_17_x86_64.manylinux2014_x86_64.whl (52.7 MB)\n",
            "\u001b[2K     \u001b[90m━━━━━━━━━━━━━━━━━━━━━━━━━━━━━━━━━━━━━━━━\u001b[0m \u001b[32m52.7/52.7 MB\u001b[0m \u001b[31m15.4 MB/s\u001b[0m eta \u001b[36m0:00:00\u001b[0m\n",
            "\u001b[?25hRequirement already satisfied: nibabel in /usr/local/lib/python3.10/dist-packages (from pyCERR[napari]@ git+https://github.com/cerr/pyCERR.git@testing) (4.0.2)\n",
            "Requirement already satisfied: scikit-learn in /usr/local/lib/python3.10/dist-packages (from pyCERR[napari]@ git+https://github.com/cerr/pyCERR.git@testing) (1.2.2)\n",
            "Requirement already satisfied: scikit-image in /usr/local/lib/python3.10/dist-packages (from pyCERR[napari]@ git+https://github.com/cerr/pyCERR.git@testing) (0.19.3)\n",
            "Requirement already satisfied: PyWavelets in /usr/local/lib/python3.10/dist-packages (from pyCERR[napari]@ git+https://github.com/cerr/pyCERR.git@testing) (1.6.0)\n",
            "Collecting shapelysmooth (from pyCERR[napari]@ git+https://github.com/cerr/pyCERR.git@testing)\n",
            "  Downloading shapelysmooth-0.2.0-cp310-cp310-manylinux_2_17_x86_64.manylinux2014_x86_64.whl (102 kB)\n",
            "\u001b[2K     \u001b[90m━━━━━━━━━━━━━━━━━━━━━━━━━━━━━━━━━━━━━━━━\u001b[0m \u001b[32m103.0/103.0 kB\u001b[0m \u001b[31m15.7 MB/s\u001b[0m eta \u001b[36m0:00:00\u001b[0m\n",
            "\u001b[?25hRequirement already satisfied: matplotlib in /usr/local/lib/python3.10/dist-packages (from pyCERR[napari]@ git+https://github.com/cerr/pyCERR.git@testing) (3.7.1)\n",
            "Requirement already satisfied: ipywidgets in /usr/local/lib/python3.10/dist-packages (from pyCERR[napari]@ git+https://github.com/cerr/pyCERR.git@testing) (7.7.1)\n",
            "Collecting napari[all] (from pyCERR[napari]@ git+https://github.com/cerr/pyCERR.git@testing)\n",
            "  Downloading napari-0.4.19.post1-py3-none-any.whl (2.7 MB)\n",
            "\u001b[2K     \u001b[90m━━━━━━━━━━━━━━━━━━━━━━━━━━━━━━━━━━━━━━━━\u001b[0m \u001b[32m2.7/2.7 MB\u001b[0m \u001b[31m84.2 MB/s\u001b[0m eta \u001b[36m0:00:00\u001b[0m\n",
            "\u001b[?25hRequirement already satisfied: ipykernel>=4.5.1 in /usr/local/lib/python3.10/dist-packages (from ipywidgets->pyCERR[napari]@ git+https://github.com/cerr/pyCERR.git@testing) (5.5.6)\n",
            "Requirement already satisfied: ipython-genutils~=0.2.0 in /usr/local/lib/python3.10/dist-packages (from ipywidgets->pyCERR[napari]@ git+https://github.com/cerr/pyCERR.git@testing) (0.2.0)\n",
            "Requirement already satisfied: traitlets>=4.3.1 in /usr/local/lib/python3.10/dist-packages (from ipywidgets->pyCERR[napari]@ git+https://github.com/cerr/pyCERR.git@testing) (5.7.1)\n",
            "Requirement already satisfied: widgetsnbextension~=3.6.0 in /usr/local/lib/python3.10/dist-packages (from ipywidgets->pyCERR[napari]@ git+https://github.com/cerr/pyCERR.git@testing) (3.6.6)\n",
            "Requirement already satisfied: ipython>=4.0.0 in /usr/local/lib/python3.10/dist-packages (from ipywidgets->pyCERR[napari]@ git+https://github.com/cerr/pyCERR.git@testing) (7.34.0)\n",
            "Requirement already satisfied: jupyterlab-widgets>=1.0.0 in /usr/local/lib/python3.10/dist-packages (from ipywidgets->pyCERR[napari]@ git+https://github.com/cerr/pyCERR.git@testing) (3.0.11)\n",
            "Requirement already satisfied: contourpy>=1.0.1 in /usr/local/lib/python3.10/dist-packages (from matplotlib->pyCERR[napari]@ git+https://github.com/cerr/pyCERR.git@testing) (1.2.1)\n",
            "Requirement already satisfied: cycler>=0.10 in /usr/local/lib/python3.10/dist-packages (from matplotlib->pyCERR[napari]@ git+https://github.com/cerr/pyCERR.git@testing) (0.12.1)\n",
            "Requirement already satisfied: fonttools>=4.22.0 in /usr/local/lib/python3.10/dist-packages (from matplotlib->pyCERR[napari]@ git+https://github.com/cerr/pyCERR.git@testing) (4.53.0)\n",
            "Requirement already satisfied: kiwisolver>=1.0.1 in /usr/local/lib/python3.10/dist-packages (from matplotlib->pyCERR[napari]@ git+https://github.com/cerr/pyCERR.git@testing) (1.4.5)\n",
            "Requirement already satisfied: packaging>=20.0 in /usr/local/lib/python3.10/dist-packages (from matplotlib->pyCERR[napari]@ git+https://github.com/cerr/pyCERR.git@testing) (24.0)\n",
            "Requirement already satisfied: pillow>=6.2.0 in /usr/local/lib/python3.10/dist-packages (from matplotlib->pyCERR[napari]@ git+https://github.com/cerr/pyCERR.git@testing) (9.4.0)\n",
            "Requirement already satisfied: pyparsing>=2.3.1 in /usr/local/lib/python3.10/dist-packages (from matplotlib->pyCERR[napari]@ git+https://github.com/cerr/pyCERR.git@testing) (3.1.2)\n",
            "Requirement already satisfied: six>=1.5 in /usr/local/lib/python3.10/dist-packages (from python-dateutil->pyCERR[napari]@ git+https://github.com/cerr/pyCERR.git@testing) (1.16.0)\n",
            "Collecting appdirs>=1.4.4 (from napari[all]->pyCERR[napari]@ git+https://github.com/cerr/pyCERR.git@testing)\n",
            "  Downloading appdirs-1.4.4-py2.py3-none-any.whl (9.6 kB)\n",
            "Collecting app-model<0.3.0,>=0.1.2 (from napari[all]->pyCERR[napari]@ git+https://github.com/cerr/pyCERR.git@testing)\n",
            "  Downloading app_model-0.2.7-py3-none-any.whl (62 kB)\n",
            "\u001b[2K     \u001b[90m━━━━━━━━━━━━━━━━━━━━━━━━━━━━━━━━━━━━━━━━\u001b[0m \u001b[32m62.1/62.1 kB\u001b[0m \u001b[31m8.3 MB/s\u001b[0m eta \u001b[36m0:00:00\u001b[0m\n",
            "\u001b[?25hCollecting cachey>=0.2.1 (from napari[all]->pyCERR[napari]@ git+https://github.com/cerr/pyCERR.git@testing)\n",
            "  Downloading cachey-0.2.1-py3-none-any.whl (6.4 kB)\n",
            "Requirement already satisfied: certifi>=2018.1.18 in /usr/local/lib/python3.10/dist-packages (from napari[all]->pyCERR[napari]@ git+https://github.com/cerr/pyCERR.git@testing) (2024.6.2)\n",
            "Requirement already satisfied: dask[array]!=2.28.0,>=2.15.0 in /usr/local/lib/python3.10/dist-packages (from napari[all]->pyCERR[napari]@ git+https://github.com/cerr/pyCERR.git@testing) (2023.8.1)\n",
            "Requirement already satisfied: imageio!=2.22.1,>=2.20 in /usr/local/lib/python3.10/dist-packages (from napari[all]->pyCERR[napari]@ git+https://github.com/cerr/pyCERR.git@testing) (2.31.6)\n",
            "Requirement already satisfied: jsonschema>=3.2.0 in /usr/local/lib/python3.10/dist-packages (from napari[all]->pyCERR[napari]@ git+https://github.com/cerr/pyCERR.git@testing) (4.19.2)\n",
            "Requirement already satisfied: lazy-loader>=0.2 in /usr/local/lib/python3.10/dist-packages (from napari[all]->pyCERR[napari]@ git+https://github.com/cerr/pyCERR.git@testing) (0.4)\n",
            "Collecting magicgui>=0.3.6 (from napari[all]->pyCERR[napari]@ git+https://github.com/cerr/pyCERR.git@testing)\n",
            "  Downloading magicgui-0.8.3-py3-none-any.whl (123 kB)\n",
            "\u001b[2K     \u001b[90m━━━━━━━━━━━━━━━━━━━━━━━━━━━━━━━━━━━━━━━━\u001b[0m \u001b[32m123.7/123.7 kB\u001b[0m \u001b[31m19.0 MB/s\u001b[0m eta \u001b[36m0:00:00\u001b[0m\n",
            "\u001b[?25hCollecting napari-console>=0.0.9 (from napari[all]->pyCERR[napari]@ git+https://github.com/cerr/pyCERR.git@testing)\n",
            "  Downloading napari_console-0.0.9-py3-none-any.whl (8.2 kB)\n",
            "Collecting napari-plugin-engine>=0.1.9 (from napari[all]->pyCERR[napari]@ git+https://github.com/cerr/pyCERR.git@testing)\n",
            "  Downloading napari_plugin_engine-0.2.0-py3-none-any.whl (33 kB)\n",
            "Collecting napari-svg>=0.1.8 (from napari[all]->pyCERR[napari]@ git+https://github.com/cerr/pyCERR.git@testing)\n",
            "  Downloading napari_svg-0.1.10-py3-none-any.whl (13 kB)\n",
            "Collecting npe2>=0.7.2 (from napari[all]->pyCERR[napari]@ git+https://github.com/cerr/pyCERR.git@testing)\n",
            "  Downloading npe2-0.7.5-py3-none-any.whl (92 kB)\n",
            "\u001b[2K     \u001b[90m━━━━━━━━━━━━━━━━━━━━━━━━━━━━━━━━━━━━━━━━\u001b[0m \u001b[32m92.3/92.3 kB\u001b[0m \u001b[31m14.6 MB/s\u001b[0m eta \u001b[36m0:00:00\u001b[0m\n",
            "\u001b[?25hCollecting numpydoc>=0.9.2 (from napari[all]->pyCERR[napari]@ git+https://github.com/cerr/pyCERR.git@testing)\n",
            "  Downloading numpydoc-1.7.0-py3-none-any.whl (62 kB)\n",
            "\u001b[2K     \u001b[90m━━━━━━━━━━━━━━━━━━━━━━━━━━━━━━━━━━━━━━━━\u001b[0m \u001b[32m62.8/62.8 kB\u001b[0m \u001b[31m10.0 MB/s\u001b[0m eta \u001b[36m0:00:00\u001b[0m\n",
            "\u001b[?25hCollecting pint>=0.17 (from napari[all]->pyCERR[napari]@ git+https://github.com/cerr/pyCERR.git@testing)\n",
            "  Downloading Pint-0.24-py3-none-any.whl (300 kB)\n",
            "\u001b[2K     \u001b[90m━━━━━━━━━━━━━━━━━━━━━━━━━━━━━━━━━━━━━━━━\u001b[0m \u001b[32m300.7/300.7 kB\u001b[0m \u001b[31m37.7 MB/s\u001b[0m eta \u001b[36m0:00:00\u001b[0m\n",
            "\u001b[?25hRequirement already satisfied: psutil>=5.0 in /usr/local/lib/python3.10/dist-packages (from napari[all]->pyCERR[napari]@ git+https://github.com/cerr/pyCERR.git@testing) (5.9.5)\n",
            "Collecting psygnal>=0.3.4 (from napari[all]->pyCERR[napari]@ git+https://github.com/cerr/pyCERR.git@testing)\n",
            "  Downloading psygnal-0.11.1-cp310-cp310-manylinux_2_17_x86_64.manylinux2014_x86_64.whl (727 kB)\n",
            "\u001b[2K     \u001b[90m━━━━━━━━━━━━━━━━━━━━━━━━━━━━━━━━━━━━━━━━\u001b[0m \u001b[32m727.4/727.4 kB\u001b[0m \u001b[31m64.5 MB/s\u001b[0m eta \u001b[36m0:00:00\u001b[0m\n",
            "\u001b[?25hRequirement already satisfied: pydantic>=1.9.0 in /usr/local/lib/python3.10/dist-packages (from napari[all]->pyCERR[napari]@ git+https://github.com/cerr/pyCERR.git@testing) (2.7.3)\n",
            "Requirement already satisfied: pygments>=2.6.0 in /usr/local/lib/python3.10/dist-packages (from napari[all]->pyCERR[napari]@ git+https://github.com/cerr/pyCERR.git@testing) (2.16.1)\n",
            "Requirement already satisfied: PyOpenGL>=3.1.0 in /usr/local/lib/python3.10/dist-packages (from napari[all]->pyCERR[napari]@ git+https://github.com/cerr/pyCERR.git@testing) (3.1.7)\n",
            "Requirement already satisfied: PyYAML>=5.1 in /usr/local/lib/python3.10/dist-packages (from napari[all]->pyCERR[napari]@ git+https://github.com/cerr/pyCERR.git@testing) (6.0.1)\n",
            "Collecting qtpy>=1.10.0 (from napari[all]->pyCERR[napari]@ git+https://github.com/cerr/pyCERR.git@testing)\n",
            "  Downloading QtPy-2.4.1-py3-none-any.whl (93 kB)\n",
            "\u001b[2K     \u001b[90m━━━━━━━━━━━━━━━━━━━━━━━━━━━━━━━━━━━━━━━━\u001b[0m \u001b[32m93.5/93.5 kB\u001b[0m \u001b[31m15.1 MB/s\u001b[0m eta \u001b[36m0:00:00\u001b[0m\n",
            "\u001b[?25hCollecting superqt>=0.4.1 (from napari[all]->pyCERR[napari]@ git+https://github.com/cerr/pyCERR.git@testing)\n",
            "  Downloading superqt-0.6.7-py3-none-any.whl (90 kB)\n",
            "\u001b[2K     \u001b[90m━━━━━━━━━━━━━━━━━━━━━━━━━━━━━━━━━━━━━━━━\u001b[0m \u001b[32m90.6/90.6 kB\u001b[0m \u001b[31m13.7 MB/s\u001b[0m eta \u001b[36m0:00:00\u001b[0m\n",
            "\u001b[?25hRequirement already satisfied: tifffile>=2020.2.16 in /usr/local/lib/python3.10/dist-packages (from napari[all]->pyCERR[napari]@ git+https://github.com/cerr/pyCERR.git@testing) (2024.5.22)\n",
            "Requirement already satisfied: toolz>=0.10.0 in /usr/local/lib/python3.10/dist-packages (from napari[all]->pyCERR[napari]@ git+https://github.com/cerr/pyCERR.git@testing) (0.12.1)\n",
            "Requirement already satisfied: tqdm>=4.56.0 in /usr/local/lib/python3.10/dist-packages (from napari[all]->pyCERR[napari]@ git+https://github.com/cerr/pyCERR.git@testing) (4.66.4)\n",
            "Requirement already satisfied: typing-extensions>=4.2.0 in /usr/local/lib/python3.10/dist-packages (from napari[all]->pyCERR[napari]@ git+https://github.com/cerr/pyCERR.git@testing) (4.12.1)\n",
            "Collecting vispy<0.15,>=0.14.1 (from napari[all]->pyCERR[napari]@ git+https://github.com/cerr/pyCERR.git@testing)\n",
            "  Downloading vispy-0.14.2-cp310-cp310-manylinux_2_17_x86_64.manylinux2014_x86_64.whl (1.8 MB)\n",
            "\u001b[2K     \u001b[90m━━━━━━━━━━━━━━━━━━━━━━━━━━━━━━━━━━━━━━━━\u001b[0m \u001b[32m1.8/1.8 MB\u001b[0m \u001b[31m85.7 MB/s\u001b[0m eta \u001b[36m0:00:00\u001b[0m\n",
            "\u001b[?25hRequirement already satisfied: wrapt>=1.11.1 in /usr/local/lib/python3.10/dist-packages (from napari[all]->pyCERR[napari]@ git+https://github.com/cerr/pyCERR.git@testing) (1.14.1)\n",
            "Collecting PyQt5!=5.15.0,>=5.12.3 (from napari[all]->pyCERR[napari]@ git+https://github.com/cerr/pyCERR.git@testing)\n",
            "  Downloading PyQt5-5.15.10-cp37-abi3-manylinux_2_17_x86_64.whl (8.2 MB)\n",
            "\u001b[2K     \u001b[90m━━━━━━━━━━━━━━━━━━━━━━━━━━━━━━━━━━━━━━━━\u001b[0m \u001b[32m8.2/8.2 MB\u001b[0m \u001b[31m101.3 MB/s\u001b[0m eta \u001b[36m0:00:00\u001b[0m\n",
            "\u001b[?25hRequirement already satisfied: numba>=0.57.1 in /usr/local/lib/python3.10/dist-packages (from napari[all]->pyCERR[napari]@ git+https://github.com/cerr/pyCERR.git@testing) (0.58.1)\n",
            "Collecting napari-plugin-manager<0.2.0,>=0.1.0a1 (from napari[all]->pyCERR[napari]@ git+https://github.com/cerr/pyCERR.git@testing)\n",
            "  Downloading napari_plugin_manager-0.1.0a2-py3-none-any.whl (25 kB)\n",
            "Collecting triangle (from napari[all]->pyCERR[napari]@ git+https://github.com/cerr/pyCERR.git@testing)\n",
            "  Downloading triangle-20230923-cp310-cp310-manylinux_2_17_x86_64.manylinux2014_x86_64.whl (2.1 MB)\n",
            "\u001b[2K     \u001b[90m━━━━━━━━━━━━━━━━━━━━━━━━━━━━━━━━━━━━━━━━\u001b[0m \u001b[32m2.1/2.1 MB\u001b[0m \u001b[31m94.3 MB/s\u001b[0m eta \u001b[36m0:00:00\u001b[0m\n",
            "\u001b[?25hRequirement already satisfied: pytz>=2020.1 in /usr/local/lib/python3.10/dist-packages (from pandas->pyCERR[napari]@ git+https://github.com/cerr/pyCERR.git@testing) (2023.4)\n",
            "Requirement already satisfied: tzdata>=2022.1 in /usr/local/lib/python3.10/dist-packages (from pandas->pyCERR[napari]@ git+https://github.com/cerr/pyCERR.git@testing) (2024.1)\n",
            "Requirement already satisfied: setuptools in /usr/local/lib/python3.10/dist-packages (from nibabel->pyCERR[napari]@ git+https://github.com/cerr/pyCERR.git@testing) (67.7.2)\n",
            "Requirement already satisfied: networkx>=2.2 in /usr/local/lib/python3.10/dist-packages (from scikit-image->pyCERR[napari]@ git+https://github.com/cerr/pyCERR.git@testing) (3.3)\n",
            "Requirement already satisfied: joblib>=1.1.1 in /usr/local/lib/python3.10/dist-packages (from scikit-learn->pyCERR[napari]@ git+https://github.com/cerr/pyCERR.git@testing) (1.4.2)\n",
            "Requirement already satisfied: threadpoolctl>=2.0.0 in /usr/local/lib/python3.10/dist-packages (from scikit-learn->pyCERR[napari]@ git+https://github.com/cerr/pyCERR.git@testing) (3.5.0)\n",
            "Requirement already satisfied: shapely in /usr/local/lib/python3.10/dist-packages (from shapelysmooth->pyCERR[napari]@ git+https://github.com/cerr/pyCERR.git@testing) (2.0.4)\n",
            "Collecting in-n-out>=0.1.5 (from app-model<0.3.0,>=0.1.2->napari[all]->pyCERR[napari]@ git+https://github.com/cerr/pyCERR.git@testing)\n",
            "  Downloading in_n_out-0.2.1-py3-none-any.whl (19 kB)\n",
            "Collecting pydantic-compat>=0.1.1 (from app-model<0.3.0,>=0.1.2->napari[all]->pyCERR[napari]@ git+https://github.com/cerr/pyCERR.git@testing)\n",
            "  Downloading pydantic_compat-0.1.2-py3-none-any.whl (13 kB)\n",
            "Collecting heapdict (from cachey>=0.2.1->napari[all]->pyCERR[napari]@ git+https://github.com/cerr/pyCERR.git@testing)\n",
            "  Downloading HeapDict-1.0.1-py3-none-any.whl (3.9 kB)\n",
            "Requirement already satisfied: click>=8.0 in /usr/local/lib/python3.10/dist-packages (from dask[array]!=2.28.0,>=2.15.0->napari[all]->pyCERR[napari]@ git+https://github.com/cerr/pyCERR.git@testing) (8.1.7)\n",
            "Requirement already satisfied: cloudpickle>=1.5.0 in /usr/local/lib/python3.10/dist-packages (from dask[array]!=2.28.0,>=2.15.0->napari[all]->pyCERR[napari]@ git+https://github.com/cerr/pyCERR.git@testing) (2.2.1)\n",
            "Requirement already satisfied: fsspec>=2021.09.0 in /usr/local/lib/python3.10/dist-packages (from dask[array]!=2.28.0,>=2.15.0->napari[all]->pyCERR[napari]@ git+https://github.com/cerr/pyCERR.git@testing) (2023.6.0)\n",
            "Requirement already satisfied: partd>=1.2.0 in /usr/local/lib/python3.10/dist-packages (from dask[array]!=2.28.0,>=2.15.0->napari[all]->pyCERR[napari]@ git+https://github.com/cerr/pyCERR.git@testing) (1.4.2)\n",
            "Requirement already satisfied: importlib-metadata>=4.13.0 in /usr/local/lib/python3.10/dist-packages (from dask[array]!=2.28.0,>=2.15.0->napari[all]->pyCERR[napari]@ git+https://github.com/cerr/pyCERR.git@testing) (7.1.0)\n",
            "Requirement already satisfied: jupyter-client in /usr/local/lib/python3.10/dist-packages (from ipykernel>=4.5.1->ipywidgets->pyCERR[napari]@ git+https://github.com/cerr/pyCERR.git@testing) (6.1.12)\n",
            "Requirement already satisfied: tornado>=4.2 in /usr/local/lib/python3.10/dist-packages (from ipykernel>=4.5.1->ipywidgets->pyCERR[napari]@ git+https://github.com/cerr/pyCERR.git@testing) (6.3.3)\n",
            "Collecting jedi>=0.16 (from ipython>=4.0.0->ipywidgets->pyCERR[napari]@ git+https://github.com/cerr/pyCERR.git@testing)\n",
            "  Downloading jedi-0.19.1-py2.py3-none-any.whl (1.6 MB)\n",
            "\u001b[2K     \u001b[90m━━━━━━━━━━━━━━━━━━━━━━━━━━━━━━━━━━━━━━━━\u001b[0m \u001b[32m1.6/1.6 MB\u001b[0m \u001b[31m79.2 MB/s\u001b[0m eta \u001b[36m0:00:00\u001b[0m\n",
            "\u001b[?25hRequirement already satisfied: decorator in /usr/local/lib/python3.10/dist-packages (from ipython>=4.0.0->ipywidgets->pyCERR[napari]@ git+https://github.com/cerr/pyCERR.git@testing) (4.4.2)\n",
            "Requirement already satisfied: pickleshare in /usr/local/lib/python3.10/dist-packages (from ipython>=4.0.0->ipywidgets->pyCERR[napari]@ git+https://github.com/cerr/pyCERR.git@testing) (0.7.5)\n",
            "Requirement already satisfied: prompt-toolkit!=3.0.0,!=3.0.1,<3.1.0,>=2.0.0 in /usr/local/lib/python3.10/dist-packages (from ipython>=4.0.0->ipywidgets->pyCERR[napari]@ git+https://github.com/cerr/pyCERR.git@testing) (3.0.45)\n",
            "Requirement already satisfied: backcall in /usr/local/lib/python3.10/dist-packages (from ipython>=4.0.0->ipywidgets->pyCERR[napari]@ git+https://github.com/cerr/pyCERR.git@testing) (0.2.0)\n",
            "Requirement already satisfied: matplotlib-inline in /usr/local/lib/python3.10/dist-packages (from ipython>=4.0.0->ipywidgets->pyCERR[napari]@ git+https://github.com/cerr/pyCERR.git@testing) (0.1.7)\n",
            "Requirement already satisfied: pexpect>4.3 in /usr/local/lib/python3.10/dist-packages (from ipython>=4.0.0->ipywidgets->pyCERR[napari]@ git+https://github.com/cerr/pyCERR.git@testing) (4.9.0)\n",
            "Requirement already satisfied: attrs>=22.2.0 in /usr/local/lib/python3.10/dist-packages (from jsonschema>=3.2.0->napari[all]->pyCERR[napari]@ git+https://github.com/cerr/pyCERR.git@testing) (23.2.0)\n",
            "Requirement already satisfied: jsonschema-specifications>=2023.03.6 in /usr/local/lib/python3.10/dist-packages (from jsonschema>=3.2.0->napari[all]->pyCERR[napari]@ git+https://github.com/cerr/pyCERR.git@testing) (2023.12.1)\n",
            "Requirement already satisfied: referencing>=0.28.4 in /usr/local/lib/python3.10/dist-packages (from jsonschema>=3.2.0->napari[all]->pyCERR[napari]@ git+https://github.com/cerr/pyCERR.git@testing) (0.35.1)\n",
            "Requirement already satisfied: rpds-py>=0.7.1 in /usr/local/lib/python3.10/dist-packages (from jsonschema>=3.2.0->napari[all]->pyCERR[napari]@ git+https://github.com/cerr/pyCERR.git@testing) (0.18.1)\n",
            "Requirement already satisfied: docstring-parser>=0.7 in /usr/local/lib/python3.10/dist-packages (from magicgui>=0.3.6->napari[all]->pyCERR[napari]@ git+https://github.com/cerr/pyCERR.git@testing) (0.16)\n",
            "Collecting qtconsole!=4.7.6,!=5.4.2,>=4.5.1 (from napari-console>=0.0.9->napari[all]->pyCERR[napari]@ git+https://github.com/cerr/pyCERR.git@testing)\n",
            "  Downloading qtconsole-5.5.2-py3-none-any.whl (123 kB)\n",
            "\u001b[2K     \u001b[90m━━━━━━━━━━━━━━━━━━━━━━━━━━━━━━━━━━━━━━━━\u001b[0m \u001b[32m123.4/123.4 kB\u001b[0m \u001b[31m17.4 MB/s\u001b[0m eta \u001b[36m0:00:00\u001b[0m\n",
            "\u001b[?25hRequirement already satisfied: pip in /usr/local/lib/python3.10/dist-packages (from napari-plugin-manager<0.2.0,>=0.1.0a1->napari[all]->pyCERR[napari]@ git+https://github.com/cerr/pyCERR.git@testing) (23.1.2)\n",
            "Requirement already satisfied: build>=1 in /usr/local/lib/python3.10/dist-packages (from npe2>=0.7.2->napari[all]->pyCERR[napari]@ git+https://github.com/cerr/pyCERR.git@testing) (1.2.1)\n",
            "Requirement already satisfied: rich in /usr/local/lib/python3.10/dist-packages (from npe2>=0.7.2->napari[all]->pyCERR[napari]@ git+https://github.com/cerr/pyCERR.git@testing) (13.7.1)\n",
            "Collecting tomli-w (from npe2>=0.7.2->napari[all]->pyCERR[napari]@ git+https://github.com/cerr/pyCERR.git@testing)\n",
            "  Downloading tomli_w-1.0.0-py3-none-any.whl (6.0 kB)\n",
            "Requirement already satisfied: tomli in /usr/local/lib/python3.10/dist-packages (from npe2>=0.7.2->napari[all]->pyCERR[napari]@ git+https://github.com/cerr/pyCERR.git@testing) (2.0.1)\n",
            "Requirement already satisfied: typer in /usr/local/lib/python3.10/dist-packages (from npe2>=0.7.2->napari[all]->pyCERR[napari]@ git+https://github.com/cerr/pyCERR.git@testing) (0.9.4)\n",
            "Requirement already satisfied: llvmlite<0.42,>=0.41.0dev0 in /usr/local/lib/python3.10/dist-packages (from numba>=0.57.1->napari[all]->pyCERR[napari]@ git+https://github.com/cerr/pyCERR.git@testing) (0.41.1)\n",
            "Collecting sphinx>=6 (from numpydoc>=0.9.2->napari[all]->pyCERR[napari]@ git+https://github.com/cerr/pyCERR.git@testing)\n",
            "  Downloading sphinx-7.3.7-py3-none-any.whl (3.3 MB)\n",
            "\u001b[2K     \u001b[90m━━━━━━━━━━━━━━━━━━━━━━━━━━━━━━━━━━━━━━━━\u001b[0m \u001b[32m3.3/3.3 MB\u001b[0m \u001b[31m46.9 MB/s\u001b[0m eta \u001b[36m0:00:00\u001b[0m\n",
            "\u001b[?25hRequirement already satisfied: tabulate>=0.8.10 in /usr/local/lib/python3.10/dist-packages (from numpydoc>=0.9.2->napari[all]->pyCERR[napari]@ git+https://github.com/cerr/pyCERR.git@testing) (0.9.0)\n",
            "Collecting flexcache>=0.3 (from pint>=0.17->napari[all]->pyCERR[napari]@ git+https://github.com/cerr/pyCERR.git@testing)\n",
            "  Downloading flexcache-0.3-py3-none-any.whl (13 kB)\n",
            "Collecting flexparser>=0.3 (from pint>=0.17->napari[all]->pyCERR[napari]@ git+https://github.com/cerr/pyCERR.git@testing)\n",
            "  Downloading flexparser-0.3.1-py3-none-any.whl (27 kB)\n",
            "Requirement already satisfied: annotated-types>=0.4.0 in /usr/local/lib/python3.10/dist-packages (from pydantic>=1.9.0->napari[all]->pyCERR[napari]@ git+https://github.com/cerr/pyCERR.git@testing) (0.7.0)\n",
            "Requirement already satisfied: pydantic-core==2.18.4 in /usr/local/lib/python3.10/dist-packages (from pydantic>=1.9.0->napari[all]->pyCERR[napari]@ git+https://github.com/cerr/pyCERR.git@testing) (2.18.4)\n",
            "Collecting PyQt5-sip<13,>=12.13 (from PyQt5!=5.15.0,>=5.12.3->napari[all]->pyCERR[napari]@ git+https://github.com/cerr/pyCERR.git@testing)\n",
            "  Downloading PyQt5_sip-12.13.0-cp310-cp310-manylinux_2_5_x86_64.manylinux1_x86_64.whl (338 kB)\n",
            "\u001b[2K     \u001b[90m━━━━━━━━━━━━━━━━━━━━━━━━━━━━━━━━━━━━━━━━\u001b[0m \u001b[32m338.1/338.1 kB\u001b[0m \u001b[31m36.9 MB/s\u001b[0m eta \u001b[36m0:00:00\u001b[0m\n",
            "\u001b[?25hCollecting PyQt5-Qt5>=5.15.2 (from PyQt5!=5.15.0,>=5.12.3->napari[all]->pyCERR[napari]@ git+https://github.com/cerr/pyCERR.git@testing)\n",
            "  Downloading PyQt5_Qt5-5.15.2-py3-none-manylinux2014_x86_64.whl (59.9 MB)\n",
            "\u001b[2K     \u001b[90m━━━━━━━━━━━━━━━━━━━━━━━━━━━━━━━━━━━━━━━━\u001b[0m \u001b[32m59.9/59.9 MB\u001b[0m \u001b[31m9.9 MB/s\u001b[0m eta \u001b[36m0:00:00\u001b[0m\n",
            "\u001b[?25hRequirement already satisfied: pooch>=1.3.0 in /usr/local/lib/python3.10/dist-packages (from scikit-image->pyCERR[napari]@ git+https://github.com/cerr/pyCERR.git@testing) (1.8.1)\n",
            "Collecting freetype-py (from vispy<0.15,>=0.14.1->napari[all]->pyCERR[napari]@ git+https://github.com/cerr/pyCERR.git@testing)\n",
            "  Downloading freetype_py-2.4.0-py3-none-manylinux_2_5_x86_64.manylinux1_x86_64.manylinux_2_12_x86_64.manylinux2010_x86_64.whl (1.0 MB)\n",
            "\u001b[2K     \u001b[90m━━━━━━━━━━━━━━━━━━━━━━━━━━━━━━━━━━━━━━━━\u001b[0m \u001b[32m1.0/1.0 MB\u001b[0m \u001b[31m68.3 MB/s\u001b[0m eta \u001b[36m0:00:00\u001b[0m\n",
            "\u001b[?25hCollecting hsluv (from vispy<0.15,>=0.14.1->napari[all]->pyCERR[napari]@ git+https://github.com/cerr/pyCERR.git@testing)\n",
            "  Downloading hsluv-5.0.4-py2.py3-none-any.whl (5.3 kB)\n",
            "Requirement already satisfied: notebook>=4.4.1 in /usr/local/lib/python3.10/dist-packages (from widgetsnbextension~=3.6.0->ipywidgets->pyCERR[napari]@ git+https://github.com/cerr/pyCERR.git@testing) (6.5.5)\n",
            "Requirement already satisfied: pyproject_hooks in /usr/local/lib/python3.10/dist-packages (from build>=1->npe2>=0.7.2->napari[all]->pyCERR[napari]@ git+https://github.com/cerr/pyCERR.git@testing) (1.1.0)\n",
            "Requirement already satisfied: zipp>=0.5 in /usr/local/lib/python3.10/dist-packages (from importlib-metadata>=4.13.0->dask[array]!=2.28.0,>=2.15.0->napari[all]->pyCERR[napari]@ git+https://github.com/cerr/pyCERR.git@testing) (3.19.1)\n",
            "Requirement already satisfied: parso<0.9.0,>=0.8.3 in /usr/local/lib/python3.10/dist-packages (from jedi>=0.16->ipython>=4.0.0->ipywidgets->pyCERR[napari]@ git+https://github.com/cerr/pyCERR.git@testing) (0.8.4)\n",
            "Requirement already satisfied: jinja2 in /usr/local/lib/python3.10/dist-packages (from notebook>=4.4.1->widgetsnbextension~=3.6.0->ipywidgets->pyCERR[napari]@ git+https://github.com/cerr/pyCERR.git@testing) (3.1.4)\n",
            "Requirement already satisfied: pyzmq<25,>=17 in /usr/local/lib/python3.10/dist-packages (from notebook>=4.4.1->widgetsnbextension~=3.6.0->ipywidgets->pyCERR[napari]@ git+https://github.com/cerr/pyCERR.git@testing) (24.0.1)\n",
            "Requirement already satisfied: argon2-cffi in /usr/local/lib/python3.10/dist-packages (from notebook>=4.4.1->widgetsnbextension~=3.6.0->ipywidgets->pyCERR[napari]@ git+https://github.com/cerr/pyCERR.git@testing) (23.1.0)\n",
            "Requirement already satisfied: jupyter-core>=4.6.1 in /usr/local/lib/python3.10/dist-packages (from notebook>=4.4.1->widgetsnbextension~=3.6.0->ipywidgets->pyCERR[napari]@ git+https://github.com/cerr/pyCERR.git@testing) (5.7.2)\n",
            "Requirement already satisfied: nbformat in /usr/local/lib/python3.10/dist-packages (from notebook>=4.4.1->widgetsnbextension~=3.6.0->ipywidgets->pyCERR[napari]@ git+https://github.com/cerr/pyCERR.git@testing) (5.10.4)\n",
            "Requirement already satisfied: nbconvert>=5 in /usr/local/lib/python3.10/dist-packages (from notebook>=4.4.1->widgetsnbextension~=3.6.0->ipywidgets->pyCERR[napari]@ git+https://github.com/cerr/pyCERR.git@testing) (6.5.4)\n",
            "Requirement already satisfied: nest-asyncio>=1.5 in /usr/local/lib/python3.10/dist-packages (from notebook>=4.4.1->widgetsnbextension~=3.6.0->ipywidgets->pyCERR[napari]@ git+https://github.com/cerr/pyCERR.git@testing) (1.6.0)\n",
            "Requirement already satisfied: Send2Trash>=1.8.0 in /usr/local/lib/python3.10/dist-packages (from notebook>=4.4.1->widgetsnbextension~=3.6.0->ipywidgets->pyCERR[napari]@ git+https://github.com/cerr/pyCERR.git@testing) (1.8.3)\n",
            "Requirement already satisfied: terminado>=0.8.3 in /usr/local/lib/python3.10/dist-packages (from notebook>=4.4.1->widgetsnbextension~=3.6.0->ipywidgets->pyCERR[napari]@ git+https://github.com/cerr/pyCERR.git@testing) (0.18.1)\n",
            "Requirement already satisfied: prometheus-client in /usr/local/lib/python3.10/dist-packages (from notebook>=4.4.1->widgetsnbextension~=3.6.0->ipywidgets->pyCERR[napari]@ git+https://github.com/cerr/pyCERR.git@testing) (0.20.0)\n",
            "Requirement already satisfied: nbclassic>=0.4.7 in /usr/local/lib/python3.10/dist-packages (from notebook>=4.4.1->widgetsnbextension~=3.6.0->ipywidgets->pyCERR[napari]@ git+https://github.com/cerr/pyCERR.git@testing) (1.1.0)\n",
            "Requirement already satisfied: locket in /usr/local/lib/python3.10/dist-packages (from partd>=1.2.0->dask[array]!=2.28.0,>=2.15.0->napari[all]->pyCERR[napari]@ git+https://github.com/cerr/pyCERR.git@testing) (1.0.0)\n",
            "Requirement already satisfied: ptyprocess>=0.5 in /usr/local/lib/python3.10/dist-packages (from pexpect>4.3->ipython>=4.0.0->ipywidgets->pyCERR[napari]@ git+https://github.com/cerr/pyCERR.git@testing) (0.7.0)\n",
            "Requirement already satisfied: platformdirs>=2.5.0 in /usr/local/lib/python3.10/dist-packages (from pooch>=1.3.0->scikit-image->pyCERR[napari]@ git+https://github.com/cerr/pyCERR.git@testing) (4.2.2)\n",
            "Requirement already satisfied: requests>=2.19.0 in /usr/local/lib/python3.10/dist-packages (from pooch>=1.3.0->scikit-image->pyCERR[napari]@ git+https://github.com/cerr/pyCERR.git@testing) (2.31.0)\n",
            "Requirement already satisfied: wcwidth in /usr/local/lib/python3.10/dist-packages (from prompt-toolkit!=3.0.0,!=3.0.1,<3.1.0,>=2.0.0->ipython>=4.0.0->ipywidgets->pyCERR[napari]@ git+https://github.com/cerr/pyCERR.git@testing) (0.2.13)\n",
            "Requirement already satisfied: sphinxcontrib-applehelp in /usr/local/lib/python3.10/dist-packages (from sphinx>=6->numpydoc>=0.9.2->napari[all]->pyCERR[napari]@ git+https://github.com/cerr/pyCERR.git@testing) (1.0.8)\n",
            "Requirement already satisfied: sphinxcontrib-devhelp in /usr/local/lib/python3.10/dist-packages (from sphinx>=6->numpydoc>=0.9.2->napari[all]->pyCERR[napari]@ git+https://github.com/cerr/pyCERR.git@testing) (1.0.6)\n",
            "Requirement already satisfied: sphinxcontrib-jsmath in /usr/local/lib/python3.10/dist-packages (from sphinx>=6->numpydoc>=0.9.2->napari[all]->pyCERR[napari]@ git+https://github.com/cerr/pyCERR.git@testing) (1.0.1)\n",
            "Requirement already satisfied: sphinxcontrib-htmlhelp>=2.0.0 in /usr/local/lib/python3.10/dist-packages (from sphinx>=6->numpydoc>=0.9.2->napari[all]->pyCERR[napari]@ git+https://github.com/cerr/pyCERR.git@testing) (2.0.5)\n",
            "Requirement already satisfied: sphinxcontrib-serializinghtml>=1.1.9 in /usr/local/lib/python3.10/dist-packages (from sphinx>=6->numpydoc>=0.9.2->napari[all]->pyCERR[napari]@ git+https://github.com/cerr/pyCERR.git@testing) (1.1.10)\n",
            "Requirement already satisfied: sphinxcontrib-qthelp in /usr/local/lib/python3.10/dist-packages (from sphinx>=6->numpydoc>=0.9.2->napari[all]->pyCERR[napari]@ git+https://github.com/cerr/pyCERR.git@testing) (1.0.7)\n",
            "Requirement already satisfied: docutils<0.22,>=0.18.1 in /usr/local/lib/python3.10/dist-packages (from sphinx>=6->numpydoc>=0.9.2->napari[all]->pyCERR[napari]@ git+https://github.com/cerr/pyCERR.git@testing) (0.18.1)\n",
            "Requirement already satisfied: snowballstemmer>=2.0 in /usr/local/lib/python3.10/dist-packages (from sphinx>=6->numpydoc>=0.9.2->napari[all]->pyCERR[napari]@ git+https://github.com/cerr/pyCERR.git@testing) (2.2.0)\n",
            "Requirement already satisfied: babel>=2.9 in /usr/local/lib/python3.10/dist-packages (from sphinx>=6->numpydoc>=0.9.2->napari[all]->pyCERR[napari]@ git+https://github.com/cerr/pyCERR.git@testing) (2.15.0)\n",
            "Requirement already satisfied: alabaster~=0.7.14 in /usr/local/lib/python3.10/dist-packages (from sphinx>=6->numpydoc>=0.9.2->napari[all]->pyCERR[napari]@ git+https://github.com/cerr/pyCERR.git@testing) (0.7.16)\n",
            "Requirement already satisfied: imagesize>=1.3 in /usr/local/lib/python3.10/dist-packages (from sphinx>=6->numpydoc>=0.9.2->napari[all]->pyCERR[napari]@ git+https://github.com/cerr/pyCERR.git@testing) (1.4.1)\n",
            "Collecting pyconify>=0.1.4 (from superqt>=0.4.1->napari[all]->pyCERR[napari]@ git+https://github.com/cerr/pyCERR.git@testing)\n",
            "  Downloading pyconify-0.1.6-py3-none-any.whl (18 kB)\n",
            "Requirement already satisfied: markdown-it-py>=2.2.0 in /usr/local/lib/python3.10/dist-packages (from rich->npe2>=0.7.2->napari[all]->pyCERR[napari]@ git+https://github.com/cerr/pyCERR.git@testing) (3.0.0)\n",
            "Requirement already satisfied: MarkupSafe>=2.0 in /usr/local/lib/python3.10/dist-packages (from jinja2->notebook>=4.4.1->widgetsnbextension~=3.6.0->ipywidgets->pyCERR[napari]@ git+https://github.com/cerr/pyCERR.git@testing) (2.1.5)\n",
            "Requirement already satisfied: mdurl~=0.1 in /usr/local/lib/python3.10/dist-packages (from markdown-it-py>=2.2.0->rich->npe2>=0.7.2->napari[all]->pyCERR[napari]@ git+https://github.com/cerr/pyCERR.git@testing) (0.1.2)\n",
            "Requirement already satisfied: notebook-shim>=0.2.3 in /usr/local/lib/python3.10/dist-packages (from nbclassic>=0.4.7->notebook>=4.4.1->widgetsnbextension~=3.6.0->ipywidgets->pyCERR[napari]@ git+https://github.com/cerr/pyCERR.git@testing) (0.2.4)\n",
            "Requirement already satisfied: lxml in /usr/local/lib/python3.10/dist-packages (from nbconvert>=5->notebook>=4.4.1->widgetsnbextension~=3.6.0->ipywidgets->pyCERR[napari]@ git+https://github.com/cerr/pyCERR.git@testing) (4.9.4)\n",
            "Requirement already satisfied: beautifulsoup4 in /usr/local/lib/python3.10/dist-packages (from nbconvert>=5->notebook>=4.4.1->widgetsnbextension~=3.6.0->ipywidgets->pyCERR[napari]@ git+https://github.com/cerr/pyCERR.git@testing) (4.12.3)\n",
            "Requirement already satisfied: bleach in /usr/local/lib/python3.10/dist-packages (from nbconvert>=5->notebook>=4.4.1->widgetsnbextension~=3.6.0->ipywidgets->pyCERR[napari]@ git+https://github.com/cerr/pyCERR.git@testing) (6.1.0)\n",
            "Requirement already satisfied: defusedxml in /usr/local/lib/python3.10/dist-packages (from nbconvert>=5->notebook>=4.4.1->widgetsnbextension~=3.6.0->ipywidgets->pyCERR[napari]@ git+https://github.com/cerr/pyCERR.git@testing) (0.7.1)\n",
            "Requirement already satisfied: entrypoints>=0.2.2 in /usr/local/lib/python3.10/dist-packages (from nbconvert>=5->notebook>=4.4.1->widgetsnbextension~=3.6.0->ipywidgets->pyCERR[napari]@ git+https://github.com/cerr/pyCERR.git@testing) (0.4)\n",
            "Requirement already satisfied: jupyterlab-pygments in /usr/local/lib/python3.10/dist-packages (from nbconvert>=5->notebook>=4.4.1->widgetsnbextension~=3.6.0->ipywidgets->pyCERR[napari]@ git+https://github.com/cerr/pyCERR.git@testing) (0.3.0)\n",
            "Requirement already satisfied: mistune<2,>=0.8.1 in /usr/local/lib/python3.10/dist-packages (from nbconvert>=5->notebook>=4.4.1->widgetsnbextension~=3.6.0->ipywidgets->pyCERR[napari]@ git+https://github.com/cerr/pyCERR.git@testing) (0.8.4)\n",
            "Requirement already satisfied: nbclient>=0.5.0 in /usr/local/lib/python3.10/dist-packages (from nbconvert>=5->notebook>=4.4.1->widgetsnbextension~=3.6.0->ipywidgets->pyCERR[napari]@ git+https://github.com/cerr/pyCERR.git@testing) (0.10.0)\n",
            "Requirement already satisfied: pandocfilters>=1.4.1 in /usr/local/lib/python3.10/dist-packages (from nbconvert>=5->notebook>=4.4.1->widgetsnbextension~=3.6.0->ipywidgets->pyCERR[napari]@ git+https://github.com/cerr/pyCERR.git@testing) (1.5.1)\n",
            "Requirement already satisfied: tinycss2 in /usr/local/lib/python3.10/dist-packages (from nbconvert>=5->notebook>=4.4.1->widgetsnbextension~=3.6.0->ipywidgets->pyCERR[napari]@ git+https://github.com/cerr/pyCERR.git@testing) (1.3.0)\n",
            "Requirement already satisfied: fastjsonschema>=2.15 in /usr/local/lib/python3.10/dist-packages (from nbformat->notebook>=4.4.1->widgetsnbextension~=3.6.0->ipywidgets->pyCERR[napari]@ git+https://github.com/cerr/pyCERR.git@testing) (2.19.1)\n",
            "Requirement already satisfied: charset-normalizer<4,>=2 in /usr/local/lib/python3.10/dist-packages (from requests>=2.19.0->pooch>=1.3.0->scikit-image->pyCERR[napari]@ git+https://github.com/cerr/pyCERR.git@testing) (3.3.2)\n",
            "Requirement already satisfied: idna<4,>=2.5 in /usr/local/lib/python3.10/dist-packages (from requests>=2.19.0->pooch>=1.3.0->scikit-image->pyCERR[napari]@ git+https://github.com/cerr/pyCERR.git@testing) (3.7)\n",
            "Requirement already satisfied: urllib3<3,>=1.21.1 in /usr/local/lib/python3.10/dist-packages (from requests>=2.19.0->pooch>=1.3.0->scikit-image->pyCERR[napari]@ git+https://github.com/cerr/pyCERR.git@testing) (2.0.7)\n",
            "Requirement already satisfied: argon2-cffi-bindings in /usr/local/lib/python3.10/dist-packages (from argon2-cffi->notebook>=4.4.1->widgetsnbextension~=3.6.0->ipywidgets->pyCERR[napari]@ git+https://github.com/cerr/pyCERR.git@testing) (21.2.0)\n",
            "Requirement already satisfied: jupyter-server<3,>=1.8 in /usr/local/lib/python3.10/dist-packages (from notebook-shim>=0.2.3->nbclassic>=0.4.7->notebook>=4.4.1->widgetsnbextension~=3.6.0->ipywidgets->pyCERR[napari]@ git+https://github.com/cerr/pyCERR.git@testing) (1.24.0)\n",
            "Requirement already satisfied: cffi>=1.0.1 in /usr/local/lib/python3.10/dist-packages (from argon2-cffi-bindings->argon2-cffi->notebook>=4.4.1->widgetsnbextension~=3.6.0->ipywidgets->pyCERR[napari]@ git+https://github.com/cerr/pyCERR.git@testing) (1.16.0)\n",
            "Requirement already satisfied: soupsieve>1.2 in /usr/local/lib/python3.10/dist-packages (from beautifulsoup4->nbconvert>=5->notebook>=4.4.1->widgetsnbextension~=3.6.0->ipywidgets->pyCERR[napari]@ git+https://github.com/cerr/pyCERR.git@testing) (2.5)\n",
            "Requirement already satisfied: webencodings in /usr/local/lib/python3.10/dist-packages (from bleach->nbconvert>=5->notebook>=4.4.1->widgetsnbextension~=3.6.0->ipywidgets->pyCERR[napari]@ git+https://github.com/cerr/pyCERR.git@testing) (0.5.1)\n",
            "Requirement already satisfied: pycparser in /usr/local/lib/python3.10/dist-packages (from cffi>=1.0.1->argon2-cffi-bindings->argon2-cffi->notebook>=4.4.1->widgetsnbextension~=3.6.0->ipywidgets->pyCERR[napari]@ git+https://github.com/cerr/pyCERR.git@testing) (2.22)\n",
            "Requirement already satisfied: anyio<4,>=3.1.0 in /usr/local/lib/python3.10/dist-packages (from jupyter-server<3,>=1.8->notebook-shim>=0.2.3->nbclassic>=0.4.7->notebook>=4.4.1->widgetsnbextension~=3.6.0->ipywidgets->pyCERR[napari]@ git+https://github.com/cerr/pyCERR.git@testing) (3.7.1)\n",
            "Requirement already satisfied: websocket-client in /usr/local/lib/python3.10/dist-packages (from jupyter-server<3,>=1.8->notebook-shim>=0.2.3->nbclassic>=0.4.7->notebook>=4.4.1->widgetsnbextension~=3.6.0->ipywidgets->pyCERR[napari]@ git+https://github.com/cerr/pyCERR.git@testing) (1.8.0)\n",
            "Requirement already satisfied: sniffio>=1.1 in /usr/local/lib/python3.10/dist-packages (from anyio<4,>=3.1.0->jupyter-server<3,>=1.8->notebook-shim>=0.2.3->nbclassic>=0.4.7->notebook>=4.4.1->widgetsnbextension~=3.6.0->ipywidgets->pyCERR[napari]@ git+https://github.com/cerr/pyCERR.git@testing) (1.3.1)\n",
            "Requirement already satisfied: exceptiongroup in /usr/local/lib/python3.10/dist-packages (from anyio<4,>=3.1.0->jupyter-server<3,>=1.8->notebook-shim>=0.2.3->nbclassic>=0.4.7->notebook>=4.4.1->widgetsnbextension~=3.6.0->ipywidgets->pyCERR[napari]@ git+https://github.com/cerr/pyCERR.git@testing) (1.2.1)\n",
            "Building wheels for collected packages: pyCERR\n",
            "  Building wheel for pyCERR (pyproject.toml) ... \u001b[?25l\u001b[?25hdone\n",
            "  Created wheel for pyCERR: filename=pycerr-0.1.dev406+g63ac0eb-py3-none-any.whl size=17429591 sha256=7fc34842d5bb3202009e4708ec9f03ff72d07687cfa24ec0075e3121f775f26c\n",
            "  Stored in directory: /tmp/pip-ephem-wheel-cache-37j9lopj/wheels/bd/53/eb/48c2cdcf129651345f4e2312c8a715aaf9243f86ac1dc99b14\n",
            "Successfully built pyCERR\n",
            "Installing collected packages: SimpleITK, PyQt5-Qt5, heapdict, appdirs, triangle, tomli-w, qtpy, PyQt5-sip, pydicom, psygnal, napari-plugin-engine, jedi, in-n-out, hsluv, freetype-py, flexparser, flexcache, cachey, vispy, superqt, sphinx, shapelysmooth, PyQt5, pyconify, pint, pydantic-compat, numpydoc, npe2, napari-svg, qtconsole, napari-plugin-manager, magicgui, app-model, napari-console, napari, pyCERR\n",
            "  Attempting uninstall: sphinx\n",
            "    Found existing installation: Sphinx 5.0.2\n",
            "    Uninstalling Sphinx-5.0.2:\n",
            "      Successfully uninstalled Sphinx-5.0.2\n",
            "Successfully installed PyQt5-5.15.10 PyQt5-Qt5-5.15.2 PyQt5-sip-12.13.0 SimpleITK-2.3.1 app-model-0.2.7 appdirs-1.4.4 cachey-0.2.1 flexcache-0.3 flexparser-0.3.1 freetype-py-2.4.0 heapdict-1.0.1 hsluv-5.0.4 in-n-out-0.2.1 jedi-0.19.1 magicgui-0.8.3 napari-0.4.19.post1 napari-console-0.0.9 napari-plugin-engine-0.2.0 napari-plugin-manager-0.1.0a2 napari-svg-0.1.10 npe2-0.7.5 numpydoc-1.7.0 pint-0.24 psygnal-0.11.1 pyCERR-0.1.dev406+g63ac0eb pyconify-0.1.6 pydantic-compat-0.1.2 pydicom-2.4.4 qtconsole-5.5.2 qtpy-2.4.1 shapelysmooth-0.2.0 sphinx-7.3.7 superqt-0.6.7 tomli-w-1.0.0 triangle-20230923 vispy-0.14.2\n"
          ]
        }
      ],
      "source": [
        "! pip install \"pyCERR[napari] @ git+https://github.com/cerr/pyCERR.git@testing\""
      ]
    },
    {
      "cell_type": "markdown",
      "metadata": {
        "id": "sfcIIiLQsgcM"
      },
      "source": [
        "# Functions for data pre- and post-processing"
      ]
    },
    {
      "cell_type": "markdown",
      "metadata": {
        "id": "1m955pAJsgcN"
      },
      "source": [
        "## Crop scan to Lung extents"
      ]
    },
    {
      "cell_type": "code",
      "execution_count": 12,
      "metadata": {
        "id": "FAXBqkTasgcN"
      },
      "outputs": [],
      "source": [
        "from cerr.dataclasses import structure as cerrStr\n",
        "from cerr.contour import rasterseg as rs\n",
        "from cerr.utils import identifyScan, imageProc\n",
        "from cerr.utils import mask\n",
        "import numpy as np\n",
        "\n",
        "def processInputData(scanNum, planC, lungNameList=['Lung_total', 'Lung_L', 'Lung_R']):\n",
        "\n",
        "    if isinstance(lungNameList, str):\n",
        "        lungNameList = [lungNameList]\n",
        "\n",
        "    # Extract scanArray\n",
        "    scan3M = planC.scan[scanNum].getScanArray()\n",
        "    mask3M = np.zeros(scan3M.shape, dtype=bool)\n",
        "\n",
        "    # List of Structure names\n",
        "    strNames = [s.structureName for s in planC.structure]\n",
        "    numOrigStructs = len(strNames)\n",
        "\n",
        "    # Get total lung mask\n",
        "    for lungName in lungNameList:\n",
        "        lungInd = cerrStr.getMatchingIndex(lungName, strNames, 'exact')\n",
        "        if len(lungInd) > 0:\n",
        "            # Get lung extents\n",
        "            mask3M = mask3M | rs.getStrMask(lungInd[0], planC)\n",
        "\n",
        "    if not np.any(mask3M):\n",
        "        raise Exception('Lung contour name did not match any structures in planC')\n",
        "\n",
        "    # Create cropped scan\n",
        "    rmin,rmax,cmin,cmax,smin,smax,_ = mask.compute_boundingbox(mask3M)\n",
        "    x,y,z = planC.scan[0].getScanXYZVals()\n",
        "    xCropV = x[cmin:cmax]\n",
        "    yCropV = y[rmin:rmax]\n",
        "    zCropV = z[smin:smax]\n",
        "    scan3M = planC.scan[0].getScanArray()\n",
        "    scanCrop3M = scan3M[rmin:rmax,cmin:cmax,smin:smax]\n",
        "\n",
        "    return scanCrop3M, (xCropV, yCropV, zCropV)\n"
      ]
    },
    {
      "cell_type": "markdown",
      "metadata": {
        "id": "C1KHjP1LsgcO"
      },
      "source": [
        "## Import AI segmentations to planC and retain only the largest connected component for each structure"
      ]
    },
    {
      "cell_type": "code",
      "execution_count": 13,
      "metadata": {
        "id": "W_GjRVWtsgcP"
      },
      "outputs": [],
      "source": [
        "#Import label map to CERR\n",
        "import glob\n",
        "from cerr import plan_container as pc\n",
        "\n",
        "atriaLabelDict = {1: 'DL_Atria'}\n",
        "heartSubSegDict = {2: 'DL_AORTA', 3: 'DL_LA',\n",
        "                   4: 'DL_LV', 5: 'DL_RA',\n",
        "                   6: 'DL_RV', 7: 'DL_IVC',\n",
        "                   8: 'DL_SVC', 9: 'DL_PA'}\n",
        "heartSegDict = {1: 'DL_heart'}\n",
        "periLabelDict = {1: 'DL_Pericardium'}\n",
        "ventriLabelDict = {1: 'DL_Ventricles'}\n",
        "\n",
        "def postProcAndImportSeg(outputDir,procScanNum,scanNum,planC):\n",
        "    niiGlob = glob.glob(os.path.join(outputDir,'*.nii.gz'))\n",
        "    for segFile in niiGlob:\n",
        "        print('Importing ' + segFile + '...')\n",
        "        # Get segFile name\n",
        "        if 'heart.nii.gz' in segFile:\n",
        "            strToLabelMap = heartSubSegDict\n",
        "        elif 'heartStructure.nii.gz' in segFile:\n",
        "            strToLabelMap = heartSegDict\n",
        "        elif 'atria.nii.gz' in segFile:\n",
        "            strToLabelMap = atriaLabelDict\n",
        "        elif 'pericardium.nii.gz' in segFile:\n",
        "            strToLabelMap = periLabelDict\n",
        "        elif 'ventricles.nii.gz' in segFile:\n",
        "            strToLabelMap = ventriLabelDict\n",
        "        numLabel = len(strToLabelMap)\n",
        "        numStrOrig = len(planC.structure)\n",
        "        planC = pc.load_nii_structure(segFile, procScanNum, planC, \\\n",
        "                                  labels_dict = strToLabelMap)\n",
        "        numStructs = len(planC.structure)\n",
        "        cpyStrNumV = np.arange(numStrOrig,numStructs)\n",
        "        numComponents = 1\n",
        "        for label in range(numLabel):\n",
        "            # Copy segmentaton from cropped to the original scan\n",
        "            planC = cerrStr.copyToScan(cpyStrNumV[label], scanNum, planC)\n",
        "            origStrNum = len(planC.structure) - 1\n",
        "            mask3M = rs.getStrMask(origStrNum,planC)\n",
        "            # Post-process segmentation to retain the largest connected component\n",
        "            procMask3M, _ = imageProc.getLargestConnComps(mask3M,numComponents)\n",
        "            strName = planC.structure[origStrNum].structureName #strToLabelMap[label+1]\n",
        "            planC = pc.import_structure_mask(procMask3M, scanNum, strName, origStrNum, planC)\n",
        "            # Delete segmentation before post-processing\n",
        "            # del planC.structure[origStrNum]\n",
        "\n",
        "    return planC"
      ]
    },
    {
      "cell_type": "markdown",
      "metadata": {
        "id": "zj7t-J4isgcQ"
      },
      "source": [
        "# Segment OARs for all the CT scans located at *inputDicomPath*"
      ]
    },
    {
      "cell_type": "code",
      "source": [
        "from cerr.utils.identifyScan import getScanNumFromIdentifier"
      ],
      "metadata": {
        "id": "xaSCMZ2Tqwg6"
      },
      "execution_count": 27,
      "outputs": []
    },
    {
      "cell_type": "code",
      "execution_count": 28,
      "metadata": {
        "id": "WCuUi5D6sgcS",
        "outputId": "db7cc874-f7c0-46d1-bfe5-3084e5d78201",
        "colab": {
          "base_uri": "https://localhost:8080/",
          "height": 388
        }
      },
      "outputs": [
        {
          "output_type": "stream",
          "name": "stdout",
          "text": [
            "/content/sampleData/testPlanningCTdicom/0617_test\n",
            "('0617-259694', '0617-259694', '1.3.6.1.4.1.14519.5.2.1.6329.6468.109218621610560682044382179111', '1.3.6.1.4.1.14519.5.2.1.6329.6468.208597257645079747725955792395', 'CT', 'CT', 'CT', 'CT', 'CT', 'CT', 'CT')\n"
          ]
        },
        {
          "output_type": "error",
          "ename": "Exception",
          "evalue": "Lung contour name did not match any structures in planC",
          "traceback": [
            "\u001b[0;31m---------------------------------------------------------------------------\u001b[0m",
            "\u001b[0;31mException\u001b[0m                                 Traceback (most recent call last)",
            "\u001b[0;32m<ipython-input-28-1ea76a67bb6f>\u001b[0m in \u001b[0;36m<cell line: 17>\u001b[0;34m()\u001b[0m\n\u001b[1;32m     32\u001b[0m \u001b[0;34m\u001b[0m\u001b[0m\n\u001b[1;32m     33\u001b[0m     \u001b[0;31m# Pre-process data\u001b[0m\u001b[0;34m\u001b[0m\u001b[0;34m\u001b[0m\u001b[0m\n\u001b[0;32m---> 34\u001b[0;31m     \u001b[0mprocScan3M\u001b[0m\u001b[0;34m,\u001b[0m \u001b[0mresizeGridS\u001b[0m \u001b[0;34m=\u001b[0m \u001b[0mprocessInputData\u001b[0m\u001b[0;34m(\u001b[0m\u001b[0mscanNum\u001b[0m\u001b[0;34m,\u001b[0m \u001b[0mplanC\u001b[0m\u001b[0;34m,\u001b[0m \u001b[0mlungNameList\u001b[0m\u001b[0;34m)\u001b[0m\u001b[0;34m\u001b[0m\u001b[0;34m\u001b[0m\u001b[0m\n\u001b[0m\u001b[1;32m     35\u001b[0m     planC = pc.import_scan_array(procScan3M, resizeGridS[0], \\\n\u001b[1;32m     36\u001b[0m             resizeGridS[1], resizeGridS[2], modality, scanNum, planC)\n",
            "\u001b[0;32m<ipython-input-12-9a19b79c06cd>\u001b[0m in \u001b[0;36mprocessInputData\u001b[0;34m(scanNum, planC, lungNameList)\u001b[0m\n\u001b[1;32m     26\u001b[0m \u001b[0;34m\u001b[0m\u001b[0m\n\u001b[1;32m     27\u001b[0m     \u001b[0;32mif\u001b[0m \u001b[0;32mnot\u001b[0m \u001b[0mnp\u001b[0m\u001b[0;34m.\u001b[0m\u001b[0many\u001b[0m\u001b[0;34m(\u001b[0m\u001b[0mmask3M\u001b[0m\u001b[0;34m)\u001b[0m\u001b[0;34m:\u001b[0m\u001b[0;34m\u001b[0m\u001b[0;34m\u001b[0m\u001b[0m\n\u001b[0;32m---> 28\u001b[0;31m         \u001b[0;32mraise\u001b[0m \u001b[0mException\u001b[0m\u001b[0;34m(\u001b[0m\u001b[0;34m'Lung contour name did not match any structures in planC'\u001b[0m\u001b[0;34m)\u001b[0m\u001b[0;34m\u001b[0m\u001b[0;34m\u001b[0m\u001b[0m\n\u001b[0m\u001b[1;32m     29\u001b[0m \u001b[0;34m\u001b[0m\u001b[0m\n\u001b[1;32m     30\u001b[0m     \u001b[0;31m# Create cropped scan\u001b[0m\u001b[0;34m\u001b[0m\u001b[0;34m\u001b[0m\u001b[0m\n",
            "\u001b[0;31mException\u001b[0m: Lung contour name did not match any structures in planC"
          ]
        }
      ],
      "source": [
        "#%%capture\n",
        "import os\n",
        "import subprocess\n",
        "import numpy as np\n",
        "import cerr\n",
        "from cerr import plan_container as pc\n",
        "from cerr.dataclasses import scan as cerrScn\n",
        "from cerr.utils.aiPipeline import createSessionDir as cdir\n",
        "from cerr.dcm_export import rtstruct_iod\n",
        "\n",
        "# Loop over pyCERR files\n",
        "fileList = os.listdir(dataDownloadDir)\n",
        "numFiles = len(fileList)\n",
        "modality = 'CT SCAN'\n",
        "lungNameList = ['LUNG_TOTAL', 'LUNG_CNTR', 'LUNG_IPSI']\n",
        "\n",
        "for iFile in range(numFiles):\n",
        "\n",
        "    dcmDir = os.path.join(dataDownloadDir,fileList[iFile])\n",
        "    print(dcmDir)\n",
        "\n",
        "    # Create session dir to store temporary data\n",
        "    modInputPath, modOutputPath = cdir(sessionPath, inputDicomPath)\n",
        "\n",
        "    # Import DICOM to planC\n",
        "    planC = pc.load_dcm_dir(dcmDir)\n",
        "\n",
        "    # Identify scan index in  planC\n",
        "    scanIdS = {\"imageType\": modality}\n",
        "    matchScanV = identifyScan.getScanNumFromIdentifier(scanIdS, planC, False)\n",
        "    scanNum = matchScanV[0]\n",
        "\n",
        "    # Pre-process data\n",
        "    procScan3M, resizeGridS = processInputData(scanNum, planC, lungNameList)\n",
        "    planC = pc.import_scan_array(procScan3M, resizeGridS[0], \\\n",
        "            resizeGridS[1], resizeGridS[2], modality, scanNum, planC)\n",
        "    procScanNum = len(planC.scan) - 1\n",
        "\n",
        "    # Export inputs to NIfTI\n",
        "    scanFilename = os.path.join(modInputPath, f\"{fileList[iFile]}_scan_3D.nii.gz\")\n",
        "    planC.scan[procScanNum].save_nii(scanFilename)\n",
        "\n",
        "    numOrigStructs = len(planC.structure)\n",
        "\n",
        "    # Apply model\n",
        "    runScript = \"source \" + heartEnvActivateScript + \" && python \" + wrapperPath \\\n",
        "                  + \" \" + modInputPath + \" \" + modOutputPath\n",
        "    print(runScript)\n",
        "    subprocess.run(runScript,\n",
        "                 capture_output=False,\n",
        "                  shell=True,\n",
        "                  executable=\"/bin/bash\")\n",
        "\n",
        "    # Import results to planC\n",
        "    planC = postProcAndImportSeg(modOutputPath,procScanNum,scanNum,planC)\n",
        "\n",
        "    numStructs = len(planC.structure)\n",
        "\n",
        "    # Export segmentations to DICOM\n",
        "    structFileName = fileList[iFile] + '_AI_seg.dcm'\n",
        "    structFilePath = os.path.join(outputDicomPath,structFileName)\n",
        "    structNumV = np.arange(numOrigStructs, numStructs)\n",
        "    indOrigV = np.array([cerrScn.getScanNumFromUID(planC.structure[structNum].assocScanUID, planC) for structNum in structNumV], dtype=int)\n",
        "    origIndsToExportV = structNumV[indOrigV == scanNum]\n",
        "    seriesDescription = \"AI Generated\"\n",
        "    exportOpts = {'seriesDescription': seriesDescription}\n",
        "    rtstruct_iod.create(origIndsToExportV,structFilePath,planC,exportOpts)\n"
      ]
    },
    {
      "cell_type": "markdown",
      "metadata": {
        "id": "Tx_P3QysaV0y"
      },
      "source": [
        "# Optional - Download the outputDicomPath to Workspace bucket"
      ]
    },
    {
      "cell_type": "code",
      "execution_count": null,
      "metadata": {
        "id": "ULiNcg5gaV0z"
      },
      "outputs": [],
      "source": [
        "# workspaceBucket = os.environ['WORKSPACE_BUCKET']\n",
        "# !gcloud storage cp -r {outputDicomPath} {workspaceBucket}"
      ]
    },
    {
      "cell_type": "markdown",
      "metadata": {
        "id": "iLzFp-l_sgcT"
      },
      "source": [
        "# Display results for the last CT scan"
      ]
    },
    {
      "cell_type": "markdown",
      "metadata": {
        "id": "L8FTwNqhsgcT"
      },
      "source": [
        "## Display using matplotlib"
      ]
    },
    {
      "cell_type": "code",
      "execution_count": null,
      "metadata": {
        "id": "o1SAIS72aV00"
      },
      "outputs": [],
      "source": [
        "from cerr.viewer import showMplNb\n",
        "\n",
        "showMplNb(scanNum, origIndsToExportV, planC,\\\n",
        "          windowCenter=-400, windowWidth=2000)"
      ]
    }
  ],
  "metadata": {
    "accelerator": "GPU",
    "colab": {
      "gpuType": "T4",
      "provenance": [],
      "include_colab_link": true
    },
    "kernelspec": {
      "display_name": "Python 3",
      "name": "python3"
    },
    "language_info": {
      "codemirror_mode": {
        "name": "ipython",
        "version": 3
      },
      "file_extension": ".py",
      "mimetype": "text/x-python",
      "name": "python",
      "nbconvert_exporter": "python",
      "pygments_lexer": "ipython3",
      "version": "3.11.9"
    },
    "toc": {
      "base_numbering": 1,
      "nav_menu": {},
      "number_sections": true,
      "sideBar": true,
      "skip_h1_title": false,
      "title_cell": "Table of Contents",
      "title_sidebar": "Contents",
      "toc_cell": false,
      "toc_position": {},
      "toc_section_display": true,
      "toc_window_display": false
    }
  },
  "nbformat": 4,
  "nbformat_minor": 0
}