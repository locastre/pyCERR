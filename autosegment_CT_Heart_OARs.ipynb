{
  "cells": [
    {
      "cell_type": "markdown",
      "metadata": {
        "id": "view-in-github",
        "colab_type": "text"
      },
      "source": [
        "<a href=\"https://colab.research.google.com/github/locastre/pyCERR/blob/main/autosegment_CT_Heart_OARs.ipynb\" target=\"_parent\"><img src=\"https://colab.research.google.com/assets/colab-badge.svg\" alt=\"Open In Colab\"/></a>"
      ]
    },
    {
      "cell_type": "markdown",
      "metadata": {
        "id": "kNoydh-RsgcD"
      },
      "source": [
        "# The pyCERR DeepLab Heart Substurcture CT OAR Segmentation Model\n",
        "\n",
        "In this tutorial, we will demonstrate how to apply a pre-trained AI model to segment the Heart sub-structures on a lung CT scan using pyCERR.\n",
        "\n",
        "## Software Requirements\n",
        "* Python>=3.8\n",
        "* Applying this model requires access to a GPU.  \n",
        "\n",
        "## Input Data Requirements\n",
        "* RT planning DICOM CT\n",
        "* RTSTRUCT with lung contour\n",
        "\n",
        "## AI model\n",
        "* The segmentation model was trained and validated on CT scans used for RT planning. It does not work optimally on diagnostic CTs or scans in positions other than Head First Supine.\n",
        "* The trained model is distributed along with python libraries and other dependencies via a conda package.\n",
        "\n",
        "### Running the model\n",
        "\n",
        "Update locations of input data and model directorues in section 2 of this notebook.\n",
        "* Conda packge is location: condaEnvDir\n",
        "* Inference script location: wrapperPath\n",
        "* Inference script args\n",
        "```python\n",
        "!python {wrapperPath} {input_nii_directory} {output_nii_directory}\n",
        "```\n",
        "\n",
        "### License\n",
        "By downloading the software you are agreeing to the following terms and conditions as well as to the Terms of Use of CERR software.\n",
        "\n",
        "THE SOFTWARE IS PROVIDED \"AS IS\" AND CERR DEVELOPMENT TEAM AND ITS COLLABORATORS DO NOT MAKE ANY WARRANTY, EXPRESS OR IMPLIED, INCLUDING BUT NOT LIMITED TO WARRANTIES OF MERCHANTABILITY AND FITNESS FOR A PARTICULAR PURPOSE, NOR DO THEY ASSUME ANY LIABILITY OR RESPONSIBILITY FOR THE USE OF THIS SOFTWARE.\n",
        "    \n",
        "This software is for research purposes only and has not been approved for clinical use.\n",
        "\n",
        "Software has not been reviewed or approved by the Food and Drug Administration, and is for non-clinical, IRB-approved Research Use Only. In no event shall data or images generated through the use of the Software be used in the provision of patient care.\n",
        "\n",
        "You may publish papers and books using results produced using software provided that you reference the appropriate citations:\n",
        "*  Heart sub-structures model: https://doi.org/10.1016/j.phro.2020.05.009\n",
        "*  CERR library of model implementations: https://doi.org/10.1016/j.ejmp.2020.04.011\n",
        "*  CERR software: https://doi.org/10.1118/1.1568978\n",
        "*  CERR radiomics: https://doi.org/10.1002/mp.13046\n",
        "\n",
        "\n",
        "YOU MAY NOT DISTRIBUTE COPIES of this software, or copies of software derived from this software, to others outside your organization without specific prior written permission from the CERR development team except where noted for specific software products.\n",
        "\n",
        "All Technology and technical data delivered under this Agreement are subject to US export control laws and may be subject to export or import regulations in other countries. You agree to comply strictly with all such laws and regulations and acknowledge that you have the responsibility to obtain such licenses to export, re-export, or import as may be required after delivery to you.\n",
        "\n"
      ]
    },
    {
      "cell_type": "markdown",
      "metadata": {
        "id": "WSpNk-BrYlbD"
      },
      "source": [
        "##  Define paths for input DICOM, output segmentation and session directories\n",
        "\n",
        "Specify paths to the DICOM input data, desired output directory, and temporary (session) directory used to store intermediate results. The input data is structures such that DICOM per patient scan is in an individual directory.\n",
        "\n",
        "&nbsp;&nbsp;Input Directory  \n",
        "&nbsp;&nbsp;&nbsp;&nbsp;Pat1  \n",
        "&nbsp;&nbsp;&nbsp;&nbsp;&nbsp;&nbsp;&nbsp;img1.dcm  \n",
        "&nbsp;&nbsp;&nbsp;&nbsp;&nbsp;&nbsp;&nbsp;img2.dcm  \n",
        "&nbsp;&nbsp;&nbsp;&nbsp;&nbsp;&nbsp;&nbsp;....  \n",
        "&nbsp;&nbsp;&nbsp;&nbsp;&nbsp;&nbsp;&nbsp;....  \n",
        "&nbsp;&nbsp;&nbsp;&nbsp;Pat2  \n",
        "&nbsp;&nbsp;&nbsp;&nbsp;&nbsp;&nbsp;&nbsp;img1.dcm  \n",
        "&nbsp;&nbsp;&nbsp;&nbsp;&nbsp;&nbsp;&nbsp;img2.dcm  \n",
        "&nbsp;&nbsp;&nbsp;&nbsp;&nbsp;&nbsp;&nbsp;....  \n",
        "&nbsp;&nbsp;&nbsp;&nbsp;&nbsp;&nbsp;&nbsp;....  "
      ]
    },
    {
      "cell_type": "code",
      "execution_count": 52,
      "metadata": {
        "id": "-B-XrWTGa4sG"
      },
      "outputs": [],
      "source": [
        "import os\n",
        "# Set work dir base path\n",
        "#workDir = r'/home/jupyter' #\n",
        "workDir = r'/content' #for Colab # r'AI_workshop/heart_model' # local"
      ]
    },
    {
      "cell_type": "markdown",
      "source": [
        "## Install segmentation wrapper, pyCERR and other dependencies"
      ],
      "metadata": {
        "id": "WsUQs2huow2B"
      }
    },
    {
      "cell_type": "markdown",
      "source": [
        "### Installation of segmentation wrapper, Python environment and network weights handled by CERR-developed `model_installer`"
      ],
      "metadata": {
        "id": "C9oPBXz8tphw"
      }
    },
    {
      "cell_type": "code",
      "execution_count": 53,
      "metadata": {
        "colab": {
          "base_uri": "https://localhost:8080/"
        },
        "id": "3n6yb9MnMvcy",
        "outputId": "a994b11d-2587-4010-9fb0-785729fd2a04"
      },
      "outputs": [
        {
          "output_type": "stream",
          "name": "stdout",
          "text": [
            "fatal: destination path 'model_installer' already exists and is not an empty directory.\n",
            "      ___           ___           ___           ___     \n",
            "     /  /\\         /  /\\         /  /\\         /  /\\    \n",
            "    /  /:/        /  /:/_       /  /::\\       /  /::\\   \n",
            "   /  /:/        /  /:/ /\\     /  /:/\\:\\     /  /:/\\:\\  \n",
            "  /  /:/  ___   /  /:/ /:/_   /  /:/~/:/    /  /:/~/:/  \n",
            " /__/:/  /  /\\ /__/:/ /:/ /\\ /__/:/ /:/___ /__/:/ /:/___\n",
            " \\  \\:\\ /  /:/ \\  \\:\\/:/ /:/ \\  \\:\\/:::::/ \\  \\:\\/:::::/\n",
            "  \\  \\:\\  /:/   \\  \\::/ /:/   \\  \\::/~~~~   \\  \\::/~~~~ \n",
            "   \\  \\:\\/:/     \\  \\:\\/:/     \\  \\:\\        \\  \\:\\     \n",
            "    \\  \\::/       \\  \\::/       \\  \\:\\        \\  \\:\\    \n",
            "     \\__\\/         \\__\\/         \\__\\/         \\__\\/    \n",
            " \n",
            "Medical Physics Department, Memorial Sloan Kettering Cancer Center, New York, NY\n",
            " \n",
            "Welcome to the CERR segmentation model installer! For usage information, run with -h flag\n",
            " \n",
            "Usage Information: \n",
            "\tFlags: \n",
            "\t\t-i : Flag to run installer in interactive mode (no argument)\n",
            "\t\t-m : [1-4] Integer number to select model to install. For list of available options, see below. \n",
            "\t\t-d : Directory to install model with network weights \n",
            "\t\t-p : [P/C/N] Setup and install Python environment P: setup Conda env from python requirements.txt; C: Conda pack download; N: No install. \n",
            "\t\t-h : Print help menu \n",
            " \n",
            "The following are the list of available models. When passing the argument to installer, select the number of the model to download: \n",
            "          \t1.  CT_cardiac_structures_deeplab\n",
            "          \t2.  CT_LungOAR_incrMRRN\n",
            "          \t3.  MR_Prostate_Deeplab\n",
            "          \t4.  CT_Lung_SMIT\n"
          ]
        }
      ],
      "source": [
        "os.chdir(workDir)\n",
        "!git clone https://github.com/cerr/model_installer.git\n",
        "os.chdir(os.path.join(workDir,'model_installer'))\n",
        "!./installer.sh -h"
      ]
    },
    {
      "cell_type": "code",
      "source": [
        "%%capture\n",
        "modelOpt = '1' #CT_Lung_SMIT model\n",
        "pythonOpt = 'C' #download and use pre-packaged Conda environment\n",
        "\n",
        "! source ./installer.sh -m {modelOpt} -d {workDir} -p {pythonOpt}"
      ],
      "metadata": {
        "id": "W9ahoQbgjKVt"
      },
      "execution_count": null,
      "outputs": []
    },
    {
      "cell_type": "code",
      "source": [
        "%%capture\n",
        "! pip install pyxnat\n",
        "! pip install \"pyCERR[napari] @ git+https://github.com/cerr/pyCERR.git@testing\""
      ],
      "metadata": {
        "id": "kjpbxEVspDru"
      },
      "execution_count": null,
      "outputs": []
    },
    {
      "cell_type": "code",
      "execution_count": null,
      "metadata": {
        "id": "xGQcTj20Mvcy"
      },
      "outputs": [],
      "source": [
        "# Segmentation wrapper paths\n",
        "wrapperInstallDir = os.path.join(workDir, 'CT_cardiac_structures_deeplab')\n",
        "wrapperPath = os.path.join(wrapperInstallDir, 'model_wrapper','runSegmentation.py')\n",
        "\n",
        "# Location of Heart OAR conda environment\n",
        "condaEnvDir = os.path.join(workDir, 'CT_cardiac_structures_deeplab','conda-pack')\n",
        "\n",
        "# Path to conda environment activate script\n",
        "condaActivateScript = os.path.join(condaEnvDir, 'bin', 'activate')\n",
        "\n",
        "#location of input DICOM folders\n",
        "inputDicomPath = os.path.join(workDir,'input')\n",
        "if not os.path.exists(inputDicomPath):\n",
        "  os.mkdir(inputDicomPath)\n",
        "\n",
        "#location of output RTSTRUCT file\n",
        "outputDicomPath = os.path.join(workDir, 'output')\n",
        "if not os.path.exists(outputDicomPath):\n",
        "  os.mkdir(outputDicomPath)\n",
        "\n",
        "#temp session directory\n",
        "sessionPath = os.path.join(workDir, 'session')\n",
        "if not os.path.exists(sessionPath):\n",
        "  os.mkdir(sessionPath)\n"
      ]
    },
    {
      "cell_type": "markdown",
      "metadata": {
        "id": "uKyePuucYlbA"
      },
      "source": [
        "# Download planning CT DICOM data for processing"
      ]
    },
    {
      "cell_type": "markdown",
      "source": [
        "### Option 1: Download data from XNAT source (`getXNATData`)"
      ],
      "metadata": {
        "id": "YVDPJh4_o-pY"
      }
    },
    {
      "cell_type": "code",
      "source": [
        "from pyxnat import Interface\n",
        "import urllib3\n",
        "import shutil\n",
        "urllib3.disable_warnings()\n",
        "\n",
        "from pyxnat import Interface\n",
        "def getXNATData(xhost,user,scandict,downloadDir):\n",
        "  xnat = Interface(xhost, user, verify=False)\n",
        "  os.makedirs(downloadDir, exist_ok=True)\n",
        "  expdirlist = []\n",
        "  for scan_entry in scandict:\n",
        "    proj = scan_entry['proj']\n",
        "    subj = scan_entry['subj']\n",
        "    exp = scan_entry['exp']\n",
        "    scan_list = scan_entry['scan_list']\n",
        "    expdir = os.path.join(downloadDir,exp)\n",
        "    expdirlist.append(expdir)\n",
        "    os.makedirs(expdir, exist_ok = True)\n",
        "    xexp = xnat.select.project(proj).subject(subj).experiment(exp)\n",
        "    for scan in scan_list:\n",
        "      try:\n",
        "        xnat.select.project(proj).subject(subj).experiment(exp).scan(scan).resource('DICOM').get(downloadDir,extract=True)\n",
        "      except:\n",
        "        xnat.select.project(proj).subject(subj).experiment(exp).scan(scan).resource('secondary').get(downloadDir,extract=True)\n",
        "    for dcmfolder in ['DICOM','secondary']:\n",
        "      dcmlist = glob(os.path.join(downloadDir,dcmfolder,'*.dcm'))\n",
        "      print(dcmlist)\n",
        "      for dcm in dcmlist:\n",
        "        shutil.move(dcm, expdir)\n",
        "  for dcmfolder in ['DICOM','secondary']:\n",
        "    if os.path.exists(os.path.join(downloadDir,dcmfolder)):\n",
        "      os.rmdir(os.path.join(downloadDir,dcmfolder))\n",
        "    if os.path.exists(os.path.join(downloadDir,dcmfolder + '.zip')):\n",
        "      os.remove(os.path.join(downloadDir,dcmfolder + '.zip'))\n",
        "  xnat.disconnect()\n",
        "  return expdirlist"
      ],
      "metadata": {
        "id": "7F8jpzlAQ0l-"
      },
      "execution_count": null,
      "outputs": []
    },
    {
      "cell_type": "code",
      "source": [
        "xhost = 'https://xnat.yoursite.org'\n",
        "user = 'usr'\n",
        "scandict = [{'proj':proj,'subj':subj,'exp':exp, 'scan_list':['1','2']}]\n",
        "\n",
        "dcmdirlist = getXNATData(xhost,user,scandict,inputDicomPath)"
      ],
      "metadata": {
        "id": "XBEP07LFVwbM"
      },
      "execution_count": null,
      "outputs": []
    },
    {
      "cell_type": "markdown",
      "source": [
        "### Option 2: Download data from other HTTP source to `inputDicomDir`"
      ],
      "metadata": {
        "id": "n0nnTRi1ph7D"
      }
    },
    {
      "cell_type": "code",
      "execution_count": null,
      "metadata": {
        "id": "z3ucdyu0YlbB"
      },
      "outputs": [],
      "source": [
        "dataUrl='http://path.to/data'\n",
        "\n",
        "dataDownloadDir = os.path.join(workDir,'tmp')\n",
        "os.makedirs(dataDownloadDir, exist_ok=True)\n",
        "os.chdir(dataDownloadDir)\n",
        "\n",
        "! wget -O sampleData.gz -L {dataUrl}\n",
        "! tar xf sampleData.gz -C {inputDicomDir}\n",
        "! rm sampleData.gz\n",
        "\n",
        "#unpack and move"
      ]
    },
    {
      "cell_type": "markdown",
      "metadata": {
        "id": "sfcIIiLQsgcM"
      },
      "source": [
        "# Function Definitions: Data pre- and post-processing using pyCERR"
      ]
    },
    {
      "cell_type": "markdown",
      "metadata": {
        "id": "1m955pAJsgcN"
      },
      "source": [
        "## `processInputData`: Crop scan to Lung extents"
      ]
    },
    {
      "cell_type": "code",
      "execution_count": null,
      "metadata": {
        "id": "FAXBqkTasgcN"
      },
      "outputs": [],
      "source": [
        "from cerr.dataclasses import structure as cerrStr\n",
        "from cerr.contour import rasterseg as rs\n",
        "from cerr.utils import aiPipeline, mask\n",
        "import numpy as np\n",
        "\n",
        "def processInputData(scanNum, planC, lungNameList=['LUNG_TOTAL', 'LUNG_L', 'LUNG_R']):\n",
        "\n",
        "    if isinstance(lungNameList, str):\n",
        "        lungNameList = [lungNameList]\n",
        "\n",
        "    # Extract scanArray\n",
        "    scan3M = planC.scan[scanNum].getScanArray()\n",
        "    mask3M = np.zeros(scan3M.shape, dtype=bool)\n",
        "\n",
        "    # List of Structure names\n",
        "    strNames = [s.structureName for s in planC.structure]\n",
        "    numOrigStructs = len(strNames)\n",
        "\n",
        "    # Get total lung mask\n",
        "    for lungName in lungNameList:\n",
        "        lungInd = cerrStr.getMatchingIndex(lungName.upper(), strNames, 'exact')\n",
        "        if len(lungInd) > 0:\n",
        "            # Get lung extents\n",
        "            mask3M = mask3M | rs.getStrMask(lungInd[0], planC)\n",
        "\n",
        "    if not np.any(mask3M):\n",
        "        raise Exception('Lung contour name did not match any structures in planC')\n",
        "\n",
        "    # Create cropped scan\n",
        "    rmin,rmax,cmin,cmax,smin,smax,_ = mask.compute_boundingbox(mask3M)\n",
        "    x,y,z = planC.scan[0].getScanXYZVals()\n",
        "    xCropV = x[cmin:cmax]\n",
        "    yCropV = y[rmin:rmax]\n",
        "    zCropV = z[smin:smax]\n",
        "    scan3M = planC.scan[0].getScanArray()\n",
        "    scanCrop3M = scan3M[rmin:rmax,cmin:cmax,smin:smax]\n",
        "\n",
        "    return scanCrop3M, (xCropV, yCropV, zCropV)\n"
      ]
    },
    {
      "cell_type": "markdown",
      "metadata": {
        "id": "C1KHjP1LsgcO"
      },
      "source": [
        "## `postProcAndImportSeg`: Import AI segmentations to planC and retain only the largest connected component for each structure"
      ]
    },
    {
      "cell_type": "code",
      "execution_count": null,
      "metadata": {
        "id": "W_GjRVWtsgcP"
      },
      "outputs": [],
      "source": [
        "#Import label map to CERR\n",
        "from glob import glob\n",
        "from cerr import plan_container as pc\n",
        "\n",
        "atriaLabelDict = {1: 'DL_Atria'}\n",
        "heartSubSegDict = {2: 'DL_AORTA', 3: 'DL_LA',\n",
        "                   4: 'DL_LV', 5: 'DL_RA',\n",
        "                   6: 'DL_RV', 7: 'DL_IVC',\n",
        "                   8: 'DL_SVC', 9: 'DL_PA'}\n",
        "heartSegDict = {1: 'DL_heart'}\n",
        "periLabelDict = {1: 'DL_Pericardium'}\n",
        "ventriLabelDict = {1: 'DL_Ventricles'}\n",
        "\n",
        "def postProcAndImportSeg(outputDir,procScanNum,scanNum,planC):\n",
        "    niiGlob = glob(os.path.join(outputDir,'*.nii.gz'))\n",
        "    for segFile in niiGlob:\n",
        "        print('Importing ' + segFile + '...')\n",
        "        # Get segFile name\n",
        "        if 'heart.nii.gz' in segFile:\n",
        "            strToLabelMap = heartSubSegDict\n",
        "        elif 'heartStructure.nii.gz' in segFile:\n",
        "            strToLabelMap = heartSegDict\n",
        "        elif 'atria.nii.gz' in segFile:\n",
        "            strToLabelMap = atriaLabelDict\n",
        "        elif 'pericardium.nii.gz' in segFile:\n",
        "            strToLabelMap = periLabelDict\n",
        "        elif 'ventricles.nii.gz' in segFile:\n",
        "            strToLabelMap = ventriLabelDict\n",
        "        numLabel = len(strToLabelMap)\n",
        "        numStrOrig = len(planC.structure)\n",
        "        planC = pc.load_nii_structure(segFile, scanNum, planC, \\\n",
        "                                  labels_dict = strToLabelMap)\n",
        "        numStructs = len(planC.structure)\n",
        "        cpyStrNumV = np.arange(numStrOrig,numStructs)\n",
        "        numConnComponents = 1\n",
        "        for structNum in cpyStrNumV:\n",
        "            _, planC = cerrStr.getLargestConnComps(structNum, numConnComponents, planC, \\\n",
        "                                            saveFlag=True, replaceFlag=True)\n",
        "\n",
        "    return planC"
      ]
    },
    {
      "cell_type": "markdown",
      "metadata": {
        "id": "zj7t-J4isgcQ"
      },
      "source": [
        "# Run Segmentation: Generate OARs for all the CT scan folders located at `inputDicomPath`"
      ]
    },
    {
      "cell_type": "code",
      "execution_count": null,
      "metadata": {
        "id": "WCuUi5D6sgcS"
      },
      "outputs": [],
      "source": [
        "#%%capture\n",
        "import subprocess\n",
        "import numpy as np\n",
        "import cerr\n",
        "from cerr import plan_container as pc\n",
        "from cerr.dataclasses import scan as cerrScn\n",
        "from cerr.utils.aiPipeline import createSessionDir\n",
        "from cerr.dcm_export import rtstruct_iod\n",
        "\n",
        "modality = 'CT SCAN'\n",
        "lungNameList = ['LUNG_TOTAL', 'LUNG_CNTR', 'LUNG_IPSI']\n",
        "\n",
        "# Loop over DICOM data folders\n",
        "folderList = glob(os.path.join(inputDicomPath,'*'))\n",
        "\n",
        "for dcmDir in folderList:\n",
        "\n",
        "    fname = os.path.basename(dcmDir)\n",
        "    # Create session dir to store temporary data\n",
        "    modInputPath, modOutputPath = createSessionDir(sessionPath, dcmDir)\n",
        "\n",
        "    # Import DICOM to planC\n",
        "    planC = pc.load_dcm_dir(dcmDir)\n",
        "\n",
        "    # Identify scan index in  planC\n",
        "    scanIdS = {\"imageType\": modality}\n",
        "    matchScanV = aiPipeline.getScanNumFromIdentifier(scanIdS, planC, False)\n",
        "    scanNum = matchScanV[0]\n",
        "\n",
        "    # Pre-process data\n",
        "    procScan3M, resizeGridS = processInputData(scanNum, planC, lungNameList)\n",
        "    planC = pc.import_scan_array(procScan3M, resizeGridS[0], \\\n",
        "            resizeGridS[1], resizeGridS[2], modality, scanNum, planC)\n",
        "    procScanNum = len(planC.scan) - 1\n",
        "\n",
        "    # Export inputs to NIfTI\n",
        "    scanFilename = os.path.join(modInputPath, f\"{fname}_scan_3D.nii.gz\")\n",
        "    planC.scan[procScanNum].save_nii(scanFilename)\n",
        "\n",
        "    numOrigStructs = len(planC.structure)\n",
        "\n",
        "    # Apply model\n",
        "    runScript = \"source \" + condaActivateScript + \" && python \" + wrapperPath \\\n",
        "                  + \" \" + modInputPath + \" \" + modOutputPath\n",
        "    print(runScript)\n",
        "    subprocess.run(runScript,\n",
        "                 capture_output=False,\n",
        "                  shell=True,\n",
        "                  executable=\"/bin/bash\")\n",
        "\n",
        "    # Import results to planC\n",
        "    planC = postProcAndImportSeg(modOutputPath,procScanNum,scanNum,planC)\n",
        "\n",
        "    numStructs = len(planC.structure)\n",
        "\n",
        "    # Export segmentations to DICOM\n",
        "    structFileName = fname + '_AI_seg_RTSTRUCT.dcm'\n",
        "    structFilePath = os.path.join(outputDicomPath,structFileName)\n",
        "    structNumV = np.arange(numOrigStructs, numStructs)\n",
        "    indOrigV = np.array([cerrScn.getScanNumFromUID(planC.structure[structNum].assocScanUID, planC) for structNum in structNumV], dtype=int)\n",
        "    origIndsToExportV = structNumV[indOrigV == scanNum]\n",
        "    seriesDescription = \"pyCERR CT_Heart_OAR AI-Generated\"\n",
        "    exportOpts = {'seriesDescription': seriesDescription}\n",
        "    rtstruct_iod.create(origIndsToExportV,structFilePath,planC,exportOpts)"
      ]
    },
    {
      "cell_type": "markdown",
      "metadata": {
        "id": "p9acQK9uMvc6"
      },
      "source": [
        "# Optional - Offload the `outputDicomPath` to GCP Workspace bucket"
      ]
    },
    {
      "cell_type": "code",
      "execution_count": null,
      "metadata": {
        "id": "W_TV3xhIMvc6"
      },
      "outputs": [],
      "source": [
        "# workspaceBucket = os.environ['WORKSPACE_BUCKET']\n",
        "# !gcloud storage cp -r {outputDicomPath} {workspaceBucket}"
      ]
    },
    {
      "cell_type": "markdown",
      "metadata": {
        "id": "iLzFp-l_sgcT"
      },
      "source": [
        "# Visualize results for the last CT scan using Napari Viewer"
      ]
    },
    {
      "cell_type": "markdown",
      "metadata": {
        "id": "L8FTwNqhsgcT"
      },
      "source": [
        "## Display using `matplotlib`"
      ]
    },
    {
      "cell_type": "code",
      "execution_count": null,
      "metadata": {
        "id": "zJEkPNT6Mvc6"
      },
      "outputs": [],
      "source": [
        "from cerr.viewer import showMplNb\n",
        "\n",
        "showMplNb(scanNum, origIndsToExportV, planC,\\\n",
        "          windowCenter=-400, windowWidth=2000)"
      ]
    }
  ],
  "metadata": {
    "accelerator": "GPU",
    "colab": {
      "gpuType": "T4",
      "provenance": [],
      "include_colab_link": true
    },
    "kernelspec": {
      "display_name": "Python 3",
      "name": "python3"
    },
    "language_info": {
      "codemirror_mode": {
        "name": "ipython",
        "version": 3
      },
      "file_extension": ".py",
      "mimetype": "text/x-python",
      "name": "python",
      "nbconvert_exporter": "python",
      "pygments_lexer": "ipython3",
      "version": "3.11.8"
    },
    "toc": {
      "base_numbering": 1,
      "nav_menu": {},
      "number_sections": true,
      "sideBar": true,
      "skip_h1_title": false,
      "title_cell": "Table of Contents",
      "title_sidebar": "Contents",
      "toc_cell": false,
      "toc_position": {},
      "toc_section_display": true,
      "toc_window_display": false
    }
  },
  "nbformat": 4,
  "nbformat_minor": 0
}