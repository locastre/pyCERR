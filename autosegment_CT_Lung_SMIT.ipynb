{
  "nbformat": 4,
  "nbformat_minor": 0,
  "metadata": {
    "colab": {
      "provenance": [],
      "include_colab_link": true
    },
    "kernelspec": {
      "name": "python3",
      "display_name": "Python 3"
    },
    "language_info": {
      "name": "python"
    }
  },
  "cells": [
    {
      "cell_type": "markdown",
      "metadata": {
        "id": "view-in-github",
        "colab_type": "text"
      },
      "source": [
        "<a href=\"https://colab.research.google.com/github/locastre/pyCERR/blob/main/autosegmentation_CT_Lung_SMIT.ipynb\" target=\"_parent\"><img src=\"https://colab.research.google.com/assets/colab-badge.svg\" alt=\"Open In Colab\"/></a>"
      ]
    },
    {
      "cell_type": "markdown",
      "source": [
        "#The pyCERR SMIT Lung CT GTV Segmentation Model\n",
        "\n",
        "## Introduction\n",
        "\n",
        "In this tutorial, we will demonstrate how to apply a pre-trained AI model to segment the Lung GTV on a lung CT scan using pyCERR.\n",
        "\n",
        "## Requirements\n",
        "* Python=3.7\n",
        "* Applying this model requires access to a GPU.  \n",
        "\n",
        "## AI model\n",
        "* The segmentation model was trained and validated on CT scans used for RT planning. It does not work optimally on diagnostic CTs or scans in positions other than Head First Supine.\n",
        "* The trained model is distributed along with python libraries and other dependencies via a conda package.\n",
        "\n",
        "## Required input data\n",
        "* RT planning CT DICOM\n",
        "\n",
        "### Running the model\n",
        "\n",
        "Update locations of input data and model directorues in section 2 of this notebook.\n",
        "* Conda packge is location: condaEnvDir\n",
        "* Inference script location: wrapperPath\n",
        "* Inference script args\n",
        "```python\n",
        "! source bash_\n",
        "```\n",
        "\n",
        "### License\n",
        "By downloading the software you are agreeing to the following terms and conditions as well as to the Terms of Use of CERR software.\n",
        "\n",
        "THE SOFTWARE IS PROVIDED \"AS IS\" AND CERR DEVELOPMENT TEAM AND ITS COLLABORATORS DO NOT MAKE ANY WARRANTY, EXPRESS OR IMPLIED, INCLUDING BUT NOT LIMITED TO WARRANTIES OF MERCHANTABILITY AND FITNESS FOR A PARTICULAR PURPOSE, NOR DO THEY ASSUME ANY LIABILITY OR RESPONSIBILITY FOR THE USE OF THIS SOFTWARE.\n",
        "    \n",
        "This software is for research purposes only and has not been approved for clinical use.\n",
        "\n",
        "Software has not been reviewed or approved by the Food and Drug Administration, and is for non-clinical, IRB-approved Research Use Only. In no event shall data or images generated through the use of the Software be used in the provision of patient care.\n",
        "\n",
        "You may publish papers and books using results produced using software provided that you reference the appropriate citations:\n",
        "*  SMIT model: https://arxiv.org/abs/2205.10342\n",
        "*  CERR library of model implementations: https://doi.org/10.1016/j.ejmp.2020.04.011\n",
        "*  CERR software: https://doi.org/10.1118/1.1568978\n",
        "*  CERR radiomics: https://doi.org/10.1002/mp.13046\n",
        "\n",
        "\n",
        "YOU MAY NOT DISTRIBUTE COPIES of this software, or copies of software derived from this software, to others outside your organization without specific prior written permission from the CERR development team except where noted for specific software products.\n",
        "\n",
        "All technology and technical data delivered under this Agreement are subject to US export control laws and may be subject to export or import regulations in other countries. You agree to comply strictly with all such laws and regulations and acknowledge that you have the responsibility to obtain such licenses to export, re-export, or import as may be required after delivery to you.\n",
        "\n"
      ],
      "metadata": {
        "id": "A7EP6563vQHy"
      }
    },
    {
      "cell_type": "code",
      "source": [
        "import os\n",
        "# work dir\n",
        "#workDir = r'/home/jupyter' #\n",
        "workDir = r'/content' #for Colab # r'AI_workshop/heart_model' # local\n",
        "os.chdir(workDir)"
      ],
      "metadata": {
        "id": "qXxnhPPy3TrK"
      },
      "execution_count": 1,
      "outputs": []
    },
    {
      "cell_type": "code",
      "source": [
        "!git clone https://github.com/cerr/model_installer.git"
      ],
      "metadata": {
        "id": "t5461VKM6UQf"
      },
      "execution_count": null,
      "outputs": []
    },
    {
      "cell_type": "code",
      "source": [
        "os.chdir(os.path.join(workDir,'model_installer'))\n",
        "\n",
        "# Location of dicom data\n",
        "dataDownloadDir = os.path.join(workDir,'input')\n",
        "\n",
        "os.makedirs(dataDownloadDir,exist_ok=True)\n",
        "!./installer.sh -h"
      ],
      "metadata": {
        "colab": {
          "base_uri": "https://localhost:8080/"
        },
        "id": "b-dncPq06WQ6",
        "outputId": "0d3b0b30-e023-4dcd-f57f-ee722791ea1a"
      },
      "execution_count": 4,
      "outputs": [
        {
          "output_type": "stream",
          "name": "stdout",
          "text": [
            "      ___           ___           ___           ___     \n",
            "     /  /\\         /  /\\         /  /\\         /  /\\    \n",
            "    /  /:/        /  /:/_       /  /::\\       /  /::\\   \n",
            "   /  /:/        /  /:/ /\\     /  /:/\\:\\     /  /:/\\:\\  \n",
            "  /  /:/  ___   /  /:/ /:/_   /  /:/~/:/    /  /:/~/:/  \n",
            " /__/:/  /  /\\ /__/:/ /:/ /\\ /__/:/ /:/___ /__/:/ /:/___\n",
            " \\  \\:\\ /  /:/ \\  \\:\\/:/ /:/ \\  \\:\\/:::::/ \\  \\:\\/:::::/\n",
            "  \\  \\:\\  /:/   \\  \\::/ /:/   \\  \\::/~~~~   \\  \\::/~~~~ \n",
            "   \\  \\:\\/:/     \\  \\:\\/:/     \\  \\:\\        \\  \\:\\     \n",
            "    \\  \\::/       \\  \\::/       \\  \\:\\        \\  \\:\\    \n",
            "     \\__\\/         \\__\\/         \\__\\/         \\__\\/    \n",
            " \n",
            "Medical Physics Department, Memorial Sloan Kettering Cancer Center, New York, NY\n",
            " \n",
            "Welcome to the CERR segmentation model installer! For usage information, run with -h flag\n",
            " \n",
            "Usage Information: \n",
            "\tFlags: \n",
            "\t\t-i : Flag to run installer in interactive mode (no argument)\n",
            "\t\t-m : [1-4] Integer number to select model to install. For list of available options, see below. \n",
            "\t\t-d : Directory to install model with network weights \n",
            "\t\t-p : [P/C/N] Setup and install Python environment P: setup Conda env from python requirements.txt; C: Conda pack download; N: No install. \n",
            "\t\t-h : Print help menu \n",
            " \n",
            "The following are the list of available models. When passing the argument to installer, select the number of the model to download: \n",
            "          \t1.  CT_cardiac_structures_deeplab\n",
            "          \t2.  CT_LungOAR_incrMRRN\n",
            "          \t3.  MR_Prostate_Deeplab\n",
            "          \t4.  CT_Lung_SMIT\n"
          ]
        }
      ]
    },
    {
      "cell_type": "code",
      "source": [
        "modelOpt = '4' #CT_Lung_SMIT model\n",
        "pythonOpt = 'C' #download and use pre-packaged Conda environment\n",
        "\n",
        "! source ./installer.sh -m {modelOpt} -d {workDir} -p {pythonOpt}"
      ],
      "metadata": {
        "id": "wMjeeay86fu6"
      },
      "execution_count": null,
      "outputs": []
    },
    {
      "cell_type": "code",
      "source": [
        "%%capture\n",
        "!pip install pyxnat\n",
        "! pip install \"pyCERR[napari] @ git+https://github.com/cerr/pyCERR.git@testing\""
      ],
      "metadata": {
        "id": "-cG1gAx69axp"
      },
      "execution_count": null,
      "outputs": []
    },
    {
      "cell_type": "code",
      "source": [
        "from pyxnat import Interface\n",
        "import urllib3, shutil\n",
        "from glob import glob\n",
        "import subprocess\n",
        "from cerr import plan_container as pc\n",
        "from cerr.dcm_export import rtstruct_iod\n",
        "urllib3.disable_warnings()"
      ],
      "metadata": {
        "id": "0tIFXpPmDV4b"
      },
      "execution_count": null,
      "outputs": []
    },
    {
      "cell_type": "code",
      "source": [
        "inputDicomPath = os.path.join(workDir,'input')\n",
        "outputDicomPath = os.path.join(workDir, 'output')\n",
        "sessionPath = os.path.join(workDir, 'session')\n",
        "\n",
        "if not os.path.exists(outputDicomPath):\n",
        "  os.makedirs(outputDicomPath, exist_ok = True)\n",
        "\n",
        "if not os.path.exists(sessionPath):\n",
        "  os.makedirs(sessionPath, exist_ok = True)"
      ],
      "metadata": {
        "id": "Lgck3qYo607q"
      },
      "execution_count": null,
      "outputs": []
    },
    {
      "cell_type": "markdown",
      "source": [
        "## Set up test data. Here, we import data from XNAT server"
      ],
      "metadata": {
        "id": "DoEXYr3GDaf_"
      }
    },
    {
      "cell_type": "code",
      "source": [
        "# Function definition: pull data defined in scandict from XNAT\n",
        "\n",
        "def getXNATData(xhost,user,scandict,downloadDir):\n",
        "  xnat = Interface(xhost, user, verify=False)\n",
        "  os.makedirs(downloadDir, exist_ok=True)\n",
        "  expdirlist = []\n",
        "  for scan_entry in scandict:\n",
        "    proj = scan_entry['proj']\n",
        "    subj = scan_entry['subj']\n",
        "    exp = scan_entry['exp']\n",
        "    scan_list = scan_entry['scan_list']\n",
        "    expdir = os.path.join(downloadDir,exp)\n",
        "    expdirlist.append(expdir)\n",
        "    os.makedirs(expdir, exist_ok = True)\n",
        "    xexp = xnat.select.project(proj).subject(subj).experiment(exp)\n",
        "    for scan in scan_list:\n",
        "      try:\n",
        "        xnat.select.project(proj).subject(subj).experiment(exp).scan(scan).resource('DICOM').get(downloadDir,extract=True)\n",
        "      except:\n",
        "        xnat.select.project(proj).subject(subj).experiment(exp).scan(scan).resource('secondary').get(downloadDir,extract=True)\n",
        "    for dcmfolder in ['DICOM','secondary']:\n",
        "      dcmlist = glob(os.path.join(downloadDir,dcmfolder,'*.dcm'))\n",
        "      print(dcmlist)\n",
        "      for dcm in dcmlist:\n",
        "        shutil.move(dcm, expdir)\n",
        "  for dcmfolder in ['DICOM','secondary']:\n",
        "    if os.path.exists(os.path.join(downloadDir,dcmfolder)):\n",
        "      os.rmdir(os.path.join(downloadDir,dcmfolder))\n",
        "    if os.path.exists(os.path.join(downloadDir,dcmfolder + '.zip')):\n",
        "      os.remove(os.path.join(downloadDir,dcmfolder + '.zip'))\n",
        "  xnat.disconnect()\n",
        "  return expdirlist"
      ],
      "metadata": {
        "id": "Tc5z7BJ8jJas"
      },
      "execution_count": null,
      "outputs": []
    },
    {
      "cell_type": "code",
      "source": [
        "xhost = 'https://pixnat.mskcc.org'\n",
        "user = 'locastre'\n",
        "scandict = [{'proj':'RTOG0617','subj':'SPI_XNAT_S00196','exp':'SPI_XNAT_E00348', 'scan_list':['1']},{'proj':'RTOG0617','subj':'SPI_XNAT_S00195','exp':'SPI_XNAT_E00347','scan_list':['1']}]\n",
        "\n",
        "dcmdirlist = getXNATData(xhost,user,scandict,inputDicomPath)"
      ],
      "metadata": {
        "id": "yc4ZOtlK7c0f"
      },
      "execution_count": null,
      "outputs": []
    },
    {
      "cell_type": "code",
      "source": [
        "wrapperInstallDir = os.path.join(workDir,'CT_Lung_SMIT')\n",
        "condaEnvDir = os.path.join(wrapperInstallDir,'conda-pack')\n",
        "condaEnvActivateScript = os.path.join(condaEnvDir, 'bin', 'activate')\n",
        "wrapperPath = os.path.join(wrapperInstallDir,'bash_run_SMIT_Segmentation.sh')\n",
        "load_weight_name = os.path.join(wrapperInstallDir,'trained_weights','model.pt')\n",
        "\n",
        "#pyCERR and filename parameters\n",
        "scanNum = 0\n",
        "structName = 'GTV'\n",
        "scan_basename = 'CT'"
      ],
      "metadata": {
        "id": "PIagq_xEIFlZ"
      },
      "execution_count": null,
      "outputs": []
    },
    {
      "cell_type": "markdown",
      "source": [
        "## Run the model"
      ],
      "metadata": {
        "id": "95vm9iDGDGfE"
      }
    },
    {
      "cell_type": "code",
      "source": [
        "for dcmdir in dcmdirlist:\n",
        "  subj = os.path.basename(dcmdir)\n",
        "  sessiondir = os.path.join(sessionPath,subj)\n",
        "  os.makedirs(sessiondir,exist_ok=True)\n",
        "\n",
        "  #Convert input DICOM to NIfTI\n",
        "  scan_niifile = os.path.join(sessiondir, scan_basename + '.nii')\n",
        "  planC = pc.load_dcm_dir(dcmdir)\n",
        "  planC.scan[scanNum].save_nii(scan_niifile)\n",
        "\n",
        "  #Run Segmentation\n",
        "  os.chdir(wrapperInstallDir)\n",
        "  #subprocess.run(f\"source \" + condaEnvActivateScript + \" && source \" + wrapperPath + \" \" + sessiondir + \" \" + sessiondir + \" \" + load_weight_name, shell=True, executable=\"/bin/bash\")\n",
        "\n",
        "  #Import output GTV NIfTI to pyCERR, and generate RTSTRUCT to match parent series\n",
        "  output_niifile = os.path.join(sessiondir,'model_' + scan_basename + '.nii')\n",
        "  planC = pc.load_nii_structure(output_niifile , scanNum, planC, labels_dict={1: structName})\n",
        "  outputDir = os.path.join(workDir,'output',subj)\n",
        "  os.makedirs(outputDir, exist_ok=True)\n",
        "  rtstructFile = os.path.join(outputDir,'RTSTRUCT.dcm')\n",
        "  structNumV = [0] # Export the first and the last structure in the list\n",
        "  seriesDescription = structName + \"_CT_Lung_SMIT_Google_Colab\"\n",
        "  rtstruct_iod.create(structNumV, rtstructFile, planC, seriesDescription)"
      ],
      "metadata": {
        "id": "MasJhWdZCdoJ"
      },
      "execution_count": null,
      "outputs": []
    }
  ]
}
