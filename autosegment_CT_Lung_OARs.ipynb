{
  "cells": [
    {
      "cell_type": "markdown",
      "metadata": {
        "id": "view-in-github",
        "colab_type": "text"
      },
      "source": [
        "<a href=\"https://colab.research.google.com/github/locastre/pyCERR/blob/main/autosegment_CT_Lung_OARs.ipynb\" target=\"_parent\"><img src=\"https://colab.research.google.com/assets/colab-badge.svg\" alt=\"Open In Colab\"/></a>"
      ]
    },
    {
      "cell_type": "markdown",
      "metadata": {
        "id": "kNoydh-RsgcD"
      },
      "source": [
        "# The pyCERR Lung CT OAR Segmentation Model\n",
        "\n",
        "In this tutorial, we will demonstrate how to apply a pre-trained AI model to segment the OARs on a lung CT scan using pyCERR.  \n",
        "\n",
        "## Requirements\n",
        "* Python>=3.8\n",
        "* Applying this model requires access to a GPU.  \n",
        "  *On Colab* :  `Runtime > Change runtime type > Select GPU `\n",
        "\n",
        "## AI model\n",
        "* The segmentation model used here was trained and validated on CT scans used for RT planning. Its performance on diagnostic CTs is expected to be sub-optimal.\n",
        "* The trained model is packaged as a Conda environment archive containing  python libraries and other dependencies.\n",
        "\n",
        "  *On Colab* :  `Runtime > Change runtime type > Select GPU `\n",
        "\n",
        "## I/O\n",
        "* **Input**: DICOM-format planning lung CT scan(s).  \n",
        "  \n",
        "Input data should be organized as: one directory of DICOM images per patient.    \n",
        "  \n",
        "    \n",
        "    Input dir\n",
        "            |------Pat1  \n",
        "                      |------img1.dcm  \n",
        "                             img2.dcm  \n",
        "                             ....  \n",
        "                             ....  \n",
        "            |-----Pat2  \n",
        "                     |------img1.dcm  \n",
        "                            img2.dcm  \n",
        "                            ....  \n",
        "                            ....  \n",
        "\n",
        "\n",
        "* **Output**: DICOM RTStruct-format segmentations.\n",
        "\n",
        "\n",
        "## Running the model\n",
        "\n",
        "* The Conda archive is downloaded to a configurable `condaEnvPath`. By default `condaEnvPath = '/content/pretrainedModel/'`\n",
        "* The inference script is located at   \n",
        "`wrapperPath = os.path.join(condaEnvPath,'CT_LungOAR_incrMRRN/model_wrapper/run_inference_nii.py')`\n",
        "\n",
        "* Command to execute the model\n",
        "```python\n",
        "!python {wrapperPath} {input_nii_directory} {output_nii_directory}\n",
        "```\n",
        "* [***pyCERR***](https://github.com/cerr/pyCERR) is used for data pre- and post-processing, including converting DICOM to NIfTI format, required to run the model."
      ]
    },
    {
      "cell_type": "markdown",
      "metadata": {
        "id": "6GVYj7k5e97G"
      },
      "source": [
        "## License\n",
        "\n",
        "```\n",
        "By downloading the software you are agreeing to the following terms and conditions as well as to the Terms of Use of CERR software.\n",
        "\n",
        "**THE SOFTWARE IS PROVIDED \"AS IS\" AND CERR DEVELOPMENT TEAM AND ITS COLLABORATORS DO NOT MAKE ANY WARRANTY, EXPRESS OR IMPLIED, INCLUDING BUT NOT LIMITED TO WARRANTIES OF MERCHANTABILITY AND FITNESS FOR A PARTICULAR PURPOSE, NOR DO THEY ASSUME ANY LIABILITY OR RESPONSIBILITY FOR THE USE OF THIS SOFTWARE.**\n",
        "\n",
        "This software is for research purposes only and has not been approved for clinical use.\n",
        "\n",
        "Software has not been reviewed or approved by the Food and Drug Administration, and is for non-clinical, IRB-approved Research Use Only. In no event shall data or images generated through the use of the Software be used in the provision of patient care.\n",
        "  \n",
        "YOU MAY NOT DISTRIBUTE COPIES of this software, or copies of software derived from this software, to others outside your organization without specific prior written permission from the CERR development team except where noted for specific software products.\n",
        "\n",
        "All Technology and technical data delivered under this Agreement are subject to US export control laws and may be subject to export or import regulations in other countries. You agree to comply strictly with all such laws and regulations and acknowledge that you have the responsibility to obtain\n",
        "such licenses to export, re-export, or import as may be required after delivery to you.\n",
        "\n",
        "**You may publish papers and books using results produced using software provided that you reference the following**:\n",
        "  \n",
        "  * ***AI model***: https://doi.org/10.1109/TMI.2018.2857800  \n",
        "```"
      ]
    },
    {
      "cell_type": "markdown",
      "metadata": {
        "id": "35nEDWKTg5c1"
      },
      "source": [
        "# Downloads"
      ]
    },
    {
      "cell_type": "markdown",
      "metadata": {
        "id": "mP6FHznIg7Yd"
      },
      "source": [
        "\n",
        "## Download planning CTs (DICOM) from ***dataUrl*** to ***dataDownloadDir***\n"
      ]
    },
    {
      "cell_type": "code",
      "execution_count": 1,
      "metadata": {
        "id": "l2cIR2Swg_84"
      },
      "outputs": [],
      "source": [
        "import os\n",
        "#workDir = r'/home/jupyter' #\n",
        "workDir = r'/content' #for Colab"
      ]
    },
    {
      "cell_type": "code",
      "source": [
        "%%capture\n",
        "! pip install pyxnat\n",
        "! pip install \"pyCERR[napari] @ git+https://github.com/cerr/pyCERR.git@testing\""
      ],
      "metadata": {
        "id": "E0AfkOnWlaOT"
      },
      "execution_count": 2,
      "outputs": []
    },
    {
      "cell_type": "markdown",
      "source": [
        "# Download planning CT DICOM data for processing"
      ],
      "metadata": {
        "id": "8j0u18h7litM"
      }
    },
    {
      "cell_type": "code",
      "source": [
        "#location of input DICOM folders\n",
        "inputDicomPath = os.path.join(workDir,'input')\n",
        "os.makedirs(inputDicomPath, exist_ok=True)\n",
        "\n",
        "#location of output RTSTRUCT file\n",
        "outputDicomPath = os.path.join(workDir, 'output')\n",
        "os.makedirs(outputDicomPath, exist_ok=True)\n",
        "\n",
        "#temp session directory\n",
        "sessionPath = os.path.join(workDir, 'session')\n",
        "os.makedirs(sessionPath,exist_ok=True)\n"
      ],
      "metadata": {
        "id": "nrw7uxnvlpqa"
      },
      "execution_count": 3,
      "outputs": []
    },
    {
      "cell_type": "markdown",
      "source": [
        "### Option 1: Download data from XNAT source (`getXNATData`)"
      ],
      "metadata": {
        "id": "WdoMz5tLlnzd"
      }
    },
    {
      "cell_type": "code",
      "source": [
        "from pyxnat import Interface\n",
        "from glob import glob\n",
        "import urllib3\n",
        "import shutil\n",
        "urllib3.disable_warnings()\n",
        "\n",
        "from pyxnat import Interface\n",
        "\n",
        "def getXNATData(xhost,user,scandict,downloadDir):\n",
        "  xnat = Interface(xhost, user, verify=False)\n",
        "  os.makedirs(downloadDir, exist_ok=True)\n",
        "  expdirlist = []\n",
        "  for scan_entry in scandict:\n",
        "    proj = scan_entry['proj']\n",
        "    subj = scan_entry['subj']\n",
        "    exp = scan_entry['exp']\n",
        "    scan_list = scan_entry['scan_list']\n",
        "    expdir = os.path.join(downloadDir,exp)\n",
        "    expdirlist.append(expdir)\n",
        "    os.makedirs(expdir, exist_ok = True)\n",
        "    xexp = xnat.select.project(proj).subject(subj).experiment(exp)\n",
        "    for scan in scan_list:\n",
        "      try:\n",
        "        xnat.select.project(proj).subject(subj).experiment(exp).scan(scan).resource('DICOM').get(downloadDir,extract=True)\n",
        "      except:\n",
        "        xnat.select.project(proj).subject(subj).experiment(exp).scan(scan).resource('secondary').get(downloadDir,extract=True)\n",
        "    for dcmfolder in ['DICOM','secondary']:\n",
        "      dcmlist = glob(os.path.join(downloadDir,dcmfolder,'*.dcm'))\n",
        "      print(dcmlist)\n",
        "      for dcm in dcmlist:\n",
        "        shutil.move(dcm, expdir)\n",
        "  for dcmfolder in ['DICOM','secondary']:\n",
        "    if os.path.exists(os.path.join(downloadDir,dcmfolder)):\n",
        "      os.rmdir(os.path.join(downloadDir,dcmfolder))\n",
        "    if os.path.exists(os.path.join(downloadDir,dcmfolder + '.zip')):\n",
        "      os.remove(os.path.join(downloadDir,dcmfolder + '.zip'))\n",
        "  xnat.disconnect()\n",
        "  return expdirlist"
      ],
      "metadata": {
        "id": "XY-VtqUKlh8R"
      },
      "execution_count": 4,
      "outputs": []
    },
    {
      "cell_type": "code",
      "source": [
        "xhost = 'https://xnat.yoursite.org'\n",
        "user = 'usr'\n",
        "scandict = [{'proj':proj,'subj':subj,'exp':exp, 'scan_list':['1']}]\n",
        "\n",
        "folderList = getXNATData(xhost,user,scandict,inputDicomPath)"
      ],
      "metadata": {
        "id": "5RD0C22xl9Zy",
        "outputId": "d20467e8-f4d7-4bc9-9058-0f674116fb57",
        "colab": {
          "base_uri": "https://localhost:8080/"
        }
      },
      "execution_count": 5,
      "outputs": [
        {
          "output_type": "stream",
          "name": "stdout",
          "text": [
            "··········\n",
            "['/content/input/DICOM/1.3.6.1.4.1.14519.5.2.1.6329.6468.109218621610560682044382179111-1-92-1mwrbch.dcm', '/content/input/DICOM/1.3.6.1.4.1.14519.5.2.1.6329.6468.109218621610560682044382179111-1-51-1qoylpv.dcm', '/content/input/DICOM/1.3.6.1.4.1.14519.5.2.1.6329.6468.109218621610560682044382179111-1-32-1cemjsq.dcm', '/content/input/DICOM/1.3.6.1.4.1.14519.5.2.1.6329.6468.109218621610560682044382179111-1-37-12pneeu.dcm', '/content/input/DICOM/1.3.6.1.4.1.14519.5.2.1.6329.6468.109218621610560682044382179111-1-90-1sfmeq5.dcm', '/content/input/DICOM/1.3.6.1.4.1.14519.5.2.1.6329.6468.109218621610560682044382179111-1-62-xi286m.dcm', '/content/input/DICOM/1.3.6.1.4.1.14519.5.2.1.6329.6468.109218621610560682044382179111-1-64-88rrvo.dcm', '/content/input/DICOM/1.3.6.1.4.1.14519.5.2.1.6329.6468.109218621610560682044382179111-1-41-qvlxuv.dcm', '/content/input/DICOM/1.3.6.1.4.1.14519.5.2.1.6329.6468.109218621610560682044382179111-1-93-1878ffd.dcm', '/content/input/DICOM/1.3.6.1.4.1.14519.5.2.1.6329.6468.109218621610560682044382179111-1-6-15leg7.dcm', '/content/input/DICOM/1.3.6.1.4.1.14519.5.2.1.6329.6468.109218621610560682044382179111-1-83-1bwlqf.dcm', '/content/input/DICOM/1.3.6.1.4.1.14519.5.2.1.6329.6468.109218621610560682044382179111-1-88-ehcqd8.dcm', '/content/input/DICOM/1.3.6.1.4.1.14519.5.2.1.6329.6468.109218621610560682044382179111-1-16-1ayrppb.dcm', '/content/input/DICOM/1.3.6.1.4.1.14519.5.2.1.6329.6468.109218621610560682044382179111-1-68-1tjvqls.dcm', '/content/input/DICOM/1.3.6.1.4.1.14519.5.2.1.6329.6468.109218621610560682044382179111-1-21-mgi0y6.dcm', '/content/input/DICOM/1.3.6.1.4.1.14519.5.2.1.6329.6468.109218621610560682044382179111-1-15-1jgb3ms.dcm', '/content/input/DICOM/1.3.6.1.4.1.14519.5.2.1.6329.6468.109218621610560682044382179111-1-5-1f3qnjo.dcm', '/content/input/DICOM/1.3.6.1.4.1.14519.5.2.1.6329.6468.109218621610560682044382179111-1-65-13eu03a.dcm', '/content/input/DICOM/1.3.6.1.4.1.14519.5.2.1.6329.6468.109218621610560682044382179111-1-8-19epcp8.dcm', '/content/input/DICOM/1.3.6.1.4.1.14519.5.2.1.6329.6468.109218621610560682044382179111-1-48-1t7idsf.dcm', '/content/input/DICOM/1.3.6.1.4.1.14519.5.2.1.6329.6468.109218621610560682044382179111-1-75-6888zb.dcm', '/content/input/DICOM/1.3.6.1.4.1.14519.5.2.1.6329.6468.109218621610560682044382179111-1-89-1p8byrx.dcm', '/content/input/DICOM/1.3.6.1.4.1.14519.5.2.1.6329.6468.109218621610560682044382179111-1-77-1rk5wdv.dcm', '/content/input/DICOM/1.3.6.1.4.1.14519.5.2.1.6329.6468.109218621610560682044382179111-1-2-13ij1sp.dcm', '/content/input/DICOM/1.3.6.1.4.1.14519.5.2.1.6329.6468.109218621610560682044382179111-1-36-1sed2tf.dcm', '/content/input/DICOM/1.3.6.1.4.1.14519.5.2.1.6329.6468.109218621610560682044382179111-1-55-g514yj.dcm', '/content/input/DICOM/1.3.6.1.4.1.14519.5.2.1.6329.6468.109218621610560682044382179111-1-20-1p4ey0u.dcm', '/content/input/DICOM/1.3.6.1.4.1.14519.5.2.1.6329.6468.109218621610560682044382179111-1-49-1f35wb8.dcm', '/content/input/DICOM/1.3.6.1.4.1.14519.5.2.1.6329.6468.109218621610560682044382179111-1-34-29oqmh.dcm', '/content/input/DICOM/1.3.6.1.4.1.14519.5.2.1.6329.6468.109218621610560682044382179111-1-78-3yykpz.dcm', '/content/input/DICOM/1.3.6.1.4.1.14519.5.2.1.6329.6468.109218621610560682044382179111-1-81-135n8n6.dcm', '/content/input/DICOM/1.3.6.1.4.1.14519.5.2.1.6329.6468.109218621610560682044382179111-1-85-1tlipfn.dcm', '/content/input/DICOM/1.3.6.1.4.1.14519.5.2.1.6329.6468.109218621610560682044382179111-1-57-474cq4.dcm', '/content/input/DICOM/1.3.6.1.4.1.14519.5.2.1.6329.6468.109218621610560682044382179111-1-53-v3z5vs.dcm', '/content/input/DICOM/1.3.6.1.4.1.14519.5.2.1.6329.6468.109218621610560682044382179111-1-30-dnk8ro.dcm', '/content/input/DICOM/1.3.6.1.4.1.14519.5.2.1.6329.6468.109218621610560682044382179111-1-63-1dkbppp.dcm', '/content/input/DICOM/1.3.6.1.4.1.14519.5.2.1.6329.6468.109218621610560682044382179111-1-84-q76q78.dcm', '/content/input/DICOM/1.3.6.1.4.1.14519.5.2.1.6329.6468.109218621610560682044382179111-1-1-sh5kmi.dcm', '/content/input/DICOM/1.3.6.1.4.1.14519.5.2.1.6329.6468.109218621610560682044382179111-1-13-1wltiwp.dcm', '/content/input/DICOM/1.3.6.1.4.1.14519.5.2.1.6329.6468.109218621610560682044382179111-1-69-1y9bapg.dcm', '/content/input/DICOM/1.3.6.1.4.1.14519.5.2.1.6329.6468.109218621610560682044382179111-1-38-15blol8.dcm', '/content/input/DICOM/1.3.6.1.4.1.14519.5.2.1.6329.6468.109218621610560682044382179111-1-59-x5tmwa.dcm', '/content/input/DICOM/1.3.6.1.4.1.14519.5.2.1.6329.6468.109218621610560682044382179111-1-67-1fxl3dj.dcm', '/content/input/DICOM/1.3.6.1.4.1.14519.5.2.1.6329.6468.109218621610560682044382179111-1-46-xy0chv.dcm', '/content/input/DICOM/1.3.6.1.4.1.14519.5.2.1.6329.6468.109218621610560682044382179111-1-91-nrf5tr.dcm', '/content/input/DICOM/1.3.6.1.4.1.14519.5.2.1.6329.6468.109218621610560682044382179111-1-25-evf5nb.dcm', '/content/input/DICOM/1.3.6.1.4.1.14519.5.2.1.6329.6468.109218621610560682044382179111-1-18-zoibz9.dcm', '/content/input/DICOM/1.3.6.1.4.1.14519.5.2.1.6329.6468.109218621610560682044382179111-1-80-7ma2c2.dcm', '/content/input/DICOM/1.3.6.1.4.1.14519.5.2.1.6329.6468.109218621610560682044382179111-1-9-9p6xr6.dcm', '/content/input/DICOM/1.3.6.1.4.1.14519.5.2.1.6329.6468.109218621610560682044382179111-1-60-1phgp8g.dcm', '/content/input/DICOM/1.3.6.1.4.1.14519.5.2.1.6329.6468.109218621610560682044382179111-1-17-1nt7xyr.dcm', '/content/input/DICOM/1.3.6.1.4.1.14519.5.2.1.6329.6468.109218621610560682044382179111-1-11-76ryx9.dcm', '/content/input/DICOM/1.3.6.1.4.1.14519.5.2.1.6329.6468.109218621610560682044382179111-1-3-1svl8ys.dcm', '/content/input/DICOM/1.3.6.1.4.1.14519.5.2.1.6329.6468.109218621610560682044382179111-1-39-3c8r7a.dcm', '/content/input/DICOM/1.3.6.1.4.1.14519.5.2.1.6329.6468.109218621610560682044382179111-1-43-iwcq5k.dcm', '/content/input/DICOM/1.3.6.1.4.1.14519.5.2.1.6329.6468.109218621610560682044382179111-1-42-16cyier.dcm', '/content/input/DICOM/1.3.6.1.4.1.14519.5.2.1.6329.6468.109218621610560682044382179111-1-50-1kah12a.dcm', '/content/input/DICOM/1.3.6.1.4.1.14519.5.2.1.6329.6468.109218621610560682044382179111-1-58-7gj0b1.dcm', '/content/input/DICOM/1.3.6.1.4.1.14519.5.2.1.6329.6468.109218621610560682044382179111-1-10-wpdzng.dcm', '/content/input/DICOM/1.3.6.1.4.1.14519.5.2.1.6329.6468.109218621610560682044382179111-1-66-1x4clap.dcm', '/content/input/DICOM/1.3.6.1.4.1.14519.5.2.1.6329.6468.109218621610560682044382179111-1-74-fc7lbg.dcm', '/content/input/DICOM/1.3.6.1.4.1.14519.5.2.1.6329.6468.109218621610560682044382179111-1-47-ngocvg.dcm', '/content/input/DICOM/1.3.6.1.4.1.14519.5.2.1.6329.6468.109218621610560682044382179111-1-14-miajh3.dcm', '/content/input/DICOM/1.3.6.1.4.1.14519.5.2.1.6329.6468.109218621610560682044382179111-1-12-f14nrv.dcm', '/content/input/DICOM/1.3.6.1.4.1.14519.5.2.1.6329.6468.109218621610560682044382179111-1-79-yu0t3n.dcm', '/content/input/DICOM/1.3.6.1.4.1.14519.5.2.1.6329.6468.109218621610560682044382179111-1-31-17lgsiy.dcm', '/content/input/DICOM/1.3.6.1.4.1.14519.5.2.1.6329.6468.109218621610560682044382179111-1-23-ysru0t.dcm', '/content/input/DICOM/1.3.6.1.4.1.14519.5.2.1.6329.6468.109218621610560682044382179111-1-44-192hv39.dcm', '/content/input/DICOM/1.3.6.1.4.1.14519.5.2.1.6329.6468.109218621610560682044382179111-1-73-11hqmsm.dcm', '/content/input/DICOM/1.3.6.1.4.1.14519.5.2.1.6329.6468.109218621610560682044382179111-1-7-168n01j.dcm', '/content/input/DICOM/1.3.6.1.4.1.14519.5.2.1.6329.6468.109218621610560682044382179111-1-22-5bc1bj.dcm', '/content/input/DICOM/1.3.6.1.4.1.14519.5.2.1.6329.6468.109218621610560682044382179111-1-19-8gki9o.dcm', '/content/input/DICOM/1.3.6.1.4.1.14519.5.2.1.6329.6468.109218621610560682044382179111-1-87-4apar0.dcm', '/content/input/DICOM/1.3.6.1.4.1.14519.5.2.1.6329.6468.109218621610560682044382179111-1-27-1kabxg6.dcm', '/content/input/DICOM/1.3.6.1.4.1.14519.5.2.1.6329.6468.109218621610560682044382179111-1-28-1fmknjl.dcm', '/content/input/DICOM/1.3.6.1.4.1.14519.5.2.1.6329.6468.109218621610560682044382179111-1-70-1wv0uku.dcm', '/content/input/DICOM/1.3.6.1.4.1.14519.5.2.1.6329.6468.109218621610560682044382179111-1-82-17cuxyi.dcm', '/content/input/DICOM/1.3.6.1.4.1.14519.5.2.1.6329.6468.109218621610560682044382179111-1-54-b7430f.dcm', '/content/input/DICOM/1.3.6.1.4.1.14519.5.2.1.6329.6468.109218621610560682044382179111-1-76-twa34a.dcm', '/content/input/DICOM/1.3.6.1.4.1.14519.5.2.1.6329.6468.109218621610560682044382179111-1-52-19u8r1i.dcm', '/content/input/DICOM/1.3.6.1.4.1.14519.5.2.1.6329.6468.109218621610560682044382179111-1-35-vwsbvd.dcm', '/content/input/DICOM/1.3.6.1.4.1.14519.5.2.1.6329.6468.109218621610560682044382179111-1-40-155ln4r.dcm', '/content/input/DICOM/1.3.6.1.4.1.14519.5.2.1.6329.6468.109218621610560682044382179111-1-4-yqwtdk.dcm', '/content/input/DICOM/1.3.6.1.4.1.14519.5.2.1.6329.6468.109218621610560682044382179111-1-71-gv5sfn.dcm', '/content/input/DICOM/1.3.6.1.4.1.14519.5.2.1.6329.6468.109218621610560682044382179111-1-72-1ox8wtx.dcm', '/content/input/DICOM/1.3.6.1.4.1.14519.5.2.1.6329.6468.109218621610560682044382179111-1-45-1cncsqf.dcm', '/content/input/DICOM/1.3.6.1.4.1.14519.5.2.1.6329.6468.109218621610560682044382179111-1-61-1equrgf.dcm', '/content/input/DICOM/1.3.6.1.4.1.14519.5.2.1.6329.6468.109218621610560682044382179111-1-24-1p3wc7e.dcm', '/content/input/DICOM/1.3.6.1.4.1.14519.5.2.1.6329.6468.109218621610560682044382179111-1-33-jor5i.dcm', '/content/input/DICOM/1.3.6.1.4.1.14519.5.2.1.6329.6468.109218621610560682044382179111-1-26-199uqlv.dcm', '/content/input/DICOM/1.3.6.1.4.1.14519.5.2.1.6329.6468.109218621610560682044382179111-1-29-k8nzzo.dcm', '/content/input/DICOM/1.3.6.1.4.1.14519.5.2.1.6329.6468.109218621610560682044382179111-1-56-3oafm6.dcm', '/content/input/DICOM/1.3.6.1.4.1.14519.5.2.1.6329.6468.109218621610560682044382179111-1-86-1n73rb9.dcm']\n",
            "[]\n",
            "['/content/input/DICOM/1.3.6.1.4.1.14519.5.2.1.6329.6468.180596963996965825122162035932-1-21-1qsksoz.dcm', '/content/input/DICOM/1.3.6.1.4.1.14519.5.2.1.6329.6468.180596963996965825122162035932-1-43-7bfwj4.dcm', '/content/input/DICOM/1.3.6.1.4.1.14519.5.2.1.6329.6468.180596963996965825122162035932-1-80-174miax.dcm', '/content/input/DICOM/1.3.6.1.4.1.14519.5.2.1.6329.6468.180596963996965825122162035932-1-95-1as485y.dcm', '/content/input/DICOM/1.3.6.1.4.1.14519.5.2.1.6329.6468.180596963996965825122162035932-1-13-1btc4f9.dcm', '/content/input/DICOM/1.3.6.1.4.1.14519.5.2.1.6329.6468.180596963996965825122162035932-1-30-d94htk.dcm', '/content/input/DICOM/1.3.6.1.4.1.14519.5.2.1.6329.6468.180596963996965825122162035932-1-93-q1okfc.dcm', '/content/input/DICOM/1.3.6.1.4.1.14519.5.2.1.6329.6468.180596963996965825122162035932-1-55-1xm839l.dcm', '/content/input/DICOM/1.3.6.1.4.1.14519.5.2.1.6329.6468.180596963996965825122162035932-1-42-fu9z8u.dcm', '/content/input/DICOM/1.3.6.1.4.1.14519.5.2.1.6329.6468.180596963996965825122162035932-1-46-ju4ej7.dcm', '/content/input/DICOM/1.3.6.1.4.1.14519.5.2.1.6329.6468.180596963996965825122162035932-1-72-msqx32.dcm', '/content/input/DICOM/1.3.6.1.4.1.14519.5.2.1.6329.6468.180596963996965825122162035932-1-49-jrhp1.dcm', '/content/input/DICOM/1.3.6.1.4.1.14519.5.2.1.6329.6468.180596963996965825122162035932-1-87-qewe76.dcm', '/content/input/DICOM/1.3.6.1.4.1.14519.5.2.1.6329.6468.180596963996965825122162035932-1-2-sz2xor.dcm', '/content/input/DICOM/1.3.6.1.4.1.14519.5.2.1.6329.6468.180596963996965825122162035932-1-65-18pr4td.dcm', '/content/input/DICOM/1.3.6.1.4.1.14519.5.2.1.6329.6468.180596963996965825122162035932-1-14-njt4ae.dcm', '/content/input/DICOM/1.3.6.1.4.1.14519.5.2.1.6329.6468.180596963996965825122162035932-1-82-w5m6no.dcm', '/content/input/DICOM/1.3.6.1.4.1.14519.5.2.1.6329.6468.180596963996965825122162035932-1-62-11lbgqr.dcm', '/content/input/DICOM/1.3.6.1.4.1.14519.5.2.1.6329.6468.180596963996965825122162035932-1-15-1p8v26q.dcm', '/content/input/DICOM/1.3.6.1.4.1.14519.5.2.1.6329.6468.180596963996965825122162035932-1-68-fnvuj4.dcm', '/content/input/DICOM/1.3.6.1.4.1.14519.5.2.1.6329.6468.180596963996965825122162035932-1-75-15zts72.dcm', '/content/input/DICOM/1.3.6.1.4.1.14519.5.2.1.6329.6468.180596963996965825122162035932-1-20-1xpqixn.dcm', '/content/input/DICOM/1.3.6.1.4.1.14519.5.2.1.6329.6468.180596963996965825122162035932-1-59-4n04ps.dcm', '/content/input/DICOM/1.3.6.1.4.1.14519.5.2.1.6329.6468.180596963996965825122162035932-1-77-rbkvfo.dcm', '/content/input/DICOM/1.3.6.1.4.1.14519.5.2.1.6329.6468.180596963996965825122162035932-1-44-1qivw7p.dcm', '/content/input/DICOM/1.3.6.1.4.1.14519.5.2.1.6329.6468.180596963996965825122162035932-1-31-1pefld0.dcm', '/content/input/DICOM/1.3.6.1.4.1.14519.5.2.1.6329.6468.180596963996965825122162035932-1-51-1ybvc6u.dcm', '/content/input/DICOM/1.3.6.1.4.1.14519.5.2.1.6329.6468.180596963996965825122162035932-1-71-5ifx8j.dcm', '/content/input/DICOM/1.3.6.1.4.1.14519.5.2.1.6329.6468.180596963996965825122162035932-1-12-13j7e5c.dcm', '/content/input/DICOM/1.3.6.1.4.1.14519.5.2.1.6329.6468.180596963996965825122162035932-1-57-etfb54.dcm', '/content/input/DICOM/1.3.6.1.4.1.14519.5.2.1.6329.6468.180596963996965825122162035932-1-23-1f6or05.dcm', '/content/input/DICOM/1.3.6.1.4.1.14519.5.2.1.6329.6468.180596963996965825122162035932-1-3-l6wreu.dcm', '/content/input/DICOM/1.3.6.1.4.1.14519.5.2.1.6329.6468.180596963996965825122162035932-1-50-1crgx0s.dcm', '/content/input/DICOM/1.3.6.1.4.1.14519.5.2.1.6329.6468.180596963996965825122162035932-1-52-ogi2jd.dcm', '/content/input/DICOM/1.3.6.1.4.1.14519.5.2.1.6329.6468.180596963996965825122162035932-1-7-67hxsu.dcm', '/content/input/DICOM/1.3.6.1.4.1.14519.5.2.1.6329.6468.180596963996965825122162035932-1-76-uvlrqn.dcm', '/content/input/DICOM/1.3.6.1.4.1.14519.5.2.1.6329.6468.180596963996965825122162035932-1-64-1q9sep7.dcm', '/content/input/DICOM/1.3.6.1.4.1.14519.5.2.1.6329.6468.180596963996965825122162035932-1-67-1bra5sj.dcm', '/content/input/DICOM/1.3.6.1.4.1.14519.5.2.1.6329.6468.180596963996965825122162035932-1-48-1nnrtoo.dcm', '/content/input/DICOM/1.3.6.1.4.1.14519.5.2.1.6329.6468.180596963996965825122162035932-1-94-1fe4sri.dcm', '/content/input/DICOM/1.3.6.1.4.1.14519.5.2.1.6329.6468.180596963996965825122162035932-1-40-z59nyh.dcm', '/content/input/DICOM/1.3.6.1.4.1.14519.5.2.1.6329.6468.180596963996965825122162035932-1-63-1593m6c.dcm', '/content/input/DICOM/1.3.6.1.4.1.14519.5.2.1.6329.6468.180596963996965825122162035932-1-35-1xwmvz1.dcm', '/content/input/DICOM/1.3.6.1.4.1.14519.5.2.1.6329.6468.180596963996965825122162035932-1-17-oar9ru.dcm', '/content/input/DICOM/1.3.6.1.4.1.14519.5.2.1.6329.6468.180596963996965825122162035932-1-29-1yyj12f.dcm', '/content/input/DICOM/1.3.6.1.4.1.14519.5.2.1.6329.6468.180596963996965825122162035932-1-22-1djzode.dcm', '/content/input/DICOM/1.3.6.1.4.1.14519.5.2.1.6329.6468.180596963996965825122162035932-1-96-139rpx2.dcm', '/content/input/DICOM/1.3.6.1.4.1.14519.5.2.1.6329.6468.180596963996965825122162035932-1-39-15f8nm7.dcm', '/content/input/DICOM/1.3.6.1.4.1.14519.5.2.1.6329.6468.180596963996965825122162035932-1-4-1dx0xfy.dcm', '/content/input/DICOM/1.3.6.1.4.1.14519.5.2.1.6329.6468.180596963996965825122162035932-1-79-h0ifqm.dcm', '/content/input/DICOM/1.3.6.1.4.1.14519.5.2.1.6329.6468.180596963996965825122162035932-1-32-kuffoz.dcm', '/content/input/DICOM/1.3.6.1.4.1.14519.5.2.1.6329.6468.180596963996965825122162035932-1-8-188bm3d.dcm', '/content/input/DICOM/1.3.6.1.4.1.14519.5.2.1.6329.6468.180596963996965825122162035932-1-90-pzz2g0.dcm', '/content/input/DICOM/1.3.6.1.4.1.14519.5.2.1.6329.6468.180596963996965825122162035932-1-10-1tr376x.dcm', '/content/input/DICOM/1.3.6.1.4.1.14519.5.2.1.6329.6468.180596963996965825122162035932-1-91-mag1yf.dcm', '/content/input/DICOM/1.3.6.1.4.1.14519.5.2.1.6329.6468.180596963996965825122162035932-1-89-1y3sff3.dcm', '/content/input/DICOM/1.3.6.1.4.1.14519.5.2.1.6329.6468.180596963996965825122162035932-1-53-pku3kp.dcm', '/content/input/DICOM/1.3.6.1.4.1.14519.5.2.1.6329.6468.180596963996965825122162035932-1-24-1i1a2bl.dcm', '/content/input/DICOM/1.3.6.1.4.1.14519.5.2.1.6329.6468.180596963996965825122162035932-1-56-p0m8qc.dcm', '/content/input/DICOM/1.3.6.1.4.1.14519.5.2.1.6329.6468.180596963996965825122162035932-1-84-1r5frc0.dcm', '/content/input/DICOM/1.3.6.1.4.1.14519.5.2.1.6329.6468.180596963996965825122162035932-1-58-1ug7b7z.dcm', '/content/input/DICOM/1.3.6.1.4.1.14519.5.2.1.6329.6468.180596963996965825122162035932-1-37-a1tnip.dcm', '/content/input/DICOM/1.3.6.1.4.1.14519.5.2.1.6329.6468.180596963996965825122162035932-1-85-1l4rzh2.dcm', '/content/input/DICOM/1.3.6.1.4.1.14519.5.2.1.6329.6468.180596963996965825122162035932-1-73-fcob54.dcm', '/content/input/DICOM/1.3.6.1.4.1.14519.5.2.1.6329.6468.180596963996965825122162035932-1-78-1x96n1h.dcm', '/content/input/DICOM/1.3.6.1.4.1.14519.5.2.1.6329.6468.180596963996965825122162035932-1-81-d8k63k.dcm', '/content/input/DICOM/1.3.6.1.4.1.14519.5.2.1.6329.6468.180596963996965825122162035932-1-6-5jpron.dcm', '/content/input/DICOM/1.3.6.1.4.1.14519.5.2.1.6329.6468.180596963996965825122162035932-1-5-hx43ia.dcm', '/content/input/DICOM/1.3.6.1.4.1.14519.5.2.1.6329.6468.180596963996965825122162035932-1-61-9dlne1.dcm', '/content/input/DICOM/1.3.6.1.4.1.14519.5.2.1.6329.6468.180596963996965825122162035932-1-54-1nlfjlg.dcm', '/content/input/DICOM/1.3.6.1.4.1.14519.5.2.1.6329.6468.180596963996965825122162035932-1-60-14tj9xu.dcm', '/content/input/DICOM/1.3.6.1.4.1.14519.5.2.1.6329.6468.180596963996965825122162035932-1-25-14b2ie8.dcm', '/content/input/DICOM/1.3.6.1.4.1.14519.5.2.1.6329.6468.180596963996965825122162035932-1-36-edph32.dcm', '/content/input/DICOM/1.3.6.1.4.1.14519.5.2.1.6329.6468.180596963996965825122162035932-1-92-st3pwl.dcm', '/content/input/DICOM/1.3.6.1.4.1.14519.5.2.1.6329.6468.180596963996965825122162035932-1-47-19mj7vc.dcm', '/content/input/DICOM/1.3.6.1.4.1.14519.5.2.1.6329.6468.180596963996965825122162035932-1-33-r6svzu.dcm', '/content/input/DICOM/1.3.6.1.4.1.14519.5.2.1.6329.6468.180596963996965825122162035932-1-27-n0r31l.dcm', '/content/input/DICOM/1.3.6.1.4.1.14519.5.2.1.6329.6468.180596963996965825122162035932-1-70-hwisgk.dcm', '/content/input/DICOM/1.3.6.1.4.1.14519.5.2.1.6329.6468.180596963996965825122162035932-1-11-1w9lep7.dcm', '/content/input/DICOM/1.3.6.1.4.1.14519.5.2.1.6329.6468.180596963996965825122162035932-1-41-vaaali.dcm', '/content/input/DICOM/1.3.6.1.4.1.14519.5.2.1.6329.6468.180596963996965825122162035932-1-19-18xc3uy.dcm', '/content/input/DICOM/1.3.6.1.4.1.14519.5.2.1.6329.6468.180596963996965825122162035932-1-38-8g7c3p.dcm', '/content/input/DICOM/1.3.6.1.4.1.14519.5.2.1.6329.6468.180596963996965825122162035932-1-83-u8ig6r.dcm', '/content/input/DICOM/1.3.6.1.4.1.14519.5.2.1.6329.6468.180596963996965825122162035932-1-86-1rac0ns.dcm', '/content/input/DICOM/1.3.6.1.4.1.14519.5.2.1.6329.6468.180596963996965825122162035932-1-1-1df2al0.dcm', '/content/input/DICOM/1.3.6.1.4.1.14519.5.2.1.6329.6468.180596963996965825122162035932-1-26-jefr6h.dcm', '/content/input/DICOM/1.3.6.1.4.1.14519.5.2.1.6329.6468.180596963996965825122162035932-1-16-1swn49g.dcm', '/content/input/DICOM/1.3.6.1.4.1.14519.5.2.1.6329.6468.180596963996965825122162035932-1-45-dep9y0.dcm', '/content/input/DICOM/1.3.6.1.4.1.14519.5.2.1.6329.6468.180596963996965825122162035932-1-69-my8nzh.dcm', '/content/input/DICOM/1.3.6.1.4.1.14519.5.2.1.6329.6468.180596963996965825122162035932-1-88-nhoj7l.dcm', '/content/input/DICOM/1.3.6.1.4.1.14519.5.2.1.6329.6468.180596963996965825122162035932-1-34-b4uai2.dcm', '/content/input/DICOM/1.3.6.1.4.1.14519.5.2.1.6329.6468.180596963996965825122162035932-1-28-4mnwrn.dcm', '/content/input/DICOM/1.3.6.1.4.1.14519.5.2.1.6329.6468.180596963996965825122162035932-1-74-7h3tt8.dcm', '/content/input/DICOM/1.3.6.1.4.1.14519.5.2.1.6329.6468.180596963996965825122162035932-1-97-1j33ldp.dcm', '/content/input/DICOM/1.3.6.1.4.1.14519.5.2.1.6329.6468.180596963996965825122162035932-1-9-ak600t.dcm', '/content/input/DICOM/1.3.6.1.4.1.14519.5.2.1.6329.6468.180596963996965825122162035932-1-66-15zgmp8.dcm', '/content/input/DICOM/1.3.6.1.4.1.14519.5.2.1.6329.6468.180596963996965825122162035932-1-18-1ozmsee.dcm']\n",
            "[]\n"
          ]
        }
      ]
    },
    {
      "cell_type": "markdown",
      "source": [
        "### Option 2: Download data from other HTTP source to `inputDicomDir`"
      ],
      "metadata": {
        "id": "9oQ39Rl7l6E-"
      }
    },
    {
      "cell_type": "code",
      "execution_count": 6,
      "metadata": {
        "id": "CWaGs8LqhZTD",
        "outputId": "f70c44a8-1d3a-4c85-b627-5d4367569c61",
        "colab": {
          "base_uri": "https://localhost:8080/"
        }
      },
      "outputs": [
        {
          "output_type": "stream",
          "name": "stdout",
          "text": [
            "--2024-06-19 18:23:17--  http://path.to/data\n",
            "Resolving path.to (path.to)... 54.243.229.84, 54.86.93.155\n",
            "Connecting to path.to (path.to)|54.243.229.84|:80... connected.\n",
            "HTTP request sent, awaiting response... 302 Found\n",
            "Location: http://path.to [following]\n",
            "--2024-06-19 18:23:18--  http://path.to/\n",
            "Reusing existing connection to path.to:80.\n",
            "HTTP request sent, awaiting response... 200 OK\n",
            "Length: 4357 (4.3K) [text/html]\n",
            "Saving to: ‘sampleData.gz’\n",
            "\n",
            "sampleData.gz       100%[===================>]   4.25K  --.-KB/s    in 0s      \n",
            "\n",
            "2024-06-19 18:23:18 (597 MB/s) - ‘sampleData.gz’ saved [4357/4357]\n",
            "\n",
            "\n",
            "gzip: stdin: not in gzip format\n",
            "tar: Child returned status 1\n",
            "tar: Error is not recoverable: exiting now\n"
          ]
        }
      ],
      "source": [
        "dataUrl = 'http://path.to/data'\n",
        "dataDownloadDir = os.path.join(workDir,'tmp')\n",
        "os.makedirs(dataDownloadDir,exist_ok=True)\n",
        "\n",
        "! wget -O sampleData.gz -L {dataUrl}\n",
        "! tar xf sampleData.gz -C {dataDownloadDir}\n",
        "! rm sampleData.gz"
      ]
    },
    {
      "cell_type": "markdown",
      "source": [
        "# Install segmentation wrapper"
      ],
      "metadata": {
        "id": "Rd01-wUTmymF"
      }
    },
    {
      "cell_type": "markdown",
      "source": [
        "### Installation of segmentation wrapper, Python environment and network weights handled by CERR-developed `model_installer`"
      ],
      "metadata": {
        "id": "QaPeBe6hm5OX"
      }
    },
    {
      "cell_type": "code",
      "source": [
        "os.chdir(workDir)\n",
        "!git clone https://github.com/cerr/model_installer.git\n",
        "os.chdir(os.path.join(workDir,'model_installer'))\n",
        "!./installer.sh -h"
      ],
      "metadata": {
        "id": "soip-h_CkzHH",
        "outputId": "5c7200de-6ad3-4ab1-f2d6-0e0ce86035c1",
        "colab": {
          "base_uri": "https://localhost:8080/"
        }
      },
      "execution_count": 7,
      "outputs": [
        {
          "output_type": "stream",
          "name": "stdout",
          "text": [
            "Cloning into 'model_installer'...\n",
            "remote: Enumerating objects: 49, done.\u001b[K\n",
            "remote: Counting objects: 100% (49/49), done.\u001b[K\n",
            "remote: Compressing objects: 100% (44/44), done.\u001b[K\n",
            "remote: Total 49 (delta 15), reused 26 (delta 5), pack-reused 0\u001b[K\n",
            "Receiving objects: 100% (49/49), 14.14 KiB | 7.07 MiB/s, done.\n",
            "Resolving deltas: 100% (15/15), done.\n",
            "      ___           ___           ___           ___     \n",
            "     /  /\\         /  /\\         /  /\\         /  /\\    \n",
            "    /  /:/        /  /:/_       /  /::\\       /  /::\\   \n",
            "   /  /:/        /  /:/ /\\     /  /:/\\:\\     /  /:/\\:\\  \n",
            "  /  /:/  ___   /  /:/ /:/_   /  /:/~/:/    /  /:/~/:/  \n",
            " /__/:/  /  /\\ /__/:/ /:/ /\\ /__/:/ /:/___ /__/:/ /:/___\n",
            " \\  \\:\\ /  /:/ \\  \\:\\/:/ /:/ \\  \\:\\/:::::/ \\  \\:\\/:::::/\n",
            "  \\  \\:\\  /:/   \\  \\::/ /:/   \\  \\::/~~~~   \\  \\::/~~~~ \n",
            "   \\  \\:\\/:/     \\  \\:\\/:/     \\  \\:\\        \\  \\:\\     \n",
            "    \\  \\::/       \\  \\::/       \\  \\:\\        \\  \\:\\    \n",
            "     \\__\\/         \\__\\/         \\__\\/         \\__\\/    \n",
            " \n",
            "Medical Physics Department, Memorial Sloan Kettering Cancer Center, New York, NY\n",
            " \n",
            "Welcome to the CERR segmentation model installer! For usage information, run with -h flag\n",
            " \n",
            "Usage Information: \n",
            "\tFlags: \n",
            "\t\t-i : Flag to run installer in interactive mode (no argument)\n",
            "\t\t-m : [1-4] Integer number to select model to install. For list of available options, see below. \n",
            "\t\t-d : Directory to install model with network weights \n",
            "\t\t-p : [P/C/N] Setup and install Python environment P: setup Conda env from python requirements.txt; C: Conda pack download; N: No install. \n",
            "\t\t-h : Print help menu \n",
            " \n",
            "The following are the list of available models. When passing the argument to installer, select the number of the model to download: \n",
            "          \t1.  CT_cardiac_structures_deeplab\n",
            "          \t2.  CT_LungOAR_incrMRRN\n",
            "          \t3.  MR_Prostate_Deeplab\n",
            "          \t4.  CT_Lung_SMIT\n"
          ]
        }
      ]
    },
    {
      "cell_type": "code",
      "source": [
        "%%capture\n",
        "modelOpt = '2' #CT_LungOAR_incrMRRN\n",
        "pythonOpt = 'C' #download and use pre-packaged Conda environment\n",
        "\n",
        "! source ./installer.sh -m {modelOpt} -d {workDir} -p {pythonOpt}"
      ],
      "metadata": {
        "id": "pMRe29URpZn0"
      },
      "execution_count": 8,
      "outputs": []
    },
    {
      "cell_type": "code",
      "source": [
        "wrapperInstallDir = os.path.join(workDir, 'CT_LungOAR_incrMRRN')\n",
        "#!git clone https://github.com/cerr/CT_LungOAR_incrMRRN {scriptInstallDir}\n",
        "wrapperPath = os.path.join(wrapperInstallDir, 'model_wrapper','run_inference_nii.py')\n",
        "\n",
        "# Location of conda archive\n",
        "condaEnvDir = os.path.join(wrapperInstallDir, 'conda-pack')\n",
        "\n",
        "# Path to activation script for Conda environment\n",
        "condaActivateScript = os.path.join(condaEnvDir,'bin','activate')"
      ],
      "metadata": {
        "id": "ivspAad8nb5e"
      },
      "execution_count": 9,
      "outputs": []
    },
    {
      "cell_type": "markdown",
      "metadata": {
        "id": "sfcIIiLQsgcM"
      },
      "source": [
        "# Function Definitions: Data pre- and post-processing using pyCERR"
      ]
    },
    {
      "cell_type": "markdown",
      "metadata": {
        "id": "1m955pAJsgcN"
      },
      "source": [
        "## `processInputData`: Identify the input scan and resize slices to 512x512 (pre-processing)"
      ]
    },
    {
      "cell_type": "code",
      "execution_count": 10,
      "metadata": {
        "id": "FAXBqkTasgcN"
      },
      "outputs": [],
      "source": [
        "import cerr\n",
        "from cerr.dataclasses import structure\n",
        "from cerr.contour import rasterseg as rs\n",
        "from cerr.utils.aiPipeline import getScanNumFromIdentifier\n",
        "from cerr.utils import imageProc\n",
        "\n",
        "def processInputData(planC):\n",
        "\n",
        "  # Identify scan index in  planC\n",
        "  scanIdS = {\"imageType\": \"CT SCAN\"}\n",
        "  matchScanV = getScanNumFromIdentifier(scanIdS, planC,\n",
        "                                                    False)\n",
        "\n",
        "  # Extract scan\n",
        "  scanNum = matchScanV[0]\n",
        "  scan3M = planC.scan[scanNum].getScanArray()\n",
        "  mask3M = None\n",
        "\n",
        "  # Resize scan and import to planC\n",
        "  inputImgSizeV = np.shape(scan3M)\n",
        "  gridS = planC.scan[scanNum].getScanXYZVals()\n",
        "  outputImgSizeV = [512, 512, inputImgSizeV[2]]\n",
        "  method = 'padorcrop3d'\n",
        "  procScan3M, __, resizeGridS = imageProc.resizeScanAndMask(scan3M,\n",
        "                                mask3M, gridS, outputImgSizeV, method)\n",
        "\n",
        "  return procScan3M, resizeGridS"
      ]
    },
    {
      "cell_type": "markdown",
      "metadata": {
        "id": "C1KHjP1LsgcO"
      },
      "source": [
        "\n",
        "## `postProcAndImportSeg`: Import label maps and retain only the largest connected component to filter out false detections (post-processing)."
      ]
    },
    {
      "cell_type": "code",
      "execution_count": 18,
      "metadata": {
        "id": "W_GjRVWtsgcP"
      },
      "outputs": [],
      "source": [
        "#Import label map to CERR\n",
        "from cerr.utils import mask\n",
        "from cerr. dataclasses import structure\n",
        "\n",
        "def postProcAndImportSeg(outputDir,procScanNum,scanNum,planC):\n",
        "  niiGlob = glob(os.path.join(outputDir,'*.nii.gz'))\n",
        "\n",
        "  print('Importing ' + niiGlob[0]+'...')\n",
        "  numStrOrig = len(planC.structure)\n",
        "  planC = pc.load_nii_structure(niiGlob[0], procScanNum, planC, \\\n",
        "                              labels_dict = strToLabelMap)\n",
        "  cpyStrNumV = np.arange(numStrOrig,len(planC.structure))\n",
        "  numComponents = 1\n",
        "  for label in range(numLabel):\n",
        "    # Copy to original scan\n",
        "    planC = structure.copyToScan(cpyStrNumV[label], scanNum, planC)\n",
        "    origStr = len(planC.structure)-1\n",
        "    strName =  strToLabelMap[label+1]\n",
        "    # Post-process and replace input structure in planC\n",
        "    procMask3M = structure.getLargestConnComps(origStr, numComponents,\n",
        "                                                planC, saveFlag=True,\n",
        "                                                replaceFlag=False,\n",
        "                                                procSructName=strName)\n",
        "  return planC"
      ]
    },
    {
      "cell_type": "markdown",
      "metadata": {
        "id": "zj7t-J4isgcQ"
      },
      "source": [
        "# Run segmentation: Generate OARs for all the CT scan folders located at `inputDicomPath`"
      ]
    },
    {
      "cell_type": "code",
      "execution_count": 12,
      "metadata": {
        "id": "FtPOzqWQsgcP"
      },
      "outputs": [],
      "source": [
        "# Map output labels to structure names\n",
        "\n",
        "strToLabelMap = {1:\"Lung_Left\", 2:\"Lung_Right\", 3:\"Heart\", 4:\"Esophagus\", \\\n",
        "                 5:\"Cord\", 6:\"PBT\"}\n",
        "numLabel = len(strToLabelMap)"
      ]
    },
    {
      "cell_type": "code",
      "execution_count": 20,
      "metadata": {
        "id": "WCuUi5D6sgcS"
      },
      "outputs": [],
      "source": [
        "%%capture\n",
        "import subprocess\n",
        "import numpy as np\n",
        "import cerr\n",
        "from cerr import plan_container as pc\n",
        "from cerr.dataclasses import scan as cerrScn\n",
        "from cerr.utils.aiPipeline import createSessionDir\n",
        "from cerr.dcm_export import rtstruct_iod\n",
        "\n",
        "# Loop over pyCERR files\n",
        "folderList = glob(os.path.join(inputDicomPath,'*'))\n",
        "modality = 'CT'\n",
        "scanNum = 0\n",
        "\n",
        "for dcmDir in folderList:\n",
        "    fname = os.path.basename(dcmDir)\n",
        "    # Create session dir to store temporary data\n",
        "    modInputPath, modOutputPath = createSessionDir(sessionPath, dcmDir)\n",
        "\n",
        "\n",
        "    # Import DICOM scan to planC\n",
        "    planC = pc.load_dcm_dir(dcmDir)\n",
        "    numExistingStructs = len(planC.structure)\n",
        "\n",
        "    # Pre-process data\n",
        "    procScan3M, resizeGridS = processInputData(planC)\n",
        "    planC = pc.import_scan_array(procScan3M, resizeGridS[0], \\\n",
        "            resizeGridS[1], resizeGridS[2], modality, scanNum, planC)\n",
        "    procScanNum = len(planC.scan) - 1\n",
        "\n",
        "    # Export inputs to NIfTI\n",
        "    scanFilename = os.path.join(modInputPath,\n",
        "                                f\"{fname}_scan_3D.nii.gz\")\n",
        "    planC.scan[procScanNum].save_nii(scanFilename)\n",
        "\n",
        "    # Apply model\n",
        "    subprocess.run(f\"source {condaActivateScript} && python {wrapperPath} \\\n",
        "                  {modInputPath} {modOutputPath}\", \\\n",
        "                  capture_output=False,shell=True,executable=\"/bin/bash\")\n",
        "\n",
        "    # Import results to planC\n",
        "    planC = postProcAndImportSeg(modOutputPath,procScanNum,scanNum,planC)\n",
        "    newNumStructs = len(planC.structure)\n",
        "\n",
        "    # Export segmentations to DICOM\n",
        "    structFileName = fname +'_AI_seg_RTSTRUCT.dcm'\n",
        "    structFilePath = os.path.join(outputDicomPath,structFileName)\n",
        "    structNumV = np.arange(numExistingStructs,newNumStructs)\n",
        "    indOrigV = np.array([cerrScn.getScanNumFromUID(planC.structure[structNum].assocScanUID,\\\n",
        "                        planC) for structNum in structNumV], dtype=int)\n",
        "    origIndsToExportV = structNumV[indOrigV == scanNum]\n",
        "    seriesDescription = \"AI Generated\"\n",
        "    exportOpts = {'seriesDescription': seriesDescription}\n",
        "    rtstruct_iod.create(structsToExportV,structFilePath,planC,exportOpts)"
      ]
    },
    {
      "cell_type": "markdown",
      "metadata": {
        "id": "Kugws3KBl4MK"
      },
      "source": [
        "## **Optional**: Uncomment the following to download the output segmentations to your workspace bucket."
      ]
    },
    {
      "cell_type": "code",
      "execution_count": 14,
      "metadata": {
        "id": "_nkTBkijl23J"
      },
      "outputs": [],
      "source": [
        "# workspaceBucket = os.environ['WORKSPACE_BUCKET']\n",
        "# !gcloud storage cp -r {outputDicomPath} {workspaceBucket}"
      ]
    },
    {
      "cell_type": "markdown",
      "metadata": {
        "id": "iLzFp-l_sgcT"
      },
      "source": [
        "# Display results"
      ]
    },
    {
      "cell_type": "markdown",
      "metadata": {
        "id": "L8FTwNqhsgcT"
      },
      "source": [
        "## Overlay AI segmentations on scan for visualization using ***Matplotlib***\n",
        "\n",
        "Note: This example displays the last segmented dataset by default.  \n",
        "Load the appropriate pyCERR archive to `planC` to view results for desired dataset."
      ]
    },
    {
      "cell_type": "code",
      "execution_count": 22,
      "metadata": {
        "colab": {
          "base_uri": "https://localhost:8080/",
          "height": 888,
          "referenced_widgets": [
            "babedd830dae49b4856bd0154d4db19b",
            "d49bb314d47e4d2ba419fa3adf152d23",
            "b5beb2b9b4974839ad4b0beccfc94764",
            "3f55ea35485e4f148a710234eff7e177",
            "828c0b6fa0de433382f5dbbdeecc98fd",
            "e9b3d3e96eb34acab80a0c577f08c17d",
            "a2ad098afbde4e2695c41d1995e314b5",
            "ba70e27c469b4dbcb3145d657ac38eac",
            "6a9ef766948c41f5893efdab0c1b4ba4",
            "5d21d3d45d504dd2af5a639ef29a11b7",
            "79fff9a58e3d44ed88cbfa43e53983ad",
            "7f6a85c1afe4458bb34a8062cd934f5f",
            "8d180082be65443f962ff85a98d05308",
            "e09a65509fc64bab904706498461e786",
            "4f6a8f5a4a404716ba13ba72108d7164",
            "606e4ffbc30d43ff88fbc191dc30655d",
            "b73f9f4919aa4f55a60ec6854ef0ae36",
            "a32c07663f1a4f31b25f94f0e603f9bd",
            "e57ccd66507d4db5a14c336c76891ce4",
            "04591617e73a43ad9a5d8a030350d17e",
            "b77503bc9d954b6eb42baade92013e2d",
            "bffb3e0502794adeabed12b1378df374",
            "16b4ef68accc426991b4b7bdb8c713bf",
            "5e57e347ecd849d0b5d6a90a0c1ca6b2",
            "fddaad5e26bd4cc1acdc2cf65ef82023",
            "221e3440d5ec4c1da94b18b811fb42e6",
            "b1dd2daa2bdf4221a6a4f59017b19c90",
            "39d6de27523d42c9a110cc21c0811ea9",
            "e9bbc21b84d445ec87a1ef76de18cddf",
            "67aa345fec5c4b0f915e47ee9a3c9097"
          ]
        },
        "id": "jWQD1KeVsgcT",
        "outputId": "9da8c17e-c03e-47e0-8fbd-10da53c083ad"
      },
      "outputs": [
        {
          "output_type": "display_data",
          "data": {
            "text/plain": [
              "interactive(children=(IntSlider(value=48, description='slcNum', max=144, min=-48), Text(value='axial', descrip…"
            ],
            "application/vnd.jupyter.widget-view+json": {
              "version_major": 2,
              "version_minor": 0,
              "model_id": "babedd830dae49b4856bd0154d4db19b"
            }
          },
          "metadata": {}
        },
        {
          "output_type": "display_data",
          "data": {
            "text/plain": [
              "interactive(children=(IntSlider(value=256, description='slcNum', max=768, min=-256), Text(value='sagittal', de…"
            ],
            "application/vnd.jupyter.widget-view+json": {
              "version_major": 2,
              "version_minor": 0,
              "model_id": "79fff9a58e3d44ed88cbfa43e53983ad"
            }
          },
          "metadata": {}
        },
        {
          "output_type": "display_data",
          "data": {
            "text/plain": [
              "interactive(children=(IntSlider(value=256, description='slcNum', max=768, min=-256), Text(value='coronal', des…"
            ],
            "application/vnd.jupyter.widget-view+json": {
              "version_major": 2,
              "version_minor": 0,
              "model_id": "b77503bc9d954b6eb42baade92013e2d"
            }
          },
          "metadata": {}
        }
      ],
      "source": [
        "from cerr.viewer import showMplNb\n",
        "\n",
        "showMplNb(scanNum, origIndsToExportV, planC,\\\n",
        "          windowCenter=-400, windowWidth=2000)"
      ]
    },
    {
      "cell_type": "code",
      "source": [],
      "metadata": {
        "id": "BUqd_h7G1Jbn"
      },
      "execution_count": null,
      "outputs": []
    }
  ],
  "metadata": {
    "colab": {
      "provenance": [],
      "gpuType": "T4",
      "include_colab_link": true
    },
    "kernelspec": {
      "display_name": "Python 3",
      "name": "python3"
    },
    "language_info": {
      "codemirror_mode": {
        "name": "ipython",
        "version": 3
      },
      "file_extension": ".py",
      "mimetype": "text/x-python",
      "name": "python",
      "nbconvert_exporter": "python",
      "pygments_lexer": "ipython3",
      "version": "3.11.9"
    },
    "toc": {
      "base_numbering": 1,
      "nav_menu": {},
      "number_sections": true,
      "sideBar": true,
      "skip_h1_title": false,
      "title_cell": "Table of Contents",
      "title_sidebar": "Contents",
      "toc_cell": false,
      "toc_position": {},
      "toc_section_display": true,
      "toc_window_display": false
    },
    "accelerator": "GPU",
    "widgets": {
      "application/vnd.jupyter.widget-state+json": {
        "babedd830dae49b4856bd0154d4db19b": {
          "model_module": "@jupyter-widgets/controls",
          "model_name": "VBoxModel",
          "model_module_version": "1.5.0",
          "state": {
            "_dom_classes": [
              "widget-interact"
            ],
            "_model_module": "@jupyter-widgets/controls",
            "_model_module_version": "1.5.0",
            "_model_name": "VBoxModel",
            "_view_count": null,
            "_view_module": "@jupyter-widgets/controls",
            "_view_module_version": "1.5.0",
            "_view_name": "VBoxView",
            "box_style": "",
            "children": [
              "IPY_MODEL_d49bb314d47e4d2ba419fa3adf152d23",
              "IPY_MODEL_b5beb2b9b4974839ad4b0beccfc94764",
              "IPY_MODEL_3f55ea35485e4f148a710234eff7e177"
            ],
            "layout": "IPY_MODEL_828c0b6fa0de433382f5dbbdeecc98fd"
          }
        },
        "d49bb314d47e4d2ba419fa3adf152d23": {
          "model_module": "@jupyter-widgets/controls",
          "model_name": "IntSliderModel",
          "model_module_version": "1.5.0",
          "state": {
            "_dom_classes": [],
            "_model_module": "@jupyter-widgets/controls",
            "_model_module_version": "1.5.0",
            "_model_name": "IntSliderModel",
            "_view_count": null,
            "_view_module": "@jupyter-widgets/controls",
            "_view_module_version": "1.5.0",
            "_view_name": "IntSliderView",
            "continuous_update": true,
            "description": "slcNum",
            "description_tooltip": null,
            "disabled": false,
            "layout": "IPY_MODEL_e9b3d3e96eb34acab80a0c577f08c17d",
            "max": 144,
            "min": -48,
            "orientation": "horizontal",
            "readout": true,
            "readout_format": "d",
            "step": 1,
            "style": "IPY_MODEL_a2ad098afbde4e2695c41d1995e314b5",
            "value": 48
          }
        },
        "b5beb2b9b4974839ad4b0beccfc94764": {
          "model_module": "@jupyter-widgets/controls",
          "model_name": "TextModel",
          "model_module_version": "1.5.0",
          "state": {
            "_dom_classes": [],
            "_model_module": "@jupyter-widgets/controls",
            "_model_module_version": "1.5.0",
            "_model_name": "TextModel",
            "_view_count": null,
            "_view_module": "@jupyter-widgets/controls",
            "_view_module_version": "1.5.0",
            "_view_name": "TextView",
            "continuous_update": true,
            "description": "view",
            "description_tooltip": null,
            "disabled": false,
            "layout": "IPY_MODEL_ba70e27c469b4dbcb3145d657ac38eac",
            "placeholder": "​",
            "style": "IPY_MODEL_6a9ef766948c41f5893efdab0c1b4ba4",
            "value": "axial"
          }
        },
        "3f55ea35485e4f148a710234eff7e177": {
          "model_module": "@jupyter-widgets/output",
          "model_name": "OutputModel",
          "model_module_version": "1.0.0",
          "state": {
            "_dom_classes": [],
            "_model_module": "@jupyter-widgets/output",
            "_model_module_version": "1.0.0",
            "_model_name": "OutputModel",
            "_view_count": null,
            "_view_module": "@jupyter-widgets/output",
            "_view_module_version": "1.0.0",
            "_view_name": "OutputView",
            "layout": "IPY_MODEL_5d21d3d45d504dd2af5a639ef29a11b7",
            "msg_id": "",
            "outputs": [
              {
                "output_type": "stream",
                "name": "stdout",
                "text": [
                  "axial view slice 48\n"
                ]
              },
              {
                "output_type": "display_data",
                "data": {
                  "text/plain": "<Figure size 640x480 with 2 Axes>",
                  "image/png": "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\n"
                },
                "metadata": {}
              }
            ]
          }
        },
        "828c0b6fa0de433382f5dbbdeecc98fd": {
          "model_module": "@jupyter-widgets/base",
          "model_name": "LayoutModel",
          "model_module_version": "1.2.0",
          "state": {
            "_model_module": "@jupyter-widgets/base",
            "_model_module_version": "1.2.0",
            "_model_name": "LayoutModel",
            "_view_count": null,
            "_view_module": "@jupyter-widgets/base",
            "_view_module_version": "1.2.0",
            "_view_name": "LayoutView",
            "align_content": null,
            "align_items": null,
            "align_self": null,
            "border": null,
            "bottom": null,
            "display": null,
            "flex": null,
            "flex_flow": null,
            "grid_area": null,
            "grid_auto_columns": null,
            "grid_auto_flow": null,
            "grid_auto_rows": null,
            "grid_column": null,
            "grid_gap": null,
            "grid_row": null,
            "grid_template_areas": null,
            "grid_template_columns": null,
            "grid_template_rows": null,
            "height": null,
            "justify_content": null,
            "justify_items": null,
            "left": null,
            "margin": null,
            "max_height": null,
            "max_width": null,
            "min_height": null,
            "min_width": null,
            "object_fit": null,
            "object_position": null,
            "order": null,
            "overflow": null,
            "overflow_x": null,
            "overflow_y": null,
            "padding": null,
            "right": null,
            "top": null,
            "visibility": null,
            "width": null
          }
        },
        "e9b3d3e96eb34acab80a0c577f08c17d": {
          "model_module": "@jupyter-widgets/base",
          "model_name": "LayoutModel",
          "model_module_version": "1.2.0",
          "state": {
            "_model_module": "@jupyter-widgets/base",
            "_model_module_version": "1.2.0",
            "_model_name": "LayoutModel",
            "_view_count": null,
            "_view_module": "@jupyter-widgets/base",
            "_view_module_version": "1.2.0",
            "_view_name": "LayoutView",
            "align_content": null,
            "align_items": null,
            "align_self": null,
            "border": null,
            "bottom": null,
            "display": null,
            "flex": null,
            "flex_flow": null,
            "grid_area": null,
            "grid_auto_columns": null,
            "grid_auto_flow": null,
            "grid_auto_rows": null,
            "grid_column": null,
            "grid_gap": null,
            "grid_row": null,
            "grid_template_areas": null,
            "grid_template_columns": null,
            "grid_template_rows": null,
            "height": null,
            "justify_content": null,
            "justify_items": null,
            "left": null,
            "margin": null,
            "max_height": null,
            "max_width": null,
            "min_height": null,
            "min_width": null,
            "object_fit": null,
            "object_position": null,
            "order": null,
            "overflow": null,
            "overflow_x": null,
            "overflow_y": null,
            "padding": null,
            "right": null,
            "top": null,
            "visibility": null,
            "width": null
          }
        },
        "a2ad098afbde4e2695c41d1995e314b5": {
          "model_module": "@jupyter-widgets/controls",
          "model_name": "SliderStyleModel",
          "model_module_version": "1.5.0",
          "state": {
            "_model_module": "@jupyter-widgets/controls",
            "_model_module_version": "1.5.0",
            "_model_name": "SliderStyleModel",
            "_view_count": null,
            "_view_module": "@jupyter-widgets/base",
            "_view_module_version": "1.2.0",
            "_view_name": "StyleView",
            "description_width": "",
            "handle_color": null
          }
        },
        "ba70e27c469b4dbcb3145d657ac38eac": {
          "model_module": "@jupyter-widgets/base",
          "model_name": "LayoutModel",
          "model_module_version": "1.2.0",
          "state": {
            "_model_module": "@jupyter-widgets/base",
            "_model_module_version": "1.2.0",
            "_model_name": "LayoutModel",
            "_view_count": null,
            "_view_module": "@jupyter-widgets/base",
            "_view_module_version": "1.2.0",
            "_view_name": "LayoutView",
            "align_content": null,
            "align_items": null,
            "align_self": null,
            "border": null,
            "bottom": null,
            "display": null,
            "flex": null,
            "flex_flow": null,
            "grid_area": null,
            "grid_auto_columns": null,
            "grid_auto_flow": null,
            "grid_auto_rows": null,
            "grid_column": null,
            "grid_gap": null,
            "grid_row": null,
            "grid_template_areas": null,
            "grid_template_columns": null,
            "grid_template_rows": null,
            "height": null,
            "justify_content": null,
            "justify_items": null,
            "left": null,
            "margin": null,
            "max_height": null,
            "max_width": null,
            "min_height": null,
            "min_width": null,
            "object_fit": null,
            "object_position": null,
            "order": null,
            "overflow": null,
            "overflow_x": null,
            "overflow_y": null,
            "padding": null,
            "right": null,
            "top": null,
            "visibility": null,
            "width": null
          }
        },
        "6a9ef766948c41f5893efdab0c1b4ba4": {
          "model_module": "@jupyter-widgets/controls",
          "model_name": "DescriptionStyleModel",
          "model_module_version": "1.5.0",
          "state": {
            "_model_module": "@jupyter-widgets/controls",
            "_model_module_version": "1.5.0",
            "_model_name": "DescriptionStyleModel",
            "_view_count": null,
            "_view_module": "@jupyter-widgets/base",
            "_view_module_version": "1.2.0",
            "_view_name": "StyleView",
            "description_width": ""
          }
        },
        "5d21d3d45d504dd2af5a639ef29a11b7": {
          "model_module": "@jupyter-widgets/base",
          "model_name": "LayoutModel",
          "model_module_version": "1.2.0",
          "state": {
            "_model_module": "@jupyter-widgets/base",
            "_model_module_version": "1.2.0",
            "_model_name": "LayoutModel",
            "_view_count": null,
            "_view_module": "@jupyter-widgets/base",
            "_view_module_version": "1.2.0",
            "_view_name": "LayoutView",
            "align_content": null,
            "align_items": null,
            "align_self": null,
            "border": null,
            "bottom": null,
            "display": null,
            "flex": null,
            "flex_flow": null,
            "grid_area": null,
            "grid_auto_columns": null,
            "grid_auto_flow": null,
            "grid_auto_rows": null,
            "grid_column": null,
            "grid_gap": null,
            "grid_row": null,
            "grid_template_areas": null,
            "grid_template_columns": null,
            "grid_template_rows": null,
            "height": null,
            "justify_content": null,
            "justify_items": null,
            "left": null,
            "margin": null,
            "max_height": null,
            "max_width": null,
            "min_height": null,
            "min_width": null,
            "object_fit": null,
            "object_position": null,
            "order": null,
            "overflow": null,
            "overflow_x": null,
            "overflow_y": null,
            "padding": null,
            "right": null,
            "top": null,
            "visibility": null,
            "width": null
          }
        },
        "79fff9a58e3d44ed88cbfa43e53983ad": {
          "model_module": "@jupyter-widgets/controls",
          "model_name": "VBoxModel",
          "model_module_version": "1.5.0",
          "state": {
            "_dom_classes": [
              "widget-interact"
            ],
            "_model_module": "@jupyter-widgets/controls",
            "_model_module_version": "1.5.0",
            "_model_name": "VBoxModel",
            "_view_count": null,
            "_view_module": "@jupyter-widgets/controls",
            "_view_module_version": "1.5.0",
            "_view_name": "VBoxView",
            "box_style": "",
            "children": [
              "IPY_MODEL_7f6a85c1afe4458bb34a8062cd934f5f",
              "IPY_MODEL_8d180082be65443f962ff85a98d05308",
              "IPY_MODEL_e09a65509fc64bab904706498461e786"
            ],
            "layout": "IPY_MODEL_4f6a8f5a4a404716ba13ba72108d7164"
          }
        },
        "7f6a85c1afe4458bb34a8062cd934f5f": {
          "model_module": "@jupyter-widgets/controls",
          "model_name": "IntSliderModel",
          "model_module_version": "1.5.0",
          "state": {
            "_dom_classes": [],
            "_model_module": "@jupyter-widgets/controls",
            "_model_module_version": "1.5.0",
            "_model_name": "IntSliderModel",
            "_view_count": null,
            "_view_module": "@jupyter-widgets/controls",
            "_view_module_version": "1.5.0",
            "_view_name": "IntSliderView",
            "continuous_update": true,
            "description": "slcNum",
            "description_tooltip": null,
            "disabled": false,
            "layout": "IPY_MODEL_606e4ffbc30d43ff88fbc191dc30655d",
            "max": 768,
            "min": -256,
            "orientation": "horizontal",
            "readout": true,
            "readout_format": "d",
            "step": 1,
            "style": "IPY_MODEL_b73f9f4919aa4f55a60ec6854ef0ae36",
            "value": 256
          }
        },
        "8d180082be65443f962ff85a98d05308": {
          "model_module": "@jupyter-widgets/controls",
          "model_name": "TextModel",
          "model_module_version": "1.5.0",
          "state": {
            "_dom_classes": [],
            "_model_module": "@jupyter-widgets/controls",
            "_model_module_version": "1.5.0",
            "_model_name": "TextModel",
            "_view_count": null,
            "_view_module": "@jupyter-widgets/controls",
            "_view_module_version": "1.5.0",
            "_view_name": "TextView",
            "continuous_update": true,
            "description": "view",
            "description_tooltip": null,
            "disabled": false,
            "layout": "IPY_MODEL_a32c07663f1a4f31b25f94f0e603f9bd",
            "placeholder": "​",
            "style": "IPY_MODEL_e57ccd66507d4db5a14c336c76891ce4",
            "value": "sagittal"
          }
        },
        "e09a65509fc64bab904706498461e786": {
          "model_module": "@jupyter-widgets/output",
          "model_name": "OutputModel",
          "model_module_version": "1.0.0",
          "state": {
            "_dom_classes": [],
            "_model_module": "@jupyter-widgets/output",
            "_model_module_version": "1.0.0",
            "_model_name": "OutputModel",
            "_view_count": null,
            "_view_module": "@jupyter-widgets/output",
            "_view_module_version": "1.0.0",
            "_view_name": "OutputView",
            "layout": "IPY_MODEL_04591617e73a43ad9a5d8a030350d17e",
            "msg_id": "",
            "outputs": [
              {
                "output_type": "stream",
                "name": "stdout",
                "text": [
                  "sagittal view slice 256\n"
                ]
              },
              {
                "output_type": "display_data",
                "data": {
                  "text/plain": "<Figure size 1000x1000 with 2 Axes>",
                  "image/png": "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\n"
                },
                "metadata": {}
              }
            ]
          }
        },
        "4f6a8f5a4a404716ba13ba72108d7164": {
          "model_module": "@jupyter-widgets/base",
          "model_name": "LayoutModel",
          "model_module_version": "1.2.0",
          "state": {
            "_model_module": "@jupyter-widgets/base",
            "_model_module_version": "1.2.0",
            "_model_name": "LayoutModel",
            "_view_count": null,
            "_view_module": "@jupyter-widgets/base",
            "_view_module_version": "1.2.0",
            "_view_name": "LayoutView",
            "align_content": null,
            "align_items": null,
            "align_self": null,
            "border": null,
            "bottom": null,
            "display": null,
            "flex": null,
            "flex_flow": null,
            "grid_area": null,
            "grid_auto_columns": null,
            "grid_auto_flow": null,
            "grid_auto_rows": null,
            "grid_column": null,
            "grid_gap": null,
            "grid_row": null,
            "grid_template_areas": null,
            "grid_template_columns": null,
            "grid_template_rows": null,
            "height": null,
            "justify_content": null,
            "justify_items": null,
            "left": null,
            "margin": null,
            "max_height": null,
            "max_width": null,
            "min_height": null,
            "min_width": null,
            "object_fit": null,
            "object_position": null,
            "order": null,
            "overflow": null,
            "overflow_x": null,
            "overflow_y": null,
            "padding": null,
            "right": null,
            "top": null,
            "visibility": null,
            "width": null
          }
        },
        "606e4ffbc30d43ff88fbc191dc30655d": {
          "model_module": "@jupyter-widgets/base",
          "model_name": "LayoutModel",
          "model_module_version": "1.2.0",
          "state": {
            "_model_module": "@jupyter-widgets/base",
            "_model_module_version": "1.2.0",
            "_model_name": "LayoutModel",
            "_view_count": null,
            "_view_module": "@jupyter-widgets/base",
            "_view_module_version": "1.2.0",
            "_view_name": "LayoutView",
            "align_content": null,
            "align_items": null,
            "align_self": null,
            "border": null,
            "bottom": null,
            "display": null,
            "flex": null,
            "flex_flow": null,
            "grid_area": null,
            "grid_auto_columns": null,
            "grid_auto_flow": null,
            "grid_auto_rows": null,
            "grid_column": null,
            "grid_gap": null,
            "grid_row": null,
            "grid_template_areas": null,
            "grid_template_columns": null,
            "grid_template_rows": null,
            "height": null,
            "justify_content": null,
            "justify_items": null,
            "left": null,
            "margin": null,
            "max_height": null,
            "max_width": null,
            "min_height": null,
            "min_width": null,
            "object_fit": null,
            "object_position": null,
            "order": null,
            "overflow": null,
            "overflow_x": null,
            "overflow_y": null,
            "padding": null,
            "right": null,
            "top": null,
            "visibility": null,
            "width": null
          }
        },
        "b73f9f4919aa4f55a60ec6854ef0ae36": {
          "model_module": "@jupyter-widgets/controls",
          "model_name": "SliderStyleModel",
          "model_module_version": "1.5.0",
          "state": {
            "_model_module": "@jupyter-widgets/controls",
            "_model_module_version": "1.5.0",
            "_model_name": "SliderStyleModel",
            "_view_count": null,
            "_view_module": "@jupyter-widgets/base",
            "_view_module_version": "1.2.0",
            "_view_name": "StyleView",
            "description_width": "",
            "handle_color": null
          }
        },
        "a32c07663f1a4f31b25f94f0e603f9bd": {
          "model_module": "@jupyter-widgets/base",
          "model_name": "LayoutModel",
          "model_module_version": "1.2.0",
          "state": {
            "_model_module": "@jupyter-widgets/base",
            "_model_module_version": "1.2.0",
            "_model_name": "LayoutModel",
            "_view_count": null,
            "_view_module": "@jupyter-widgets/base",
            "_view_module_version": "1.2.0",
            "_view_name": "LayoutView",
            "align_content": null,
            "align_items": null,
            "align_self": null,
            "border": null,
            "bottom": null,
            "display": null,
            "flex": null,
            "flex_flow": null,
            "grid_area": null,
            "grid_auto_columns": null,
            "grid_auto_flow": null,
            "grid_auto_rows": null,
            "grid_column": null,
            "grid_gap": null,
            "grid_row": null,
            "grid_template_areas": null,
            "grid_template_columns": null,
            "grid_template_rows": null,
            "height": null,
            "justify_content": null,
            "justify_items": null,
            "left": null,
            "margin": null,
            "max_height": null,
            "max_width": null,
            "min_height": null,
            "min_width": null,
            "object_fit": null,
            "object_position": null,
            "order": null,
            "overflow": null,
            "overflow_x": null,
            "overflow_y": null,
            "padding": null,
            "right": null,
            "top": null,
            "visibility": null,
            "width": null
          }
        },
        "e57ccd66507d4db5a14c336c76891ce4": {
          "model_module": "@jupyter-widgets/controls",
          "model_name": "DescriptionStyleModel",
          "model_module_version": "1.5.0",
          "state": {
            "_model_module": "@jupyter-widgets/controls",
            "_model_module_version": "1.5.0",
            "_model_name": "DescriptionStyleModel",
            "_view_count": null,
            "_view_module": "@jupyter-widgets/base",
            "_view_module_version": "1.2.0",
            "_view_name": "StyleView",
            "description_width": ""
          }
        },
        "04591617e73a43ad9a5d8a030350d17e": {
          "model_module": "@jupyter-widgets/base",
          "model_name": "LayoutModel",
          "model_module_version": "1.2.0",
          "state": {
            "_model_module": "@jupyter-widgets/base",
            "_model_module_version": "1.2.0",
            "_model_name": "LayoutModel",
            "_view_count": null,
            "_view_module": "@jupyter-widgets/base",
            "_view_module_version": "1.2.0",
            "_view_name": "LayoutView",
            "align_content": null,
            "align_items": null,
            "align_self": null,
            "border": null,
            "bottom": null,
            "display": null,
            "flex": null,
            "flex_flow": null,
            "grid_area": null,
            "grid_auto_columns": null,
            "grid_auto_flow": null,
            "grid_auto_rows": null,
            "grid_column": null,
            "grid_gap": null,
            "grid_row": null,
            "grid_template_areas": null,
            "grid_template_columns": null,
            "grid_template_rows": null,
            "height": null,
            "justify_content": null,
            "justify_items": null,
            "left": null,
            "margin": null,
            "max_height": null,
            "max_width": null,
            "min_height": null,
            "min_width": null,
            "object_fit": null,
            "object_position": null,
            "order": null,
            "overflow": null,
            "overflow_x": null,
            "overflow_y": null,
            "padding": null,
            "right": null,
            "top": null,
            "visibility": null,
            "width": null
          }
        },
        "b77503bc9d954b6eb42baade92013e2d": {
          "model_module": "@jupyter-widgets/controls",
          "model_name": "VBoxModel",
          "model_module_version": "1.5.0",
          "state": {
            "_dom_classes": [
              "widget-interact"
            ],
            "_model_module": "@jupyter-widgets/controls",
            "_model_module_version": "1.5.0",
            "_model_name": "VBoxModel",
            "_view_count": null,
            "_view_module": "@jupyter-widgets/controls",
            "_view_module_version": "1.5.0",
            "_view_name": "VBoxView",
            "box_style": "",
            "children": [
              "IPY_MODEL_bffb3e0502794adeabed12b1378df374",
              "IPY_MODEL_16b4ef68accc426991b4b7bdb8c713bf",
              "IPY_MODEL_5e57e347ecd849d0b5d6a90a0c1ca6b2"
            ],
            "layout": "IPY_MODEL_fddaad5e26bd4cc1acdc2cf65ef82023"
          }
        },
        "bffb3e0502794adeabed12b1378df374": {
          "model_module": "@jupyter-widgets/controls",
          "model_name": "IntSliderModel",
          "model_module_version": "1.5.0",
          "state": {
            "_dom_classes": [],
            "_model_module": "@jupyter-widgets/controls",
            "_model_module_version": "1.5.0",
            "_model_name": "IntSliderModel",
            "_view_count": null,
            "_view_module": "@jupyter-widgets/controls",
            "_view_module_version": "1.5.0",
            "_view_name": "IntSliderView",
            "continuous_update": true,
            "description": "slcNum",
            "description_tooltip": null,
            "disabled": false,
            "layout": "IPY_MODEL_221e3440d5ec4c1da94b18b811fb42e6",
            "max": 768,
            "min": -256,
            "orientation": "horizontal",
            "readout": true,
            "readout_format": "d",
            "step": 1,
            "style": "IPY_MODEL_b1dd2daa2bdf4221a6a4f59017b19c90",
            "value": 256
          }
        },
        "16b4ef68accc426991b4b7bdb8c713bf": {
          "model_module": "@jupyter-widgets/controls",
          "model_name": "TextModel",
          "model_module_version": "1.5.0",
          "state": {
            "_dom_classes": [],
            "_model_module": "@jupyter-widgets/controls",
            "_model_module_version": "1.5.0",
            "_model_name": "TextModel",
            "_view_count": null,
            "_view_module": "@jupyter-widgets/controls",
            "_view_module_version": "1.5.0",
            "_view_name": "TextView",
            "continuous_update": true,
            "description": "view",
            "description_tooltip": null,
            "disabled": false,
            "layout": "IPY_MODEL_39d6de27523d42c9a110cc21c0811ea9",
            "placeholder": "​",
            "style": "IPY_MODEL_e9bbc21b84d445ec87a1ef76de18cddf",
            "value": "coronal"
          }
        },
        "5e57e347ecd849d0b5d6a90a0c1ca6b2": {
          "model_module": "@jupyter-widgets/output",
          "model_name": "OutputModel",
          "model_module_version": "1.0.0",
          "state": {
            "_dom_classes": [],
            "_model_module": "@jupyter-widgets/output",
            "_model_module_version": "1.0.0",
            "_model_name": "OutputModel",
            "_view_count": null,
            "_view_module": "@jupyter-widgets/output",
            "_view_module_version": "1.0.0",
            "_view_name": "OutputView",
            "layout": "IPY_MODEL_67aa345fec5c4b0f915e47ee9a3c9097",
            "msg_id": "",
            "outputs": [
              {
                "output_type": "stream",
                "name": "stdout",
                "text": [
                  "coronal view slice 256\n"
                ]
              },
              {
                "output_type": "display_data",
                "data": {
                  "text/plain": "<Figure size 1000x1000 with 2 Axes>",
                  "image/png": "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\n"
                },
                "metadata": {}
              }
            ]
          }
        },
        "fddaad5e26bd4cc1acdc2cf65ef82023": {
          "model_module": "@jupyter-widgets/base",
          "model_name": "LayoutModel",
          "model_module_version": "1.2.0",
          "state": {
            "_model_module": "@jupyter-widgets/base",
            "_model_module_version": "1.2.0",
            "_model_name": "LayoutModel",
            "_view_count": null,
            "_view_module": "@jupyter-widgets/base",
            "_view_module_version": "1.2.0",
            "_view_name": "LayoutView",
            "align_content": null,
            "align_items": null,
            "align_self": null,
            "border": null,
            "bottom": null,
            "display": null,
            "flex": null,
            "flex_flow": null,
            "grid_area": null,
            "grid_auto_columns": null,
            "grid_auto_flow": null,
            "grid_auto_rows": null,
            "grid_column": null,
            "grid_gap": null,
            "grid_row": null,
            "grid_template_areas": null,
            "grid_template_columns": null,
            "grid_template_rows": null,
            "height": null,
            "justify_content": null,
            "justify_items": null,
            "left": null,
            "margin": null,
            "max_height": null,
            "max_width": null,
            "min_height": null,
            "min_width": null,
            "object_fit": null,
            "object_position": null,
            "order": null,
            "overflow": null,
            "overflow_x": null,
            "overflow_y": null,
            "padding": null,
            "right": null,
            "top": null,
            "visibility": null,
            "width": null
          }
        },
        "221e3440d5ec4c1da94b18b811fb42e6": {
          "model_module": "@jupyter-widgets/base",
          "model_name": "LayoutModel",
          "model_module_version": "1.2.0",
          "state": {
            "_model_module": "@jupyter-widgets/base",
            "_model_module_version": "1.2.0",
            "_model_name": "LayoutModel",
            "_view_count": null,
            "_view_module": "@jupyter-widgets/base",
            "_view_module_version": "1.2.0",
            "_view_name": "LayoutView",
            "align_content": null,
            "align_items": null,
            "align_self": null,
            "border": null,
            "bottom": null,
            "display": null,
            "flex": null,
            "flex_flow": null,
            "grid_area": null,
            "grid_auto_columns": null,
            "grid_auto_flow": null,
            "grid_auto_rows": null,
            "grid_column": null,
            "grid_gap": null,
            "grid_row": null,
            "grid_template_areas": null,
            "grid_template_columns": null,
            "grid_template_rows": null,
            "height": null,
            "justify_content": null,
            "justify_items": null,
            "left": null,
            "margin": null,
            "max_height": null,
            "max_width": null,
            "min_height": null,
            "min_width": null,
            "object_fit": null,
            "object_position": null,
            "order": null,
            "overflow": null,
            "overflow_x": null,
            "overflow_y": null,
            "padding": null,
            "right": null,
            "top": null,
            "visibility": null,
            "width": null
          }
        },
        "b1dd2daa2bdf4221a6a4f59017b19c90": {
          "model_module": "@jupyter-widgets/controls",
          "model_name": "SliderStyleModel",
          "model_module_version": "1.5.0",
          "state": {
            "_model_module": "@jupyter-widgets/controls",
            "_model_module_version": "1.5.0",
            "_model_name": "SliderStyleModel",
            "_view_count": null,
            "_view_module": "@jupyter-widgets/base",
            "_view_module_version": "1.2.0",
            "_view_name": "StyleView",
            "description_width": "",
            "handle_color": null
          }
        },
        "39d6de27523d42c9a110cc21c0811ea9": {
          "model_module": "@jupyter-widgets/base",
          "model_name": "LayoutModel",
          "model_module_version": "1.2.0",
          "state": {
            "_model_module": "@jupyter-widgets/base",
            "_model_module_version": "1.2.0",
            "_model_name": "LayoutModel",
            "_view_count": null,
            "_view_module": "@jupyter-widgets/base",
            "_view_module_version": "1.2.0",
            "_view_name": "LayoutView",
            "align_content": null,
            "align_items": null,
            "align_self": null,
            "border": null,
            "bottom": null,
            "display": null,
            "flex": null,
            "flex_flow": null,
            "grid_area": null,
            "grid_auto_columns": null,
            "grid_auto_flow": null,
            "grid_auto_rows": null,
            "grid_column": null,
            "grid_gap": null,
            "grid_row": null,
            "grid_template_areas": null,
            "grid_template_columns": null,
            "grid_template_rows": null,
            "height": null,
            "justify_content": null,
            "justify_items": null,
            "left": null,
            "margin": null,
            "max_height": null,
            "max_width": null,
            "min_height": null,
            "min_width": null,
            "object_fit": null,
            "object_position": null,
            "order": null,
            "overflow": null,
            "overflow_x": null,
            "overflow_y": null,
            "padding": null,
            "right": null,
            "top": null,
            "visibility": null,
            "width": null
          }
        },
        "e9bbc21b84d445ec87a1ef76de18cddf": {
          "model_module": "@jupyter-widgets/controls",
          "model_name": "DescriptionStyleModel",
          "model_module_version": "1.5.0",
          "state": {
            "_model_module": "@jupyter-widgets/controls",
            "_model_module_version": "1.5.0",
            "_model_name": "DescriptionStyleModel",
            "_view_count": null,
            "_view_module": "@jupyter-widgets/base",
            "_view_module_version": "1.2.0",
            "_view_name": "StyleView",
            "description_width": ""
          }
        },
        "67aa345fec5c4b0f915e47ee9a3c9097": {
          "model_module": "@jupyter-widgets/base",
          "model_name": "LayoutModel",
          "model_module_version": "1.2.0",
          "state": {
            "_model_module": "@jupyter-widgets/base",
            "_model_module_version": "1.2.0",
            "_model_name": "LayoutModel",
            "_view_count": null,
            "_view_module": "@jupyter-widgets/base",
            "_view_module_version": "1.2.0",
            "_view_name": "LayoutView",
            "align_content": null,
            "align_items": null,
            "align_self": null,
            "border": null,
            "bottom": null,
            "display": null,
            "flex": null,
            "flex_flow": null,
            "grid_area": null,
            "grid_auto_columns": null,
            "grid_auto_flow": null,
            "grid_auto_rows": null,
            "grid_column": null,
            "grid_gap": null,
            "grid_row": null,
            "grid_template_areas": null,
            "grid_template_columns": null,
            "grid_template_rows": null,
            "height": null,
            "justify_content": null,
            "justify_items": null,
            "left": null,
            "margin": null,
            "max_height": null,
            "max_width": null,
            "min_height": null,
            "min_width": null,
            "object_fit": null,
            "object_position": null,
            "order": null,
            "overflow": null,
            "overflow_x": null,
            "overflow_y": null,
            "padding": null,
            "right": null,
            "top": null,
            "visibility": null,
            "width": null
          }
        }
      }
    }
  },
  "nbformat": 4,
  "nbformat_minor": 0
}