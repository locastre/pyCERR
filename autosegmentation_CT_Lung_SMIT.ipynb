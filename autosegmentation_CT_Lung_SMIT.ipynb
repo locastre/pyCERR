{
  "nbformat": 4,
  "nbformat_minor": 0,
  "metadata": {
    "colab": {
      "provenance": [],
      "gpuType": "T4",
      "authorship_tag": "ABX9TyOo6c/kUbzRdIQTkGtiNQMj",
      "include_colab_link": true
    },
    "kernelspec": {
      "name": "python3",
      "display_name": "Python 3"
    },
    "language_info": {
      "name": "python"
    },
    "accelerator": "GPU"
  },
  "cells": [
    {
      "cell_type": "markdown",
      "metadata": {
        "id": "view-in-github",
        "colab_type": "text"
      },
      "source": [
        "<a href=\"https://colab.research.google.com/github/locastre/pyCERR/blob/main/autosegmentation_CT_Lung_SMIT.ipynb\" target=\"_parent\"><img src=\"https://colab.research.google.com/assets/colab-badge.svg\" alt=\"Open In Colab\"/></a>"
      ]
    },
    {
      "cell_type": "code",
      "source": [
        "import os\n",
        "# work dir\n",
        "#workDir = r'/home/jupyter' #\n",
        "workDir = r'/content' #for Colab # r'AI_workshop/heart_model' # local\n",
        "os.chdir(workDir)"
      ],
      "metadata": {
        "id": "qXxnhPPy3TrK"
      },
      "execution_count": 6,
      "outputs": []
    },
    {
      "cell_type": "code",
      "source": [
        "!git clone https://github.com/cerr/model_installer.git"
      ],
      "metadata": {
        "colab": {
          "base_uri": "https://localhost:8080/"
        },
        "id": "t5461VKM6UQf",
        "outputId": "403b3089-e67c-4e5b-d03e-eb3f84b71dbf"
      },
      "execution_count": 7,
      "outputs": [
        {
          "output_type": "stream",
          "name": "stdout",
          "text": [
            "fatal: destination path 'model_installer' already exists and is not an empty directory.\n"
          ]
        }
      ]
    },
    {
      "cell_type": "code",
      "source": [
        "os.chdir(os.path.join(workDir,'model_installer'))\n",
        "\n",
        "# Location of dicom data\n",
        "dataDownloadDir = os.path.join(workDir,'input')\n",
        "\n",
        "os.makedirs(dataDownloadDir,exist_ok=True)\n",
        "!./installer.sh -h"
      ],
      "metadata": {
        "colab": {
          "base_uri": "https://localhost:8080/"
        },
        "id": "b-dncPq06WQ6",
        "outputId": "9c215dea-31f8-40f4-a347-395aa3a0373b"
      },
      "execution_count": 10,
      "outputs": [
        {
          "output_type": "stream",
          "name": "stdout",
          "text": [
            "      ___           ___           ___           ___     \n",
            "     /  /\\         /  /\\         /  /\\         /  /\\    \n",
            "    /  /:/        /  /:/_       /  /::\\       /  /::\\   \n",
            "   /  /:/        /  /:/ /\\     /  /:/\\:\\     /  /:/\\:\\  \n",
            "  /  /:/  ___   /  /:/ /:/_   /  /:/~/:/    /  /:/~/:/  \n",
            " /__/:/  /  /\\ /__/:/ /:/ /\\ /__/:/ /:/___ /__/:/ /:/___\n",
            " \\  \\:\\ /  /:/ \\  \\:\\/:/ /:/ \\  \\:\\/:::::/ \\  \\:\\/:::::/\n",
            "  \\  \\:\\  /:/   \\  \\::/ /:/   \\  \\::/~~~~   \\  \\::/~~~~ \n",
            "   \\  \\:\\/:/     \\  \\:\\/:/     \\  \\:\\        \\  \\:\\     \n",
            "    \\  \\::/       \\  \\::/       \\  \\:\\        \\  \\:\\    \n",
            "     \\__\\/         \\__\\/         \\__\\/         \\__\\/    \n",
            " \n",
            "Medical Physics Department, Memorial Sloan Kettering Cancer Center, New York, NY\n",
            " \n",
            "Welcome to the CERR segmentation model installer! For usage information, run with -h flag\n",
            " \n",
            "Usage Information: \n",
            "\tFlags: \n",
            "\t\t-i : Flag to run installer in interactive mode (no argument)\n",
            "\t\t-m : [1-4] Integer number to select model to install. For list of available options, see below. \n",
            "\t\t-d : Directory to install model with network weights \n",
            "\t\t-p : [P/C/N] Setup and install Python environment P: setup Conda env from python requirements.txt; C: Conda pack download; N: No install. \n",
            "\t\t-h : Print help menu \n",
            " \n",
            "The following are the list of available models. When passing the argument to installer, select the number of the model to download: \n",
            "          \t1.  CT_cardiac_structures_deeplab\n",
            "          \t2.  CT_LungOAR_incrMRRN\n",
            "          \t3.  MR_Prostate_Deeplab\n",
            "          \t4.  CT_Lung_SMIT\n"
          ]
        }
      ]
    },
    {
      "cell_type": "code",
      "source": [
        "modelOpt = '4' #CT_Lung_SMIT model\n",
        "pythonOpt = 'C' #download and use pre-packaged Conda environment\n",
        "\n",
        "! source ./installer.sh -m {modelOpt} -d {workDir} -p {pythonOpt}"
      ],
      "metadata": {
        "colab": {
          "base_uri": "https://localhost:8080/"
        },
        "id": "wMjeeay86fu6",
        "outputId": "5c7433ff-ef2f-433a-c030-8b0db69851e2"
      },
      "execution_count": 11,
      "outputs": [
        {
          "output_type": "stream",
          "name": "stdout",
          "text": [
            "      ___           ___           ___           ___     \n",
            "     /  /\\         /  /\\         /  /\\         /  /\\    \n",
            "    /  /:/        /  /:/_       /  /::\\       /  /::\\   \n",
            "   /  /:/        /  /:/ /\\     /  /:/\\:\\     /  /:/\\:\\  \n",
            "  /  /:/  ___   /  /:/ /:/_   /  /:/~/:/    /  /:/~/:/  \n",
            " /__/:/  /  /\\ /__/:/ /:/ /\\ /__/:/ /:/___ /__/:/ /:/___\n",
            " \\  \\:\\ /  /:/ \\  \\:\\/:/ /:/ \\  \\:\\/:::::/ \\  \\:\\/:::::/\n",
            "  \\  \\:\\  /:/   \\  \\::/ /:/   \\  \\::/~~~~   \\  \\::/~~~~ \n",
            "   \\  \\:\\/:/     \\  \\:\\/:/     \\  \\:\\        \\  \\:\\     \n",
            "    \\  \\::/       \\  \\::/       \\  \\:\\        \\  \\:\\    \n",
            "     \\__\\/         \\__\\/         \\__\\/         \\__\\/    \n",
            " \n",
            "Medical Physics Department, Memorial Sloan Kettering Cancer Center, New York, NY\n",
            " \n",
            "Welcome to the CERR segmentation model installer! For usage information, run with -h flag\n",
            " \n",
            "git clone https://github.com/cerr/CT_Lung_SMIT.git\n",
            "Cloning into 'CT_Lung_SMIT'...\n",
            "remote: Enumerating objects: 59, done.\u001b[K\n",
            "remote: Counting objects:   1% (1/59)\u001b[K\rremote: Counting objects:   3% (2/59)\u001b[K\rremote: Counting objects:   5% (3/59)\u001b[K\rremote: Counting objects:   6% (4/59)\u001b[K\rremote: Counting objects:   8% (5/59)\u001b[K\rremote: Counting objects:  10% (6/59)\u001b[K\rremote: Counting objects:  11% (7/59)\u001b[K\rremote: Counting objects:  13% (8/59)\u001b[K\rremote: Counting objects:  15% (9/59)\u001b[K\rremote: Counting objects:  16% (10/59)\u001b[K\rremote: Counting objects:  18% (11/59)\u001b[K\rremote: Counting objects:  20% (12/59)\u001b[K\rremote: Counting objects:  22% (13/59)\u001b[K\rremote: Counting objects:  23% (14/59)\u001b[K\rremote: Counting objects:  25% (15/59)\u001b[K\rremote: Counting objects:  27% (16/59)\u001b[K\rremote: Counting objects:  28% (17/59)\u001b[K\rremote: Counting objects:  30% (18/59)\u001b[K\rremote: Counting objects:  32% (19/59)\u001b[K\rremote: Counting objects:  33% (20/59)\u001b[K\rremote: Counting objects:  35% (21/59)\u001b[K\rremote: Counting objects:  37% (22/59)\u001b[K\rremote: Counting objects:  38% (23/59)\u001b[K\rremote: Counting objects:  40% (24/59)\u001b[K\rremote: Counting objects:  42% (25/59)\u001b[K\rremote: Counting objects:  44% (26/59)\u001b[K\rremote: Counting objects:  45% (27/59)\u001b[K\rremote: Counting objects:  47% (28/59)\u001b[K\rremote: Counting objects:  49% (29/59)\u001b[K\rremote: Counting objects:  50% (30/59)\u001b[K\rremote: Counting objects:  52% (31/59)\u001b[K\rremote: Counting objects:  54% (32/59)\u001b[K\rremote: Counting objects:  55% (33/59)\u001b[K\rremote: Counting objects:  57% (34/59)\u001b[K\rremote: Counting objects:  59% (35/59)\u001b[K\rremote: Counting objects:  61% (36/59)\u001b[K\rremote: Counting objects:  62% (37/59)\u001b[K\rremote: Counting objects:  64% (38/59)\u001b[K\rremote: Counting objects:  66% (39/59)\u001b[K\rremote: Counting objects:  67% (40/59)\u001b[K\rremote: Counting objects:  69% (41/59)\u001b[K\rremote: Counting objects:  71% (42/59)\u001b[K\rremote: Counting objects:  72% (43/59)\u001b[K\rremote: Counting objects:  74% (44/59)\u001b[K\rremote: Counting objects:  76% (45/59)\u001b[K\rremote: Counting objects:  77% (46/59)\u001b[K\rremote: Counting objects:  79% (47/59)\u001b[K\rremote: Counting objects:  81% (48/59)\u001b[K\rremote: Counting objects:  83% (49/59)\u001b[K\rremote: Counting objects:  84% (50/59)\u001b[K\rremote: Counting objects:  86% (51/59)\u001b[K\rremote: Counting objects:  88% (52/59)\u001b[K\rremote: Counting objects:  89% (53/59)\u001b[K\rremote: Counting objects:  91% (54/59)\u001b[K\rremote: Counting objects:  93% (55/59)\u001b[K\rremote: Counting objects:  94% (56/59)\u001b[K\rremote: Counting objects:  96% (57/59)\u001b[K\rremote: Counting objects:  98% (58/59)\u001b[K\rremote: Counting objects: 100% (59/59)\u001b[K\rremote: Counting objects: 100% (59/59), done.\u001b[K\n",
            "remote: Compressing objects:   2% (1/47)\u001b[K\rremote: Compressing objects:   4% (2/47)\u001b[K\rremote: Compressing objects:   6% (3/47)\u001b[K\rremote: Compressing objects:   8% (4/47)\u001b[K\rremote: Compressing objects:  10% (5/47)\u001b[K\rremote: Compressing objects:  12% (6/47)\u001b[K\rremote: Compressing objects:  14% (7/47)\u001b[K\rremote: Compressing objects:  17% (8/47)\u001b[K\rremote: Compressing objects:  19% (9/47)\u001b[K\rremote: Compressing objects:  21% (10/47)\u001b[K\rremote: Compressing objects:  23% (11/47)\u001b[K\rremote: Compressing objects:  25% (12/47)\u001b[K\rremote: Compressing objects:  27% (13/47)\u001b[K\rremote: Compressing objects:  29% (14/47)\u001b[K\rremote: Compressing objects:  31% (15/47)\u001b[K\rremote: Compressing objects:  34% (16/47)\u001b[K\rremote: Compressing objects:  36% (17/47)\u001b[K\rremote: Compressing objects:  38% (18/47)\u001b[K\rremote: Compressing objects:  40% (19/47)\u001b[K\rremote: Compressing objects:  42% (20/47)\u001b[K\rremote: Compressing objects:  44% (21/47)\u001b[K\rremote: Compressing objects:  46% (22/47)\u001b[K\rremote: Compressing objects:  48% (23/47)\u001b[K\rremote: Compressing objects:  51% (24/47)\u001b[K\rremote: Compressing objects:  53% (25/47)\u001b[K\rremote: Compressing objects:  55% (26/47)\u001b[K\rremote: Compressing objects:  57% (27/47)\u001b[K\rremote: Compressing objects:  59% (28/47)\u001b[K\rremote: Compressing objects:  61% (29/47)\u001b[K\rremote: Compressing objects:  63% (30/47)\u001b[K\rremote: Compressing objects:  65% (31/47)\u001b[K\rremote: Compressing objects:  68% (32/47)\u001b[K\rremote: Compressing objects:  70% (33/47)\u001b[K\rremote: Compressing objects:  72% (34/47)\u001b[K\rremote: Compressing objects:  74% (35/47)\u001b[K\rremote: Compressing objects:  76% (36/47)\u001b[K\rremote: Compressing objects:  78% (37/47)\u001b[K\rremote: Compressing objects:  80% (38/47)\u001b[K\rremote: Compressing objects:  82% (39/47)\u001b[K\rremote: Compressing objects:  85% (40/47)\u001b[K\rremote: Compressing objects:  87% (41/47)\u001b[K\rremote: Compressing objects:  89% (42/47)\u001b[K\rremote: Compressing objects:  91% (43/47)\u001b[K\rremote: Compressing objects:  93% (44/47)\u001b[K\rremote: Compressing objects:  95% (45/47)\u001b[K\rremote: Compressing objects:  97% (46/47)\u001b[K\rremote: Compressing objects: 100% (47/47)\u001b[K\rremote: Compressing objects: 100% (47/47), done.\u001b[K\n",
            "Receiving objects:   1% (1/59)\rReceiving objects:   3% (2/59)\rReceiving objects:   5% (3/59)\rReceiving objects:   6% (4/59)\rReceiving objects:   8% (5/59)\rReceiving objects:  10% (6/59)\rReceiving objects:  11% (7/59)\rReceiving objects:  13% (8/59)\rReceiving objects:  15% (9/59)\rReceiving objects:  16% (10/59)\rReceiving objects:  18% (11/59)\rReceiving objects:  20% (12/59)\rReceiving objects:  22% (13/59)\rReceiving objects:  23% (14/59)\rReceiving objects:  25% (15/59)\rReceiving objects:  27% (16/59)\rReceiving objects:  28% (17/59)\rReceiving objects:  30% (18/59)\rReceiving objects:  32% (19/59)\rReceiving objects:  33% (20/59)\rReceiving objects:  35% (21/59)\rReceiving objects:  37% (22/59)\rReceiving objects:  38% (23/59)\rReceiving objects:  40% (24/59)\rReceiving objects:  42% (25/59)\rReceiving objects:  44% (26/59)\rReceiving objects:  45% (27/59)\rReceiving objects:  47% (28/59)\rReceiving objects:  49% (29/59)\rReceiving objects:  50% (30/59)\rReceiving objects:  52% (31/59)\rReceiving objects:  54% (32/59)\rReceiving objects:  55% (33/59)\rReceiving objects:  57% (34/59)\rReceiving objects:  59% (35/59)\rReceiving objects:  61% (36/59)\rReceiving objects:  62% (37/59)\rReceiving objects:  64% (38/59)\rReceiving objects:  66% (39/59)\rReceiving objects:  67% (40/59)\rReceiving objects:  69% (41/59)\rReceiving objects:  71% (42/59)\rReceiving objects:  72% (43/59)\rremote: Total 59 (delta 14), reused 55 (delta 10), pack-reused 0\u001b[K\n",
            "Receiving objects:  74% (44/59)\rReceiving objects:  76% (45/59)\rReceiving objects:  77% (46/59)\rReceiving objects:  79% (47/59)\rReceiving objects:  81% (48/59)\rReceiving objects:  83% (49/59)\rReceiving objects:  84% (50/59)\rReceiving objects:  86% (51/59)\rReceiving objects:  88% (52/59)\rReceiving objects:  89% (53/59)\rReceiving objects:  91% (54/59)\rReceiving objects:  93% (55/59)\rReceiving objects:  94% (56/59)\rReceiving objects:  96% (57/59)\rReceiving objects:  98% (58/59)\rReceiving objects: 100% (59/59)\rReceiving objects: 100% (59/59), 148.10 KiB | 11.39 MiB/s, done.\n",
            "Resolving deltas:   0% (0/14)\rResolving deltas:   7% (1/14)\rResolving deltas:  14% (2/14)\rResolving deltas:  21% (3/14)\rResolving deltas:  28% (4/14)\rResolving deltas:  35% (5/14)\rResolving deltas:  42% (6/14)\rResolving deltas:  50% (7/14)\rResolving deltas:  57% (8/14)\rResolving deltas:  64% (9/14)\rResolving deltas:  71% (10/14)\rResolving deltas:  78% (11/14)\rResolving deltas:  85% (12/14)\rResolving deltas:  92% (13/14)\rResolving deltas: 100% (14/14)\rResolving deltas: 100% (14/14), done.\n",
            "wget -O model_weights.tar.gz -L https://mskcc.box.com/shared/static/qwji2dcqtswc3ue0m83hjp1vyjpdkxp6.gz\n",
            "--2024-06-14 17:55:03--  https://mskcc.box.com/shared/static/qwji2dcqtswc3ue0m83hjp1vyjpdkxp6.gz\n",
            "Resolving mskcc.box.com (mskcc.box.com)... 74.112.186.144\n",
            "Connecting to mskcc.box.com (mskcc.box.com)|74.112.186.144|:443... connected.\n",
            "HTTP request sent, awaiting response... 301 Moved Permanently\n",
            "Location: /public/static/qwji2dcqtswc3ue0m83hjp1vyjpdkxp6.gz [following]\n",
            "--2024-06-14 17:55:03--  https://mskcc.box.com/public/static/qwji2dcqtswc3ue0m83hjp1vyjpdkxp6.gz\n",
            "Reusing existing connection to mskcc.box.com:443.\n",
            "HTTP request sent, awaiting response... 301 Moved Permanently\n",
            "Location: https://mskcc.ent.box.com/public/static/qwji2dcqtswc3ue0m83hjp1vyjpdkxp6.gz [following]\n",
            "--2024-06-14 17:55:04--  https://mskcc.ent.box.com/public/static/qwji2dcqtswc3ue0m83hjp1vyjpdkxp6.gz\n",
            "Resolving mskcc.ent.box.com (mskcc.ent.box.com)... 74.112.186.144\n",
            "Connecting to mskcc.ent.box.com (mskcc.ent.box.com)|74.112.186.144|:443... connected.\n",
            "HTTP request sent, awaiting response... 302 Found\n",
            "Location: https://public.boxcloud.com/d/1/b1!ikt_6Fkmcca0CxpzVvEI14I_mx9YznRFCUDuOwmiKDZn7UWVRvuMBtQvCptwtdrGmIwGZwiSwMDsbsldPaBGishitJ0UlNWYKdQYNHbPJAYuuKrUp3mpa1UdhERDolofTITTVGeE7LLDrfrwBNvYjb5-MMlXkKNI6nKI8A9LNr4mc74B1yRt_WnAeH6G07iK6b3LoNPuwFway_t4uHIFoKlOaRCobHzAqw_KPxY_ZSBaahTkeSNquOmgXNeFNK7-MJtyKTfsTVyrKVAAIVEfR7u6d-TjHFQ7_GqZzKYB5ChrRjgB8qYrfVDLuYLyUQQWw4c4ccujcdQdGDhpvTqGiBIRkttL7D2xDyJ4Xg0uJjl7H1a64gWpLtxDWzZpad_w0NTRltLOPjn3ov659DV-aNdSbnxj5ywVfmDIkXaENy1XZWMUha1__RT2MIzVzaJxjNfJmkBMEm-bFIyyPCx9O4PIWrdGi1yPJ6fqZiGFa6gaBWqyE-dr07mua3i5okkRkAd-PkYtXwYV0Ip2AEreitnSBPN9a1_JNqA2ZLt5YyG7WTKJ5a3T9pxuaymYHN_u_A1M4nzbXsehBkRz8V_UUOQmInbB7V3fs1ggpXVCW1q9aiBB7Ea1a_LPdRNtBD-rSxo9rhaU5AJJRie8HTV50C7GHrnUyE9Rcmub0-XHMMNqkbDn_Rp3syN0ijbPyi4hcwRdFxp9veDFQb65aUOcrA3kTHxapJ4AOmhWokgJ256YJ2b45BYIlpzdyIOiC067vmGDawj18iFTEskwSHUce7u4FtfhKlXg0gtnOD2vbKQEA6ZZB4B1efCv4OlXHXEE9HZgHLhhWcIx_R4cxZYbGWUNc-e5pEiEn7ayo7Lx6QYpcp4y13PbhQvslmyZCbOufA8b_YbOaCuZe_i-de6XUG9LjM96cd7aIb7_s77lqle3w0DMFtpBNGsyZflS3DChcenAYB5TwRGwcBE-QO0Fv1QAu6xn_VEsdD-169FwxEizgEmqf4mP8eI1dgMUWXJfhmdkMEgfWpCVPWRMSIwxtSx_Og7nGru-xVwgdRwwMSraFhZ5Sya2rCbu4qrsLdoMS5iYGLQo4VxWoWHDvZyhmOOd7xEUayMKnVgtf68Wrdo8kd7xeglHQ0N-5mSWacSxDFaZUEAq-ZDPko02UflTJWnafDheFZ5-eI-qdXh7kaZ003zOjzbAQFJe9su4LtYZDCPXJpojFnvZ-aqabCm5Xr-FPb5BV_xHx9zdPil3XoDGaPV5n3mMaq40kUkKQkD7ix4cer-Pmf6IxWz7Xf0bAssx1_TVcFk5DsNfiTb-QROqVjY5GNg6sM5XUD62-ccFz-i3VDrXVSpxX_FpU5LpMmJg5jr49BIX6l1Kuauzx3Q_R92K552XFOABO0suqxFarL0NLg../download [following]\n",
            "--2024-06-14 17:55:04--  https://public.boxcloud.com/d/1/b1!ikt_6Fkmcca0CxpzVvEI14I_mx9YznRFCUDuOwmiKDZn7UWVRvuMBtQvCptwtdrGmIwGZwiSwMDsbsldPaBGishitJ0UlNWYKdQYNHbPJAYuuKrUp3mpa1UdhERDolofTITTVGeE7LLDrfrwBNvYjb5-MMlXkKNI6nKI8A9LNr4mc74B1yRt_WnAeH6G07iK6b3LoNPuwFway_t4uHIFoKlOaRCobHzAqw_KPxY_ZSBaahTkeSNquOmgXNeFNK7-MJtyKTfsTVyrKVAAIVEfR7u6d-TjHFQ7_GqZzKYB5ChrRjgB8qYrfVDLuYLyUQQWw4c4ccujcdQdGDhpvTqGiBIRkttL7D2xDyJ4Xg0uJjl7H1a64gWpLtxDWzZpad_w0NTRltLOPjn3ov659DV-aNdSbnxj5ywVfmDIkXaENy1XZWMUha1__RT2MIzVzaJxjNfJmkBMEm-bFIyyPCx9O4PIWrdGi1yPJ6fqZiGFa6gaBWqyE-dr07mua3i5okkRkAd-PkYtXwYV0Ip2AEreitnSBPN9a1_JNqA2ZLt5YyG7WTKJ5a3T9pxuaymYHN_u_A1M4nzbXsehBkRz8V_UUOQmInbB7V3fs1ggpXVCW1q9aiBB7Ea1a_LPdRNtBD-rSxo9rhaU5AJJRie8HTV50C7GHrnUyE9Rcmub0-XHMMNqkbDn_Rp3syN0ijbPyi4hcwRdFxp9veDFQb65aUOcrA3kTHxapJ4AOmhWokgJ256YJ2b45BYIlpzdyIOiC067vmGDawj18iFTEskwSHUce7u4FtfhKlXg0gtnOD2vbKQEA6ZZB4B1efCv4OlXHXEE9HZgHLhhWcIx_R4cxZYbGWUNc-e5pEiEn7ayo7Lx6QYpcp4y13PbhQvslmyZCbOufA8b_YbOaCuZe_i-de6XUG9LjM96cd7aIb7_s77lqle3w0DMFtpBNGsyZflS3DChcenAYB5TwRGwcBE-QO0Fv1QAu6xn_VEsdD-169FwxEizgEmqf4mP8eI1dgMUWXJfhmdkMEgfWpCVPWRMSIwxtSx_Og7nGru-xVwgdRwwMSraFhZ5Sya2rCbu4qrsLdoMS5iYGLQo4VxWoWHDvZyhmOOd7xEUayMKnVgtf68Wrdo8kd7xeglHQ0N-5mSWacSxDFaZUEAq-ZDPko02UflTJWnafDheFZ5-eI-qdXh7kaZ003zOjzbAQFJe9su4LtYZDCPXJpojFnvZ-aqabCm5Xr-FPb5BV_xHx9zdPil3XoDGaPV5n3mMaq40kUkKQkD7ix4cer-Pmf6IxWz7Xf0bAssx1_TVcFk5DsNfiTb-QROqVjY5GNg6sM5XUD62-ccFz-i3VDrXVSpxX_FpU5LpMmJg5jr49BIX6l1Kuauzx3Q_R92K552XFOABO0suqxFarL0NLg../download\n",
            "Resolving public.boxcloud.com (public.boxcloud.com)... 74.112.186.130\n",
            "Connecting to public.boxcloud.com (public.boxcloud.com)|74.112.186.130|:443... connected.\n",
            "HTTP request sent, awaiting response... 200 OK\n",
            "Length: 239916671 (229M) [application/octet-stream]\n",
            "Saving to: ‘model_weights.tar.gz’\n",
            "\n",
            "model_weights.tar.g 100%[===================>] 228.80M  90.0MB/s    in 2.5s    \n",
            "\n",
            "2024-06-14 17:55:07 (90.0 MB/s) - ‘model_weights.tar.gz’ saved [239916671/239916671]\n",
            "\n",
            "tar xf model_weights.tar.gz\n",
            "wget -O condapack.tar.gz -L https://mskcc.box.com/shared/static/d580gfjzzmt26v8klwp8pivb6wafomag.gz\n",
            "--2024-06-14 17:55:12--  https://mskcc.box.com/shared/static/d580gfjzzmt26v8klwp8pivb6wafomag.gz\n",
            "Resolving mskcc.box.com (mskcc.box.com)... 74.112.186.144\n",
            "Connecting to mskcc.box.com (mskcc.box.com)|74.112.186.144|:443... connected.\n",
            "HTTP request sent, awaiting response... 301 Moved Permanently\n",
            "Location: /public/static/d580gfjzzmt26v8klwp8pivb6wafomag.gz [following]\n",
            "--2024-06-14 17:55:12--  https://mskcc.box.com/public/static/d580gfjzzmt26v8klwp8pivb6wafomag.gz\n",
            "Reusing existing connection to mskcc.box.com:443.\n",
            "HTTP request sent, awaiting response... 301 Moved Permanently\n",
            "Location: https://mskcc.ent.box.com/public/static/d580gfjzzmt26v8klwp8pivb6wafomag.gz [following]\n",
            "--2024-06-14 17:55:13--  https://mskcc.ent.box.com/public/static/d580gfjzzmt26v8klwp8pivb6wafomag.gz\n",
            "Resolving mskcc.ent.box.com (mskcc.ent.box.com)... 74.112.186.144\n",
            "Connecting to mskcc.ent.box.com (mskcc.ent.box.com)|74.112.186.144|:443... connected.\n",
            "HTTP request sent, awaiting response... 302 Found\n",
            "Location: https://public.boxcloud.com/d/1/b1!1PSS69FCHP8s3xJyR5U2POc15lE5djVwd67VmmJtvscFdb9RJPP1vmb9nYzH6RO13y2WH9gBJfUqhlXLYN3hf4Hsr2ezCp2AJghHgWliGIfCD1rbSA-Ghtz3UA9aFfcjbK9QAh4v7Nd18wTeGlIOKZFcnpSi9qZ0wZE-whK3bcRAnd6D8DpEvP3YE_eGuftx509QB0ISjfoub93nUISNrU-zRFSsimcU2sTHM3BIIETnenFdm2HYwFr2aj_i6hcz3-2jqUogBBRaed6VOrFX1zMlrfcan7HvI4udn9Ha7vAtNrVhmeaC5idixFOtX2fNBd6nByVLWBO8XhF-WTiPD5JxXIM7QobEm9k0GJoN-YA-fqUco33_HvrXIRnoazyIDDlnxG8wqVIBJpQyxBfJdxIq3U_27BeSvDckYRmyCsjseHYE2I4xDCOM-gDn3kqpevCRnL_iAjXt8glTHJBDVzljJVbM9oTpMpJL8hOETBcNfxT6F125H6A7f-2uGpO2gjsUM-8cMjuAsinxamwbgBgZMla_E-3ErGN6QxluGU1_Sqfwu0izWXjbhWJpVXgtyG7H5wvSlh4QKx4j2iCS3cKiH3HxiGIA3YezwBFMKZejTb7F4feX4DKQz2_Wmofifua6fUn_EW9gyhbdkNBeum6ns9uhxTRfhv1Z9phYuvyvs2mDTYDLD_H03sbVG0TeFbeny_aNUl2CAzUoYNmBi9hI4lhF5zVjlyLgxmtuokssyKXSbIpYYNUeTE5MucKnisH-ozJ5oj4jfuhwJzRod2BP90J5d4fq7CRIQTs1Ohn07c82LJyBa-DO2zHZGxxekNvr-rfbsbFap0gd_MB-RlpCRBbB0ccS8tPeHmj30znDtLqxO6e2kJqXurF8hSJZ2kLtgoeM5K9Da7hzca9lbQr7F5PrM9huHwiRfNHQNcT5VgRCUOJxE_sBlJA4GUoAn0qqivvc_3hMTARhBDV3q3xnGJSjTaqZaW3cHBd4DNg0qP_xNhRlWALAtli0O-BTHmKS-9xEGBEjuZZEsfVN5Yw78R-zmvtunWz7XzJli4P1q1-E1UJD6piIkV6S8P5H70uUo7kUY5JBMRDuZ3m_AWQ0SC3wkIg2sfW-F5dY-TvEQgr82p8O-SkiiedtWjQDBLkNuAun95DzUP3xfM89k6ldjExqFX5a6dyG3oKK1COQCaH4JAXNzDHwiYZ1aBYF_IaWAkUyJ2_xjzh_bnUlvXcnlVN5FZeFUv-VEyhuhYe0jGtc77H1ak4jABB8O39MrsBcHdM5ZS-Rx8G1f89pc7sEIhZTBkoGMNfQ7FSA1CafmQNVfZ1A4C1D-tkxLXTjT2TARn8Pc5HRCVZy7LXMDFWZVl9-9TkNaZL4i7rdo9P1ZfqgQjE52LzAsqn6C94U_KCQqdNPh1uA/download [following]\n",
            "--2024-06-14 17:55:13--  https://public.boxcloud.com/d/1/b1!1PSS69FCHP8s3xJyR5U2POc15lE5djVwd67VmmJtvscFdb9RJPP1vmb9nYzH6RO13y2WH9gBJfUqhlXLYN3hf4Hsr2ezCp2AJghHgWliGIfCD1rbSA-Ghtz3UA9aFfcjbK9QAh4v7Nd18wTeGlIOKZFcnpSi9qZ0wZE-whK3bcRAnd6D8DpEvP3YE_eGuftx509QB0ISjfoub93nUISNrU-zRFSsimcU2sTHM3BIIETnenFdm2HYwFr2aj_i6hcz3-2jqUogBBRaed6VOrFX1zMlrfcan7HvI4udn9Ha7vAtNrVhmeaC5idixFOtX2fNBd6nByVLWBO8XhF-WTiPD5JxXIM7QobEm9k0GJoN-YA-fqUco33_HvrXIRnoazyIDDlnxG8wqVIBJpQyxBfJdxIq3U_27BeSvDckYRmyCsjseHYE2I4xDCOM-gDn3kqpevCRnL_iAjXt8glTHJBDVzljJVbM9oTpMpJL8hOETBcNfxT6F125H6A7f-2uGpO2gjsUM-8cMjuAsinxamwbgBgZMla_E-3ErGN6QxluGU1_Sqfwu0izWXjbhWJpVXgtyG7H5wvSlh4QKx4j2iCS3cKiH3HxiGIA3YezwBFMKZejTb7F4feX4DKQz2_Wmofifua6fUn_EW9gyhbdkNBeum6ns9uhxTRfhv1Z9phYuvyvs2mDTYDLD_H03sbVG0TeFbeny_aNUl2CAzUoYNmBi9hI4lhF5zVjlyLgxmtuokssyKXSbIpYYNUeTE5MucKnisH-ozJ5oj4jfuhwJzRod2BP90J5d4fq7CRIQTs1Ohn07c82LJyBa-DO2zHZGxxekNvr-rfbsbFap0gd_MB-RlpCRBbB0ccS8tPeHmj30znDtLqxO6e2kJqXurF8hSJZ2kLtgoeM5K9Da7hzca9lbQr7F5PrM9huHwiRfNHQNcT5VgRCUOJxE_sBlJA4GUoAn0qqivvc_3hMTARhBDV3q3xnGJSjTaqZaW3cHBd4DNg0qP_xNhRlWALAtli0O-BTHmKS-9xEGBEjuZZEsfVN5Yw78R-zmvtunWz7XzJli4P1q1-E1UJD6piIkV6S8P5H70uUo7kUY5JBMRDuZ3m_AWQ0SC3wkIg2sfW-F5dY-TvEQgr82p8O-SkiiedtWjQDBLkNuAun95DzUP3xfM89k6ldjExqFX5a6dyG3oKK1COQCaH4JAXNzDHwiYZ1aBYF_IaWAkUyJ2_xjzh_bnUlvXcnlVN5FZeFUv-VEyhuhYe0jGtc77H1ak4jABB8O39MrsBcHdM5ZS-Rx8G1f89pc7sEIhZTBkoGMNfQ7FSA1CafmQNVfZ1A4C1D-tkxLXTjT2TARn8Pc5HRCVZy7LXMDFWZVl9-9TkNaZL4i7rdo9P1ZfqgQjE52LzAsqn6C94U_KCQqdNPh1uA/download\n",
            "Resolving public.boxcloud.com (public.boxcloud.com)... 74.112.186.130\n",
            "Connecting to public.boxcloud.com (public.boxcloud.com)|74.112.186.130|:443... connected.\n",
            "HTTP request sent, awaiting response... 200 OK\n",
            "Length: 2209334575 (2.1G) [application/octet-stream]\n",
            "Saving to: ‘condapack.tar.gz’\n",
            "\n",
            "condapack.tar.gz    100%[===================>]   2.06G  34.3MB/s    in 28s     \n",
            "\n",
            "2024-06-14 17:55:41 (75.9 MB/s) - ‘condapack.tar.gz’ saved [2209334575/2209334575]\n",
            "\n",
            "tar xf condapack.tar.gz\n"
          ]
        }
      ]
    },
    {
      "cell_type": "code",
      "source": [
        "%%capture\n",
        "!pip install pyxnat\n",
        "! pip install \"pyCERR[napari] @ git+https://github.com/cerr/pyCERR.git@testing\""
      ],
      "metadata": {
        "id": "-cG1gAx69axp"
      },
      "execution_count": 12,
      "outputs": []
    },
    {
      "cell_type": "code",
      "source": [
        "inputDicomPath = os.path.join(workDir,'input')\n",
        "outputDicomPath = os.path.join(workDir, 'output')\n",
        "sessionPath = os.path.join(workDir, 'session')\n",
        "\n",
        "if not os.path.exists(outputDicomPath):\n",
        "  os.makedirs(outputDicomPath, exist_ok = True)\n",
        "\n",
        "if not os.path.exists(sessionPath):\n",
        "  os.makedirs(sessionPath, exist_ok = True)"
      ],
      "metadata": {
        "id": "Lgck3qYo607q"
      },
      "execution_count": 13,
      "outputs": []
    },
    {
      "cell_type": "code",
      "source": [
        "from pyxnat import Interface\n",
        "import urllib3, shutil\n",
        "from glob import glob\n",
        "urllib3.disable_warnings()\n",
        "\n",
        "xhost = 'https://pixnat.mskcc.org'\n",
        "user = 'locastre'\n",
        "scan_dict = [{'proj':proj,'subj':subj,'exp':exp,'scan_list':scan_list}]"
      ],
      "metadata": {
        "id": "v0AsapLP7ONZ"
      },
      "execution_count": 14,
      "outputs": []
    },
    {
      "cell_type": "code",
      "source": [
        "def getXNATData(xhost,user,scandict,downloadDir):\n",
        "  xnat = Interface(xhost, user, verify=False)\n",
        "  os.makedirs(downloadDir, exist_ok=True)\n",
        "  for scan_entry in scandict:\n",
        "    proj = scan_entry['proj']\n",
        "    subj = scan_entry['subj']\n",
        "    exp = scan_entry['exp']\n",
        "    scan_list = scan_entry['scan_list']\n",
        "    expdir = os.path.join(downloadDir,exp)\n",
        "    os.makedirs(expdir, exist_ok = True)\n",
        "    xexp = xnat.select.project(proj).subject(subj).experiment(exp)\n",
        "    for scan in scan_list:\n",
        "      try:\n",
        "        xnat.select.project(proj).subject(subj).experiment(exp).scan(scan).resource('DICOM').get(downloadDir,extract=True)\n",
        "      except:\n",
        "        xnat.select.project(proj).subject(subj).experiment(exp).scan(scan).resource('secondary').get(downloadDir,extract=True)\n",
        "    for dcmfolder in ['DICOM','secondary']:\n",
        "      dcmlist = glob(os.path.join(downloadDir,dcmfolder,'*.dcm'))\n",
        "      print(dcmlist)\n",
        "      for dcm in dcmlist:\n",
        "        shutil.move(dcm, expdir)\n",
        "  for dcmfolder in ['DICOM','secondary']:\n",
        "    if os.path.exists(os.path.join(downloadDir,dcmfolder)):\n",
        "      os.rmdir(os.path.join(downloadDir,dcmfolder))\n",
        "    if os.path.exists(os.path.join(downloadDir,dcmfolder + '.zip')):\n",
        "      os.remove(os.path.join(downloadDir,dcmfolder + '.zip'))\n",
        "  xnat.disconnect()"
      ],
      "metadata": {
        "id": "Tc5z7BJ8jJas"
      },
      "execution_count": 15,
      "outputs": []
    },
    {
      "cell_type": "code",
      "source": [
        "getXNATData(xhost,user,scandict,inputDicomPath)"
      ],
      "metadata": {
        "colab": {
          "base_uri": "https://localhost:8080/"
        },
        "id": "yc4ZOtlK7c0f",
        "outputId": "3ae1042b-763a-4a43-c086-b0239740d3df"
      },
      "execution_count": 16,
      "outputs": [
        {
          "output_type": "stream",
          "name": "stdout",
          "text": [
            "··········\n",
            "['/content/input/DICOM/1.3.6.1.4.1.14519.5.2.1.6329.6468.109218621610560682044382179111-1-88-ehcqd8.dcm', '/content/input/DICOM/1.3.6.1.4.1.14519.5.2.1.6329.6468.109218621610560682044382179111-1-54-b7430f.dcm', '/content/input/DICOM/1.3.6.1.4.1.14519.5.2.1.6329.6468.109218621610560682044382179111-1-36-1sed2tf.dcm', '/content/input/DICOM/1.3.6.1.4.1.14519.5.2.1.6329.6468.109218621610560682044382179111-1-82-17cuxyi.dcm', '/content/input/DICOM/1.3.6.1.4.1.14519.5.2.1.6329.6468.109218621610560682044382179111-1-57-474cq4.dcm', '/content/input/DICOM/1.3.6.1.4.1.14519.5.2.1.6329.6468.109218621610560682044382179111-1-43-iwcq5k.dcm', '/content/input/DICOM/1.3.6.1.4.1.14519.5.2.1.6329.6468.109218621610560682044382179111-1-6-15leg7.dcm', '/content/input/DICOM/1.3.6.1.4.1.14519.5.2.1.6329.6468.109218621610560682044382179111-1-93-1878ffd.dcm', '/content/input/DICOM/1.3.6.1.4.1.14519.5.2.1.6329.6468.109218621610560682044382179111-1-66-1x4clap.dcm', '/content/input/DICOM/1.3.6.1.4.1.14519.5.2.1.6329.6468.109218621610560682044382179111-1-18-zoibz9.dcm', '/content/input/DICOM/1.3.6.1.4.1.14519.5.2.1.6329.6468.109218621610560682044382179111-1-33-jor5i.dcm', '/content/input/DICOM/1.3.6.1.4.1.14519.5.2.1.6329.6468.109218621610560682044382179111-1-59-x5tmwa.dcm', '/content/input/DICOM/1.3.6.1.4.1.14519.5.2.1.6329.6468.109218621610560682044382179111-1-70-1wv0uku.dcm', '/content/input/DICOM/1.3.6.1.4.1.14519.5.2.1.6329.6468.109218621610560682044382179111-1-17-1nt7xyr.dcm', '/content/input/DICOM/1.3.6.1.4.1.14519.5.2.1.6329.6468.109218621610560682044382179111-1-22-5bc1bj.dcm', '/content/input/DICOM/1.3.6.1.4.1.14519.5.2.1.6329.6468.109218621610560682044382179111-1-41-qvlxuv.dcm', '/content/input/DICOM/1.3.6.1.4.1.14519.5.2.1.6329.6468.109218621610560682044382179111-1-7-168n01j.dcm', '/content/input/DICOM/1.3.6.1.4.1.14519.5.2.1.6329.6468.109218621610560682044382179111-1-16-1ayrppb.dcm', '/content/input/DICOM/1.3.6.1.4.1.14519.5.2.1.6329.6468.109218621610560682044382179111-1-46-xy0chv.dcm', '/content/input/DICOM/1.3.6.1.4.1.14519.5.2.1.6329.6468.109218621610560682044382179111-1-3-1svl8ys.dcm', '/content/input/DICOM/1.3.6.1.4.1.14519.5.2.1.6329.6468.109218621610560682044382179111-1-10-wpdzng.dcm', '/content/input/DICOM/1.3.6.1.4.1.14519.5.2.1.6329.6468.109218621610560682044382179111-1-14-miajh3.dcm', '/content/input/DICOM/1.3.6.1.4.1.14519.5.2.1.6329.6468.109218621610560682044382179111-1-24-1p3wc7e.dcm', '/content/input/DICOM/1.3.6.1.4.1.14519.5.2.1.6329.6468.109218621610560682044382179111-1-25-evf5nb.dcm', '/content/input/DICOM/1.3.6.1.4.1.14519.5.2.1.6329.6468.109218621610560682044382179111-1-58-7gj0b1.dcm', '/content/input/DICOM/1.3.6.1.4.1.14519.5.2.1.6329.6468.109218621610560682044382179111-1-64-88rrvo.dcm', '/content/input/DICOM/1.3.6.1.4.1.14519.5.2.1.6329.6468.109218621610560682044382179111-1-65-13eu03a.dcm', '/content/input/DICOM/1.3.6.1.4.1.14519.5.2.1.6329.6468.109218621610560682044382179111-1-48-1t7idsf.dcm', '/content/input/DICOM/1.3.6.1.4.1.14519.5.2.1.6329.6468.109218621610560682044382179111-1-20-1p4ey0u.dcm', '/content/input/DICOM/1.3.6.1.4.1.14519.5.2.1.6329.6468.109218621610560682044382179111-1-90-1sfmeq5.dcm', '/content/input/DICOM/1.3.6.1.4.1.14519.5.2.1.6329.6468.109218621610560682044382179111-1-73-11hqmsm.dcm', '/content/input/DICOM/1.3.6.1.4.1.14519.5.2.1.6329.6468.109218621610560682044382179111-1-13-1wltiwp.dcm', '/content/input/DICOM/1.3.6.1.4.1.14519.5.2.1.6329.6468.109218621610560682044382179111-1-53-v3z5vs.dcm', '/content/input/DICOM/1.3.6.1.4.1.14519.5.2.1.6329.6468.109218621610560682044382179111-1-80-7ma2c2.dcm', '/content/input/DICOM/1.3.6.1.4.1.14519.5.2.1.6329.6468.109218621610560682044382179111-1-87-4apar0.dcm', '/content/input/DICOM/1.3.6.1.4.1.14519.5.2.1.6329.6468.109218621610560682044382179111-1-74-fc7lbg.dcm', '/content/input/DICOM/1.3.6.1.4.1.14519.5.2.1.6329.6468.109218621610560682044382179111-1-92-1mwrbch.dcm', '/content/input/DICOM/1.3.6.1.4.1.14519.5.2.1.6329.6468.109218621610560682044382179111-1-47-ngocvg.dcm', '/content/input/DICOM/1.3.6.1.4.1.14519.5.2.1.6329.6468.109218621610560682044382179111-1-83-1bwlqf.dcm', '/content/input/DICOM/1.3.6.1.4.1.14519.5.2.1.6329.6468.109218621610560682044382179111-1-29-k8nzzo.dcm', '/content/input/DICOM/1.3.6.1.4.1.14519.5.2.1.6329.6468.109218621610560682044382179111-1-11-76ryx9.dcm', '/content/input/DICOM/1.3.6.1.4.1.14519.5.2.1.6329.6468.109218621610560682044382179111-1-51-1qoylpv.dcm', '/content/input/DICOM/1.3.6.1.4.1.14519.5.2.1.6329.6468.109218621610560682044382179111-1-39-3c8r7a.dcm', '/content/input/DICOM/1.3.6.1.4.1.14519.5.2.1.6329.6468.109218621610560682044382179111-1-8-19epcp8.dcm', '/content/input/DICOM/1.3.6.1.4.1.14519.5.2.1.6329.6468.109218621610560682044382179111-1-38-15blol8.dcm', '/content/input/DICOM/1.3.6.1.4.1.14519.5.2.1.6329.6468.109218621610560682044382179111-1-40-155ln4r.dcm', '/content/input/DICOM/1.3.6.1.4.1.14519.5.2.1.6329.6468.109218621610560682044382179111-1-34-29oqmh.dcm', '/content/input/DICOM/1.3.6.1.4.1.14519.5.2.1.6329.6468.109218621610560682044382179111-1-37-12pneeu.dcm', '/content/input/DICOM/1.3.6.1.4.1.14519.5.2.1.6329.6468.109218621610560682044382179111-1-1-sh5kmi.dcm', '/content/input/DICOM/1.3.6.1.4.1.14519.5.2.1.6329.6468.109218621610560682044382179111-1-79-yu0t3n.dcm', '/content/input/DICOM/1.3.6.1.4.1.14519.5.2.1.6329.6468.109218621610560682044382179111-1-76-twa34a.dcm', '/content/input/DICOM/1.3.6.1.4.1.14519.5.2.1.6329.6468.109218621610560682044382179111-1-77-1rk5wdv.dcm', '/content/input/DICOM/1.3.6.1.4.1.14519.5.2.1.6329.6468.109218621610560682044382179111-1-2-13ij1sp.dcm', '/content/input/DICOM/1.3.6.1.4.1.14519.5.2.1.6329.6468.109218621610560682044382179111-1-63-1dkbppp.dcm', '/content/input/DICOM/1.3.6.1.4.1.14519.5.2.1.6329.6468.109218621610560682044382179111-1-19-8gki9o.dcm', '/content/input/DICOM/1.3.6.1.4.1.14519.5.2.1.6329.6468.109218621610560682044382179111-1-52-19u8r1i.dcm', '/content/input/DICOM/1.3.6.1.4.1.14519.5.2.1.6329.6468.109218621610560682044382179111-1-89-1p8byrx.dcm', '/content/input/DICOM/1.3.6.1.4.1.14519.5.2.1.6329.6468.109218621610560682044382179111-1-67-1fxl3dj.dcm', '/content/input/DICOM/1.3.6.1.4.1.14519.5.2.1.6329.6468.109218621610560682044382179111-1-81-135n8n6.dcm', '/content/input/DICOM/1.3.6.1.4.1.14519.5.2.1.6329.6468.109218621610560682044382179111-1-45-1cncsqf.dcm', '/content/input/DICOM/1.3.6.1.4.1.14519.5.2.1.6329.6468.109218621610560682044382179111-1-12-f14nrv.dcm', '/content/input/DICOM/1.3.6.1.4.1.14519.5.2.1.6329.6468.109218621610560682044382179111-1-28-1fmknjl.dcm', '/content/input/DICOM/1.3.6.1.4.1.14519.5.2.1.6329.6468.109218621610560682044382179111-1-5-1f3qnjo.dcm', '/content/input/DICOM/1.3.6.1.4.1.14519.5.2.1.6329.6468.109218621610560682044382179111-1-60-1phgp8g.dcm', '/content/input/DICOM/1.3.6.1.4.1.14519.5.2.1.6329.6468.109218621610560682044382179111-1-61-1equrgf.dcm', '/content/input/DICOM/1.3.6.1.4.1.14519.5.2.1.6329.6468.109218621610560682044382179111-1-44-192hv39.dcm', '/content/input/DICOM/1.3.6.1.4.1.14519.5.2.1.6329.6468.109218621610560682044382179111-1-42-16cyier.dcm', '/content/input/DICOM/1.3.6.1.4.1.14519.5.2.1.6329.6468.109218621610560682044382179111-1-91-nrf5tr.dcm', '/content/input/DICOM/1.3.6.1.4.1.14519.5.2.1.6329.6468.109218621610560682044382179111-1-31-17lgsiy.dcm', '/content/input/DICOM/1.3.6.1.4.1.14519.5.2.1.6329.6468.109218621610560682044382179111-1-78-3yykpz.dcm', '/content/input/DICOM/1.3.6.1.4.1.14519.5.2.1.6329.6468.109218621610560682044382179111-1-86-1n73rb9.dcm', '/content/input/DICOM/1.3.6.1.4.1.14519.5.2.1.6329.6468.109218621610560682044382179111-1-23-ysru0t.dcm', '/content/input/DICOM/1.3.6.1.4.1.14519.5.2.1.6329.6468.109218621610560682044382179111-1-27-1kabxg6.dcm', '/content/input/DICOM/1.3.6.1.4.1.14519.5.2.1.6329.6468.109218621610560682044382179111-1-9-9p6xr6.dcm', '/content/input/DICOM/1.3.6.1.4.1.14519.5.2.1.6329.6468.109218621610560682044382179111-1-35-vwsbvd.dcm', '/content/input/DICOM/1.3.6.1.4.1.14519.5.2.1.6329.6468.109218621610560682044382179111-1-21-mgi0y6.dcm', '/content/input/DICOM/1.3.6.1.4.1.14519.5.2.1.6329.6468.109218621610560682044382179111-1-56-3oafm6.dcm', '/content/input/DICOM/1.3.6.1.4.1.14519.5.2.1.6329.6468.109218621610560682044382179111-1-50-1kah12a.dcm', '/content/input/DICOM/1.3.6.1.4.1.14519.5.2.1.6329.6468.109218621610560682044382179111-1-26-199uqlv.dcm', '/content/input/DICOM/1.3.6.1.4.1.14519.5.2.1.6329.6468.109218621610560682044382179111-1-71-gv5sfn.dcm', '/content/input/DICOM/1.3.6.1.4.1.14519.5.2.1.6329.6468.109218621610560682044382179111-1-62-xi286m.dcm', '/content/input/DICOM/1.3.6.1.4.1.14519.5.2.1.6329.6468.109218621610560682044382179111-1-75-6888zb.dcm', '/content/input/DICOM/1.3.6.1.4.1.14519.5.2.1.6329.6468.109218621610560682044382179111-1-4-yqwtdk.dcm', '/content/input/DICOM/1.3.6.1.4.1.14519.5.2.1.6329.6468.109218621610560682044382179111-1-72-1ox8wtx.dcm', '/content/input/DICOM/1.3.6.1.4.1.14519.5.2.1.6329.6468.109218621610560682044382179111-1-84-q76q78.dcm', '/content/input/DICOM/1.3.6.1.4.1.14519.5.2.1.6329.6468.109218621610560682044382179111-1-55-g514yj.dcm', '/content/input/DICOM/1.3.6.1.4.1.14519.5.2.1.6329.6468.109218621610560682044382179111-1-85-1tlipfn.dcm', '/content/input/DICOM/1.3.6.1.4.1.14519.5.2.1.6329.6468.109218621610560682044382179111-1-68-1tjvqls.dcm', '/content/input/DICOM/1.3.6.1.4.1.14519.5.2.1.6329.6468.109218621610560682044382179111-1-69-1y9bapg.dcm', '/content/input/DICOM/1.3.6.1.4.1.14519.5.2.1.6329.6468.109218621610560682044382179111-1-15-1jgb3ms.dcm', '/content/input/DICOM/1.3.6.1.4.1.14519.5.2.1.6329.6468.109218621610560682044382179111-1-49-1f35wb8.dcm', '/content/input/DICOM/1.3.6.1.4.1.14519.5.2.1.6329.6468.109218621610560682044382179111-1-32-1cemjsq.dcm', '/content/input/DICOM/1.3.6.1.4.1.14519.5.2.1.6329.6468.109218621610560682044382179111-1-30-dnk8ro.dcm']\n",
            "['/content/input/secondary/1.3.6.1.4.1.14519.5.2.1.6329.6468.109218621610560682044382179111-2-no-value-for-InstanceNumber-1278q5v.dcm']\n",
            "['/content/input/DICOM/1.3.6.1.4.1.14519.5.2.1.6329.6468.180596963996965825122162035932-1-48-1nnrtoo.dcm', '/content/input/DICOM/1.3.6.1.4.1.14519.5.2.1.6329.6468.180596963996965825122162035932-1-72-msqx32.dcm', '/content/input/DICOM/1.3.6.1.4.1.14519.5.2.1.6329.6468.180596963996965825122162035932-1-63-1593m6c.dcm', '/content/input/DICOM/1.3.6.1.4.1.14519.5.2.1.6329.6468.180596963996965825122162035932-1-79-h0ifqm.dcm', '/content/input/DICOM/1.3.6.1.4.1.14519.5.2.1.6329.6468.180596963996965825122162035932-1-45-dep9y0.dcm', '/content/input/DICOM/1.3.6.1.4.1.14519.5.2.1.6329.6468.180596963996965825122162035932-1-25-14b2ie8.dcm', '/content/input/DICOM/1.3.6.1.4.1.14519.5.2.1.6329.6468.180596963996965825122162035932-1-13-1btc4f9.dcm', '/content/input/DICOM/1.3.6.1.4.1.14519.5.2.1.6329.6468.180596963996965825122162035932-1-27-n0r31l.dcm', '/content/input/DICOM/1.3.6.1.4.1.14519.5.2.1.6329.6468.180596963996965825122162035932-1-19-18xc3uy.dcm', '/content/input/DICOM/1.3.6.1.4.1.14519.5.2.1.6329.6468.180596963996965825122162035932-1-86-1rac0ns.dcm', '/content/input/DICOM/1.3.6.1.4.1.14519.5.2.1.6329.6468.180596963996965825122162035932-1-66-15zgmp8.dcm', '/content/input/DICOM/1.3.6.1.4.1.14519.5.2.1.6329.6468.180596963996965825122162035932-1-1-1df2al0.dcm', '/content/input/DICOM/1.3.6.1.4.1.14519.5.2.1.6329.6468.180596963996965825122162035932-1-8-188bm3d.dcm', '/content/input/DICOM/1.3.6.1.4.1.14519.5.2.1.6329.6468.180596963996965825122162035932-1-74-7h3tt8.dcm', '/content/input/DICOM/1.3.6.1.4.1.14519.5.2.1.6329.6468.180596963996965825122162035932-1-76-uvlrqn.dcm', '/content/input/DICOM/1.3.6.1.4.1.14519.5.2.1.6329.6468.180596963996965825122162035932-1-68-fnvuj4.dcm', '/content/input/DICOM/1.3.6.1.4.1.14519.5.2.1.6329.6468.180596963996965825122162035932-1-58-1ug7b7z.dcm', '/content/input/DICOM/1.3.6.1.4.1.14519.5.2.1.6329.6468.180596963996965825122162035932-1-94-1fe4sri.dcm', '/content/input/DICOM/1.3.6.1.4.1.14519.5.2.1.6329.6468.180596963996965825122162035932-1-88-nhoj7l.dcm', '/content/input/DICOM/1.3.6.1.4.1.14519.5.2.1.6329.6468.180596963996965825122162035932-1-93-q1okfc.dcm', '/content/input/DICOM/1.3.6.1.4.1.14519.5.2.1.6329.6468.180596963996965825122162035932-1-17-oar9ru.dcm', '/content/input/DICOM/1.3.6.1.4.1.14519.5.2.1.6329.6468.180596963996965825122162035932-1-42-fu9z8u.dcm', '/content/input/DICOM/1.3.6.1.4.1.14519.5.2.1.6329.6468.180596963996965825122162035932-1-43-7bfwj4.dcm', '/content/input/DICOM/1.3.6.1.4.1.14519.5.2.1.6329.6468.180596963996965825122162035932-1-51-1ybvc6u.dcm', '/content/input/DICOM/1.3.6.1.4.1.14519.5.2.1.6329.6468.180596963996965825122162035932-1-90-pzz2g0.dcm', '/content/input/DICOM/1.3.6.1.4.1.14519.5.2.1.6329.6468.180596963996965825122162035932-1-30-d94htk.dcm', '/content/input/DICOM/1.3.6.1.4.1.14519.5.2.1.6329.6468.180596963996965825122162035932-1-78-1x96n1h.dcm', '/content/input/DICOM/1.3.6.1.4.1.14519.5.2.1.6329.6468.180596963996965825122162035932-1-31-1pefld0.dcm', '/content/input/DICOM/1.3.6.1.4.1.14519.5.2.1.6329.6468.180596963996965825122162035932-1-20-1xpqixn.dcm', '/content/input/DICOM/1.3.6.1.4.1.14519.5.2.1.6329.6468.180596963996965825122162035932-1-40-z59nyh.dcm', '/content/input/DICOM/1.3.6.1.4.1.14519.5.2.1.6329.6468.180596963996965825122162035932-1-81-d8k63k.dcm', '/content/input/DICOM/1.3.6.1.4.1.14519.5.2.1.6329.6468.180596963996965825122162035932-1-6-5jpron.dcm', '/content/input/DICOM/1.3.6.1.4.1.14519.5.2.1.6329.6468.180596963996965825122162035932-1-16-1swn49g.dcm', '/content/input/DICOM/1.3.6.1.4.1.14519.5.2.1.6329.6468.180596963996965825122162035932-1-53-pku3kp.dcm', '/content/input/DICOM/1.3.6.1.4.1.14519.5.2.1.6329.6468.180596963996965825122162035932-1-87-qewe76.dcm', '/content/input/DICOM/1.3.6.1.4.1.14519.5.2.1.6329.6468.180596963996965825122162035932-1-3-l6wreu.dcm', '/content/input/DICOM/1.3.6.1.4.1.14519.5.2.1.6329.6468.180596963996965825122162035932-1-14-njt4ae.dcm', '/content/input/DICOM/1.3.6.1.4.1.14519.5.2.1.6329.6468.180596963996965825122162035932-1-64-1q9sep7.dcm', '/content/input/DICOM/1.3.6.1.4.1.14519.5.2.1.6329.6468.180596963996965825122162035932-1-12-13j7e5c.dcm', '/content/input/DICOM/1.3.6.1.4.1.14519.5.2.1.6329.6468.180596963996965825122162035932-1-60-14tj9xu.dcm', '/content/input/DICOM/1.3.6.1.4.1.14519.5.2.1.6329.6468.180596963996965825122162035932-1-82-w5m6no.dcm', '/content/input/DICOM/1.3.6.1.4.1.14519.5.2.1.6329.6468.180596963996965825122162035932-1-9-ak600t.dcm', '/content/input/DICOM/1.3.6.1.4.1.14519.5.2.1.6329.6468.180596963996965825122162035932-1-67-1bra5sj.dcm', '/content/input/DICOM/1.3.6.1.4.1.14519.5.2.1.6329.6468.180596963996965825122162035932-1-35-1xwmvz1.dcm', '/content/input/DICOM/1.3.6.1.4.1.14519.5.2.1.6329.6468.180596963996965825122162035932-1-23-1f6or05.dcm', '/content/input/DICOM/1.3.6.1.4.1.14519.5.2.1.6329.6468.180596963996965825122162035932-1-26-jefr6h.dcm', '/content/input/DICOM/1.3.6.1.4.1.14519.5.2.1.6329.6468.180596963996965825122162035932-1-92-st3pwl.dcm', '/content/input/DICOM/1.3.6.1.4.1.14519.5.2.1.6329.6468.180596963996965825122162035932-1-84-1r5frc0.dcm', '/content/input/DICOM/1.3.6.1.4.1.14519.5.2.1.6329.6468.180596963996965825122162035932-1-15-1p8v26q.dcm', '/content/input/DICOM/1.3.6.1.4.1.14519.5.2.1.6329.6468.180596963996965825122162035932-1-54-1nlfjlg.dcm', '/content/input/DICOM/1.3.6.1.4.1.14519.5.2.1.6329.6468.180596963996965825122162035932-1-96-139rpx2.dcm', '/content/input/DICOM/1.3.6.1.4.1.14519.5.2.1.6329.6468.180596963996965825122162035932-1-62-11lbgqr.dcm', '/content/input/DICOM/1.3.6.1.4.1.14519.5.2.1.6329.6468.180596963996965825122162035932-1-39-15f8nm7.dcm', '/content/input/DICOM/1.3.6.1.4.1.14519.5.2.1.6329.6468.180596963996965825122162035932-1-37-a1tnip.dcm', '/content/input/DICOM/1.3.6.1.4.1.14519.5.2.1.6329.6468.180596963996965825122162035932-1-59-4n04ps.dcm', '/content/input/DICOM/1.3.6.1.4.1.14519.5.2.1.6329.6468.180596963996965825122162035932-1-97-1j33ldp.dcm', '/content/input/DICOM/1.3.6.1.4.1.14519.5.2.1.6329.6468.180596963996965825122162035932-1-28-4mnwrn.dcm', '/content/input/DICOM/1.3.6.1.4.1.14519.5.2.1.6329.6468.180596963996965825122162035932-1-47-19mj7vc.dcm', '/content/input/DICOM/1.3.6.1.4.1.14519.5.2.1.6329.6468.180596963996965825122162035932-1-46-ju4ej7.dcm', '/content/input/DICOM/1.3.6.1.4.1.14519.5.2.1.6329.6468.180596963996965825122162035932-1-7-67hxsu.dcm', '/content/input/DICOM/1.3.6.1.4.1.14519.5.2.1.6329.6468.180596963996965825122162035932-1-10-1tr376x.dcm', '/content/input/DICOM/1.3.6.1.4.1.14519.5.2.1.6329.6468.180596963996965825122162035932-1-89-1y3sff3.dcm', '/content/input/DICOM/1.3.6.1.4.1.14519.5.2.1.6329.6468.180596963996965825122162035932-1-2-sz2xor.dcm', '/content/input/DICOM/1.3.6.1.4.1.14519.5.2.1.6329.6468.180596963996965825122162035932-1-69-my8nzh.dcm', '/content/input/DICOM/1.3.6.1.4.1.14519.5.2.1.6329.6468.180596963996965825122162035932-1-85-1l4rzh2.dcm', '/content/input/DICOM/1.3.6.1.4.1.14519.5.2.1.6329.6468.180596963996965825122162035932-1-57-etfb54.dcm', '/content/input/DICOM/1.3.6.1.4.1.14519.5.2.1.6329.6468.180596963996965825122162035932-1-83-u8ig6r.dcm', '/content/input/DICOM/1.3.6.1.4.1.14519.5.2.1.6329.6468.180596963996965825122162035932-1-61-9dlne1.dcm', '/content/input/DICOM/1.3.6.1.4.1.14519.5.2.1.6329.6468.180596963996965825122162035932-1-36-edph32.dcm', '/content/input/DICOM/1.3.6.1.4.1.14519.5.2.1.6329.6468.180596963996965825122162035932-1-32-kuffoz.dcm', '/content/input/DICOM/1.3.6.1.4.1.14519.5.2.1.6329.6468.180596963996965825122162035932-1-22-1djzode.dcm', '/content/input/DICOM/1.3.6.1.4.1.14519.5.2.1.6329.6468.180596963996965825122162035932-1-24-1i1a2bl.dcm', '/content/input/DICOM/1.3.6.1.4.1.14519.5.2.1.6329.6468.180596963996965825122162035932-1-5-hx43ia.dcm', '/content/input/DICOM/1.3.6.1.4.1.14519.5.2.1.6329.6468.180596963996965825122162035932-1-95-1as485y.dcm', '/content/input/DICOM/1.3.6.1.4.1.14519.5.2.1.6329.6468.180596963996965825122162035932-1-65-18pr4td.dcm', '/content/input/DICOM/1.3.6.1.4.1.14519.5.2.1.6329.6468.180596963996965825122162035932-1-11-1w9lep7.dcm', '/content/input/DICOM/1.3.6.1.4.1.14519.5.2.1.6329.6468.180596963996965825122162035932-1-77-rbkvfo.dcm', '/content/input/DICOM/1.3.6.1.4.1.14519.5.2.1.6329.6468.180596963996965825122162035932-1-49-jrhp1.dcm', '/content/input/DICOM/1.3.6.1.4.1.14519.5.2.1.6329.6468.180596963996965825122162035932-1-70-hwisgk.dcm', '/content/input/DICOM/1.3.6.1.4.1.14519.5.2.1.6329.6468.180596963996965825122162035932-1-41-vaaali.dcm', '/content/input/DICOM/1.3.6.1.4.1.14519.5.2.1.6329.6468.180596963996965825122162035932-1-71-5ifx8j.dcm', '/content/input/DICOM/1.3.6.1.4.1.14519.5.2.1.6329.6468.180596963996965825122162035932-1-91-mag1yf.dcm', '/content/input/DICOM/1.3.6.1.4.1.14519.5.2.1.6329.6468.180596963996965825122162035932-1-55-1xm839l.dcm', '/content/input/DICOM/1.3.6.1.4.1.14519.5.2.1.6329.6468.180596963996965825122162035932-1-73-fcob54.dcm', '/content/input/DICOM/1.3.6.1.4.1.14519.5.2.1.6329.6468.180596963996965825122162035932-1-29-1yyj12f.dcm', '/content/input/DICOM/1.3.6.1.4.1.14519.5.2.1.6329.6468.180596963996965825122162035932-1-18-1ozmsee.dcm', '/content/input/DICOM/1.3.6.1.4.1.14519.5.2.1.6329.6468.180596963996965825122162035932-1-33-r6svzu.dcm', '/content/input/DICOM/1.3.6.1.4.1.14519.5.2.1.6329.6468.180596963996965825122162035932-1-38-8g7c3p.dcm', '/content/input/DICOM/1.3.6.1.4.1.14519.5.2.1.6329.6468.180596963996965825122162035932-1-80-174miax.dcm', '/content/input/DICOM/1.3.6.1.4.1.14519.5.2.1.6329.6468.180596963996965825122162035932-1-21-1qsksoz.dcm', '/content/input/DICOM/1.3.6.1.4.1.14519.5.2.1.6329.6468.180596963996965825122162035932-1-34-b4uai2.dcm', '/content/input/DICOM/1.3.6.1.4.1.14519.5.2.1.6329.6468.180596963996965825122162035932-1-44-1qivw7p.dcm', '/content/input/DICOM/1.3.6.1.4.1.14519.5.2.1.6329.6468.180596963996965825122162035932-1-56-p0m8qc.dcm', '/content/input/DICOM/1.3.6.1.4.1.14519.5.2.1.6329.6468.180596963996965825122162035932-1-4-1dx0xfy.dcm', '/content/input/DICOM/1.3.6.1.4.1.14519.5.2.1.6329.6468.180596963996965825122162035932-1-50-1crgx0s.dcm', '/content/input/DICOM/1.3.6.1.4.1.14519.5.2.1.6329.6468.180596963996965825122162035932-1-75-15zts72.dcm', '/content/input/DICOM/1.3.6.1.4.1.14519.5.2.1.6329.6468.180596963996965825122162035932-1-52-ogi2jd.dcm']\n",
            "['/content/input/secondary/1.3.6.1.4.1.14519.5.2.1.6329.6468.180596963996965825122162035932-2-no-value-for-InstanceNumber-vh4pxs.dcm']\n"
          ]
        }
      ]
    },
    {
      "cell_type": "code",
      "source": [
        "from glob import glob\n",
        "dcmdirlist = glob(os.path.join(inputDicomPath,'*'))"
      ],
      "metadata": {
        "colab": {
          "base_uri": "https://localhost:8080/"
        },
        "id": "w4gpinuLBrMj",
        "outputId": "110f4730-216b-4296-8aee-f7c1e0bb4244"
      },
      "execution_count": 18,
      "outputs": [
        {
          "output_type": "stream",
          "name": "stdout",
          "text": [
            "['/content/input/SPI_XNAT_E00347', '/content/input/SPI_XNAT_E00348']\n"
          ]
        }
      ]
    },
    {
      "cell_type": "code",
      "source": [
        "import subprocess"
      ],
      "metadata": {
        "id": "Gox8Ki71EwUa"
      },
      "execution_count": 19,
      "outputs": []
    },
    {
      "cell_type": "code",
      "source": [
        "wrapperInstallDir = os.path.join(workDir,'CT_Lung_SMIT')\n",
        "condaEnvDir = os.path.join(wrapperInstallDir,'cpack')\n",
        "condaEnvActivateScript = os.path.join(condaEnvDir, 'bin', 'activate')\n",
        "wrapperPath = os.path.join(wrapperInstallDir,'bash_run_SMIT_Segmentation.sh')\n",
        "load_weight_name = os.path.join(wrapperInstallDir,'trained_weights','model.pt')\n",
        "scanNum = 0\n",
        "structName = 'GTV'"
      ],
      "metadata": {
        "id": "PIagq_xEIFlZ"
      },
      "execution_count": 22,
      "outputs": []
    },
    {
      "cell_type": "markdown",
      "source": [],
      "metadata": {
        "id": "bYIcHLtkKmv0"
      }
    },
    {
      "cell_type": "code",
      "source": [
        "\n",
        "for dcmdir in dcmdirlist:\n",
        "  subj = os.path.basename(dcmdir)\n",
        "  sessiondir = os.path.join(sessionPath,subj)\n",
        "  os.makedirs(sessiondir,exist_ok=True)\n",
        "\n",
        "  scan_niifile = os.path.join(sessiondir,'CT.nii')\n",
        "  planC = pc.load_dcm_dir(dcmdir)\n",
        "  planC.scan[scanNum].save_nii(scan_niifile, planC)\n",
        "\n",
        "  subprocess.run(f\"source \" + condaEnvActivateScript + \" && source \" + wrapperPath + \" \" + sessiondir + \" \" + sessiondir + \" \" + load_weight_name, shell=True, executable=\"/bin/bash\")\n"
      ],
      "metadata": {
        "id": "MasJhWdZCdoJ"
      },
      "execution_count": null,
      "outputs": []
    },
    {
      "cell_type": "code",
      "source": [
        "dcmdir = dcmdirlist[0]\n",
        "subj = os.path.basename(dcmdir)\n",
        "sessiondir = os.path.join(sessionPath,subj)\n",
        "os.makedirs(sessiondir,exist_ok=True)\n",
        "\n",
        "scan_niifile = os.path.join(sessiondir,'CT.nii')\n",
        "planC = pc.load_dcm_dir(dcmdir)\n",
        "planC.scan[scanNum].save_nii(scan_niifile)\n",
        "\n",
        "subprocess.run(f\"source \" + condaEnvActivateScript + \" && source \" + wrapperPath + \" \" + sessiondir + \" \" + sessiondir + \" \" + load_weight_name, shell=True, executable=\"/bin/bash\")\n"
      ],
      "metadata": {
        "colab": {
          "base_uri": "https://localhost:8080/"
        },
        "id": "7abf561qKMmq",
        "outputId": "a0f79723-f4d3-4c1f-afc7-188da4972d76"
      },
      "execution_count": 25,
      "outputs": [
        {
          "output_type": "stream",
          "name": "stdout",
          "text": [
            "('0617-292370', '0617-292370', '1.3.6.1.4.1.14519.5.2.1.6329.6468.180596963996965825122162035932', '1.3.6.1.4.1.14519.5.2.1.6329.6468.314188004903460989626820333570', 'CT', 'CT', 'CT', 'CT', 'CT', 'CT', 'CT')\n",
            "('0617-292370', '0617-292370', '1.3.6.1.4.1.14519.5.2.1.6329.6468.180596963996965825122162035932', '1.3.6.1.4.1.14519.5.2.1.6329.6468.880278915833505391469023528647', 'RTSTRUCT', 'RTSTRUCT', 'RTSTRUCT', 'RTSTRUCT', 'RTSTRUCT', 'RTSTRUCT', 'RTSTRUCT')\n"
          ]
        },
        {
          "output_type": "execute_result",
          "data": {
            "text/plain": [
              "CompletedProcess(args='source /content/CT_Lung_SMIT/cpack/bin/activate && source /content/CT_Lung_SMIT/bash_run_SMIT_Segmentation.sh /content/session/SPI_XNAT_E00347 /content/session/SPI_XNAT_E00347 /content/CT_Lung_SMIT/trained_weights/model.pt', returncode=1)"
            ]
          },
          "metadata": {},
          "execution_count": 25
        }
      ]
    },
    {
      "cell_type": "code",
      "source": [
        "#Segmentation stored in NIfTI format can be imported to planC as follows:\n",
        "\n",
        "niiSeg = r'path/to/niiSeg.nii.gz'\n",
        "planC = pc.load_nii_scan(niiSeg)\n",
        "assocScanNum = 0 # index of scan to associate segmentation\n",
        "structName = 'tumor'\n",
        "planC = pc.load_nii_structure(niiSeg , assocScanNum, planC, labels_dict={1: structName})"
      ],
      "metadata": {
        "id": "Mc5RX2BU-6VI"
      },
      "execution_count": null,
      "outputs": []
    }
  ]
}